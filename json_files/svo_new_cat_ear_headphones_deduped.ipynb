{"type": "node", "id": 0, "labels": ["Node"], "properties": {"node_labels": [], "name": "noise-canceling"}}
{"type": "node", "id": 1, "labels": ["Node"], "properties": {"node_labels": ["PERSON"], "name": "kitty headphone"}}
{"type": "node", "id": 2, "labels": ["Node"], "properties": {"node_labels": ["PERSON"], "name": "razer\u2019s"}}
{"type": "node", "id": 3, "labels": ["Node"], "properties": {"node_labels": [], "name": "active noise canceling"}}
{"type": "node", "id": 4, "labels": ["Node"], "properties": {"node_labels": [], "name": "cat ear speakers"}}
{"type": "node", "id": 5, "labels": ["Node"], "properties": {"node_labels": [], "name": "genders"}}
{"type": "node", "id": 6, "labels": ["Node"], "properties": {"node_labels": [], "name": "the ultimate fusion"}}
{"type": "node", "id": 7, "labels": ["Node"], "properties": {"node_labels": [], "name": "sound effect"}}
{"type": "node", "id": 8, "labels": ["Node"], "properties": {"node_labels": [], "name": "women who game"}}
{"type": "node", "id": 9, "labels": ["Node"], "properties": {"node_labels": [], "name": "check them out"}}
{"type": "node", "id": 10, "labels": ["Node"], "properties": {"node_labels": ["CARDINAL"], "name": "900 mah battery"}}
{"type": "node", "id": 11, "labels": ["Node"], "properties": {"node_labels": [], "name": "ipx4"}}
{"type": "node", "id": 12, "labels": ["Node"], "properties": {"node_labels": ["ORG"], "name": "windows pc"}}
{"type": "node", "id": 13, "labels": ["Node"], "properties": {"node_labels": [], "name": "usb charging cable"}}
{"type": "node", "id": 14, "labels": ["Node"], "properties": {"node_labels": [], "name": "amazon"}}
{"type": "node", "id": 15, "labels": ["Node"], "properties": {"node_labels": ["MONEY"], "name": "$119"}}
{"type": "node", "id": 16, "labels": ["Node"], "properties": {"node_labels": [], "name": "edifier gaming center"}}
{"type": "node", "id": 17, "labels": ["Node"], "properties": {"node_labels": ["PERSON"], "name": "mac"}}
{"type": "node", "id": 18, "labels": ["Node"], "properties": {"node_labels": ["ORG"], "name": "otaku"}}
{"type": "node", "id": 19, "labels": ["Node"], "properties": {"node_labels": [], "name": "rss"}}
{"type": "node", "id": 20, "labels": ["Node"], "properties": {"node_labels": [], "name": "noise"}}
{"type": "node", "id": 21, "labels": ["Node"], "properties": {"node_labels": [], "name": "fm"}}
{"type": "node", "id": 22, "labels": ["Node"], "properties": {"node_labels": ["GPE"], "name": "kawaii craze"}}
{"type": "node", "id": 23, "labels": ["Node"], "properties": {"node_labels": [], "name": "iclever headphones for kids"}}
{"type": "node", "id": 24, "labels": ["Node"], "properties": {"node_labels": ["ORG"], "name": "tcjj wireless cat ear headphones"}}
{"type": "node", "id": 25, "labels": ["Node"], "properties": {"node_labels": ["PERSON"], "name": "censi"}}
{"type": "node", "id": 26, "labels": ["Node"], "properties": {"node_labels": [], "name": "gaming headset"}}
{"type": "node", "id": 27, "labels": ["Node"], "properties": {"node_labels": [], "name": "studio-quality"}}
{"type": "node", "id": 28, "labels": ["Node"], "properties": {"node_labels": ["CARDINAL"], "name": "5 best cat ear headphones"}}
{"type": "node", "id": 29, "labels": ["Node"], "properties": {"node_labels": [], "name": "pro-cons"}}
{"type": "node", "id": 30, "labels": ["Node"], "properties": {"node_labels": [], "name": "low mids"}}
{"type": "node", "id": 31, "labels": ["Node"], "properties": {"node_labels": [], "name": "kids"}}
{"type": "node", "id": 32, "labels": ["Node"], "properties": {"node_labels": [], "name": "we\u2019re happy if you\u2019re happy"}}
{"type": "node", "id": 33, "labels": ["Node"], "properties": {"node_labels": ["ORG"], "name": "fospower headphones with cat ears"}}
{"type": "node", "id": 34, "labels": ["Node"], "properties": {"node_labels": ["CARDINAL"], "name": "15 best cat ear headphones"}}
{"type": "node", "id": 35, "labels": ["Node"], "properties": {"node_labels": ["PERSON"], "name": "censi moecen"}}
{"type": "node", "id": 36, "labels": ["Node"], "properties": {"node_labels": [], "name": "cushion"}}
{"type": "node", "id": 37, "labels": ["Node"], "properties": {"node_labels": [], "name": "audio type"}}
{"type": "node", "id": 38, "labels": ["Node"], "properties": {"node_labels": [], "name": "commenter"}}
{"type": "node", "id": 39, "labels": ["Node"], "properties": {"node_labels": [], "name": "mic/s"}}
{"type": "node", "id": 40, "labels": ["Node"], "properties": {"node_labels": [], "name": "earphones"}}
{"type": "node", "id": 41, "labels": ["Node"], "properties": {"node_labels": [], "name": "caring"}}
{"type": "node", "id": 42, "labels": ["Node"], "properties": {"node_labels": ["DATE", "EVENT"], "name": "2010 winter olympics"}}
{"type": "node", "id": 43, "labels": ["Node"], "properties": {"node_labels": [], "name": "infrared frequency"}}
{"type": "node", "id": 44, "labels": ["Node"], "properties": {"node_labels": [], "name": "noise canceling"}}
{"type": "node", "id": 45, "labels": ["Node"], "properties": {"node_labels": ["DATE", "EVENT"], "name": "2008 fifa world cup"}}
{"type": "node", "id": 46, "labels": ["Node"], "properties": {"node_labels": ["QUANTITY"], "name": "20 khz"}}
{"type": "node", "id": 47, "labels": ["Node"], "properties": {"node_labels": ["ORG"], "name": "indiegogo"}}
{"type": "node", "id": 48, "labels": ["Node"], "properties": {"node_labels": [], "name": "best headphones stands"}}
{"type": "node", "id": 49, "labels": ["Node"], "properties": {"node_labels": [], "name": "girls"}}
{"type": "node", "id": 50, "labels": ["Node"], "properties": {"node_labels": [], "name": "google chrome"}}
{"type": "node", "id": 51, "labels": ["Node"], "properties": {"node_labels": [], "name": "twitter"}}
{"type": "node", "id": 52, "labels": ["Node"], "properties": {"node_labels": [], "name": "gender"}}
{"type": "node", "id": 53, "labels": ["Node"], "properties": {"node_labels": [], "name": "color palette"}}
{"type": "node", "id": 54, "labels": ["Node"], "properties": {"node_labels": [], "name": "chroma"}}
{"type": "node", "id": 55, "labels": ["Node"], "properties": {"node_labels": [], "name": "light colors"}}
{"type": "node", "id": 56, "labels": ["Node"], "properties": {"node_labels": ["DATE"], "name": "2011-2023"}}
{"type": "node", "id": 57, "labels": ["Node"], "properties": {"node_labels": [], "name": "settings app"}}
{"type": "node", "id": 58, "labels": ["Node"], "properties": {"node_labels": [], "name": "usb gaming headset"}}
{"type": "node", "id": 59, "labels": ["Node"], "properties": {"node_labels": [], "name": "cooling gel-infused cushions"}}
{"type": "node", "id": 60, "labels": ["Node"], "properties": {"node_labels": [], "name": "adhesive"}}
{"type": "node", "id": 61, "labels": ["Node"], "properties": {"node_labels": [], "name": "rechargeable battery"}}
{"type": "node", "id": 62, "labels": ["Node"], "properties": {"node_labels": [], "name": "rgb lighting"}}
{"type": "node", "id": 63, "labels": ["Node"], "properties": {"node_labels": [], "name": "iclever"}}
{"type": "node", "id": 64, "labels": ["Node"], "properties": {"node_labels": ["ORG"], "name": "latest price on amazon"}}
{"type": "node", "id": 65, "labels": ["Node"], "properties": {"node_labels": [], "name": "cat ear bluetooth headphones"}}
{"type": "node", "id": 66, "labels": ["Node"], "properties": {"node_labels": [], "name": "grand view research"}}
{"type": "node", "id": 67, "labels": ["Node"], "properties": {"node_labels": ["CARDINAL"], "name": "5"}}
{"type": "node", "id": 68, "labels": ["Node"], "properties": {"node_labels": [], "name": "communication"}}
{"type": "node", "id": 69, "labels": ["Node"], "properties": {"node_labels": [], "name": "usb transmitter"}}
{"type": "node", "id": 70, "labels": ["Node"], "properties": {"node_labels": [], "name": "damage"}}
{"type": "node", "id": 71, "labels": ["Node"], "properties": {"node_labels": [], "name": "clamping force"}}
{"type": "node", "id": 72, "labels": ["Node"], "properties": {"node_labels": [], "name": "volume control"}}
{"type": "node", "id": 73, "labels": ["Node"], "properties": {"node_labels": [], "name": "platform"}}
{"type": "node", "id": 74, "labels": ["Node"], "properties": {"node_labels": [], "name": "synapse"}}
{"type": "node", "id": 75, "labels": ["Node"], "properties": {"node_labels": [], "name": "boom"}}
{"type": "node", "id": 76, "labels": ["Node"], "properties": {"node_labels": [], "name": "best cat ear headphones"}}
{"type": "node", "id": 77, "labels": ["Node"], "properties": {"node_labels": [], "name": "onitoon"}}
{"type": "node", "id": 78, "labels": ["Node"], "properties": {"node_labels": [], "name": "listening experience"}}
{"type": "node", "id": 79, "labels": ["Node"], "properties": {"node_labels": ["PERSON"], "name": "razer kraken kitty"}}
{"type": "node", "id": 80, "labels": ["Node"], "properties": {"node_labels": [], "name": "my budget"}}
{"type": "node", "id": 81, "labels": ["Node"], "properties": {"node_labels": ["ORDINAL"], "name": "first cat ear headphones"}}
{"type": "node", "id": 82, "labels": ["Node"], "properties": {"node_labels": [], "name": "fingerprint"}}
{"type": "node", "id": 83, "labels": ["Node"], "properties": {"node_labels": [], "name": "recording"}}
{"type": "node", "id": 84, "labels": ["Node"], "properties": {"node_labels": [], "name": "passive noise cancellation"}}
{"type": "node", "id": 85, "labels": ["Node"], "properties": {"node_labels": [], "name": "on-ear controls"}}
{"type": "node", "id": 86, "labels": ["Node"], "properties": {"node_labels": ["CARDINAL", "DATE"], "name": "15 best cat ear headphones in 2023."}}
{"type": "node", "id": 87, "labels": ["Node"], "properties": {"node_labels": [], "name": "home"}}
{"type": "node", "id": 88, "labels": ["Node"], "properties": {"node_labels": [], "name": "immersive audio"}}
{"type": "node", "id": 89, "labels": ["Node"], "properties": {"node_labels": [], "name": "color variants"}}
{"type": "node", "id": 90, "labels": ["Node"], "properties": {"node_labels": [], "name": "communicate with people"}}
{"type": "node", "id": 91, "labels": ["Node"], "properties": {"node_labels": ["ORG", "PRODUCT"], "name": "simgal bluetooth cat ear headphones for kids"}}
{"type": "node", "id": 92, "labels": ["Node"], "properties": {"node_labels": ["PERSON"], "name": "treble"}}
{"type": "node", "id": 93, "labels": ["Node"], "properties": {"node_labels": [], "name": "subcultural trend"}}
{"type": "node", "id": 94, "labels": ["Node"], "properties": {"node_labels": [], "name": "kids cat ear headphones"}}
{"type": "node", "id": 95, "labels": ["Node"], "properties": {"node_labels": [], "name": "ear shape"}}
{"type": "node", "id": 96, "labels": ["Node"], "properties": {"node_labels": [], "name": "widgets"}}
{"type": "node", "id": 97, "labels": ["Node"], "properties": {"node_labels": [], "name": "skullcandy"}}
{"type": "node", "id": 98, "labels": ["Node"], "properties": {"node_labels": [], "name": "crowdfunding campaign"}}
{"type": "node", "id": 99, "labels": ["Node"], "properties": {"node_labels": [], "name": "gaming in mind"}}
{"type": "node", "id": 100, "labels": ["Node"], "properties": {"node_labels": [], "name": "gaming headphones"}}
{"type": "node", "id": 101, "labels": ["Node"], "properties": {"node_labels": [], "name": "kids headphones"}}
{"type": "node", "id": 102, "labels": ["Node"], "properties": {"node_labels": [], "name": "green"}}
{"type": "node", "id": 103, "labels": ["Node"], "properties": {"node_labels": [], "name": "related guides"}}
{"type": "node", "id": 104, "labels": ["Node"], "properties": {"node_labels": [], "name": "mics"}}
{"type": "node", "id": 105, "labels": ["Node"], "properties": {"node_labels": [], "name": "lobkin foldable wired over ear kids headphones"}}
{"type": "node", "id": 106, "labels": ["Node"], "properties": {"node_labels": [], "name": "pressure build-up"}}
{"type": "node", "id": 107, "labels": ["Node"], "properties": {"node_labels": ["DATE"], "name": "2019"}}
{"type": "node", "id": 108, "labels": ["Node"], "properties": {"node_labels": [], "name": "batteries"}}
{"type": "node", "id": 109, "labels": ["Node"], "properties": {"node_labels": [], "name": "volumes"}}
{"type": "node", "id": 110, "labels": ["Node"], "properties": {"node_labels": [], "name": "pros"}}
{"type": "node", "id": 111, "labels": ["Node"], "properties": {"node_labels": [], "name": "silicone"}}
{"type": "node", "id": 112, "labels": ["Node"], "properties": {"node_labels": [], "name": "ear fatigue"}}
{"type": "node", "id": 113, "labels": ["Node"], "properties": {"node_labels": [], "name": "volume buttons"}}
{"type": "node", "id": 114, "labels": ["Node"], "properties": {"node_labels": ["DATE"], "name": "2016"}}
{"type": "node", "id": 115, "labels": ["Node"], "properties": {"node_labels": ["ORG"], "name": "neko headphones"}}
{"type": "node", "id": 116, "labels": ["Node"], "properties": {"node_labels": [], "name": "on/off"}}
{"type": "node", "id": 117, "labels": ["Node"], "properties": {"node_labels": [], "name": "playtime"}}
{"type": "node", "id": 118, "labels": ["Node"], "properties": {"node_labels": ["GPE"], "name": "manhattan"}}
{"type": "node", "id": 119, "labels": ["Node"], "properties": {"node_labels": [], "name": "yowu kitty"}}
{"type": "node", "id": 120, "labels": ["Node"], "properties": {"node_labels": ["PRODUCT"], "name": "somic g951cat ear gaming headphones"}}
{"type": "node", "id": 121, "labels": ["Node"], "properties": {"node_labels": [], "name": "speaker"}}
{"type": "node", "id": 122, "labels": ["Node"], "properties": {"node_labels": [], "name": "subjective matter"}}
{"type": "node", "id": 123, "labels": ["Node"], "properties": {"node_labels": ["ORG"], "name": "easars wireless cat ear headphones"}}
{"type": "node", "id": 124, "labels": ["Node"], "properties": {"node_labels": ["ORG", "PRODUCT"], "name": "samsung galaxy s7"}}
{"type": "node", "id": 125, "labels": ["Node"], "properties": {"node_labels": [], "name": "active noise cancellation"}}
{"type": "node", "id": 126, "labels": ["Node"], "properties": {"node_labels": ["DATE"], "name": "2023"}}
{"type": "node", "id": 127, "labels": ["Node"], "properties": {"node_labels": ["ORG"], "name": "fospower kids headphones"}}
{"type": "node", "id": 128, "labels": ["Node"], "properties": {"node_labels": [], "name": "covid-19 pandemic"}}
{"type": "node", "id": 129, "labels": ["Node"], "properties": {"node_labels": ["DATE"], "name": "2014"}}
{"type": "node", "id": 130, "labels": ["Node"], "properties": {"node_labels": [], "name": "construction"}}
{"type": "node", "id": 131, "labels": ["Node"], "properties": {"node_labels": [], "name": "desing wish lightweight headphone storage bag"}}
{"type": "node", "id": 132, "labels": ["Node"], "properties": {"node_labels": [], "name": "question"}}
{"type": "node", "id": 133, "labels": ["Node"], "properties": {"node_labels": [], "name": "headsets"}}
{"type": "node", "id": 134, "labels": ["Node"], "properties": {"node_labels": ["PRODUCT"], "name": "riwbox ct-7 cat ear"}}
{"type": "node", "id": 135, "labels": ["Node"], "properties": {"node_labels": [], "name": "luckyu cat ears"}}
{"type": "node", "id": 136, "labels": ["Node"], "properties": {"node_labels": [], "name": "light gaming"}}
{"type": "node", "id": 137, "labels": ["Node"], "properties": {"node_labels": ["ORG", "DATE"], "name": "axent wear wireless cat ear headphones (2021)"}}
{"type": "node", "id": 138, "labels": ["Node"], "properties": {"node_labels": [], "name": "head"}}
{"type": "node", "id": 139, "labels": ["Node"], "properties": {"node_labels": [], "name": "purple"}}
{"type": "node", "id": 140, "labels": ["Node"], "properties": {"node_labels": ["PRODUCT"], "name": "riwbox ct-7s"}}
{"type": "node", "id": 141, "labels": ["Node"], "properties": {"node_labels": [], "name": "folded"}}
{"type": "node", "id": 142, "labels": ["Node"], "properties": {"node_labels": [], "name": "backpack"}}
{"type": "node", "id": 143, "labels": ["Node"], "properties": {"node_labels": [], "name": "wireless"}}
{"type": "node", "id": 144, "labels": ["Node"], "properties": {"node_labels": [], "name": "headphone-wearing experience"}}
{"type": "node", "id": 145, "labels": ["Node"], "properties": {"node_labels": [], "name": "audio quality"}}
{"type": "node", "id": 146, "labels": ["Node"], "properties": {"node_labels": ["ORG", "PRODUCT"], "name": "samsung galaxy s6"}}
{"type": "node", "id": 147, "labels": ["Node"], "properties": {"node_labels": ["PRODUCT"], "name": "g951cat ear gaming headphones"}}
{"type": "node", "id": 148, "labels": ["Node"], "properties": {"node_labels": [], "name": "built-in mic"}}
{"type": "node", "id": 149, "labels": ["Node"], "properties": {"node_labels": [], "name": "aux"}}
{"type": "node", "id": 150, "labels": ["Node"], "properties": {"node_labels": [], "name": "ear shapes and sizes"}}
{"type": "node", "id": 151, "labels": ["Node"], "properties": {"node_labels": [], "name": "audio devices"}}
{"type": "node", "id": 152, "labels": ["Node"], "properties": {"node_labels": [], "name": "aac"}}
{"type": "node", "id": 153, "labels": ["Node"], "properties": {"node_labels": [], "name": "your email address"}}
{"type": "node", "id": 154, "labels": ["Node"], "properties": {"node_labels": [], "name": "multiplayer game"}}
{"type": "node", "id": 155, "labels": ["Node"], "properties": {"node_labels": ["PERSON"], "name": "loudspeaker"}}
{"type": "node", "id": 156, "labels": ["Node"], "properties": {"node_labels": [], "name": "padded ear cushions"}}
{"type": "node", "id": 157, "labels": ["Node"], "properties": {"node_labels": [], "name": "xbox series x"}}
{"type": "node", "id": 158, "labels": ["Node"], "properties": {"node_labels": ["PERSON", "PERSON", "PRODUCT"], "name": "razer kraken kitty rgb usb gaming headset"}}
{"type": "node", "id": 159, "labels": ["Node"], "properties": {"node_labels": [], "name": "blue"}}
{"type": "node", "id": 160, "labels": ["Node"], "properties": {"node_labels": [], "name": "volume-limiting switch"}}
{"type": "node", "id": 161, "labels": ["Node"], "properties": {"node_labels": [], "name": "ubuntu linux"}}
{"type": "node", "id": 162, "labels": ["Node"], "properties": {"node_labels": [], "name": "pu"}}
{"type": "node", "id": 163, "labels": ["Node"], "properties": {"node_labels": [], "name": "pain"}}
{"type": "node", "id": 164, "labels": ["Node"], "properties": {"node_labels": [], "name": "sound-wise"}}
{"type": "node", "id": 165, "labels": ["Node"], "properties": {"node_labels": ["GPE"], "name": "new york city"}}
{"type": "node", "id": 166, "labels": ["Node"], "properties": {"node_labels": ["CARDINAL"], "name": "900 mah"}}
{"type": "node", "id": 167, "labels": ["Node"], "properties": {"node_labels": [], "name": "technology"}}
{"type": "node", "id": 168, "labels": ["Node"], "properties": {"node_labels": [], "name": "check them out here"}}
{"type": "node", "id": 169, "labels": ["Node"], "properties": {"node_labels": ["PERSON"], "name": "g951cat"}}
{"type": "node", "id": 170, "labels": ["Node"], "properties": {"node_labels": [], "name": "foldable headphones"}}
{"type": "node", "id": 171, "labels": ["Node"], "properties": {"node_labels": [], "name": "buttons"}}
{"type": "node", "id": 172, "labels": ["Node"], "properties": {"node_labels": [], "name": "cartilage"}}
{"type": "node", "id": 173, "labels": ["Node"], "properties": {"node_labels": [], "name": "website"}}
{"type": "node", "id": 174, "labels": ["Node"], "properties": {"node_labels": ["ORG"], "name": "unesco"}}
{"type": "node", "id": 175, "labels": ["Node"], "properties": {"node_labels": [], "name": "expected"}}
{"type": "node", "id": 176, "labels": ["Node"], "properties": {"node_labels": ["PERSON"], "name": "audio"}}
{"type": "node", "id": 177, "labels": ["Node"], "properties": {"node_labels": [], "name": "omnidirectional"}}
{"type": "node", "id": 178, "labels": ["Node"], "properties": {"node_labels": [], "name": "audioreputation"}}
{"type": "node", "id": 179, "labels": ["Node"], "properties": {"node_labels": [], "name": "frequency response"}}
{"type": "node", "id": 180, "labels": ["Node"], "properties": {"node_labels": [], "name": "pinna"}}
{"type": "node", "id": 181, "labels": ["Node"], "properties": {"node_labels": [], "name": "volume"}}
{"type": "node", "id": 182, "labels": ["Node"], "properties": {"node_labels": ["CARDINAL", "DATE"], "name": "15 best cat ear headphones in 2023"}}
{"type": "node", "id": 183, "labels": ["Node"], "properties": {"node_labels": [], "name": "cable"}}
{"type": "node", "id": 184, "labels": ["Node"], "properties": {"node_labels": [], "name": "call quality"}}
{"type": "node", "id": 185, "labels": ["Node"], "properties": {"node_labels": [], "name": "mids"}}
{"type": "node", "id": 186, "labels": ["Node"], "properties": {"node_labels": [], "name": "cooling gel"}}
{"type": "node", "id": 187, "labels": ["Node"], "properties": {"node_labels": [], "name": "news in technology"}}
{"type": "node", "id": 188, "labels": ["Node"], "properties": {"node_labels": [], "name": "ear cartilage"}}
{"type": "node", "id": 189, "labels": ["Node"], "properties": {"node_labels": [], "name": "padding"}}
{"type": "node", "id": 190, "labels": ["Node"], "properties": {"node_labels": [], "name": "micro usb"}}
{"type": "node", "id": 191, "labels": ["Node"], "properties": {"node_labels": ["ORG"], "name": "check out on amazon"}}
{"type": "node", "id": 192, "labels": ["Node"], "properties": {"node_labels": [], "name": "newspaper"}}
{"type": "node", "id": 193, "labels": ["Node"], "properties": {"node_labels": [], "name": "protect"}}
{"type": "node", "id": 194, "labels": ["Node"], "properties": {"node_labels": ["PERSON"], "name": "limson"}}
{"type": "node", "id": 195, "labels": ["Node"], "properties": {"node_labels": [], "name": "external noise"}}
{"type": "node", "id": 196, "labels": ["Node"], "properties": {"node_labels": [], "name": "listening"}}
{"type": "node", "id": 197, "labels": ["Node"], "properties": {"node_labels": ["PERSON"], "name": "manga"}}
{"type": "node", "id": 198, "labels": ["Node"], "properties": {"node_labels": [], "name": "windows"}}
{"type": "node", "id": 199, "labels": ["Node"], "properties": {"node_labels": [], "name": "battery life"}}
{"type": "node", "id": 200, "labels": ["Node"], "properties": {"node_labels": [], "name": "google"}}
{"type": "node", "id": 201, "labels": ["Node"], "properties": {"node_labels": [], "name": "in-line controls"}}
{"type": "node", "id": 202, "labels": ["Node"], "properties": {"node_labels": ["QUANTITY"], "name": "3.5 mm audio jack"}}
{"type": "node", "id": 203, "labels": ["Node"], "properties": {"node_labels": [], "name": "ears"}}
{"type": "node", "id": 204, "labels": ["Node"], "properties": {"node_labels": [], "name": "\u0686\u0686srishti"}}
{"type": "node", "id": 205, "labels": ["Node"], "properties": {"node_labels": ["PERSON"], "name": "fospower"}}
{"type": "node", "id": 206, "labels": ["Node"], "properties": {"node_labels": [], "name": "colors available"}}
{"type": "node", "id": 207, "labels": ["Node"], "properties": {"node_labels": ["GPE"], "name": "japan"}}
{"type": "node", "id": 208, "labels": ["Node"], "properties": {"node_labels": [], "name": "wrapping"}}
{"type": "node", "id": 209, "labels": ["Node"], "properties": {"node_labels": [], "name": "comfortable"}}
{"type": "node", "id": 210, "labels": ["Node"], "properties": {"node_labels": [], "name": "headphones for kids"}}
{"type": "node", "id": 211, "labels": ["Node"], "properties": {"node_labels": [], "name": "cat-eared headphones"}}
{"type": "node", "id": 212, "labels": ["Node"], "properties": {"node_labels": [], "name": "tcjj wireless"}}
{"type": "node", "id": 213, "labels": ["Node"], "properties": {"node_labels": [], "name": "ear cups"}}
{"type": "node", "id": 214, "labels": ["Node"], "properties": {"node_labels": [], "name": "required fields"}}
{"type": "node", "id": 215, "labels": ["Node"], "properties": {"node_labels": ["PERSON"], "name": "gs510"}}
{"type": "node", "id": 216, "labels": ["Node"], "properties": {"node_labels": [], "name": "secretary of defense"}}
{"type": "node", "id": 217, "labels": ["Node"], "properties": {"node_labels": [], "name": "looking back, looking onward"}}
{"type": "node", "id": 218, "labels": ["Node"], "properties": {"node_labels": [], "name": "iphone"}}
{"type": "node", "id": 219, "labels": ["Node"], "properties": {"node_labels": [], "name": "subcultural"}}
{"type": "node", "id": 220, "labels": ["Node"], "properties": {"node_labels": [], "name": "reviews"}}
{"type": "node", "id": 221, "labels": ["Node"], "properties": {"node_labels": [], "name": "neko fans"}}
{"type": "node", "id": 222, "labels": ["Node"], "properties": {"node_labels": [], "name": "cat ears"}}
{"type": "node", "id": 223, "labels": ["Node"], "properties": {"node_labels": [], "name": "adjustable headbands"}}
{"type": "node", "id": 224, "labels": ["Node"], "properties": {"node_labels": [], "name": "best cat ear gaming headset"}}
{"type": "node", "id": 225, "labels": ["Node"], "properties": {"node_labels": [], "name": "streamer"}}
{"type": "node", "id": 226, "labels": ["Node"], "properties": {"node_labels": [], "name": "audio cable"}}
{"type": "node", "id": 227, "labels": ["Node"], "properties": {"node_labels": [], "name": "red"}}
{"type": "node", "id": 228, "labels": ["Node"], "properties": {"node_labels": ["CARDINAL"], "name": "10 best cat ear headphones"}}
{"type": "node", "id": 229, "labels": ["Node"], "properties": {"node_labels": ["PERSON"], "name": "john f. kennedy"}}
{"type": "node", "id": 230, "labels": ["Node"], "properties": {"node_labels": [], "name": "wireless cat ear headphones"}}
{"type": "node", "id": 231, "labels": ["Node"], "properties": {"node_labels": ["ORG"], "name": "harvard university"}}
{"type": "node", "id": 232, "labels": ["Node"], "properties": {"node_labels": [], "name": "axentwear"}}
{"type": "node", "id": 233, "labels": ["Node"], "properties": {"node_labels": [], "name": "fast-charging"}}
{"type": "node", "id": 234, "labels": ["Node"], "properties": {"node_labels": [], "name": "anim\u00e9 artist"}}
{"type": "node", "id": 235, "labels": ["Node"], "properties": {"node_labels": [], "name": "google pixes"}}
{"type": "node", "id": 236, "labels": ["Node"], "properties": {"node_labels": [], "name": "sounds"}}
{"type": "node", "id": 237, "labels": ["Node"], "properties": {"node_labels": [], "name": "mindkoo unicat mh-6"}}
{"type": "node", "id": 238, "labels": ["Node"], "properties": {"node_labels": [], "name": "i\u2019ve got the answer"}}
{"type": "node", "id": 239, "labels": ["Node"], "properties": {"node_labels": [], "name": "ear cushion"}}
{"type": "node", "id": 240, "labels": ["Node"], "properties": {"node_labels": ["ORG"], "name": "xbox bluetooth audio transmitter"}}
{"type": "node", "id": 241, "labels": ["Node"], "properties": {"node_labels": [], "name": "eardrums"}}
{"type": "node", "id": 242, "labels": ["Node"], "properties": {"node_labels": [], "name": "women"}}
{"type": "node", "id": 243, "labels": ["Node"], "properties": {"node_labels": [], "name": "wire"}}
{"type": "node", "id": 244, "labels": ["Node"], "properties": {"node_labels": [], "name": "buy something that ends up hurting your ears"}}
{"type": "node", "id": 245, "labels": ["Node"], "properties": {"node_labels": [], "name": "article"}}
{"type": "node", "id": 246, "labels": ["Node"], "properties": {"node_labels": [], "name": "noise-cancelling headphones"}}
{"type": "node", "id": 247, "labels": ["Node"], "properties": {"node_labels": [], "name": "food-grade"}}
{"type": "node", "id": 248, "labels": ["Node"], "properties": {"node_labels": ["WORK_OF_ART"], "name": "the daily telegraph"}}
{"type": "node", "id": 249, "labels": ["Node"], "properties": {"node_labels": [], "name": "wired headphones"}}
{"type": "node", "id": 250, "labels": ["Node"], "properties": {"node_labels": [], "name": "subscribe"}}
{"type": "node", "id": 251, "labels": ["Node"], "properties": {"node_labels": [], "name": "voice transmission"}}
{"type": "node", "id": 252, "labels": ["Node"], "properties": {"node_labels": [], "name": "headphones are for kids"}}
{"type": "node", "id": 253, "labels": ["Node"], "properties": {"node_labels": [], "name": "virtual 7.1 surround sound"}}
{"type": "node", "id": 254, "labels": ["Node"], "properties": {"node_labels": [], "name": "riwbox ct-7"}}
{"type": "node", "id": 255, "labels": ["Node"], "properties": {"node_labels": ["ORG"], "name": "check price on amazon"}}
{"type": "node", "id": 256, "labels": ["Node"], "properties": {"node_labels": ["PRODUCT", "PRODUCT"], "name": "iclever boostcare cat ear headphones"}}
{"type": "node", "id": 257, "labels": ["Node"], "properties": {"node_labels": ["PERSON"], "name": "kraken kitty rgb"}}
{"type": "node", "id": 258, "labels": ["Node"], "properties": {"node_labels": [], "name": "funk"}}
{"type": "node", "id": 259, "labels": ["Node"], "properties": {"node_labels": [], "name": "gadgets"}}
{"type": "node", "id": 260, "labels": ["Node"], "properties": {"node_labels": ["PERSON"], "name": "ariana grande"}}
{"type": "node", "id": 261, "labels": ["Node"], "properties": {"node_labels": [], "name": "detachable cable"}}
{"type": "node", "id": 262, "labels": ["Node"], "properties": {"node_labels": ["DATE"], "name": "ten years ago"}}
{"type": "node", "id": 263, "labels": ["Node"], "properties": {"node_labels": [], "name": "budget"}}
{"type": "node", "id": 264, "labels": ["Node"], "properties": {"node_labels": [], "name": "the daily show"}}
{"type": "node", "id": 265, "labels": ["Node"], "properties": {"node_labels": ["GPE"], "name": "london"}}
{"type": "node", "id": 266, "labels": ["Node"], "properties": {"node_labels": ["PERSON"], "name": "wenqing yan"}}
{"type": "node", "id": 267, "labels": ["Node"], "properties": {"node_labels": ["ORG"], "name": "xbox console"}}
{"type": "node", "id": 268, "labels": ["Node"], "properties": {"node_labels": ["ORG"], "name": "samsung electronics"}}
{"type": "node", "id": 269, "labels": ["Node"], "properties": {"node_labels": ["ORG"], "name": "igb app"}}
{"type": "node", "id": 270, "labels": ["Node"], "properties": {"node_labels": [], "name": "streamer companion app"}}
{"type": "node", "id": 271, "labels": ["Node"], "properties": {"node_labels": [], "name": "usb-c"}}
{"type": "node", "id": 272, "labels": ["Node"], "properties": {"node_labels": [], "name": "mic"}}
{"type": "node", "id": 273, "labels": ["Node"], "properties": {"node_labels": ["PERSON"], "name": "earmuff"}}
{"type": "node", "id": 274, "labels": ["Node"], "properties": {"node_labels": [], "name": "advertising"}}
{"type": "node", "id": 275, "labels": ["Node"], "properties": {"node_labels": [], "name": "streamers\u2019 headphones"}}
{"type": "node", "id": 276, "labels": ["Node"], "properties": {"node_labels": ["EVENT"], "name": "world war ii"}}
{"type": "node", "id": 277, "labels": ["Node"], "properties": {"node_labels": [], "name": "active"}}
{"type": "node", "id": 278, "labels": ["Node"], "properties": {"node_labels": [], "name": "light mode"}}
{"type": "node", "id": 279, "labels": ["Node"], "properties": {"node_labels": [], "name": "rechargeable"}}
{"type": "node", "id": 280, "labels": ["Node"], "properties": {"node_labels": [], "name": "cassette player"}}
{"type": "node", "id": 281, "labels": ["Node"], "properties": {"node_labels": [], "name": "over-ear"}}
{"type": "node", "id": 282, "labels": ["Node"], "properties": {"node_labels": ["PERSON"], "name": "kenji miyazawa"}}
{"type": "node", "id": 283, "labels": ["Node"], "properties": {"node_labels": [], "name": "leave a reply cancel reply"}}
{"type": "node", "id": 284, "labels": ["Node"], "properties": {"node_labels": [], "name": "links"}}
{"type": "node", "id": 285, "labels": ["Node"], "properties": {"node_labels": [], "name": "hinges"}}
{"type": "node", "id": 286, "labels": ["Node"], "properties": {"node_labels": [], "name": "sharing is caring!"}}
{"type": "node", "id": 287, "labels": ["Node"], "properties": {"node_labels": [], "name": "pc"}}
{"type": "node", "id": 288, "labels": ["Node"], "properties": {"node_labels": ["ORG"], "name": "fospower headphones"}}
{"type": "node", "id": 289, "labels": ["Node"], "properties": {"node_labels": [], "name": "noise reduction"}}
{"type": "node", "id": 290, "labels": ["Node"], "properties": {"node_labels": [], "name": "usb type-c"}}
{"type": "node", "id": 291, "labels": ["Node"], "properties": {"node_labels": [], "name": "email address"}}
{"type": "node", "id": 292, "labels": ["Node"], "properties": {"node_labels": [], "name": "luckyu"}}
{"type": "node", "id": 293, "labels": ["Node"], "properties": {"node_labels": [], "name": "edifier hecate g2 ii"}}
{"type": "node", "id": 294, "labels": ["Node"], "properties": {"node_labels": ["PERSON"], "name": "iclever hs08"}}
{"type": "node", "id": 295, "labels": ["Node"], "properties": {"node_labels": ["EVENT"], "name": "world war i"}}
{"type": "node", "id": 296, "labels": ["Node"], "properties": {"node_labels": [], "name": "my budget is very tight"}}
{"type": "node", "id": 297, "labels": ["Node"], "properties": {"node_labels": ["ORG"], "name": "yowu rgb cat ear headphones"}}
{"type": "node", "id": 298, "labels": ["Node"], "properties": {"node_labels": [], "name": "foldable"}}
{"type": "node", "id": 299, "labels": ["Node"], "properties": {"node_labels": [], "name": "thx spatial audio"}}
{"type": "node", "id": 300, "labels": ["Node"], "properties": {"node_labels": [], "name": "neck"}}
{"type": "node", "id": 301, "labels": ["Node"], "properties": {"node_labels": ["CARDINAL"], "name": "bluetooth 4.0"}}
{"type": "node", "id": 302, "labels": ["Node"], "properties": {"node_labels": [], "name": "hs08"}}
{"type": "node", "id": 303, "labels": ["Node"], "properties": {"node_labels": [], "name": "headphones/headset"}}
{"type": "node", "id": 304, "labels": ["Node"], "properties": {"node_labels": [], "name": "leave a reply"}}
{"type": "node", "id": 305, "labels": ["Node"], "properties": {"node_labels": [], "name": "ct-7s"}}
{"type": "node", "id": 306, "labels": ["Node"], "properties": {"node_labels": ["ORG"], "name": "mindkoo cat ear headphones"}}
{"type": "node", "id": 307, "labels": ["Node"], "properties": {"node_labels": [], "name": "distortion"}}
{"type": "node", "id": 308, "labels": ["Node"], "properties": {"node_labels": [], "name": "pointed"}}
{"type": "node", "id": 309, "labels": ["Node"], "properties": {"node_labels": ["CARDINAL"], "name": "3.5mm"}}
{"type": "node", "id": 310, "labels": ["Node"], "properties": {"node_labels": [], "name": "affiliate commission"}}
{"type": "node", "id": 311, "labels": ["Node"], "properties": {"node_labels": [], "name": "usb receiver"}}
{"type": "node", "id": 312, "labels": ["Node"], "properties": {"node_labels": [], "name": "wireless mode"}}
{"type": "node", "id": 313, "labels": ["Node"], "properties": {"node_labels": [], "name": "high-end"}}
{"type": "node", "id": 314, "labels": ["Node"], "properties": {"node_labels": [], "name": "president"}}
{"type": "node", "id": 315, "labels": ["Node"], "properties": {"node_labels": ["PERSON"], "name": "g5bt"}}
{"type": "node", "id": 316, "labels": ["Node"], "properties": {"node_labels": ["PERSON"], "name": "kraken kitty"}}
{"type": "node", "id": 317, "labels": ["Node"], "properties": {"node_labels": [], "name": "next review"}}
{"type": "node", "id": 318, "labels": ["Node"], "properties": {"node_labels": ["PERSON"], "name": "james longman"}}
{"type": "node", "id": 319, "labels": ["Node"], "properties": {"node_labels": [], "name": "sound"}}
{"type": "node", "id": 320, "labels": ["Node"], "properties": {"node_labels": [], "name": "best buy co."}}
{"type": "node", "id": 321, "labels": ["Node"], "properties": {"node_labels": [], "name": "lux accessories headphones"}}
{"type": "node", "id": 322, "labels": ["Node"], "properties": {"node_labels": [], "name": "best led cat ear headphones"}}
{"type": "node", "id": 323, "labels": ["Node"], "properties": {"node_labels": [], "name": "database"}}
{"type": "node", "id": 324, "labels": ["Node"], "properties": {"node_labels": ["PERSON"], "name": "chipset"}}
{"type": "node", "id": 325, "labels": ["Node"], "properties": {"node_labels": [], "name": "thx"}}
{"type": "node", "id": 326, "labels": ["Node"], "properties": {"node_labels": ["PERSON"], "name": "yuumei"}}
{"type": "node", "id": 327, "labels": ["Node"], "properties": {"node_labels": [], "name": "bluetooth cat ear headphones"}}
{"type": "node", "id": 328, "labels": ["Node"], "properties": {"node_labels": [], "name": "strobe lights"}}
{"type": "node", "id": 329, "labels": ["Node"], "properties": {"node_labels": [], "name": "portable"}}
{"type": "node", "id": 330, "labels": ["Node"], "properties": {"node_labels": [], "name": "headphone stands"}}
{"type": "node", "id": 331, "labels": ["Node"], "properties": {"node_labels": [], "name": "water"}}
{"type": "node", "id": 332, "labels": ["Node"], "properties": {"node_labels": ["PERSON"], "name": "techthelead"}}
{"type": "node", "id": 333, "labels": ["Node"], "properties": {"node_labels": ["PERSON"], "name": "bose"}}
{"type": "node", "id": 334, "labels": ["Node"], "properties": {"node_labels": [], "name": "reinforced"}}
{"type": "node", "id": 335, "labels": ["Node"], "properties": {"node_labels": [], "name": "check out"}}
{"type": "node", "id": 336, "labels": ["Node"], "properties": {"node_labels": [], "name": "edifier g5bt"}}
{"type": "node", "id": 337, "labels": ["Node"], "properties": {"node_labels": ["DATE", "EVENT"], "name": "2012 winter olympics"}}
{"type": "node", "id": 338, "labels": ["Node"], "properties": {"node_labels": ["PERSON"], "name": "win7"}}
{"type": "node", "id": 339, "labels": ["Node"], "properties": {"node_labels": [], "name": "neko"}}
{"type": "node", "id": 340, "labels": ["Node"], "properties": {"node_labels": ["CARDINAL"], "name": "5.0"}}
{"type": "node", "id": 341, "labels": ["Node"], "properties": {"node_labels": [], "name": "razer chroma"}}
{"type": "node", "id": 342, "labels": ["Node"], "properties": {"node_labels": [], "name": "cat ear headphone"}}
{"type": "node", "id": 343, "labels": ["Node"], "properties": {"node_labels": ["CARDINAL"], "name": "4.2"}}
{"type": "node", "id": 344, "labels": ["Node"], "properties": {"node_labels": [], "name": "this article"}}
{"type": "node", "id": 345, "labels": ["Node"], "properties": {"node_labels": [], "name": "safety features"}}
{"type": "node", "id": 346, "labels": ["Node"], "properties": {"node_labels": [], "name": "music sync"}}
{"type": "node", "id": 347, "labels": ["Node"], "properties": {"node_labels": ["ORG"], "name": "brookstone\u2019s"}}
{"type": "node", "id": 348, "labels": ["Node"], "properties": {"node_labels": [], "name": "hyperclear cardioid microphone"}}
{"type": "node", "id": 349, "labels": ["Node"], "properties": {"node_labels": [], "name": "best pink cat ear headphones"}}
{"type": "node", "id": 350, "labels": ["Node"], "properties": {"node_labels": [], "name": "audio accessories"}}
{"type": "node", "id": 351, "labels": ["Node"], "properties": {"node_labels": [], "name": "breathing light"}}
{"type": "node", "id": 352, "labels": ["Node"], "properties": {"node_labels": [], "name": "browser"}}
{"type": "node", "id": 353, "labels": ["Node"], "properties": {"node_labels": [], "name": "roundup of the best cat ear headphones"}}
{"type": "node", "id": 354, "labels": ["Node"], "properties": {"node_labels": [], "name": "sharing"}}
{"type": "node", "id": 355, "labels": ["Node"], "properties": {"node_labels": ["DATE"], "name": "2010"}}
{"type": "node", "id": 356, "labels": ["Node"], "properties": {"node_labels": ["ORG"], "name": "brookstone headphones"}}
{"type": "node", "id": 357, "labels": ["Node"], "properties": {"node_labels": [], "name": "cat"}}
{"type": "node", "id": 358, "labels": ["Node"], "properties": {"node_labels": [], "name": "all-plastic"}}
{"type": "node", "id": 359, "labels": ["Node"], "properties": {"node_labels": ["ORG"], "name": "amazon services llc associates program"}}
{"type": "node", "id": 360, "labels": ["Node"], "properties": {"node_labels": [], "name": "lux accessories"}}
{"type": "node", "id": 361, "labels": ["Node"], "properties": {"node_labels": [], "name": "companion app"}}
{"type": "node", "id": 362, "labels": ["Node"], "properties": {"node_labels": [], "name": "inline controls"}}
{"type": "node", "id": 363, "labels": ["Node"], "properties": {"node_labels": ["CARDINAL"], "name": "windows 10"}}
{"type": "node", "id": 364, "labels": ["Node"], "properties": {"node_labels": [], "name": "yowu rgb cat"}}
{"type": "node", "id": 365, "labels": ["Node"], "properties": {"node_labels": [], "name": "volume limit"}}
{"type": "node", "id": 366, "labels": ["Node"], "properties": {"node_labels": [], "name": "pillow-soft earmuffs"}}
{"type": "node", "id": 367, "labels": ["Node"], "properties": {"node_labels": [], "name": "anime"}}
{"type": "node", "id": 368, "labels": ["Node"], "properties": {"node_labels": [], "name": "play/pause"}}
{"type": "node", "id": 369, "labels": ["Node"], "properties": {"node_labels": [], "name": "table"}}
{"type": "node", "id": 370, "labels": ["Node"], "properties": {"node_labels": [], "name": "radio frequency"}}
{"type": "node", "id": 371, "labels": ["Node"], "properties": {"node_labels": [], "name": "bluetooth"}}
{"type": "node", "id": 372, "labels": ["Node"], "properties": {"node_labels": [], "name": "video game"}}
{"type": "node", "id": 373, "labels": ["Node"], "properties": {"node_labels": [], "name": "axent wear"}}
{"type": "node", "id": 374, "labels": ["Node"], "properties": {"node_labels": [], "name": "ear pad"}}
{"type": "node", "id": 375, "labels": ["Node"], "properties": {"node_labels": ["CARDINAL"], "name": "yowu rgb cat ear headphone 4"}}
{"type": "node", "id": 376, "labels": ["Node"], "properties": {"node_labels": [], "name": "l\u2019orfeo"}}
{"type": "node", "id": 377, "labels": ["Node"], "properties": {"node_labels": ["PERSON"], "name": "luciano berio"}}
{"type": "node", "id": 378, "labels": ["Node"], "properties": {"node_labels": [], "name": "plasticky"}}
{"type": "node", "id": 379, "labels": ["Node"], "properties": {"node_labels": [], "name": "volume controls"}}
{"type": "node", "id": 380, "labels": ["Node"], "properties": {"node_labels": [], "name": "axent headphones"}}
{"type": "node", "id": 381, "labels": ["Node"], "properties": {"node_labels": [], "name": "usb"}}
{"type": "node", "id": 382, "labels": ["Node"], "properties": {"node_labels": [], "name": "it helpdesk"}}
{"type": "node", "id": 383, "labels": ["Node"], "properties": {"node_labels": [], "name": "low"}}
{"type": "node", "id": 384, "labels": ["Node"], "properties": {"node_labels": [], "name": "headphones"}}
{"type": "node", "id": 385, "labels": ["Node"], "properties": {"node_labels": [], "name": "travel"}}
{"type": "node", "id": 386, "labels": ["Node"], "properties": {"node_labels": ["PERSON"], "name": "kraken"}}
{"type": "node", "id": 387, "labels": ["Node"], "properties": {"node_labels": ["CARDINAL"], "name": "3d"}}
{"type": "node", "id": 388, "labels": ["Node"], "properties": {"node_labels": ["PERSON"], "name": "yowu kitty headset"}}
{"type": "node", "id": 389, "labels": ["Node"], "properties": {"node_labels": [], "name": "transport"}}
{"type": "node", "id": 390, "labels": ["Node"], "properties": {"node_labels": [], "name": "built-in lighting"}}
{"type": "node", "id": 391, "labels": ["Node"], "properties": {"node_labels": ["DATE"], "name": "2012"}}
{"type": "node", "id": 392, "labels": ["Node"], "properties": {"node_labels": [], "name": "pink"}}
{"type": "node", "id": 393, "labels": ["Node"], "properties": {"node_labels": [], "name": "\u1e01\u05d9\u05easrishti"}}
{"type": "node", "id": 394, "labels": ["Node"], "properties": {"node_labels": [], "name": "3d surround sound"}}
{"type": "node", "id": 395, "labels": ["Node"], "properties": {"node_labels": ["PERSON"], "name": "ralph waldo emerson"}}
{"type": "node", "id": 396, "labels": ["Node"], "properties": {"node_labels": [], "name": "they light up!"}}
{"type": "node", "id": 397, "labels": ["Node"], "properties": {"node_labels": ["DATE", "EVENT"], "name": "2009 world cup"}}
{"type": "node", "id": 398, "labels": ["Node"], "properties": {"node_labels": [], "name": "cheetah"}}
{"type": "node", "id": 399, "labels": ["Node"], "properties": {"node_labels": [], "name": "wrapping up"}}
{"type": "node", "id": 400, "labels": ["Node"], "properties": {"node_labels": [], "name": "hope this answers your question"}}
{"type": "node", "id": 401, "labels": ["Node"], "properties": {"node_labels": [], "name": "amazon.com"}}
{"type": "node", "id": 402, "labels": ["Node"], "properties": {"node_labels": [], "name": "lights"}}
{"type": "node", "id": 403, "labels": ["Node"], "properties": {"node_labels": [], "name": "soundbar"}}
{"type": "node", "id": 404, "labels": ["Node"], "properties": {"node_labels": [], "name": "animation company"}}
{"type": "node", "id": 405, "labels": ["Node"], "properties": {"node_labels": [], "name": "battery"}}
{"type": "node", "id": 406, "labels": ["Node"], "properties": {"node_labels": ["PERSON"], "name": "john f. kennedy school of government"}}
{"type": "node", "id": 407, "labels": ["Node"], "properties": {"node_labels": ["ORG"], "name": "yowu headphones"}}
{"type": "node", "id": 408, "labels": ["Node"], "properties": {"node_labels": ["DATE"], "name": "october 30, 2015"}}
{"type": "node", "id": 409, "labels": ["Node"], "properties": {"node_labels": [], "name": "construction quality"}}
{"type": "node", "id": 410, "labels": ["Node"], "properties": {"node_labels": [], "name": "bbc"}}
{"type": "node", "id": 411, "labels": ["Node"], "properties": {"node_labels": [], "name": "wireless ones"}}
{"type": "node", "id": 412, "labels": ["Node"], "properties": {"node_labels": [], "name": "recharge"}}
{"type": "node", "id": 413, "labels": ["Node"], "properties": {"node_labels": ["PERSON"], "name": "somic g951cat"}}
{"type": "node", "id": 414, "labels": ["Node"], "properties": {"node_labels": [], "name": "the ultimate fusion of luminous colors"}}
{"type": "node", "id": 415, "labels": ["Node"], "properties": {"node_labels": ["PERSON"], "name": "france"}}
{"type": "node", "id": 416, "labels": ["Node"], "properties": {"node_labels": [], "name": "codec"}}
{"type": "node", "id": 417, "labels": ["Node"], "properties": {"node_labels": [], "name": "it industry"}}
{"type": "node", "id": 418, "labels": ["Node"], "properties": {"node_labels": [], "name": "aesthetics"}}
{"type": "node", "id": 419, "labels": ["Node"], "properties": {"node_labels": [], "name": "hyperclear"}}
{"type": "node", "id": 420, "labels": ["Node"], "properties": {"node_labels": [], "name": "lighting color"}}
{"type": "node", "id": 421, "labels": ["Node"], "properties": {"node_labels": [], "name": "ubuntu"}}
{"type": "node", "id": 422, "labels": ["Node"], "properties": {"node_labels": [], "name": "gs510 pro"}}
{"type": "node", "id": 423, "labels": ["Node"], "properties": {"node_labels": [], "name": "our website"}}
{"type": "node", "id": 424, "labels": ["Node"], "properties": {"node_labels": [], "name": "virtual surround sound"}}
{"type": "node", "id": 425, "labels": ["Node"], "properties": {"node_labels": [], "name": "deviant art"}}
{"type": "node", "id": 426, "labels": ["Node"], "properties": {"node_labels": [], "name": "aux cable"}}
{"type": "node", "id": 427, "labels": ["Node"], "properties": {"node_labels": [], "name": "our guide"}}
{"type": "node", "id": 428, "labels": ["Node"], "properties": {"node_labels": ["CARDINAL"], "name": "3.5mm headphone jack"}}
{"type": "node", "id": 429, "labels": ["Node"], "properties": {"node_labels": [], "name": "pause"}}
{"type": "node", "id": 430, "labels": ["Node"], "properties": {"node_labels": [], "name": "metal"}}
{"type": "node", "id": 431, "labels": ["Node"], "properties": {"node_labels": [], "name": "cat headphones"}}
{"type": "node", "id": 432, "labels": ["Node"], "properties": {"node_labels": [], "name": "sonic"}}
{"type": "node", "id": 433, "labels": ["Node"], "properties": {"node_labels": [], "name": "best cat ear headphones for gifting"}}
{"type": "node", "id": 434, "labels": ["Node"], "properties": {"node_labels": ["DATE", "EVENT"], "name": "2004 summer olympics"}}
{"type": "node", "id": 435, "labels": ["Node"], "properties": {"node_labels": ["PERSON"], "name": "strobe"}}
{"type": "node", "id": 436, "labels": ["Node"], "properties": {"node_labels": [], "name": "cons"}}
{"type": "node", "id": 437, "labels": ["Node"], "properties": {"node_labels": [], "name": "lighted"}}
{"type": "node", "id": 438, "labels": ["Node"], "properties": {"node_labels": [], "name": "anthropomorphism"}}
{"type": "node", "id": 439, "labels": ["Node"], "properties": {"node_labels": [], "name": "pro"}}
{"type": "node", "id": 440, "labels": ["Node"], "properties": {"node_labels": ["ORG"], "name": "dc comics"}}
{"type": "node", "id": 441, "labels": ["Node"], "properties": {"node_labels": [], "name": "affiliate advertising"}}
{"type": "node", "id": 442, "labels": ["Node"], "properties": {"node_labels": ["DATE"], "name": "2011"}}
{"type": "node", "id": 443, "labels": ["Node"], "properties": {"node_labels": ["DATE"], "name": "2004"}}
{"type": "node", "id": 444, "labels": ["Node"], "properties": {"node_labels": [], "name": "luckyu kids"}}
{"type": "node", "id": 445, "labels": ["Node"], "properties": {"node_labels": [], "name": "aptx"}}
{"type": "node", "id": 446, "labels": ["Node"], "properties": {"node_labels": [], "name": "m button"}}
{"type": "node", "id": 447, "labels": ["Node"], "properties": {"node_labels": [], "name": "anc mic"}}
{"type": "node", "id": 448, "labels": ["Node"], "properties": {"node_labels": [], "name": "a"}}
{"type": "node", "id": 449, "labels": ["Node"], "properties": {"node_labels": [], "name": "noise-cancelling"}}
{"type": "node", "id": 450, "labels": ["Node"], "properties": {"node_labels": ["CARDINAL"], "name": "30"}}
{"type": "node", "id": 451, "labels": ["Node"], "properties": {"node_labels": [], "name": "audioreputation team"}}
{"type": "node", "id": 452, "labels": ["Node"], "properties": {"node_labels": [], "name": "comfort"}}
{"type": "node", "id": 453, "labels": ["Node"], "properties": {"node_labels": [], "name": "led light panel"}}
{"type": "node", "id": 454, "labels": ["Node"], "properties": {"node_labels": [], "name": "headphone"}}
{"type": "node", "id": 455, "labels": ["Node"], "properties": {"node_labels": [], "name": "testing"}}
{"type": "node", "id": 456, "labels": ["Node"], "properties": {"node_labels": ["PERSON"], "name": "g5bt cat"}}
{"type": "node", "id": 457, "labels": ["Node"], "properties": {"node_labels": [], "name": "connectivity"}}
{"type": "node", "id": 458, "labels": ["Node"], "properties": {"node_labels": ["PERSON"], "name": "barsone"}}
{"type": "node", "id": 459, "labels": ["Node"], "properties": {"node_labels": ["PERSON"], "name": "david bowie"}}
{"type": "node", "id": 460, "labels": ["Node"], "properties": {"node_labels": [], "name": "music lovers"}}
{"type": "node", "id": 461, "labels": ["Node"], "properties": {"node_labels": [], "name": "earn fees"}}
{"type": "node", "id": 462, "labels": ["Node"], "properties": {"node_labels": ["ORG"], "name": "kraken headphones"}}
{"type": "node", "id": 463, "labels": ["Node"], "properties": {"node_labels": [], "name": "bluetooth codecs"}}
{"type": "node", "id": 464, "labels": ["Node"], "properties": {"node_labels": [], "name": "colors"}}
{"type": "node", "id": 465, "labels": ["Node"], "properties": {"node_labels": [], "name": "live"}}
{"type": "node", "id": 466, "labels": ["Node"], "properties": {"node_labels": ["PERSON"], "name": "marvel"}}
{"type": "node", "id": 467, "labels": ["Node"], "properties": {"node_labels": ["ORG"], "name": "yowu app"}}
{"type": "node", "id": 468, "labels": ["Node"], "properties": {"node_labels": [], "name": "thx spatial"}}
{"type": "node", "id": 469, "labels": ["Node"], "properties": {"node_labels": [], "name": "best headphones with mic"}}
{"type": "node", "id": 470, "labels": ["Node"], "properties": {"node_labels": [], "name": "new edition wireless cat ear headphones"}}
{"type": "node", "id": 471, "labels": ["Node"], "properties": {"node_labels": ["CARDINAL"], "name": "3.5mm audio cable"}}
{"type": "node", "id": 472, "labels": ["Node"], "properties": {"node_labels": [], "name": "charging cable"}}
{"type": "node", "id": 473, "labels": ["Node"], "properties": {"node_labels": ["ORG"], "name": "onitoon cat ear headphones"}}
{"type": "node", "id": 474, "labels": ["Node"], "properties": {"node_labels": [], "name": "headphone brands"}}
{"type": "node", "id": 475, "labels": ["Node"], "properties": {"node_labels": [], "name": "rss feed"}}
{"type": "node", "id": 476, "labels": ["Node"], "properties": {"node_labels": [], "name": "wireless headphones"}}
{"type": "node", "id": 477, "labels": ["Node"], "properties": {"node_labels": [], "name": "adults"}}
{"type": "node", "id": 478, "labels": ["Node"], "properties": {"node_labels": ["PERSON"], "name": "michael caine"}}
{"type": "node", "id": 479, "labels": ["Node"], "properties": {"node_labels": [], "name": "consoles"}}
{"type": "node", "id": 480, "labels": ["Node"], "properties": {"node_labels": [], "name": "rgb lights"}}
{"type": "node", "id": 481, "labels": ["Node"], "properties": {"node_labels": [], "name": "abc"}}
{"type": "node", "id": 482, "labels": ["Node"], "properties": {"node_labels": [], "name": "led"}}
{"type": "node", "id": 483, "labels": ["Node"], "properties": {"node_labels": [], "name": "tangle-free"}}
{"type": "node", "id": 484, "labels": ["Node"], "properties": {"node_labels": [], "name": "manufacturing the product"}}
{"type": "node", "id": 485, "labels": ["Node"], "properties": {"node_labels": [], "name": "adjustability"}}
{"type": "node", "id": 486, "labels": ["Node"], "properties": {"node_labels": [], "name": "volume limits"}}
{"type": "node", "id": 487, "labels": ["Node"], "properties": {"node_labels": [], "name": "decibels"}}
{"type": "node", "id": 488, "labels": ["Node"], "properties": {"node_labels": [], "name": "detachable audio cable"}}
{"type": "node", "id": 489, "labels": ["Node"], "properties": {"node_labels": ["PERSON"], "name": "razer synapse"}}
{"type": "node", "id": 490, "labels": ["Node"], "properties": {"node_labels": [], "name": "gaming equipment"}}
{"type": "node", "id": 491, "labels": ["Node"], "properties": {"node_labels": ["PERSON"], "name": "hi, cornelia"}}
{"type": "node", "id": 492, "labels": ["Node"], "properties": {"node_labels": ["GPE"], "name": "china"}}
{"type": "node", "id": 493, "labels": ["Node"], "properties": {"node_labels": [], "name": "raising the fund"}}
{"type": "node", "id": 494, "labels": ["Node"], "properties": {"node_labels": [], "name": "bass response"}}
{"type": "node", "id": 495, "labels": ["Node"], "properties": {"node_labels": [], "name": "flash modes"}}
{"type": "node", "id": 496, "labels": ["Node"], "properties": {"node_labels": [], "name": "cat ears headphones"}}
{"type": "node", "id": 497, "labels": ["Node"], "properties": {"node_labels": [], "name": "light up"}}
{"type": "node", "id": 498, "labels": ["Node"], "properties": {"node_labels": [], "name": "stream reactive lighting"}}
{"type": "node", "id": 499, "labels": ["Node"], "properties": {"node_labels": [], "name": "turn off"}}
{"type": "node", "id": 500, "labels": ["Node"], "properties": {"node_labels": [], "name": "hair clips"}}
{"type": "node", "id": 501, "labels": ["Node"], "properties": {"node_labels": [], "name": "anc"}}
{"type": "node", "id": 502, "labels": ["Node"], "properties": {"node_labels": [], "name": "manufacturing the product at scale"}}
{"type": "node", "id": 503, "labels": ["Node"], "properties": {"node_labels": [], "name": "cups"}}
{"type": "node", "id": 504, "labels": ["Node"], "properties": {"node_labels": [], "name": "cat ear gaming"}}
{"type": "node", "id": 505, "labels": ["Node"], "properties": {"node_labels": [], "name": "nekomimi"}}
{"type": "node", "id": 506, "labels": ["Node"], "properties": {"node_labels": [], "name": "power/play/pause button"}}
{"type": "node", "id": 507, "labels": ["Node"], "properties": {"node_labels": [], "name": "color"}}
{"type": "node", "id": 508, "labels": ["Node"], "properties": {"node_labels": [], "name": "noise isolation"}}
{"type": "node", "id": 509, "labels": ["Node"], "properties": {"node_labels": [], "name": "fashion accessory"}}
{"type": "node", "id": 510, "labels": ["Node"], "properties": {"node_labels": ["ORG"], "name": "riwbox kids headphones"}}
{"type": "node", "id": 511, "labels": ["Node"], "properties": {"node_labels": [], "name": "how and where to look"}}
{"type": "node", "id": 512, "labels": ["Node"], "properties": {"node_labels": [], "name": "comparison table"}}
{"type": "node", "id": 513, "labels": ["Node"], "properties": {"node_labels": ["CARDINAL", "DATE"], "name": "list of 15 best cat ear headphones in 2023"}}
{"type": "node", "id": 514, "labels": ["Node"], "properties": {"node_labels": ["DATE"], "name": "2022"}}
{"type": "node", "id": 515, "labels": ["Node"], "properties": {"node_labels": ["PERSON", "PERSON"], "name": "bowers & wilkins"}}
{"type": "node", "id": 516, "labels": ["Node"], "properties": {"node_labels": [], "name": "call"}}
{"type": "node", "id": 517, "labels": ["Node"], "properties": {"node_labels": [], "name": "akismet"}}
{"type": "node", "id": 518, "labels": ["Node"], "properties": {"node_labels": [], "name": "ear headphones"}}
{"type": "node", "id": 519, "labels": ["Node"], "properties": {"node_labels": [], "name": "light up!"}}
{"type": "node", "id": 520, "labels": ["Node"], "properties": {"node_labels": [], "name": "stream-responsive lighting"}}
{"type": "node", "id": 521, "labels": ["Node"], "properties": {"node_labels": ["NORP"], "name": "japanese"}}
{"type": "node", "id": 522, "labels": ["Node"], "properties": {"node_labels": [], "name": "link"}}
{"type": "node", "id": 523, "labels": ["Node"], "properties": {"node_labels": [], "name": "audio drivers"}}
{"type": "node", "id": 524, "labels": ["Node"], "properties": {"node_labels": ["PERSON"], "name": "limson cat ear headphones"}}
{"type": "node", "id": 525, "labels": ["Node"], "properties": {"node_labels": ["ORG", "PRODUCT"], "name": "samsung galaxy s8"}}
{"type": "node", "id": 526, "labels": ["Node"], "properties": {"node_labels": [], "name": "igeeks media"}}
{"type": "node", "id": 527, "labels": ["Node"], "properties": {"node_labels": ["ORG"], "name": "dolby laboratories"}}
{"type": "node", "id": 528, "labels": ["Node"], "properties": {"node_labels": [], "name": "sharing is caring"}}
{"type": "node", "id": 529, "labels": ["Node"], "properties": {"node_labels": ["PERSON"], "name": "hello, my name is james longman"}}
{"type": "node", "id": 530, "labels": ["Node"], "properties": {"node_labels": [], "name": "blinks"}}
{"type": "node", "id": 531, "labels": ["Node"], "properties": {"node_labels": ["CARDINAL"], "name": "4d"}}
{"type": "node", "id": 532, "labels": ["Node"], "properties": {"node_labels": [], "name": "wires"}}
{"type": "node", "id": 533, "labels": ["Node"], "properties": {"node_labels": [], "name": "protect your ears from damage"}}
{"type": "node", "id": 534, "labels": ["Node"], "properties": {"node_labels": [], "name": "somic g951s"}}
{"type": "node", "id": 535, "labels": ["Node"], "properties": {"node_labels": [], "name": "internet"}}
{"type": "node", "id": 536, "labels": ["Node"], "properties": {"node_labels": [], "name": "table of contents"}}
{"type": "node", "id": 537, "labels": ["Node"], "properties": {"node_labels": ["DATE"], "name": "1940"}}
{"type": "node", "id": 538, "labels": ["Node"], "properties": {"node_labels": [], "name": "check price"}}
{"type": "node", "id": 539, "labels": ["Node"], "properties": {"node_labels": [], "name": "paddings"}}
{"type": "node", "id": 540, "labels": ["Node"], "properties": {"node_labels": [], "name": "fold"}}
{"type": "node", "id": 541, "labels": ["Node"], "properties": {"node_labels": [], "name": "moe"}}
{"type": "node", "id": 542, "labels": ["Node"], "properties": {"node_labels": [], "name": "wirelessly"}}
{"type": "node", "id": 543, "labels": ["Node"], "properties": {"node_labels": ["PERSON"], "name": "lobkin"}}
{"type": "node", "id": 544, "labels": ["Node"], "properties": {"node_labels": [], "name": "headphone stand"}}
{"type": "node", "id": 545, "labels": ["Node"], "properties": {"node_labels": ["GPE"], "name": "beijing"}}
{"type": "node", "id": 546, "labels": ["Node"], "properties": {"node_labels": [], "name": "cosplay"}}
{"type": "node", "id": 547, "labels": ["Node"], "properties": {"node_labels": ["PRODUCT"], "name": "axent cat ear headphones"}}
{"type": "node", "id": 548, "labels": ["Node"], "properties": {"node_labels": ["GPE"], "name": "new york"}}
{"type": "node", "id": 549, "labels": ["Node"], "properties": {"node_labels": [], "name": "soundstage"}}
{"type": "node", "id": 550, "labels": ["Node"], "properties": {"node_labels": [], "name": "on-ear headphones"}}
{"type": "node", "id": 551, "labels": ["Node"], "properties": {"node_labels": ["PERSON"], "name": "sennheiser"}}
{"type": "node", "id": 552, "labels": ["Node"], "properties": {"node_labels": [], "name": "radio"}}
{"type": "node", "id": 553, "labels": ["Node"], "properties": {"node_labels": [], "name": "iclever kids"}}
{"type": "node", "id": 554, "labels": ["Node"], "properties": {"node_labels": ["ORG"], "name": "barsone headphones"}}
{"type": "node", "id": 555, "labels": ["Node"], "properties": {"node_labels": ["ORG"], "name": "iclever kids cat ear headphones"}}
{"type": "node", "id": 556, "labels": ["Node"], "properties": {"node_labels": ["ORDINAL"], "name": "first woman with cat ears"}}
{"type": "node", "id": 557, "labels": ["Node"], "properties": {"node_labels": [], "name": "gaming console"}}
{"type": "node", "id": 558, "labels": ["Node"], "properties": {"node_labels": [], "name": "voice chatting"}}
{"type": "node", "id": 559, "labels": ["Node"], "properties": {"node_labels": ["CARDINAL"], "name": "7.1"}}
{"type": "node", "id": 560, "labels": ["Node"], "properties": {"node_labels": [], "name": "dc"}}
{"type": "node", "id": 561, "labels": ["Node"], "properties": {"node_labels": ["MONEY"], "name": "$100"}}
{"type": "node", "id": 562, "labels": ["Node"], "properties": {"node_labels": [], "name": "limson cat headphones"}}
{"type": "node", "id": 563, "labels": ["Node"], "properties": {"node_labels": [], "name": "drivers"}}
{"type": "node", "id": 564, "labels": ["Node"], "properties": {"node_labels": ["PRODUCT"], "name": "g951 cat ear gaming headphones"}}
{"type": "node", "id": 565, "labels": ["Node"], "properties": {"node_labels": [], "name": "codecs"}}
{"type": "node", "id": 566, "labels": ["Node"], "properties": {"node_labels": [], "name": "plastic"}}
{"type": "node", "id": 567, "labels": ["Node"], "properties": {"node_labels": ["DATE"], "name": "2012 summer olympics"}}
{"type": "node", "id": 568, "labels": ["Node"], "properties": {"node_labels": ["PERSON"], "name": "hecate g2 ii"}}
{"type": "node", "id": 569, "labels": ["Node"], "properties": {"node_labels": [], "name": "light show"}}
{"type": "node", "id": 570, "labels": ["Node"], "properties": {"node_labels": [], "name": "cat ear headphones for adults"}}
{"type": "node", "id": 571, "labels": ["Node"], "properties": {"node_labels": [], "name": "it support systems"}}
{"type": "node", "id": 572, "labels": ["Node"], "properties": {"node_labels": ["PERSON"], "name": "somic"}}
{"type": "node", "id": 573, "labels": ["Node"], "properties": {"node_labels": [], "name": "axent wear cat ear headphones"}}
{"type": "node", "id": 574, "labels": ["Node"], "properties": {"node_labels": [], "name": "cr2032 battery"}}
{"type": "node", "id": 575, "labels": ["Node"], "properties": {"node_labels": [], "name": "hiss"}}
{"type": "node", "id": 576, "labels": ["Node"], "properties": {"node_labels": ["ORG"], "name": "axent wear new edition wireless cat ear headphones"}}
{"type": "node", "id": 577, "labels": ["Node"], "properties": {"node_labels": [], "name": "high"}}
{"type": "node", "id": 578, "labels": ["Node"], "properties": {"node_labels": ["PERSON"], "name": "simgal"}}
{"type": "node", "id": 579, "labels": ["Node"], "properties": {"node_labels": ["PERSON"], "name": "cornelia"}}
{"type": "node", "id": 580, "labels": ["Node"], "properties": {"node_labels": [], "name": "in-line microphone"}}
{"type": "node", "id": 581, "labels": ["Node"], "properties": {"node_labels": [], "name": "hs20"}}
{"type": "node", "id": 582, "labels": ["Node"], "properties": {"node_labels": [], "name": "splitter"}}
{"type": "node", "id": 583, "labels": ["Node"], "properties": {"node_labels": [], "name": "wired headset"}}
{"type": "node", "id": 584, "labels": ["Node"], "properties": {"node_labels": [], "name": "micro-usb"}}
{"type": "node", "id": 585, "labels": ["Node"], "properties": {"node_labels": ["DATE"], "name": "2015"}}
{"type": "node", "id": 586, "labels": ["Node"], "properties": {"node_labels": [], "name": "immersive listening experience"}}
{"type": "node", "id": 587, "labels": ["Node"], "properties": {"node_labels": ["PERSON"], "name": "luciano pavarotti"}}
{"type": "node", "id": 588, "labels": ["Node"], "properties": {"node_labels": [], "name": "feed"}}
{"type": "node", "id": 589, "labels": ["Node"], "properties": {"node_labels": [], "name": "black cat"}}
{"type": "node", "id": 590, "labels": ["Node"], "properties": {"node_labels": [], "name": "over-ear headphones"}}
{"type": "node", "id": 591, "labels": ["Node"], "properties": {"node_labels": [], "name": "leather"}}
{"type": "node", "id": 592, "labels": ["Node"], "properties": {"node_labels": ["PERSON"], "name": "otakus"}}
{"type": "node", "id": 593, "labels": ["Node"], "properties": {"node_labels": [], "name": "stereo sound"}}
{"type": "node", "id": 594, "labels": ["Node"], "properties": {"node_labels": [], "name": "cat earphones"}}
{"type": "node", "id": 595, "labels": ["Node"], "properties": {"node_labels": [], "name": "headphones with built-in microphones"}}
{"type": "node", "id": 596, "labels": ["Node"], "properties": {"node_labels": ["PRODUCT"], "name": "ct-7s cat ear bluetooth headphones"}}
{"type": "node", "id": 597, "labels": ["Node"], "properties": {"node_labels": [], "name": "subwoofer"}}
{"type": "node", "id": 598, "labels": ["Node"], "properties": {"node_labels": [], "name": "boys"}}
{"type": "node", "id": 599, "labels": ["Node"], "properties": {"node_labels": [], "name": "ear cup"}}
{"type": "node", "id": 600, "labels": ["Node"], "properties": {"node_labels": ["DATE", "EVENT"], "name": "2008 summer olympics"}}
{"type": "node", "id": 601, "labels": ["Node"], "properties": {"node_labels": [], "name": "app"}}
{"type": "node", "id": 602, "labels": ["Node"], "properties": {"node_labels": [], "name": "adjustable"}}
{"type": "node", "id": 603, "labels": ["Node"], "properties": {"node_labels": [], "name": "edifier"}}
{"type": "node", "id": 604, "labels": ["Node"], "properties": {"node_labels": [], "name": "articles"}}
{"type": "node", "id": 605, "labels": ["Node"], "properties": {"node_labels": [], "name": "audio equipment"}}
{"type": "node", "id": 606, "labels": ["Node"], "properties": {"node_labels": ["ORG", "PRODUCT"], "name": "yowu 3g cat ear headphones"}}
{"type": "node", "id": 607, "labels": ["Node"], "properties": {"node_labels": [], "name": "memory foam"}}
{"type": "node", "id": 608, "labels": ["Node"], "properties": {"node_labels": ["PERSON"], "name": "bass"}}
{"type": "node", "id": 609, "labels": ["Node"], "properties": {"node_labels": [], "name": "world heritage site"}}
{"type": "node", "id": 610, "labels": ["Node"], "properties": {"node_labels": ["PERSON"], "name": "brookstone axent wear cat ear headphones"}}
{"type": "node", "id": 611, "labels": ["Node"], "properties": {"node_labels": [], "name": "gaming consoles"}}
{"type": "node", "id": 612, "labels": ["Node"], "properties": {"node_labels": [], "name": "catwoman"}}
{"type": "node", "id": 613, "labels": ["Node"], "properties": {"node_labels": ["ORG"], "name": "amazon services llc"}}
{"type": "node", "id": 614, "labels": ["Node"], "properties": {"node_labels": [], "name": "cat ear gaming headphones"}}
{"type": "node", "id": 615, "labels": ["Node"], "properties": {"node_labels": [], "name": "controls"}}
{"type": "node", "id": 616, "labels": ["Node"], "properties": {"node_labels": ["ORG", "PRODUCT"], "name": "soundbeast bluetooth cat ear headphones"}}
{"type": "node", "id": 617, "labels": ["Node"], "properties": {"node_labels": [], "name": "cup"}}
{"type": "node", "id": 618, "labels": ["Node"], "properties": {"node_labels": [], "name": "your email address will not be published"}}
{"type": "node", "id": 619, "labels": ["Node"], "properties": {"node_labels": [], "name": "noise-canceling mic"}}
{"type": "node", "id": 620, "labels": ["Node"], "properties": {"node_labels": ["GPE"], "name": "kawaii"}}
{"type": "node", "id": 621, "labels": ["Node"], "properties": {"node_labels": ["ORG", "PRODUCT"], "name": "iclever hs01 food grade kids headphones"}}
{"type": "node", "id": 622, "labels": ["Node"], "properties": {"node_labels": [], "name": "super bass"}}
{"type": "node", "id": 623, "labels": ["Node"], "properties": {"node_labels": [], "name": "immersive"}}
{"type": "node", "id": 624, "labels": ["Node"], "properties": {"node_labels": [], "name": "axent"}}
{"type": "node", "id": 625, "labels": ["Node"], "properties": {"node_labels": [], "name": "daughters"}}
{"type": "node", "id": 626, "labels": ["Node"], "properties": {"node_labels": [], "name": "bass-oriented"}}
{"type": "node", "id": 627, "labels": ["Node"], "properties": {"node_labels": [], "name": "anime artist"}}
{"type": "node", "id": 628, "labels": ["Node"], "properties": {"node_labels": ["CARDINAL"], "name": "10 best"}}
{"type": "node", "id": 629, "labels": ["Node"], "properties": {"node_labels": [], "name": "on-headphone"}}
{"type": "node", "id": 630, "labels": ["Node"], "properties": {"node_labels": [], "name": "music"}}
{"type": "node", "id": 631, "labels": ["Node"], "properties": {"node_labels": ["ORG"], "name": "brookstone wireless headphones with removable ears"}}
{"type": "node", "id": 632, "labels": ["Node"], "properties": {"node_labels": [], "name": "price"}}
{"type": "node", "id": 633, "labels": ["Node"], "properties": {"node_labels": [], "name": "spare button battery"}}
{"type": "node", "id": 634, "labels": ["Node"], "properties": {"node_labels": [], "name": "happy if you\u2019re happy"}}
{"type": "node", "id": 635, "labels": ["Node"], "properties": {"node_labels": [], "name": "rgb"}}
{"type": "node", "id": 636, "labels": ["Node"], "properties": {"node_labels": [], "name": "hello"}}
{"type": "node", "id": 637, "labels": ["Node"], "properties": {"node_labels": [], "name": "\u2018heavy\u2019"}}
{"type": "node", "id": 638, "labels": ["Node"], "properties": {"node_labels": [], "name": "led cat ears"}}
{"type": "node", "id": 639, "labels": ["Node"], "properties": {"node_labels": [], "name": "ct-7"}}
{"type": "node", "id": 640, "labels": ["Node"], "properties": {"node_labels": [], "name": "mouth"}}
{"type": "node", "id": 641, "labels": ["Node"], "properties": {"node_labels": ["CARDINAL"], "name": "yowu rgb cat ear headphones 4"}}
{"type": "node", "id": 642, "labels": ["Node"], "properties": {"node_labels": [], "name": "sound factors"}}
{"type": "node", "id": 643, "labels": ["Node"], "properties": {"node_labels": ["GPE"], "name": "america"}}
{"type": "node", "id": 644, "labels": ["Node"], "properties": {"node_labels": [], "name": "ear"}}
{"type": "node", "id": 645, "labels": ["Node"], "properties": {"node_labels": [], "name": "address"}}
{"type": "node", "id": 646, "labels": ["Node"], "properties": {"node_labels": ["PERSON"], "name": "victoria hu"}}
{"type": "node", "id": 647, "labels": ["Node"], "properties": {"node_labels": [], "name": "charge"}}
{"type": "node", "id": 648, "labels": ["Node"], "properties": {"node_labels": ["PERSON"], "name": "lobkin headphones"}}
{"type": "node", "id": 649, "labels": ["Node"], "properties": {"node_labels": [], "name": "we hope this article was helpful"}}
{"type": "node", "id": 650, "labels": ["Node"], "properties": {"node_labels": ["PERSON"], "name": "razer kraken kitty rgb"}}
{"type": "node", "id": 651, "labels": ["Node"], "properties": {"node_labels": [], "name": "heavy"}}
{"type": "node", "id": 652, "labels": ["Node"], "properties": {"node_labels": [], "name": "headphones pro review"}}
{"type": "node", "id": 653, "labels": ["Node"], "properties": {"node_labels": [], "name": "ahhhhhhhhh"}}
{"type": "node", "id": 654, "labels": ["Node"], "properties": {"node_labels": [], "name": "clarity"}}
{"type": "node", "id": 655, "labels": ["Node"], "properties": {"node_labels": [], "name": "google pixes 6a"}}
{"type": "node", "id": 656, "labels": ["Node"], "properties": {"node_labels": [], "name": "affiliate advertising program"}}
{"type": "node", "id": 657, "labels": ["Node"], "properties": {"node_labels": ["ORG"], "name": "anc headphones"}}
{"type": "node", "id": 658, "labels": ["Node"], "properties": {"node_labels": [], "name": "we recommend"}}
{"type": "node", "id": 659, "labels": ["Node"], "properties": {"node_labels": ["DATE"], "name": "2020"}}
{"type": "node", "id": 660, "labels": ["Node"], "properties": {"node_labels": [], "name": "best buy"}}
{"type": "node", "id": 661, "labels": ["Node"], "properties": {"node_labels": ["PERSON"], "name": "iclever hs20"}}
{"type": "node", "id": 662, "labels": ["Node"], "properties": {"node_labels": [], "name": "button"}}
{"type": "node", "id": 663, "labels": ["Node"], "properties": {"node_labels": [], "name": "noise cancelling headphones"}}
{"type": "node", "id": 664, "labels": ["Node"], "properties": {"node_labels": [], "name": "receiver"}}
{"type": "node", "id": 665, "labels": ["Node"], "properties": {"node_labels": [], "name": "xbox"}}
{"type": "node", "id": 666, "labels": ["Node"], "properties": {"node_labels": [], "name": "google news"}}
{"type": "node", "id": 667, "labels": ["Node"], "properties": {"node_labels": [], "name": "retractable"}}
{"type": "node", "id": 668, "labels": ["Node"], "properties": {"node_labels": ["ORG", "PRODUCT"], "name": "riwbox ct-7s cat ear bluetooth headphones"}}
{"type": "node", "id": 669, "labels": ["Node"], "properties": {"node_labels": [], "name": "earpads"}}
{"type": "node", "id": 670, "labels": ["Node"], "properties": {"node_labels": ["PRODUCT"], "name": "tcjj cat ear headphones"}}
{"type": "node", "id": 671, "labels": ["Node"], "properties": {"node_labels": [], "name": "gaming"}}
{"type": "node", "id": 672, "labels": ["Node"], "properties": {"node_labels": [], "name": "wired"}}
{"type": "node", "id": 673, "labels": ["Node"], "properties": {"node_labels": ["PERSON"], "name": "brookstone"}}
{"type": "node", "id": 674, "labels": ["Node"], "properties": {"node_labels": ["CARDINAL"], "name": "bluetooth 4.2"}}
{"type": "node", "id": 675, "labels": ["Node"], "properties": {"node_labels": ["ORG"], "name": "deviantart"}}
{"type": "node", "id": 676, "labels": ["Node"], "properties": {"node_labels": ["PERSON"], "name": "razer"}}
{"type": "node", "id": 677, "labels": ["Node"], "properties": {"node_labels": ["DATE"], "name": "2009"}}
{"type": "node", "id": 678, "labels": ["Node"], "properties": {"node_labels": [], "name": "indie rock"}}
{"type": "node", "id": 679, "labels": ["Node"], "properties": {"node_labels": [], "name": "cute ear headphones"}}
{"type": "node", "id": 680, "labels": ["Node"], "properties": {"node_labels": ["CARDINAL"], "name": "30ft range"}}
{"type": "node", "id": 681, "labels": ["Node"], "properties": {"node_labels": [], "name": "lighting"}}
{"type": "node", "id": 682, "labels": ["Node"], "properties": {"node_labels": [], "name": "holocaust"}}
{"type": "node", "id": 683, "labels": ["Node"], "properties": {"node_labels": [], "name": "reply"}}
{"type": "node", "id": 684, "labels": ["Node"], "properties": {"node_labels": [], "name": "mindkoo mh-6"}}
{"type": "node", "id": 685, "labels": ["Node"], "properties": {"node_labels": [], "name": "decibel"}}
{"type": "node", "id": 686, "labels": ["Node"], "properties": {"node_labels": [], "name": "groove"}}
{"type": "node", "id": 687, "labels": ["Node"], "properties": {"node_labels": [], "name": "accessories"}}
{"type": "node", "id": 688, "labels": ["Node"], "properties": {"node_labels": [], "name": "your audioreputation team"}}
{"type": "node", "id": 689, "labels": ["Node"], "properties": {"node_labels": [], "name": "microphone"}}
{"type": "node", "id": 690, "labels": ["Node"], "properties": {"node_labels": ["PERSON"], "name": "mackie mc-250 headphones"}}
{"type": "node", "id": 691, "labels": ["Node"], "properties": {"node_labels": [], "name": "build"}}
{"type": "node", "id": 692, "labels": ["Node"], "properties": {"node_labels": [], "name": "bluetooth headphones"}}
{"type": "node", "id": 693, "labels": ["Node"], "properties": {"node_labels": [], "name": "cr2032"}}
{"type": "node", "id": 694, "labels": ["Node"], "properties": {"node_labels": ["ORG"], "name": "easars wireless"}}
{"type": "node", "id": 695, "labels": ["Node"], "properties": {"node_labels": ["CARDINAL"], "name": "4"}}
{"type": "node", "id": 696, "labels": ["Node"], "properties": {"node_labels": ["ORG"], "name": "censi headphones"}}
{"type": "node", "id": 697, "labels": ["Node"], "properties": {"node_labels": ["CARDINAL", "DATE"], "name": "5 best noise-canceling headphones for sleeping in 2023"}}
{"type": "node", "id": 698, "labels": ["Node"], "properties": {"node_labels": [], "name": "on-headphone controls"}}
{"type": "node", "id": 699, "labels": ["Node"], "properties": {"node_labels": ["GPE"], "name": "philippines"}}
{"type": "node", "id": 700, "labels": ["Node"], "properties": {"node_labels": [], "name": "cat ear"}}
{"type": "node", "id": 701, "labels": ["Node"], "properties": {"node_labels": [], "name": "fast-charging feature"}}
{"type": "node", "id": 702, "labels": ["Node"], "properties": {"node_labels": [], "name": "kitty headphones"}}
{"type": "node", "id": 703, "labels": ["Node"], "properties": {"node_labels": ["PERSON"], "name": "soundbeast"}}
{"type": "node", "id": 704, "labels": ["Node"], "properties": {"node_labels": [], "name": "protect your ears"}}
{"type": "node", "id": 705, "labels": ["Node"], "properties": {"node_labels": [], "name": "bluetooth headsets"}}
{"type": "node", "id": 706, "labels": ["Node"], "properties": {"node_labels": ["PERSON"], "name": "yowu g3"}}
{"type": "node", "id": 707, "labels": ["Node"], "properties": {"node_labels": [], "name": "padded"}}
{"type": "node", "id": 708, "labels": ["Node"], "properties": {"node_labels": ["PERSON"], "name": "gigi hadid"}}
{"type": "node", "id": 709, "labels": ["Node"], "properties": {"node_labels": ["ORG"], "name": "onitoon cat ear bluetooth headphones"}}
{"type": "node", "id": 710, "labels": ["Node"], "properties": {"node_labels": [], "name": "boombox"}}
{"type": "node", "id": 711, "labels": ["Node"], "properties": {"node_labels": [], "name": "noise-canceling headphones"}}
{"type": "node", "id": 712, "labels": ["Node"], "properties": {"node_labels": [], "name": "headband"}}
{"type": "node", "id": 713, "labels": ["Node"], "properties": {"node_labels": [], "name": "wired mode"}}
{"type": "node", "id": 714, "labels": ["Node"], "properties": {"node_labels": ["PRODUCT"], "name": "iclever headphones"}}
{"type": "node", "id": 715, "labels": ["Node"], "properties": {"node_labels": [], "name": "build quality"}}
{"type": "node", "id": 716, "labels": ["Node"], "properties": {"node_labels": ["DATE"], "name": "2008"}}
{"type": "node", "id": 717, "labels": ["Node"], "properties": {"node_labels": ["PERSON"], "name": "somic g951"}}
{"type": "node", "id": 718, "labels": ["Node"], "properties": {"node_labels": ["CARDINAL"], "name": "3.5mm jack"}}
{"type": "node", "id": 719, "labels": ["Node"], "properties": {"node_labels": [], "name": "fast charging"}}
{"type": "node", "id": 720, "labels": ["Node"], "properties": {"node_labels": [], "name": "ear pads"}}
{"type": "node", "id": 721, "labels": ["Node"], "properties": {"node_labels": ["PERSON"], "name": "g951"}}
{"type": "node", "id": 722, "labels": ["Node"], "properties": {"node_labels": [], "name": "carrying case"}}
{"type": "node", "id": 723, "labels": ["Node"], "properties": {"node_labels": [], "name": "noise cancelling"}}
{"type": "node", "id": 724, "labels": ["Node"], "properties": {"node_labels": ["CARDINAL"], "name": "cat ear headphones 4"}}
{"type": "node", "id": 725, "labels": ["Node"], "properties": {"node_labels": [], "name": "hot glue gun"}}
{"type": "node", "id": 726, "labels": ["Node"], "properties": {"node_labels": [], "name": "streamer companion"}}
{"type": "node", "id": 727, "labels": ["Node"], "properties": {"node_labels": [], "name": "ergonomic"}}
{"type": "node", "id": 728, "labels": ["Node"], "properties": {"node_labels": [], "name": "surround sound"}}
{"type": "node", "id": 729, "labels": ["Node"], "properties": {"node_labels": [], "name": "style"}}
{"type": "node", "id": 730, "labels": ["Node"], "properties": {"node_labels": [], "name": "buy something that fits and feels well"}}
{"type": "node", "id": 731, "labels": ["Node"], "properties": {"node_labels": [], "name": "g951s"}}
{"type": "node", "id": 732, "labels": ["Node"], "properties": {"node_labels": [], "name": "identify"}}
{"type": "node", "id": 733, "labels": ["Node"], "properties": {"node_labels": [], "name": "hands-free calling"}}
{"type": "node", "id": 734, "labels": ["Node"], "properties": {"node_labels": ["ORG"], "name": "igeeks media pvt ltd"}}
{"type": "node", "id": 735, "labels": ["Node"], "properties": {"node_labels": ["PRODUCT"], "name": "android operating system"}}
{"type": "node", "id": 736, "labels": ["Node"], "properties": {"node_labels": [], "name": "storage bag"}}
{"type": "node", "id": 737, "labels": ["Node"], "properties": {"node_labels": [], "name": "what we recommend"}}
{"type": "node", "id": 738, "labels": ["Node"], "properties": {"node_labels": ["PERSON"], "name": "razer kitty"}}
{"type": "node", "id": 739, "labels": ["Node"], "properties": {"node_labels": ["CARDINAL"], "name": "3.5mm audio jack"}}
{"type": "node", "id": 740, "labels": ["Node"], "properties": {"node_labels": [], "name": "single-wire"}}
{"type": "node", "id": 741, "labels": ["Node"], "properties": {"node_labels": [], "name": "usa"}}
{"type": "node", "id": 742, "labels": ["Node"], "properties": {"node_labels": [], "name": "online"}}
{"type": "node", "id": 743, "labels": ["Node"], "properties": {"node_labels": [], "name": "gamer"}}
{"type": "node", "id": 744, "labels": ["Node"], "properties": {"node_labels": [], "name": "mindkoo cat ear"}}
{"type": "node", "id": 745, "labels": ["Node"], "properties": {"node_labels": [], "name": "cat ear design"}}
{"type": "node", "id": 746, "labels": ["Node"], "properties": {"node_labels": [], "name": "mh-6"}}
{"type": "node", "id": 747, "labels": ["Node"], "properties": {"node_labels": ["DATE"], "name": "1924"}}
{"type": "node", "id": 748, "labels": ["Node"], "properties": {"node_labels": [], "name": "wired connection"}}
{"type": "node", "id": 749, "labels": ["Node"], "properties": {"node_labels": [], "name": "shushing sound"}}
{"type": "node", "id": 750, "labels": ["Node"], "properties": {"node_labels": [], "name": "lithium battery"}}
{"type": "node", "id": 751, "labels": ["Node"], "properties": {"node_labels": [], "name": "cat ear headphones for kids"}}
{"type": "node", "id": 752, "labels": ["Node"], "properties": {"node_labels": [], "name": "sitemap"}}
{"type": "node", "id": 753, "labels": ["Node"], "properties": {"node_labels": [], "name": "bluetooth headset"}}
{"type": "node", "id": 754, "labels": ["Node"], "properties": {"node_labels": [], "name": "calls"}}
{"type": "node", "id": 755, "labels": ["Node"], "properties": {"node_labels": [], "name": "adults this time"}}
{"type": "node", "id": 756, "labels": ["Node"], "properties": {"node_labels": [], "name": "best headphones with cat ears"}}
{"type": "node", "id": 757, "labels": ["Node"], "properties": {"node_labels": [], "name": "techthelead.com"}}
{"type": "node", "id": 758, "labels": ["Node"], "properties": {"node_labels": ["PERSON"], "name": "win10"}}
{"type": "node", "id": 759, "labels": ["Node"], "properties": {"node_labels": [], "name": "ps4"}}
{"type": "node", "id": 760, "labels": ["Node"], "properties": {"node_labels": ["ORG"], "name": "nintendo switch"}}
{"type": "node", "id": 761, "labels": ["Node"], "properties": {"node_labels": ["PERSON"], "name": "siom"}}
{"type": "node", "id": 762, "labels": ["Node"], "properties": {"node_labels": ["CARDINAL"], "name": "20 hz"}}
{"type": "node", "id": 763, "labels": ["Node"], "properties": {"node_labels": ["PERSON"], "name": "razer kraken"}}
{"type": "node", "id": 764, "labels": ["Node"], "properties": {"node_labels": [], "name": "audio effect"}}
{"type": "node", "id": 765, "labels": ["Node"], "properties": {"node_labels": [], "name": "usb type-a"}}
{"type": "node", "id": 766, "labels": ["Node"], "properties": {"node_labels": [], "name": "axent wear cat ears headphones"}}
{"type": "node", "id": 767, "labels": ["Node"], "properties": {"node_labels": [], "name": "comment"}}
{"type": "node", "id": 768, "labels": ["Node"], "properties": {"node_labels": [], "name": "mix-style nekomimi"}}
{"type": "node", "id": 769, "labels": ["Node"], "properties": {"node_labels": ["PERSON"], "name": "riwbox"}}
{"type": "node", "id": 770, "labels": ["Node"], "properties": {"node_labels": ["PRODUCT"], "name": "somic g951 cat ear gaming headphones"}}
{"type": "node", "id": 771, "labels": ["Node"], "properties": {"node_labels": [], "name": "different manufacturers"}}
{"type": "node", "id": 772, "labels": ["Node"], "properties": {"node_labels": [], "name": "igb"}}
{"type": "node", "id": 773, "labels": ["Node"], "properties": {"node_labels": [], "name": "cat ear gaming headset"}}
{"type": "node", "id": 774, "labels": ["Node"], "properties": {"node_labels": [], "name": "gaming community"}}
{"type": "node", "id": 775, "labels": ["Node"], "properties": {"node_labels": [], "name": "tcjj"}}
{"type": "node", "id": 776, "labels": ["Node"], "properties": {"node_labels": [], "name": "equalizer"}}
{"type": "node", "id": 777, "labels": ["Node"], "properties": {"node_labels": [], "name": "on-ear"}}
{"type": "node", "id": 778, "labels": ["Node"], "properties": {"node_labels": [], "name": "audio device"}}
{"type": "node", "id": 779, "labels": ["Node"], "properties": {"node_labels": [], "name": "yowu"}}
{"type": "node", "id": 780, "labels": ["Node"], "properties": {"node_labels": [], "name": "here"}}
{"type": "node", "id": 781, "labels": ["Node"], "properties": {"node_labels": ["CARDINAL"], "name": "top 10"}}
{"type": "node", "id": 782, "labels": ["Node"], "properties": {"node_labels": [], "name": "luckyu cat ear headphones"}}
{"type": "node", "id": 783, "labels": ["Node"], "properties": {"node_labels": [], "name": "built-in battery"}}
{"type": "node", "id": 784, "labels": ["Node"], "properties": {"node_labels": [], "name": "guide to the best headphones with cat ears"}}
{"type": "node", "id": 785, "labels": ["Node"], "properties": {"node_labels": ["PERSON"], "name": "somic gs510"}}
{"type": "node", "id": 786, "labels": ["Node"], "properties": {"node_labels": ["QUANTITY"], "name": "3.5 mm jack"}}
{"type": "node", "id": 787, "labels": ["Node"], "properties": {"node_labels": ["PERSON"], "name": "razer kraken bt kitty edition"}}
{"type": "node", "id": 788, "labels": ["Node"], "properties": {"node_labels": [], "name": "boom mic"}}
{"type": "node", "id": 789, "labels": ["Node"], "properties": {"node_labels": ["PERSON"], "name": "limson headphones"}}
{"type": "node", "id": 790, "labels": ["Node"], "properties": {"node_labels": ["DATE", "EVENT"], "name": "2012 olympics"}}
{"type": "node", "id": 791, "labels": ["Node"], "properties": {"node_labels": [], "name": "safety"}}
{"type": "node", "id": 792, "labels": ["Node"], "properties": {"node_labels": [], "name": "splitter cable"}}
{"type": "node", "id": 793, "labels": ["Node"], "properties": {"node_labels": [], "name": "led lights"}}
{"type": "node", "id": 794, "labels": ["Node"], "properties": {"node_labels": [], "name": "site"}}
{"type": "node", "id": 795, "labels": ["Node"], "properties": {"node_labels": [], "name": "it"}}
{"type": "node", "id": 796, "labels": ["Node"], "properties": {"node_labels": [], "name": "android"}}
{"type": "node", "id": 797, "labels": ["Node"], "properties": {"node_labels": [], "name": "kitty ear"}}
{"type": "node", "id": 798, "labels": ["Node"], "properties": {"node_labels": ["CARDINAL"], "name": "one-size-fits-all"}}
{"type": "node", "id": 799, "labels": ["Node"], "properties": {"node_labels": [], "name": "fashion statement"}}
{"type": "node", "id": 800, "labels": ["Node"], "properties": {"node_labels": [], "name": "flash"}}
{"type": "node", "id": 801, "labels": ["Node"], "properties": {"node_labels": [], "name": "name"}}
{"type": "node", "id": 802, "labels": ["Node"], "properties": {"node_labels": [], "name": "xbox one"}}
{"type": "node", "id": 803, "labels": ["Node"], "properties": {"node_labels": [], "name": "speakers"}}
{"type": "node", "id": 804, "labels": ["Node"], "properties": {"node_labels": ["ORG"], "name": "brookstone wireless headphones"}}
{"type": "node", "id": 805, "labels": ["Node"], "properties": {"node_labels": ["ORG"], "name": "brookstone wireless cat ear headphones"}}
{"type": "node", "id": 806, "labels": ["Node"], "properties": {"node_labels": ["CARDINAL"], "name": "best headphones stands \u2013 5 options from budget to high-end"}}
{"type": "node", "id": 807, "labels": ["Node"], "properties": {"node_labels": [], "name": "computer settings"}}
{"type": "node", "id": 808, "labels": ["Node"], "properties": {"node_labels": [], "name": "earcup"}}
{"type": "node", "id": 809, "labels": ["Node"], "properties": {"node_labels": ["PERSON"], "name": "iclever hs01"}}
{"type": "node", "id": 810, "labels": ["Node"], "properties": {"node_labels": [], "name": "facebook"}}
{"type": "node", "id": 811, "labels": ["Node"], "properties": {"node_labels": [], "name": "type-c"}}
{"type": "node", "id": 812, "labels": ["Node"], "properties": {"node_labels": ["CARDINAL"], "name": "5 best headphones with mic"}}
{"type": "node", "id": 813, "labels": ["Node"], "properties": {"node_labels": ["ORG"], "name": "bts army"}}
{"type": "node", "id": 814, "labels": ["Node"], "properties": {"node_labels": [], "name": "cat headphone"}}
{"type": "node", "id": 815, "labels": ["Node"], "properties": {"node_labels": [], "name": "design"}}
{"type": "node", "id": 816, "labels": ["Node"], "properties": {"node_labels": [], "name": "earmuffs"}}
{"type": "node", "id": 817, "labels": ["Node"], "properties": {"node_labels": [], "name": "wireless headset"}}
{"type": "node", "id": 818, "labels": ["Node"], "properties": {"node_labels": ["MONEY"], "name": "$30"}}
{"type": "node", "id": 819, "labels": ["Node"], "properties": {"node_labels": [], "name": "mic quality"}}
{"type": "node", "id": 820, "labels": ["Node"], "properties": {"node_labels": [], "name": "accessory"}}
{"type": "node", "id": 821, "labels": ["Node"], "properties": {"node_labels": [], "name": "global headphones market"}}
{"type": "node", "id": 822, "labels": ["Node"], "properties": {"node_labels": [], "name": "onitoon cat ear"}}
{"type": "node", "id": 823, "labels": ["Node"], "properties": {"node_labels": [], "name": "sound quality"}}
{"type": "node", "id": 824, "labels": ["Node"], "properties": {"node_labels": [], "name": "usb connection"}}
{"type": "node", "id": 825, "labels": ["Node"], "properties": {"node_labels": [], "name": "headphones for children"}}
{"type": "node", "id": 826, "labels": ["Node"], "properties": {"node_labels": ["PERSON"], "name": "jessica"}}
{"type": "node", "id": 827, "labels": ["Node"], "properties": {"node_labels": [], "name": "the emperor's new clothes"}}
{"type": "node", "id": 828, "labels": ["Node"], "properties": {"node_labels": [], "name": "cushioning"}}
{"type": "node", "id": 829, "labels": ["Node"], "properties": {"node_labels": ["DATE"], "name": "best cat ear headphones to buy in 2022"}}
{"type": "node", "id": 830, "labels": ["Node"], "properties": {"node_labels": [], "name": "catheter"}}
{"type": "node", "id": 831, "labels": ["Node"], "properties": {"node_labels": ["PERSON"], "name": "limson cat ear headset"}}
{"type": "node", "id": 832, "labels": ["Node"], "properties": {"node_labels": [], "name": "youtube"}}
{"type": "node", "id": 833, "labels": ["Node"], "properties": {"node_labels": [], "name": "light"}}
{"type": "node", "id": 834, "labels": ["Node"], "properties": {"node_labels": ["PERSON"], "name": "lucio fulci"}}
{"type": "node", "id": 835, "labels": ["Node"], "properties": {"node_labels": ["PERSON"], "name": "mindkoo"}}
{"type": "node", "id": 836, "labels": ["Node"], "properties": {"node_labels": ["PRODUCT"], "name": "mindkoo cat ear bluetooth headphones"}}
{"type": "node", "id": 837, "labels": ["Node"], "properties": {"node_labels": [], "name": "input"}}
{"type": "node", "id": 838, "labels": ["Node"], "properties": {"node_labels": [], "name": "audio data"}}
{"type": "node", "id": 839, "labels": ["Node"], "properties": {"node_labels": [], "name": "cat ear headphones"}}
{"type": "node", "id": 840, "labels": ["Node"], "properties": {"node_labels": [], "name": "multiplayer games"}}
{"type": "node", "id": 841, "labels": ["Node"], "properties": {"node_labels": [], "name": "album"}}
{"type": "node", "id": 842, "labels": ["Node"], "properties": {"node_labels": [], "name": "immersive listening"}}
{"type": "node", "id": 843, "labels": ["Node"], "properties": {"node_labels": ["PRODUCT"], "name": "riwbox cat ear headphones"}}
{"type": "node", "id": 844, "labels": ["Node"], "properties": {"node_labels": [], "name": "cat ear headset"}}
{"type": "node", "id": 845, "labels": ["Node"], "properties": {"node_labels": [], "name": "velcro"}}
{"type": "node", "id": 846, "labels": ["Node"], "properties": {"node_labels": [], "name": "highs"}}
{"type": "node", "id": 847, "labels": ["Node"], "properties": {"node_labels": [], "name": "soft-touch"}}
{"type": "node", "id": 848, "labels": ["Node"], "properties": {"node_labels": [], "name": "ps5"}}
{"type": "node", "id": 849, "labels": ["Node"], "properties": {"node_labels": [], "name": "xbox controller"}}
{"type": "node", "id": 850, "labels": ["Node"], "properties": {"node_labels": ["PERSON"], "name": "mackie mc-250"}}
{"type": "node", "id": 851, "labels": ["Node"], "properties": {"node_labels": [], "name": "novelty headphones"}}
{"type": "node", "id": 852, "labels": ["Node"], "properties": {"node_labels": [], "name": "email"}}
{"type": "node", "id": 853, "labels": ["Node"], "properties": {"node_labels": [], "name": "bluetooth headphone"}}
{"type": "node", "id": 854, "labels": ["Node"], "properties": {"node_labels": [], "name": "virtual surround"}}
{"type": "node", "id": 855, "labels": ["Node"], "properties": {"node_labels": [], "name": "stereo"}}
{"type": "node", "id": 856, "labels": ["Node"], "properties": {"node_labels": [], "name": "black"}}
{"type": "node", "id": 857, "labels": ["Node"], "properties": {"node_labels": [], "name": "yuumei_art"}}
{"type": "node", "id": 858, "labels": ["Node"], "properties": {"node_labels": [], "name": "shushing"}}
{"type": "node", "id": 859, "labels": ["Node"], "properties": {"node_labels": ["WORK_OF_ART"], "name": "hp z book firefly"}}
{"type": "node", "id": 860, "labels": ["Node"], "properties": {"node_labels": [], "name": "reader-supported"}}
{"type": "node", "id": 861, "labels": ["Node"], "properties": {"node_labels": ["PERSON"], "name": "easars"}}
{"type": "node", "id": 862, "labels": ["Node"], "properties": {"node_labels": [], "name": "led light"}}
{"type": "node", "id": 863, "labels": ["Node"], "properties": {"node_labels": [], "name": "inputs"}}
{"type": "node", "id": 864, "labels": ["Node"], "properties": {"node_labels": [], "name": "portable cat ear headphones"}}
{"type": "node", "id": 865, "labels": ["Node"], "properties": {"node_labels": [], "name": "headset"}}
{"type": "node", "id": 866, "labels": ["Node"], "properties": {"node_labels": [], "name": "spam"}}
{"type": "node", "id": 867, "labels": ["Node"], "properties": {"node_labels": [], "name": "adorable"}}
{"type": "node", "id": 868, "labels": ["Node"], "properties": {"node_labels": [], "name": "noise cancellation"}}
{"type": "node", "id": 869, "labels": ["Node"], "properties": {"node_labels": [], "name": "you can get them here"}}
{"type": "node", "id": 870, "labels": ["Node"], "properties": {"node_labels": [], "name": "aux port"}}
{"type": "node", "id": 871, "labels": ["Node"], "properties": {"node_labels": [], "name": "charging"}}
{"type": "node", "id": 872, "labels": ["Node"], "properties": {"node_labels": [], "name": "audio recording"}}
{"type": "node", "id": 873, "labels": ["Node"], "properties": {"node_labels": [], "name": "sound performance"}}
{"type": "node", "id": 874, "labels": ["Node"], "properties": {"node_labels": ["PERSON"], "name": "traci"}}
{"type": "node", "id": 875, "labels": ["Node"], "properties": {"node_labels": [], "name": "bts"}}
{"type": "node", "id": 876, "labels": ["Node"], "properties": {"node_labels": [], "name": "animation"}}
{"type": "node", "id": 877, "labels": ["Node"], "properties": {"node_labels": [], "name": "identities"}}
{"type": "node", "id": 878, "labels": ["Node"], "properties": {"node_labels": ["PERSON"], "name": "lumi\u00e8re"}}
{"type": "node", "id": 879, "labels": ["Node"], "properties": {"node_labels": [], "name": "midrange"}}
{"type": "node", "id": 880, "labels": ["Node"], "properties": {"node_labels": [], "name": "light modes"}}
{"type": "node", "id": 881, "labels": ["Node"], "properties": {"node_labels": ["PRODUCT"], "name": "somic gs510 pro"}}
{"type": "node", "id": 882, "labels": ["Node"], "properties": {"node_labels": ["CARDINAL"], "name": "bluetooth 5.0"}}
{"type": "relationship", "id": 0, "labels": "subclass of", "start": {"id": 700, "labels": ["Node"]}, "end": {"id": 384, "labels": ["Node"]}}
{"type": "relationship", "id": 1, "labels": "subclass of", "start": {"id": 839, "labels": ["Node"]}, "end": {"id": 384, "labels": ["Node"]}}
{"type": "relationship", "id": 2, "labels": "is a list of", "start": {"id": 228, "labels": ["Node"]}, "end": {"id": 839, "labels": ["Node"]}}
{"type": "relationship", "id": 3, "labels": "subclass of", "start": {"id": 384, "labels": ["Node"]}, "end": {"id": 384, "labels": ["Node"]}}
{"type": "relationship", "id": 4, "labels": "different from", "start": {"id": 384, "labels": ["Node"]}, "end": {"id": 384, "labels": ["Node"]}}
{"type": "relationship", "id": 5, "labels": "different from", "start": {"id": 384, "labels": ["Node"]}, "end": {"id": 384, "labels": ["Node"]}}
{"type": "relationship", "id": 6, "labels": "subclass of", "start": {"id": 702, "labels": ["Node"]}, "end": {"id": 384, "labels": ["Node"]}}
{"type": "relationship", "id": 7, "labels": "instance of", "start": {"id": 702, "labels": ["Node"]}, "end": {"id": 384, "labels": ["Node"]}}
{"type": "relationship", "id": 8, "labels": "subclass of", "start": {"id": 1, "labels": ["Node"]}, "end": {"id": 384, "labels": ["Node"]}}
{"type": "relationship", "id": 9, "labels": "subclass of", "start": {"id": 700, "labels": ["Node"]}, "end": {"id": 384, "labels": ["Node"]}}
{"type": "relationship", "id": 10, "labels": "subclass of", "start": {"id": 700, "labels": ["Node"]}, "end": {"id": 384, "labels": ["Node"]}}
{"type": "relationship", "id": 11, "labels": "instance of", "start": {"id": 700, "labels": ["Node"]}, "end": {"id": 384, "labels": ["Node"]}}
{"type": "relationship", "id": 12, "labels": "instance of", "start": {"id": 505, "labels": ["Node"]}, "end": {"id": 541, "labels": ["Node"]}}
{"type": "relationship", "id": 13, "labels": "subclass of", "start": {"id": 505, "labels": ["Node"]}, "end": {"id": 541, "labels": ["Node"]}}
{"type": "relationship", "id": 14, "labels": "subclass of", "start": {"id": 505, "labels": ["Node"]}, "end": {"id": 438, "labels": ["Node"]}}
{"type": "relationship", "id": 15, "labels": "publisher", "start": {"id": 612, "labels": ["Node"]}, "end": {"id": 440, "labels": ["Node"]}}
{"type": "relationship", "id": 16, "labels": "publisher", "start": {"id": 398, "labels": ["Node"]}, "end": {"id": 440, "labels": ["Node"]}}
{"type": "relationship", "id": 17, "labels": "publisher", "start": {"id": 589, "labels": ["Node"]}, "end": {"id": 466, "labels": ["Node"]}}
{"type": "relationship", "id": 18, "labels": "work period (start)", "start": {"id": 266, "labels": ["Node"]}, "end": {"id": 129, "labels": ["Node"]}}
{"type": "relationship", "id": 19, "labels": "field of this occupation", "start": {"id": 234, "labels": ["Node"]}, "end": {"id": 876, "labels": ["Node"]}}
{"type": "relationship", "id": 20, "labels": "practiced by", "start": {"id": 876, "labels": ["Node"]}, "end": {"id": 234, "labels": ["Node"]}}
{"type": "relationship", "id": 21, "labels": "inception", "start": {"id": 266, "labels": ["Node"]}, "end": {"id": 129, "labels": ["Node"]}}
{"type": "relationship", "id": 22, "labels": "subclass of", "start": {"id": 700, "labels": ["Node"]}, "end": {"id": 384, "labels": ["Node"]}}
{"type": "relationship", "id": 23, "labels": "subclass of", "start": {"id": 839, "labels": ["Node"]}, "end": {"id": 384, "labels": ["Node"]}}
{"type": "relationship", "id": 24, "labels": "subclass of", "start": {"id": 700, "labels": ["Node"]}, "end": {"id": 384, "labels": ["Node"]}}
{"type": "relationship", "id": 25, "labels": "creator", "start": {"id": 857, "labels": ["Node"]}, "end": {"id": 266, "labels": ["Node"]}}
{"type": "relationship", "id": 26, "labels": "author", "start": {"id": 857, "labels": ["Node"]}, "end": {"id": 266, "labels": ["Node"]}}
{"type": "relationship", "id": 27, "labels": "author", "start": {"id": 326, "labels": ["Node"]}, "end": {"id": 266, "labels": ["Node"]}}
{"type": "relationship", "id": 28, "labels": "instance of", "start": {"id": 51, "labels": ["Node"]}, "end": {"id": 73, "labels": ["Node"]}}
{"type": "relationship", "id": 29, "labels": "has part", "start": {"id": 51, "labels": ["Node"]}, "end": {"id": 96, "labels": ["Node"]}}
{"type": "relationship", "id": 30, "labels": "part of", "start": {"id": 96, "labels": ["Node"]}, "end": {"id": 51, "labels": ["Node"]}}
{"type": "relationship", "id": 31, "labels": "different from", "start": {"id": 493, "labels": ["Node"]}, "end": {"id": 484, "labels": ["Node"]}}
{"type": "relationship", "id": 32, "labels": "different from", "start": {"id": 484, "labels": ["Node"]}, "end": {"id": 493, "labels": ["Node"]}}
{"type": "relationship", "id": 33, "labels": "different from", "start": {"id": 493, "labels": ["Node"]}, "end": {"id": 502, "labels": ["Node"]}}
{"type": "relationship", "id": 34, "labels": "different from", "start": {"id": 502, "labels": ["Node"]}, "end": {"id": 493, "labels": ["Node"]}}
{"type": "relationship", "id": 35, "labels": "published in", "start": {"id": 217, "labels": ["Node"]}, "end": {"id": 675, "labels": ["Node"]}}
{"type": "relationship", "id": 36, "labels": "distributed by", "start": {"id": 217, "labels": ["Node"]}, "end": {"id": 675, "labels": ["Node"]}}
{"type": "relationship", "id": 37, "labels": "owned by", "start": {"id": 217, "labels": ["Node"]}, "end": {"id": 675, "labels": ["Node"]}}
{"type": "relationship", "id": 38, "labels": "founded by", "start": {"id": 373, "labels": ["Node"]}, "end": {"id": 646, "labels": ["Node"]}}
{"type": "relationship", "id": 39, "labels": "inception", "start": {"id": 373, "labels": ["Node"]}, "end": {"id": 129, "labels": ["Node"]}}
{"type": "relationship", "id": 40, "labels": "diplomatic relation", "start": {"id": 492, "labels": ["Node"]}, "end": {"id": 643, "labels": ["Node"]}}
{"type": "relationship", "id": 41, "labels": "diplomatic relation", "start": {"id": 643, "labels": ["Node"]}, "end": {"id": 492, "labels": ["Node"]}}
{"type": "relationship", "id": 42, "labels": "followed by", "start": {"id": 295, "labels": ["Node"]}, "end": {"id": 276, "labels": ["Node"]}}
{"type": "relationship", "id": 43, "labels": "follows", "start": {"id": 276, "labels": ["Node"]}, "end": {"id": 295, "labels": ["Node"]}}
{"type": "relationship", "id": 44, "labels": "point in time", "start": {"id": 600, "labels": ["Node"]}, "end": {"id": 716, "labels": ["Node"]}}
{"type": "relationship", "id": 45, "labels": "point in time", "start": {"id": 45, "labels": ["Node"]}, "end": {"id": 716, "labels": ["Node"]}}
{"type": "relationship", "id": 46, "labels": "location", "start": {"id": 600, "labels": ["Node"]}, "end": {"id": 545, "labels": ["Node"]}}
{"type": "relationship", "id": 47, "labels": "subclass of", "start": {"id": 700, "labels": ["Node"]}, "end": {"id": 384, "labels": ["Node"]}}
{"type": "relationship", "id": 48, "labels": "product or material produced", "start": {"id": 673, "labels": ["Node"]}, "end": {"id": 384, "labels": ["Node"]}}
{"type": "relationship", "id": 49, "labels": "subclass of", "start": {"id": 700, "labels": ["Node"]}, "end": {"id": 384, "labels": ["Node"]}}
{"type": "relationship", "id": 50, "labels": "inception", "start": {"id": 573, "labels": ["Node"]}, "end": {"id": 408, "labels": ["Node"]}}
{"type": "relationship", "id": 51, "labels": "publication date", "start": {"id": 573, "labels": ["Node"]}, "end": {"id": 408, "labels": ["Node"]}}
{"type": "relationship", "id": 52, "labels": "product or material produced", "start": {"id": 373, "labels": ["Node"]}, "end": {"id": 839, "labels": ["Node"]}}
{"type": "relationship", "id": 53, "labels": "product or material produced", "start": {"id": 673, "labels": ["Node"]}, "end": {"id": 384, "labels": ["Node"]}}
{"type": "relationship", "id": 54, "labels": "product or material produced", "start": {"id": 347, "labels": ["Node"]}, "end": {"id": 384, "labels": ["Node"]}}
{"type": "relationship", "id": 55, "labels": "subclass of", "start": {"id": 384, "labels": ["Node"]}, "end": {"id": 384, "labels": ["Node"]}}
{"type": "relationship", "id": 56, "labels": "manufacturer", "start": {"id": 316, "labels": ["Node"]}, "end": {"id": 676, "labels": ["Node"]}}
{"type": "relationship", "id": 57, "labels": "developer", "start": {"id": 316, "labels": ["Node"]}, "end": {"id": 676, "labels": ["Node"]}}
{"type": "relationship", "id": 58, "labels": "creator", "start": {"id": 316, "labels": ["Node"]}, "end": {"id": 676, "labels": ["Node"]}}
{"type": "relationship", "id": 59, "labels": "subclass of", "start": {"id": 18, "labels": ["Node"]}, "end": {"id": 743, "labels": ["Node"]}}
{"type": "relationship", "id": 60, "labels": "subclass of", "start": {"id": 225, "labels": ["Node"]}, "end": {"id": 743, "labels": ["Node"]}}
{"type": "relationship", "id": 61, "labels": "facet of", "start": {"id": 225, "labels": ["Node"]}, "end": {"id": 743, "labels": ["Node"]}}
{"type": "relationship", "id": 62, "labels": "subclass of", "start": {"id": 819, "labels": ["Node"]}, "end": {"id": 823, "labels": ["Node"]}}
{"type": "relationship", "id": 63, "labels": "use", "start": {"id": 272, "labels": ["Node"]}, "end": {"id": 823, "labels": ["Node"]}}
{"type": "relationship", "id": 64, "labels": "facet of", "start": {"id": 819, "labels": ["Node"]}, "end": {"id": 823, "labels": ["Node"]}}
{"type": "relationship", "id": 65, "labels": "facet of", "start": {"id": 815, "labels": ["Node"]}, "end": {"id": 384, "labels": ["Node"]}}
{"type": "relationship", "id": 66, "labels": "subclass of", "start": {"id": 839, "labels": ["Node"]}, "end": {"id": 384, "labels": ["Node"]}}
{"type": "relationship", "id": 67, "labels": "product or material produced", "start": {"id": 771, "labels": ["Node"]}, "end": {"id": 222, "labels": ["Node"]}}
{"type": "relationship", "id": 68, "labels": "subclass of", "start": {"id": 308, "labels": ["Node"]}, "end": {"id": 222, "labels": ["Node"]}}
{"type": "relationship", "id": 69, "labels": "has part", "start": {"id": 771, "labels": ["Node"]}, "end": {"id": 222, "labels": ["Node"]}}
{"type": "relationship", "id": 70, "labels": "part of", "start": {"id": 272, "labels": ["Node"]}, "end": {"id": 712, "labels": ["Node"]}}
{"type": "relationship", "id": 71, "labels": "has part", "start": {"id": 712, "labels": ["Node"]}, "end": {"id": 272, "labels": ["Node"]}}
{"type": "relationship", "id": 72, "labels": "part of", "start": {"id": 272, "labels": ["Node"]}, "end": {"id": 384, "labels": ["Node"]}}
{"type": "relationship", "id": 73, "labels": "has part", "start": {"id": 384, "labels": ["Node"]}, "end": {"id": 862, "labels": ["Node"]}}
{"type": "relationship", "id": 74, "labels": "part of", "start": {"id": 862, "labels": ["Node"]}, "end": {"id": 384, "labels": ["Node"]}}
{"type": "relationship", "id": 75, "labels": "use", "start": {"id": 482, "labels": ["Node"]}, "end": {"id": 833, "labels": ["Node"]}}
{"type": "relationship", "id": 76, "labels": "subclass of", "start": {"id": 702, "labels": ["Node"]}, "end": {"id": 384, "labels": ["Node"]}}
{"type": "relationship", "id": 77, "labels": "instance of", "start": {"id": 635, "labels": ["Node"]}, "end": {"id": 464, "labels": ["Node"]}}
{"type": "relationship", "id": 78, "labels": "part of", "start": {"id": 480, "labels": ["Node"]}, "end": {"id": 384, "labels": ["Node"]}}
{"type": "relationship", "id": 79, "labels": "has part", "start": {"id": 384, "labels": ["Node"]}, "end": {"id": 361, "labels": ["Node"]}}
{"type": "relationship", "id": 80, "labels": "part of", "start": {"id": 171, "labels": ["Node"]}, "end": {"id": 384, "labels": ["Node"]}}
{"type": "relationship", "id": 81, "labels": "part of", "start": {"id": 662, "labels": ["Node"]}, "end": {"id": 384, "labels": ["Node"]}}
{"type": "relationship", "id": 82, "labels": "subclass of", "start": {"id": 686, "labels": ["Node"]}, "end": {"id": 258, "labels": ["Node"]}}
{"type": "relationship", "id": 83, "labels": "subclass of", "start": {"id": 258, "labels": ["Node"]}, "end": {"id": 686, "labels": ["Node"]}}
{"type": "relationship", "id": 84, "labels": "part of", "start": {"id": 686, "labels": ["Node"]}, "end": {"id": 258, "labels": ["Node"]}}
{"type": "relationship", "id": 85, "labels": "has part", "start": {"id": 384, "labels": ["Node"]}, "end": {"id": 384, "labels": ["Node"]}}
{"type": "relationship", "id": 86, "labels": "part of", "start": {"id": 384, "labels": ["Node"]}, "end": {"id": 384, "labels": ["Node"]}}
{"type": "relationship", "id": 87, "labels": "has part", "start": {"id": 384, "labels": ["Node"]}, "end": {"id": 361, "labels": ["Node"]}}
{"type": "relationship", "id": 88, "labels": "instance of", "start": {"id": 346, "labels": ["Node"]}, "end": {"id": 278, "labels": ["Node"]}}
{"type": "relationship", "id": 89, "labels": "subclass of", "start": {"id": 346, "labels": ["Node"]}, "end": {"id": 278, "labels": ["Node"]}}
{"type": "relationship", "id": 90, "labels": "instance of", "start": {"id": 346, "labels": ["Node"]}, "end": {"id": 833, "labels": ["Node"]}}
{"type": "relationship", "id": 91, "labels": "subclass of", "start": {"id": 702, "labels": ["Node"]}, "end": {"id": 384, "labels": ["Node"]}}
{"type": "relationship", "id": 92, "labels": "instance of", "start": {"id": 702, "labels": ["Node"]}, "end": {"id": 384, "labels": ["Node"]}}
{"type": "relationship", "id": 93, "labels": "subclass of", "start": {"id": 278, "labels": ["Node"]}, "end": {"id": 384, "labels": ["Node"]}}
{"type": "relationship", "id": 94, "labels": "subclass of", "start": {"id": 143, "labels": ["Node"]}, "end": {"id": 384, "labels": ["Node"]}}
{"type": "relationship", "id": 95, "labels": "subclass of", "start": {"id": 700, "labels": ["Node"]}, "end": {"id": 384, "labels": ["Node"]}}
{"type": "relationship", "id": 96, "labels": "subclass of", "start": {"id": 672, "labels": ["Node"]}, "end": {"id": 384, "labels": ["Node"]}}
{"type": "relationship", "id": 97, "labels": "opposite of", "start": {"id": 249, "labels": ["Node"]}, "end": {"id": 143, "labels": ["Node"]}}
{"type": "relationship", "id": 98, "labels": "opposite of", "start": {"id": 249, "labels": ["Node"]}, "end": {"id": 411, "labels": ["Node"]}}
{"type": "relationship", "id": 99, "labels": "opposite of", "start": {"id": 143, "labels": ["Node"]}, "end": {"id": 249, "labels": ["Node"]}}
{"type": "relationship", "id": 100, "labels": "has part", "start": {"id": 384, "labels": ["Node"]}, "end": {"id": 532, "labels": ["Node"]}}
{"type": "relationship", "id": 101, "labels": "has part", "start": {"id": 384, "labels": ["Node"]}, "end": {"id": 243, "labels": ["Node"]}}
{"type": "relationship", "id": 102, "labels": "different from", "start": {"id": 384, "labels": ["Node"]}, "end": {"id": 199, "labels": ["Node"]}}
{"type": "relationship", "id": 103, "labels": "uses", "start": {"id": 371, "labels": ["Node"]}, "end": {"id": 370, "labels": ["Node"]}}
{"type": "relationship", "id": 104, "labels": "uses", "start": {"id": 371, "labels": ["Node"]}, "end": {"id": 43, "labels": ["Node"]}}
{"type": "relationship", "id": 105, "labels": "subclass of", "start": {"id": 371, "labels": ["Node"]}, "end": {"id": 476, "labels": ["Node"]}}
{"type": "relationship", "id": 106, "labels": "subclass of", "start": {"id": 143, "labels": ["Node"]}, "end": {"id": 384, "labels": ["Node"]}}
{"type": "relationship", "id": 107, "labels": "subclass of", "start": {"id": 143, "labels": ["Node"]}, "end": {"id": 384, "labels": ["Node"]}}
{"type": "relationship", "id": 108, "labels": "different from", "start": {"id": 476, "labels": ["Node"]}, "end": {"id": 672, "labels": ["Node"]}}
{"type": "relationship", "id": 109, "labels": "subclass of", "start": {"id": 718, "labels": ["Node"]}, "end": {"id": 249, "labels": ["Node"]}}
{"type": "relationship", "id": 110, "labels": "subclass of", "start": {"id": 384, "labels": ["Node"]}, "end": {"id": 249, "labels": ["Node"]}}
{"type": "relationship", "id": 111, "labels": "uses", "start": {"id": 381, "labels": ["Node"]}, "end": {"id": 309, "labels": ["Node"]}}
{"type": "relationship", "id": 112, "labels": "subclass of", "start": {"id": 371, "labels": ["Node"]}, "end": {"id": 476, "labels": ["Node"]}}
{"type": "relationship", "id": 113, "labels": "use", "start": {"id": 371, "labels": ["Node"]}, "end": {"id": 476, "labels": ["Node"]}}
{"type": "relationship", "id": 114, "labels": "subclass of", "start": {"id": 692, "labels": ["Node"]}, "end": {"id": 476, "labels": ["Node"]}}
{"type": "relationship", "id": 115, "labels": "subclass of", "start": {"id": 759, "labels": ["Node"]}, "end": {"id": 611, "labels": ["Node"]}}
{"type": "relationship", "id": 116, "labels": "subclass of", "start": {"id": 759, "labels": ["Node"]}, "end": {"id": 557, "labels": ["Node"]}}
{"type": "relationship", "id": 117, "labels": "instance of", "start": {"id": 759, "labels": ["Node"]}, "end": {"id": 611, "labels": ["Node"]}}
{"type": "relationship", "id": 118, "labels": "platform", "start": {"id": 240, "labels": ["Node"]}, "end": {"id": 802, "labels": ["Node"]}}
{"type": "relationship", "id": 119, "labels": "has part", "start": {"id": 802, "labels": ["Node"]}, "end": {"id": 240, "labels": ["Node"]}}
{"type": "relationship", "id": 120, "labels": "part of the series", "start": {"id": 802, "labels": ["Node"]}, "end": {"id": 665, "labels": ["Node"]}}
{"type": "relationship", "id": 121, "labels": "has part", "start": {"id": 665, "labels": ["Node"]}, "end": {"id": 802, "labels": ["Node"]}}
{"type": "relationship", "id": 122, "labels": "subclass of", "start": {"id": 700, "labels": ["Node"]}, "end": {"id": 384, "labels": ["Node"]}}
{"type": "relationship", "id": 123, "labels": "different from", "start": {"id": 823, "labels": ["Node"]}, "end": {"id": 164, "labels": ["Node"]}}
{"type": "relationship", "id": 124, "labels": "different from", "start": {"id": 164, "labels": ["Node"]}, "end": {"id": 823, "labels": ["Node"]}}
{"type": "relationship", "id": 125, "labels": "different from", "start": {"id": 815, "labels": ["Node"]}, "end": {"id": 823, "labels": ["Node"]}}
{"type": "relationship", "id": 126, "labels": "different from", "start": {"id": 823, "labels": ["Node"]}, "end": {"id": 815, "labels": ["Node"]}}
{"type": "relationship", "id": 127, "labels": "subclass of", "start": {"id": 27, "labels": ["Node"]}, "end": {"id": 384, "labels": ["Node"]}}
{"type": "relationship", "id": 128, "labels": "facet of", "start": {"id": 642, "labels": ["Node"]}, "end": {"id": 384, "labels": ["Node"]}}
{"type": "relationship", "id": 129, "labels": "facet of", "start": {"id": 654, "labels": ["Node"]}, "end": {"id": 384, "labels": ["Node"]}}
{"type": "relationship", "id": 130, "labels": "subclass of", "start": {"id": 654, "labels": ["Node"]}, "end": {"id": 384, "labels": ["Node"]}}
{"type": "relationship", "id": 131, "labels": "facet of", "start": {"id": 384, "labels": ["Node"]}, "end": {"id": 654, "labels": ["Node"]}}
{"type": "relationship", "id": 132, "labels": "opposite of", "start": {"id": 549, "labels": ["Node"]}, "end": {"id": 776, "labels": ["Node"]}}
{"type": "relationship", "id": 133, "labels": "different from", "start": {"id": 549, "labels": ["Node"]}, "end": {"id": 776, "labels": ["Node"]}}
{"type": "relationship", "id": 134, "labels": "opposite of", "start": {"id": 776, "labels": ["Node"]}, "end": {"id": 549, "labels": ["Node"]}}
{"type": "relationship", "id": 135, "labels": "subclass of", "start": {"id": 728, "labels": ["Node"]}, "end": {"id": 823, "labels": ["Node"]}}
{"type": "relationship", "id": 136, "labels": "instance of", "start": {"id": 728, "labels": ["Node"]}, "end": {"id": 823, "labels": ["Node"]}}
{"type": "relationship", "id": 137, "labels": "uses", "start": {"id": 728, "labels": ["Node"]}, "end": {"id": 868, "labels": ["Node"]}}
{"type": "relationship", "id": 138, "labels": "subclass of", "start": {"id": 728, "labels": ["Node"]}, "end": {"id": 176, "labels": ["Node"]}}
{"type": "relationship", "id": 139, "labels": "subclass of", "start": {"id": 728, "labels": ["Node"]}, "end": {"id": 88, "labels": ["Node"]}}
{"type": "relationship", "id": 140, "labels": "use", "start": {"id": 728, "labels": ["Node"]}, "end": {"id": 728, "labels": ["Node"]}}
{"type": "relationship", "id": 141, "labels": "opposite of", "start": {"id": 728, "labels": ["Node"]}, "end": {"id": 593, "labels": ["Node"]}}
{"type": "relationship", "id": 142, "labels": "part of", "start": {"id": 597, "labels": ["Node"]}, "end": {"id": 728, "labels": ["Node"]}}
{"type": "relationship", "id": 143, "labels": "opposite of", "start": {"id": 728, "labels": ["Node"]}, "end": {"id": 593, "labels": ["Node"]}}
{"type": "relationship", "id": 144, "labels": "subclass of", "start": {"id": 700, "labels": ["Node"]}, "end": {"id": 384, "labels": ["Node"]}}
{"type": "relationship", "id": 145, "labels": "use", "start": {"id": 839, "labels": ["Node"]}, "end": {"id": 671, "labels": ["Node"]}}
{"type": "relationship", "id": 146, "labels": "use", "start": {"id": 700, "labels": ["Node"]}, "end": {"id": 671, "labels": ["Node"]}}
{"type": "relationship", "id": 147, "labels": "subclass of", "start": {"id": 700, "labels": ["Node"]}, "end": {"id": 384, "labels": ["Node"]}}
{"type": "relationship", "id": 148, "labels": "opposite of", "start": {"id": 31, "labels": ["Node"]}, "end": {"id": 477, "labels": ["Node"]}}
{"type": "relationship", "id": 149, "labels": "opposite of", "start": {"id": 477, "labels": ["Node"]}, "end": {"id": 31, "labels": ["Node"]}}
{"type": "relationship", "id": 150, "labels": "use", "start": {"id": 644, "labels": ["Node"]}, "end": {"id": 193, "labels": ["Node"]}}
{"type": "relationship", "id": 151, "labels": "subclass of", "start": {"id": 704, "labels": ["Node"]}, "end": {"id": 70, "labels": ["Node"]}}
{"type": "relationship", "id": 152, "labels": "facet of", "start": {"id": 533, "labels": ["Node"]}, "end": {"id": 644, "labels": ["Node"]}}
{"type": "relationship", "id": 153, "labels": "facet of", "start": {"id": 365, "labels": ["Node"]}, "end": {"id": 384, "labels": ["Node"]}}
{"type": "relationship", "id": 154, "labels": "part of", "start": {"id": 365, "labels": ["Node"]}, "end": {"id": 384, "labels": ["Node"]}}
{"type": "relationship", "id": 155, "labels": "facet of", "start": {"id": 486, "labels": ["Node"]}, "end": {"id": 384, "labels": ["Node"]}}
{"type": "relationship", "id": 156, "labels": "subclass of", "start": {"id": 723, "labels": ["Node"]}, "end": {"id": 384, "labels": ["Node"]}}
{"type": "relationship", "id": 157, "labels": "subclass of", "start": {"id": 663, "labels": ["Node"]}, "end": {"id": 384, "labels": ["Node"]}}
{"type": "relationship", "id": 158, "labels": "part of", "start": {"id": 723, "labels": ["Node"]}, "end": {"id": 384, "labels": ["Node"]}}
{"type": "relationship", "id": 159, "labels": "subclass of", "start": {"id": 84, "labels": ["Node"]}, "end": {"id": 868, "labels": ["Node"]}}
{"type": "relationship", "id": 160, "labels": "subclass of", "start": {"id": 125, "labels": ["Node"]}, "end": {"id": 868, "labels": ["Node"]}}
{"type": "relationship", "id": 161, "labels": "opposite of", "start": {"id": 84, "labels": ["Node"]}, "end": {"id": 125, "labels": ["Node"]}}
{"type": "relationship", "id": 162, "labels": "opposite of", "start": {"id": 125, "labels": ["Node"]}, "end": {"id": 84, "labels": ["Node"]}}
{"type": "relationship", "id": 163, "labels": "opposite of", "start": {"id": 125, "labels": ["Node"]}, "end": {"id": 84, "labels": ["Node"]}}
{"type": "relationship", "id": 164, "labels": "uses", "start": {"id": 657, "labels": ["Node"]}, "end": {"id": 125, "labels": ["Node"]}}
{"type": "relationship", "id": 165, "labels": "subclass of", "start": {"id": 657, "labels": ["Node"]}, "end": {"id": 125, "labels": ["Node"]}}
{"type": "relationship", "id": 166, "labels": "subclass of", "start": {"id": 125, "labels": ["Node"]}, "end": {"id": 384, "labels": ["Node"]}}
{"type": "relationship", "id": 167, "labels": "subclass of", "start": {"id": 868, "labels": ["Node"]}, "end": {"id": 384, "labels": ["Node"]}}
{"type": "relationship", "id": 168, "labels": "use", "start": {"id": 246, "labels": ["Node"]}, "end": {"id": 868, "labels": ["Node"]}}
{"type": "relationship", "id": 169, "labels": "uses", "start": {"id": 246, "labels": ["Node"]}, "end": {"id": 868, "labels": ["Node"]}}
{"type": "relationship", "id": 170, "labels": "subclass of", "start": {"id": 868, "labels": ["Node"]}, "end": {"id": 78, "labels": ["Node"]}}
{"type": "relationship", "id": 171, "labels": "use", "start": {"id": 868, "labels": ["Node"]}, "end": {"id": 78, "labels": ["Node"]}}
{"type": "relationship", "id": 172, "labels": "facet of", "start": {"id": 868, "labels": ["Node"]}, "end": {"id": 78, "labels": ["Node"]}}
{"type": "relationship", "id": 173, "labels": "subclass of", "start": {"id": 535, "labels": ["Node"]}, "end": {"id": 90, "labels": ["Node"]}}
{"type": "relationship", "id": 174, "labels": "part of", "start": {"id": 742, "labels": ["Node"]}, "end": {"id": 535, "labels": ["Node"]}}
{"type": "relationship", "id": 175, "labels": "subclass of", "start": {"id": 535, "labels": ["Node"]}, "end": {"id": 68, "labels": ["Node"]}}
{"type": "relationship", "id": 176, "labels": "subclass of", "start": {"id": 700, "labels": ["Node"]}, "end": {"id": 384, "labels": ["Node"]}}
{"type": "relationship", "id": 177, "labels": "part of", "start": {"id": 39, "labels": ["Node"]}, "end": {"id": 384, "labels": ["Node"]}}
{"type": "relationship", "id": 178, "labels": "subclass of", "start": {"id": 700, "labels": ["Node"]}, "end": {"id": 39, "labels": ["Node"]}}
{"type": "relationship", "id": 179, "labels": "subclass of", "start": {"id": 75, "labels": ["Node"]}, "end": {"id": 104, "labels": ["Node"]}}
{"type": "relationship", "id": 180, "labels": "subclass of", "start": {"id": 75, "labels": ["Node"]}, "end": {"id": 272, "labels": ["Node"]}}
{"type": "relationship", "id": 181, "labels": "subclass of", "start": {"id": 75, "labels": ["Node"]}, "end": {"id": 104, "labels": ["Node"]}}
{"type": "relationship", "id": 182, "labels": "subclass of", "start": {"id": 476, "labels": ["Node"]}, "end": {"id": 384, "labels": ["Node"]}}
{"type": "relationship", "id": 183, "labels": "subclass of", "start": {"id": 476, "labels": ["Node"]}, "end": {"id": 384, "labels": ["Node"]}}
{"type": "relationship", "id": 184, "labels": "has part", "start": {"id": 595, "labels": ["Node"]}, "end": {"id": 599, "labels": ["Node"]}}
{"type": "relationship", "id": 185, "labels": "part of", "start": {"id": 788, "labels": ["Node"]}, "end": {"id": 599, "labels": ["Node"]}}
{"type": "relationship", "id": 186, "labels": "subclass of", "start": {"id": 788, "labels": ["Node"]}, "end": {"id": 272, "labels": ["Node"]}}
{"type": "relationship", "id": 187, "labels": "connects with", "start": {"id": 788, "labels": ["Node"]}, "end": {"id": 599, "labels": ["Node"]}}
{"type": "relationship", "id": 188, "labels": "connects with", "start": {"id": 599, "labels": ["Node"]}, "end": {"id": 788, "labels": ["Node"]}}
{"type": "relationship", "id": 189, "labels": "subclass of", "start": {"id": 580, "labels": ["Node"]}, "end": {"id": 272, "labels": ["Node"]}}
{"type": "relationship", "id": 190, "labels": "use", "start": {"id": 689, "labels": ["Node"]}, "end": {"id": 819, "labels": ["Node"]}}
{"type": "relationship", "id": 191, "labels": "subclass of", "start": {"id": 819, "labels": ["Node"]}, "end": {"id": 838, "labels": ["Node"]}}
{"type": "relationship", "id": 192, "labels": "uses", "start": {"id": 749, "labels": ["Node"]}, "end": {"id": 689, "labels": ["Node"]}}
{"type": "relationship", "id": 193, "labels": "uses", "start": {"id": 858, "labels": ["Node"]}, "end": {"id": 689, "labels": ["Node"]}}
{"type": "relationship", "id": 194, "labels": "use", "start": {"id": 580, "labels": ["Node"]}, "end": {"id": 749, "labels": ["Node"]}}
{"type": "relationship", "id": 195, "labels": "subclass of", "start": {"id": 700, "labels": ["Node"]}, "end": {"id": 384, "labels": ["Node"]}}
{"type": "relationship", "id": 196, "labels": "instance of", "start": {"id": 452, "labels": ["Node"]}, "end": {"id": 122, "labels": ["Node"]}}
{"type": "relationship", "id": 197, "labels": "subclass of", "start": {"id": 452, "labels": ["Node"]}, "end": {"id": 122, "labels": ["Node"]}}
{"type": "relationship", "id": 198, "labels": "opposite of", "start": {"id": 244, "labels": ["Node"]}, "end": {"id": 730, "labels": ["Node"]}}
{"type": "relationship", "id": 199, "labels": "different from", "start": {"id": 244, "labels": ["Node"]}, "end": {"id": 730, "labels": ["Node"]}}
{"type": "relationship", "id": 200, "labels": "different from", "start": {"id": 730, "labels": ["Node"]}, "end": {"id": 244, "labels": ["Node"]}}
{"type": "relationship", "id": 201, "labels": "opposite of", "start": {"id": 730, "labels": ["Node"]}, "end": {"id": 244, "labels": ["Node"]}}
{"type": "relationship", "id": 202, "labels": "facet of", "start": {"id": 485, "labels": ["Node"]}, "end": {"id": 452, "labels": ["Node"]}}
{"type": "relationship", "id": 203, "labels": "facet of", "start": {"id": 485, "labels": ["Node"]}, "end": {"id": 454, "labels": ["Node"]}}
{"type": "relationship", "id": 204, "labels": "part of", "start": {"id": 485, "labels": ["Node"]}, "end": {"id": 454, "labels": ["Node"]}}
{"type": "relationship", "id": 205, "labels": "part of", "start": {"id": 95, "labels": ["Node"]}, "end": {"id": 644, "labels": ["Node"]}}
{"type": "relationship", "id": 206, "labels": "use", "start": {"id": 82, "labels": ["Node"]}, "end": {"id": 732, "labels": ["Node"]}}
{"type": "relationship", "id": 207, "labels": "part of", "start": {"id": 150, "labels": ["Node"]}, "end": {"id": 644, "labels": ["Node"]}}
{"type": "relationship", "id": 208, "labels": "opposite of", "start": {"id": 485, "labels": ["Node"]}, "end": {"id": 798, "labels": ["Node"]}}
{"type": "relationship", "id": 209, "labels": "subclass of", "start": {"id": 485, "labels": ["Node"]}, "end": {"id": 452, "labels": ["Node"]}}
{"type": "relationship", "id": 210, "labels": "different from", "start": {"id": 485, "labels": ["Node"]}, "end": {"id": 209, "labels": ["Node"]}}
{"type": "relationship", "id": 211, "labels": "facet of", "start": {"id": 485, "labels": ["Node"]}, "end": {"id": 384, "labels": ["Node"]}}
{"type": "relationship", "id": 212, "labels": "part of", "start": {"id": 485, "labels": ["Node"]}, "end": {"id": 384, "labels": ["Node"]}}
{"type": "relationship", "id": 213, "labels": "facet of", "start": {"id": 602, "labels": ["Node"]}, "end": {"id": 384, "labels": ["Node"]}}
{"type": "relationship", "id": 214, "labels": "has part", "start": {"id": 384, "labels": ["Node"]}, "end": {"id": 485, "labels": ["Node"]}}
{"type": "relationship", "id": 215, "labels": "subclass of", "start": {"id": 384, "labels": ["Node"]}, "end": {"id": 384, "labels": ["Node"]}}
{"type": "relationship", "id": 216, "labels": "part of", "start": {"id": 485, "labels": ["Node"]}, "end": {"id": 384, "labels": ["Node"]}}
{"type": "relationship", "id": 217, "labels": "connects with", "start": {"id": 384, "labels": ["Node"]}, "end": {"id": 300, "labels": ["Node"]}}
{"type": "relationship", "id": 218, "labels": "connects with", "start": {"id": 300, "labels": ["Node"]}, "end": {"id": 384, "labels": ["Node"]}}
{"type": "relationship", "id": 219, "labels": "subclass of", "start": {"id": 384, "labels": ["Node"]}, "end": {"id": 384, "labels": ["Node"]}}
{"type": "relationship", "id": 220, "labels": "subclass of", "start": {"id": 702, "labels": ["Node"]}, "end": {"id": 384, "labels": ["Node"]}}
{"type": "relationship", "id": 221, "labels": "instance of", "start": {"id": 702, "labels": ["Node"]}, "end": {"id": 384, "labels": ["Node"]}}
{"type": "relationship", "id": 222, "labels": "subclass of", "start": {"id": 702, "labels": ["Node"]}, "end": {"id": 454, "labels": ["Node"]}}
{"type": "relationship", "id": 223, "labels": "subclass of", "start": {"id": 384, "labels": ["Node"]}, "end": {"id": 637, "labels": ["Node"]}}
{"type": "relationship", "id": 224, "labels": "subclass of", "start": {"id": 651, "labels": ["Node"]}, "end": {"id": 384, "labels": ["Node"]}}
{"type": "relationship", "id": 225, "labels": "said to be the same as", "start": {"id": 384, "labels": ["Node"]}, "end": {"id": 637, "labels": ["Node"]}}
{"type": "relationship", "id": 226, "labels": "said to be the same as", "start": {"id": 637, "labels": ["Node"]}, "end": {"id": 384, "labels": ["Node"]}}
{"type": "relationship", "id": 227, "labels": "subclass of", "start": {"id": 180, "labels": ["Node"]}, "end": {"id": 188, "labels": ["Node"]}}
{"type": "relationship", "id": 228, "labels": "subclass of", "start": {"id": 180, "labels": ["Node"]}, "end": {"id": 172, "labels": ["Node"]}}
{"type": "relationship", "id": 229, "labels": "subclass of", "start": {"id": 112, "labels": ["Node"]}, "end": {"id": 163, "labels": ["Node"]}}
{"type": "relationship", "id": 230, "labels": "part of", "start": {"id": 71, "labels": ["Node"]}, "end": {"id": 384, "labels": ["Node"]}}
{"type": "relationship", "id": 231, "labels": "subclass of", "start": {"id": 384, "labels": ["Node"]}, "end": {"id": 384, "labels": ["Node"]}}
{"type": "relationship", "id": 232, "labels": "facet of", "start": {"id": 71, "labels": ["Node"]}, "end": {"id": 384, "labels": ["Node"]}}
{"type": "relationship", "id": 233, "labels": "subclass of", "start": {"id": 700, "labels": ["Node"]}, "end": {"id": 384, "labels": ["Node"]}}
{"type": "relationship", "id": 234, "labels": "subclass of", "start": {"id": 839, "labels": ["Node"]}, "end": {"id": 384, "labels": ["Node"]}}
{"type": "relationship", "id": 235, "labels": "subclass of", "start": {"id": 830, "labels": ["Node"]}, "end": {"id": 384, "labels": ["Node"]}}
{"type": "relationship", "id": 236, "labels": "manufacturer", "start": {"id": 384, "labels": ["Node"]}, "end": {"id": 474, "labels": ["Node"]}}
{"type": "relationship", "id": 237, "labels": "part of", "start": {"id": 384, "labels": ["Node"]}, "end": {"id": 384, "labels": ["Node"]}}
{"type": "relationship", "id": 238, "labels": "subclass of", "start": {"id": 252, "labels": ["Node"]}, "end": {"id": 384, "labels": ["Node"]}}
{"type": "relationship", "id": 239, "labels": "instance of", "start": {"id": 339, "labels": ["Node"]}, "end": {"id": 592, "labels": ["Node"]}}
{"type": "relationship", "id": 240, "labels": "subclass of", "start": {"id": 339, "labels": ["Node"]}, "end": {"id": 18, "labels": ["Node"]}}
{"type": "relationship", "id": 241, "labels": "subclass of", "start": {"id": 221, "labels": ["Node"]}, "end": {"id": 592, "labels": ["Node"]}}
{"type": "relationship", "id": 242, "labels": "subclass of", "start": {"id": 702, "labels": ["Node"]}, "end": {"id": 384, "labels": ["Node"]}}
{"type": "relationship", "id": 243, "labels": "subclass of", "start": {"id": 839, "labels": ["Node"]}, "end": {"id": 384, "labels": ["Node"]}}
{"type": "relationship", "id": 244, "labels": "subclass of", "start": {"id": 702, "labels": ["Node"]}, "end": {"id": 839, "labels": ["Node"]}}
{"type": "relationship", "id": 245, "labels": "maintained by", "start": {"id": 609, "labels": ["Node"]}, "end": {"id": 174, "labels": ["Node"]}}
{"type": "relationship", "id": 246, "labels": "part of", "start": {"id": 406, "labels": ["Node"]}, "end": {"id": 231, "labels": ["Node"]}}
{"type": "relationship", "id": 247, "labels": "has effect", "start": {"id": 276, "labels": ["Node"]}, "end": {"id": 682, "labels": ["Node"]}}
{"type": "relationship", "id": 248, "labels": "manufacturer", "start": {"id": 316, "labels": ["Node"]}, "end": {"id": 676, "labels": ["Node"]}}
{"type": "relationship", "id": 249, "labels": "manufacturer", "start": {"id": 79, "labels": ["Node"]}, "end": {"id": 676, "labels": ["Node"]}}
{"type": "relationship", "id": 250, "labels": "subclass of", "start": {"id": 316, "labels": ["Node"]}, "end": {"id": 100, "labels": ["Node"]}}
{"type": "relationship", "id": 251, "labels": "instance of", "start": {"id": 316, "labels": ["Node"]}, "end": {"id": 100, "labels": ["Node"]}}
{"type": "relationship", "id": 252, "labels": "subclass of", "start": {"id": 371, "labels": ["Node"]}, "end": {"id": 384, "labels": ["Node"]}}
{"type": "relationship", "id": 253, "labels": "manufacturer", "start": {"id": 341, "labels": ["Node"]}, "end": {"id": 676, "labels": ["Node"]}}
{"type": "relationship", "id": 254, "labels": "developer", "start": {"id": 341, "labels": ["Node"]}, "end": {"id": 676, "labels": ["Node"]}}
{"type": "relationship", "id": 255, "labels": "manufacturer", "start": {"id": 341, "labels": ["Node"]}, "end": {"id": 2, "labels": ["Node"]}}
{"type": "relationship", "id": 256, "labels": "manufacturer", "start": {"id": 419, "labels": ["Node"]}, "end": {"id": 676, "labels": ["Node"]}}
{"type": "relationship", "id": 257, "labels": "manufacturer", "start": {"id": 348, "labels": ["Node"]}, "end": {"id": 676, "labels": ["Node"]}}
{"type": "relationship", "id": 258, "labels": "has part", "start": {"id": 316, "labels": ["Node"]}, "end": {"id": 299, "labels": ["Node"]}}
{"type": "relationship", "id": 259, "labels": "follows", "start": {"id": 316, "labels": ["Node"]}, "end": {"id": 386, "labels": ["Node"]}}
{"type": "relationship", "id": 260, "labels": "part of the series", "start": {"id": 316, "labels": ["Node"]}, "end": {"id": 386, "labels": ["Node"]}}
{"type": "relationship", "id": 261, "labels": "different from", "start": {"id": 316, "labels": ["Node"]}, "end": {"id": 462, "labels": ["Node"]}}
{"type": "relationship", "id": 262, "labels": "different from", "start": {"id": 462, "labels": ["Node"]}, "end": {"id": 316, "labels": ["Node"]}}
{"type": "relationship", "id": 263, "labels": "subsidiary", "start": {"id": 14, "labels": ["Node"]}, "end": {"id": 14, "labels": ["Node"]}}
{"type": "relationship", "id": 264, "labels": "parent organization", "start": {"id": 14, "labels": ["Node"]}, "end": {"id": 14, "labels": ["Node"]}}
{"type": "relationship", "id": 265, "labels": "product or material produced", "start": {"id": 14, "labels": ["Node"]}, "end": {"id": 64, "labels": ["Node"]}}
{"type": "relationship", "id": 266, "labels": "manufacturer", "start": {"id": 721, "labels": ["Node"]}, "end": {"id": 572, "labels": ["Node"]}}
{"type": "relationship", "id": 267, "labels": "subclass of", "start": {"id": 717, "labels": ["Node"]}, "end": {"id": 384, "labels": ["Node"]}}
{"type": "relationship", "id": 268, "labels": "instance of", "start": {"id": 717, "labels": ["Node"]}, "end": {"id": 384, "labels": ["Node"]}}
{"type": "relationship", "id": 269, "labels": "manufacturer", "start": {"id": 721, "labels": ["Node"]}, "end": {"id": 572, "labels": ["Node"]}}
{"type": "relationship", "id": 270, "labels": "subclass of", "start": {"id": 531, "labels": ["Node"]}, "end": {"id": 319, "labels": ["Node"]}}
{"type": "relationship", "id": 271, "labels": "uses", "start": {"id": 531, "labels": ["Node"]}, "end": {"id": 728, "labels": ["Node"]}}
{"type": "relationship", "id": 272, "labels": "subclass of", "start": {"id": 868, "labels": ["Node"]}, "end": {"id": 384, "labels": ["Node"]}}
{"type": "relationship", "id": 273, "labels": "subclass of", "start": {"id": 777, "labels": ["Node"]}, "end": {"id": 384, "labels": ["Node"]}}
{"type": "relationship", "id": 274, "labels": "use", "start": {"id": 85, "labels": ["Node"]}, "end": {"id": 868, "labels": ["Node"]}}
{"type": "relationship", "id": 275, "labels": "has part", "start": {"id": 721, "labels": ["Node"]}, "end": {"id": 453, "labels": ["Node"]}}
{"type": "relationship", "id": 276, "labels": "has part", "start": {"id": 721, "labels": ["Node"]}, "end": {"id": 482, "labels": ["Node"]}}
{"type": "relationship", "id": 277, "labels": "uses", "start": {"id": 351, "labels": ["Node"]}, "end": {"id": 862, "labels": ["Node"]}}
{"type": "relationship", "id": 278, "labels": "subclass of", "start": {"id": 712, "labels": ["Node"]}, "end": {"id": 384, "labels": ["Node"]}}
{"type": "relationship", "id": 279, "labels": "part of", "start": {"id": 712, "labels": ["Node"]}, "end": {"id": 384, "labels": ["Node"]}}
{"type": "relationship", "id": 280, "labels": "different from", "start": {"id": 712, "labels": ["Node"]}, "end": {"id": 384, "labels": ["Node"]}}
{"type": "relationship", "id": 281, "labels": "follows", "start": {"id": 316, "labels": ["Node"]}, "end": {"id": 717, "labels": ["Node"]}}
{"type": "relationship", "id": 282, "labels": "different from", "start": {"id": 316, "labels": ["Node"]}, "end": {"id": 717, "labels": ["Node"]}}
{"type": "relationship", "id": 283, "labels": "followed by", "start": {"id": 316, "labels": ["Node"]}, "end": {"id": 717, "labels": ["Node"]}}
{"type": "relationship", "id": 284, "labels": "subsidiary", "start": {"id": 14, "labels": ["Node"]}, "end": {"id": 14, "labels": ["Node"]}}
{"type": "relationship", "id": 285, "labels": "parent organization", "start": {"id": 14, "labels": ["Node"]}, "end": {"id": 14, "labels": ["Node"]}}
{"type": "relationship", "id": 286, "labels": "product or material produced", "start": {"id": 14, "labels": ["Node"]}, "end": {"id": 64, "labels": ["Node"]}}
{"type": "relationship", "id": 287, "labels": "subclass of", "start": {"id": 140, "labels": ["Node"]}, "end": {"id": 692, "labels": ["Node"]}}
{"type": "relationship", "id": 288, "labels": "manufacturer", "start": {"id": 596, "labels": ["Node"]}, "end": {"id": 769, "labels": ["Node"]}}
{"type": "relationship", "id": 289, "labels": "instance of", "start": {"id": 668, "labels": ["Node"]}, "end": {"id": 384, "labels": ["Node"]}}
{"type": "relationship", "id": 290, "labels": "subclass of", "start": {"id": 140, "labels": ["Node"]}, "end": {"id": 384, "labels": ["Node"]}}
{"type": "relationship", "id": 291, "labels": "instance of", "start": {"id": 140, "labels": ["Node"]}, "end": {"id": 384, "labels": ["Node"]}}
{"type": "relationship", "id": 292, "labels": "uses", "start": {"id": 140, "labels": ["Node"]}, "end": {"id": 371, "labels": ["Node"]}}
{"type": "relationship", "id": 293, "labels": "instance of", "start": {"id": 305, "labels": ["Node"]}, "end": {"id": 384, "labels": ["Node"]}}
{"type": "relationship", "id": 294, "labels": "subclass of", "start": {"id": 305, "labels": ["Node"]}, "end": {"id": 384, "labels": ["Node"]}}
{"type": "relationship", "id": 295, "labels": "part of", "start": {"id": 85, "labels": ["Node"]}, "end": {"id": 384, "labels": ["Node"]}}
{"type": "relationship", "id": 296, "labels": "instance of", "start": {"id": 305, "labels": ["Node"]}, "end": {"id": 384, "labels": ["Node"]}}
{"type": "relationship", "id": 297, "labels": "subclass of", "start": {"id": 305, "labels": ["Node"]}, "end": {"id": 384, "labels": ["Node"]}}
{"type": "relationship", "id": 298, "labels": "instance of", "start": {"id": 305, "labels": ["Node"]}, "end": {"id": 210, "labels": ["Node"]}}
{"type": "relationship", "id": 299, "labels": "subclass of", "start": {"id": 44, "labels": ["Node"]}, "end": {"id": 384, "labels": ["Node"]}}
{"type": "relationship", "id": 300, "labels": "subclass of", "start": {"id": 44, "labels": ["Node"]}, "end": {"id": 289, "labels": ["Node"]}}
{"type": "relationship", "id": 301, "labels": "has part", "start": {"id": 199, "labels": ["Node"]}, "end": {"id": 793, "labels": ["Node"]}}
{"type": "relationship", "id": 302, "labels": "subsidiary", "start": {"id": 14, "labels": ["Node"]}, "end": {"id": 14, "labels": ["Node"]}}
{"type": "relationship", "id": 303, "labels": "parent organization", "start": {"id": 14, "labels": ["Node"]}, "end": {"id": 14, "labels": ["Node"]}}
{"type": "relationship", "id": 304, "labels": "product or material produced", "start": {"id": 14, "labels": ["Node"]}, "end": {"id": 64, "labels": ["Node"]}}
{"type": "relationship", "id": 305, "labels": "instance of", "start": {"id": 555, "labels": ["Node"]}, "end": {"id": 384, "labels": ["Node"]}}
{"type": "relationship", "id": 306, "labels": "subclass of", "start": {"id": 555, "labels": ["Node"]}, "end": {"id": 384, "labels": ["Node"]}}
{"type": "relationship", "id": 307, "labels": "instance of", "start": {"id": 94, "labels": ["Node"]}, "end": {"id": 384, "labels": ["Node"]}}
{"type": "relationship", "id": 308, "labels": "subclass of", "start": {"id": 839, "labels": ["Node"]}, "end": {"id": 384, "labels": ["Node"]}}
{"type": "relationship", "id": 309, "labels": "subclass of", "start": {"id": 555, "labels": ["Node"]}, "end": {"id": 384, "labels": ["Node"]}}
{"type": "relationship", "id": 310, "labels": "has part", "start": {"id": 384, "labels": ["Node"]}, "end": {"id": 718, "labels": ["Node"]}}
{"type": "relationship", "id": 311, "labels": "use", "start": {"id": 482, "labels": ["Node"]}, "end": {"id": 435, "labels": ["Node"]}}
{"type": "relationship", "id": 312, "labels": "use", "start": {"id": 482, "labels": ["Node"]}, "end": {"id": 328, "labels": ["Node"]}}
{"type": "relationship", "id": 313, "labels": "instance of", "start": {"id": 482, "labels": ["Node"]}, "end": {"id": 880, "labels": ["Node"]}}
{"type": "relationship", "id": 314, "labels": "opposite of", "start": {"id": 111, "labels": ["Node"]}, "end": {"id": 430, "labels": ["Node"]}}
{"type": "relationship", "id": 315, "labels": "different from", "start": {"id": 111, "labels": ["Node"]}, "end": {"id": 430, "labels": ["Node"]}}
{"type": "relationship", "id": 316, "labels": "different from", "start": {"id": 430, "labels": ["Node"]}, "end": {"id": 111, "labels": ["Node"]}}
{"type": "relationship", "id": 317, "labels": "manufacturer", "start": {"id": 839, "labels": ["Node"]}, "end": {"id": 553, "labels": ["Node"]}}
{"type": "relationship", "id": 318, "labels": "manufacturer", "start": {"id": 839, "labels": ["Node"]}, "end": {"id": 63, "labels": ["Node"]}}
{"type": "relationship", "id": 319, "labels": "developer", "start": {"id": 839, "labels": ["Node"]}, "end": {"id": 553, "labels": ["Node"]}}
{"type": "relationship", "id": 320, "labels": "part of", "start": {"id": 272, "labels": ["Node"]}, "end": {"id": 384, "labels": ["Node"]}}
{"type": "relationship", "id": 321, "labels": "has part", "start": {"id": 384, "labels": ["Node"]}, "end": {"id": 272, "labels": ["Node"]}}
{"type": "relationship", "id": 322, "labels": "subclass of", "start": {"id": 272, "labels": ["Node"]}, "end": {"id": 384, "labels": ["Node"]}}
{"type": "relationship", "id": 323, "labels": "subsidiary", "start": {"id": 14, "labels": ["Node"]}, "end": {"id": 14, "labels": ["Node"]}}
{"type": "relationship", "id": 324, "labels": "parent organization", "start": {"id": 14, "labels": ["Node"]}, "end": {"id": 14, "labels": ["Node"]}}
{"type": "relationship", "id": 325, "labels": "product or material produced", "start": {"id": 14, "labels": ["Node"]}, "end": {"id": 64, "labels": ["Node"]}}
{"type": "relationship", "id": 326, "labels": "instance of", "start": {"id": 670, "labels": ["Node"]}, "end": {"id": 477, "labels": ["Node"]}}
{"type": "relationship", "id": 327, "labels": "manufacturer", "start": {"id": 839, "labels": ["Node"]}, "end": {"id": 775, "labels": ["Node"]}}
{"type": "relationship", "id": 328, "labels": "instance of", "start": {"id": 670, "labels": ["Node"]}, "end": {"id": 755, "labels": ["Node"]}}
{"type": "relationship", "id": 329, "labels": "uses", "start": {"id": 670, "labels": ["Node"]}, "end": {"id": 882, "labels": ["Node"]}}
{"type": "relationship", "id": 330, "labels": "uses", "start": {"id": 670, "labels": ["Node"]}, "end": {"id": 371, "labels": ["Node"]}}
{"type": "relationship", "id": 331, "labels": "subclass of", "start": {"id": 670, "labels": ["Node"]}, "end": {"id": 384, "labels": ["Node"]}}
{"type": "relationship", "id": 332, "labels": "has part", "start": {"id": 384, "labels": ["Node"]}, "end": {"id": 213, "labels": ["Node"]}}
{"type": "relationship", "id": 333, "labels": "part of", "start": {"id": 213, "labels": ["Node"]}, "end": {"id": 384, "labels": ["Node"]}}
{"type": "relationship", "id": 334, "labels": "subclass of", "start": {"id": 222, "labels": ["Node"]}, "end": {"id": 384, "labels": ["Node"]}}
{"type": "relationship", "id": 335, "labels": "subclass of", "start": {"id": 272, "labels": ["Node"]}, "end": {"id": 689, "labels": ["Node"]}}
{"type": "relationship", "id": 336, "labels": "part of", "start": {"id": 272, "labels": ["Node"]}, "end": {"id": 689, "labels": ["Node"]}}
{"type": "relationship", "id": 337, "labels": "different from", "start": {"id": 272, "labels": ["Node"]}, "end": {"id": 689, "labels": ["Node"]}}
{"type": "relationship", "id": 338, "labels": "part of", "start": {"id": 272, "labels": ["Node"]}, "end": {"id": 384, "labels": ["Node"]}}
{"type": "relationship", "id": 339, "labels": "subclass of", "start": {"id": 775, "labels": ["Node"]}, "end": {"id": 384, "labels": ["Node"]}}
{"type": "relationship", "id": 340, "labels": "subclass of", "start": {"id": 775, "labels": ["Node"]}, "end": {"id": 839, "labels": ["Node"]}}
{"type": "relationship", "id": 341, "labels": "subsidiary", "start": {"id": 14, "labels": ["Node"]}, "end": {"id": 14, "labels": ["Node"]}}
{"type": "relationship", "id": 342, "labels": "parent organization", "start": {"id": 14, "labels": ["Node"]}, "end": {"id": 14, "labels": ["Node"]}}
{"type": "relationship", "id": 343, "labels": "product or material produced", "start": {"id": 14, "labels": ["Node"]}, "end": {"id": 64, "labels": ["Node"]}}
{"type": "relationship", "id": 344, "labels": "instance of", "start": {"id": 293, "labels": ["Node"]}, "end": {"id": 384, "labels": ["Node"]}}
{"type": "relationship", "id": 345, "labels": "subclass of", "start": {"id": 293, "labels": ["Node"]}, "end": {"id": 384, "labels": ["Node"]}}
{"type": "relationship", "id": 346, "labels": "subclass of", "start": {"id": 293, "labels": ["Node"]}, "end": {"id": 839, "labels": ["Node"]}}
{"type": "relationship", "id": 347, "labels": "subclass of", "start": {"id": 293, "labels": ["Node"]}, "end": {"id": 100, "labels": ["Node"]}}
{"type": "relationship", "id": 348, "labels": "instance of", "start": {"id": 293, "labels": ["Node"]}, "end": {"id": 100, "labels": ["Node"]}}
{"type": "relationship", "id": 349, "labels": "part of", "start": {"id": 523, "labels": ["Node"]}, "end": {"id": 384, "labels": ["Node"]}}
{"type": "relationship", "id": 350, "labels": "subclass of", "start": {"id": 788, "labels": ["Node"]}, "end": {"id": 272, "labels": ["Node"]}}
{"type": "relationship", "id": 351, "labels": "subclass of", "start": {"id": 788, "labels": ["Node"]}, "end": {"id": 272, "labels": ["Node"]}}
{"type": "relationship", "id": 352, "labels": "use", "start": {"id": 16, "labels": ["Node"]}, "end": {"id": 272, "labels": ["Node"]}}
{"type": "relationship", "id": 353, "labels": "manufacturer", "start": {"id": 568, "labels": ["Node"]}, "end": {"id": 603, "labels": ["Node"]}}
{"type": "relationship", "id": 354, "labels": "subclass of", "start": {"id": 293, "labels": ["Node"]}, "end": {"id": 384, "labels": ["Node"]}}
{"type": "relationship", "id": 355, "labels": "instance of", "start": {"id": 293, "labels": ["Node"]}, "end": {"id": 384, "labels": ["Node"]}}
{"type": "relationship", "id": 356, "labels": "uses", "start": {"id": 738, "labels": ["Node"]}, "end": {"id": 868, "labels": ["Node"]}}
{"type": "relationship", "id": 357, "labels": "subclass of", "start": {"id": 277, "labels": ["Node"]}, "end": {"id": 868, "labels": ["Node"]}}
{"type": "relationship", "id": 358, "labels": "has part", "start": {"id": 738, "labels": ["Node"]}, "end": {"id": 868, "labels": ["Node"]}}
{"type": "relationship", "id": 359, "labels": "subsidiary", "start": {"id": 14, "labels": ["Node"]}, "end": {"id": 14, "labels": ["Node"]}}
{"type": "relationship", "id": 360, "labels": "parent organization", "start": {"id": 14, "labels": ["Node"]}, "end": {"id": 14, "labels": ["Node"]}}
{"type": "relationship", "id": 361, "labels": "product or material produced", "start": {"id": 14, "labels": ["Node"]}, "end": {"id": 64, "labels": ["Node"]}}
{"type": "relationship", "id": 362, "labels": "instance of", "start": {"id": 606, "labels": ["Node"]}, "end": {"id": 851, "labels": ["Node"]}}
{"type": "relationship", "id": 363, "labels": "subclass of", "start": {"id": 606, "labels": ["Node"]}, "end": {"id": 851, "labels": ["Node"]}}
{"type": "relationship", "id": 364, "labels": "instance of", "start": {"id": 606, "labels": ["Node"]}, "end": {"id": 839, "labels": ["Node"]}}
{"type": "relationship", "id": 365, "labels": "part of", "start": {"id": 445, "labels": ["Node"]}, "end": {"id": 371, "labels": ["Node"]}}
{"type": "relationship", "id": 366, "labels": "instance of", "start": {"id": 882, "labels": ["Node"]}, "end": {"id": 565, "labels": ["Node"]}}
{"type": "relationship", "id": 367, "labels": "instance of", "start": {"id": 445, "labels": ["Node"]}, "end": {"id": 565, "labels": ["Node"]}}
{"type": "relationship", "id": 368, "labels": "uses", "start": {"id": 779, "labels": ["Node"]}, "end": {"id": 371, "labels": ["Node"]}}
{"type": "relationship", "id": 369, "labels": "subclass of", "start": {"id": 811, "labels": ["Node"]}, "end": {"id": 381, "labels": ["Node"]}}
{"type": "relationship", "id": 370, "labels": "followed by", "start": {"id": 381, "labels": ["Node"]}, "end": {"id": 811, "labels": ["Node"]}}
{"type": "relationship", "id": 371, "labels": "follows", "start": {"id": 811, "labels": ["Node"]}, "end": {"id": 381, "labels": ["Node"]}}
{"type": "relationship", "id": 372, "labels": "has part", "start": {"id": 381, "labels": ["Node"]}, "end": {"id": 811, "labels": ["Node"]}}
{"type": "relationship", "id": 373, "labels": "part of", "start": {"id": 811, "labels": ["Node"]}, "end": {"id": 381, "labels": ["Node"]}}
{"type": "relationship", "id": 374, "labels": "manufacturer", "start": {"id": 706, "labels": ["Node"]}, "end": {"id": 779, "labels": ["Node"]}}
{"type": "relationship", "id": 375, "labels": "manufacturer", "start": {"id": 706, "labels": ["Node"]}, "end": {"id": 467, "labels": ["Node"]}}
{"type": "relationship", "id": 376, "labels": "platform", "start": {"id": 467, "labels": ["Node"]}, "end": {"id": 706, "labels": ["Node"]}}
{"type": "relationship", "id": 377, "labels": "subclass of", "start": {"id": 162, "labels": ["Node"]}, "end": {"id": 591, "labels": ["Node"]}}
{"type": "relationship", "id": 378, "labels": "use", "start": {"id": 563, "labels": ["Node"]}, "end": {"id": 868, "labels": ["Node"]}}
{"type": "relationship", "id": 379, "labels": "has part", "start": {"id": 162, "labels": ["Node"]}, "end": {"id": 591, "labels": ["Node"]}}
{"type": "relationship", "id": 380, "labels": "country", "start": {"id": 779, "labels": ["Node"]}, "end": {"id": 492, "labels": ["Node"]}}
{"type": "relationship", "id": 381, "labels": "country of origin", "start": {"id": 779, "labels": ["Node"]}, "end": {"id": 492, "labels": ["Node"]}}
{"type": "relationship", "id": 382, "labels": "headquarters location", "start": {"id": 779, "labels": ["Node"]}, "end": {"id": 492, "labels": ["Node"]}}
{"type": "relationship", "id": 383, "labels": "subsidiary", "start": {"id": 14, "labels": ["Node"]}, "end": {"id": 14, "labels": ["Node"]}}
{"type": "relationship", "id": 384, "labels": "parent organization", "start": {"id": 14, "labels": ["Node"]}, "end": {"id": 14, "labels": ["Node"]}}
{"type": "relationship", "id": 385, "labels": "product or material produced", "start": {"id": 14, "labels": ["Node"]}, "end": {"id": 64, "labels": ["Node"]}}
{"type": "relationship", "id": 386, "labels": "manufacturer", "start": {"id": 256, "labels": ["Node"]}, "end": {"id": 63, "labels": ["Node"]}}
{"type": "relationship", "id": 387, "labels": "manufacturer", "start": {"id": 839, "labels": ["Node"]}, "end": {"id": 63, "labels": ["Node"]}}
{"type": "relationship", "id": 388, "labels": "instance of", "start": {"id": 256, "labels": ["Node"]}, "end": {"id": 384, "labels": ["Node"]}}
{"type": "relationship", "id": 389, "labels": "subclass of", "start": {"id": 839, "labels": ["Node"]}, "end": {"id": 384, "labels": ["Node"]}}
{"type": "relationship", "id": 390, "labels": "manufacturer", "start": {"id": 839, "labels": ["Node"]}, "end": {"id": 63, "labels": ["Node"]}}
{"type": "relationship", "id": 391, "labels": "instance of", "start": {"id": 256, "labels": ["Node"]}, "end": {"id": 384, "labels": ["Node"]}}
{"type": "relationship", "id": 392, "labels": "part of", "start": {"id": 201, "labels": ["Node"]}, "end": {"id": 384, "labels": ["Node"]}}
{"type": "relationship", "id": 393, "labels": "connects with", "start": {"id": 718, "labels": ["Node"]}, "end": {"id": 384, "labels": ["Node"]}}
{"type": "relationship", "id": 394, "labels": "uses", "start": {"id": 201, "labels": ["Node"]}, "end": {"id": 718, "labels": ["Node"]}}
{"type": "relationship", "id": 395, "labels": "facet of", "start": {"id": 365, "labels": ["Node"]}, "end": {"id": 181, "labels": ["Node"]}}
{"type": "relationship", "id": 396, "labels": "facet of", "start": {"id": 365, "labels": ["Node"]}, "end": {"id": 384, "labels": ["Node"]}}
{"type": "relationship", "id": 397, "labels": "different from", "start": {"id": 429, "labels": ["Node"]}, "end": {"id": 113, "labels": ["Node"]}}
{"type": "relationship", "id": 398, "labels": "different from", "start": {"id": 113, "labels": ["Node"]}, "end": {"id": 429, "labels": ["Node"]}}
{"type": "relationship", "id": 399, "labels": "has part", "start": {"id": 384, "labels": ["Node"]}, "end": {"id": 213, "labels": ["Node"]}}
{"type": "relationship", "id": 400, "labels": "part of", "start": {"id": 213, "labels": ["Node"]}, "end": {"id": 384, "labels": ["Node"]}}
{"type": "relationship", "id": 401, "labels": "part of", "start": {"id": 599, "labels": ["Node"]}, "end": {"id": 384, "labels": ["Node"]}}
{"type": "relationship", "id": 402, "labels": "subclass of", "start": {"id": 777, "labels": ["Node"]}, "end": {"id": 384, "labels": ["Node"]}}
{"type": "relationship", "id": 403, "labels": "opposite of", "start": {"id": 777, "labels": ["Node"]}, "end": {"id": 281, "labels": ["Node"]}}
{"type": "relationship", "id": 404, "labels": "opposite of", "start": {"id": 281, "labels": ["Node"]}, "end": {"id": 777, "labels": ["Node"]}}
{"type": "relationship", "id": 405, "labels": "subsidiary", "start": {"id": 14, "labels": ["Node"]}, "end": {"id": 14, "labels": ["Node"]}}
{"type": "relationship", "id": 406, "labels": "parent organization", "start": {"id": 14, "labels": ["Node"]}, "end": {"id": 14, "labels": ["Node"]}}
{"type": "relationship", "id": 407, "labels": "product or material produced", "start": {"id": 14, "labels": ["Node"]}, "end": {"id": 64, "labels": ["Node"]}}
{"type": "relationship", "id": 408, "labels": "instance of", "start": {"id": 35, "labels": ["Node"]}, "end": {"id": 663, "labels": ["Node"]}}
{"type": "relationship", "id": 409, "labels": "subclass of", "start": {"id": 35, "labels": ["Node"]}, "end": {"id": 663, "labels": ["Node"]}}
{"type": "relationship", "id": 410, "labels": "instance of", "start": {"id": 35, "labels": ["Node"]}, "end": {"id": 384, "labels": ["Node"]}}
{"type": "relationship", "id": 411, "labels": "subclass of", "start": {"id": 508, "labels": ["Node"]}, "end": {"id": 384, "labels": ["Node"]}}
{"type": "relationship", "id": 412, "labels": "instance of", "start": {"id": 35, "labels": ["Node"]}, "end": {"id": 384, "labels": ["Node"]}}
{"type": "relationship", "id": 413, "labels": "subclass of", "start": {"id": 35, "labels": ["Node"]}, "end": {"id": 384, "labels": ["Node"]}}
{"type": "relationship", "id": 414, "labels": "opposite of", "start": {"id": 143, "labels": ["Node"]}, "end": {"id": 672, "labels": ["Node"]}}
{"type": "relationship", "id": 415, "labels": "subclass of", "start": {"id": 143, "labels": ["Node"]}, "end": {"id": 384, "labels": ["Node"]}}
{"type": "relationship", "id": 416, "labels": "uses", "start": {"id": 143, "labels": ["Node"]}, "end": {"id": 301, "labels": ["Node"]}}
{"type": "relationship", "id": 417, "labels": "instance of", "start": {"id": 35, "labels": ["Node"]}, "end": {"id": 384, "labels": ["Node"]}}
{"type": "relationship", "id": 418, "labels": "facet of", "start": {"id": 11, "labels": ["Node"]}, "end": {"id": 331, "labels": ["Node"]}}
{"type": "relationship", "id": 419, "labels": "subclass of", "start": {"id": 35, "labels": ["Node"]}, "end": {"id": 384, "labels": ["Node"]}}
{"type": "relationship", "id": 420, "labels": "part of", "start": {"id": 689, "labels": ["Node"]}, "end": {"id": 384, "labels": ["Node"]}}
{"type": "relationship", "id": 421, "labels": "has part", "start": {"id": 384, "labels": ["Node"]}, "end": {"id": 689, "labels": ["Node"]}}
{"type": "relationship", "id": 422, "labels": "part of", "start": {"id": 272, "labels": ["Node"]}, "end": {"id": 384, "labels": ["Node"]}}
{"type": "relationship", "id": 423, "labels": "subsidiary", "start": {"id": 14, "labels": ["Node"]}, "end": {"id": 14, "labels": ["Node"]}}
{"type": "relationship", "id": 424, "labels": "parent organization", "start": {"id": 14, "labels": ["Node"]}, "end": {"id": 14, "labels": ["Node"]}}
{"type": "relationship", "id": 425, "labels": "product or material produced", "start": {"id": 14, "labels": ["Node"]}, "end": {"id": 64, "labels": ["Node"]}}
{"type": "relationship", "id": 426, "labels": "manufacturer", "start": {"id": 839, "labels": ["Node"]}, "end": {"id": 373, "labels": ["Node"]}}
{"type": "relationship", "id": 427, "labels": "subclass of", "start": {"id": 137, "labels": ["Node"]}, "end": {"id": 384, "labels": ["Node"]}}
{"type": "relationship", "id": 428, "labels": "instance of", "start": {"id": 137, "labels": ["Node"]}, "end": {"id": 384, "labels": ["Node"]}}
{"type": "relationship", "id": 429, "labels": "has part", "start": {"id": 384, "labels": ["Node"]}, "end": {"id": 213, "labels": ["Node"]}}
{"type": "relationship", "id": 430, "labels": "subclass of", "start": {"id": 4, "labels": ["Node"]}, "end": {"id": 155, "labels": ["Node"]}}
{"type": "relationship", "id": 431, "labels": "subclass of", "start": {"id": 155, "labels": ["Node"]}, "end": {"id": 803, "labels": ["Node"]}}
{"type": "relationship", "id": 432, "labels": "manufacturer", "start": {"id": 839, "labels": ["Node"]}, "end": {"id": 373, "labels": ["Node"]}}
{"type": "relationship", "id": 433, "labels": "uses", "start": {"id": 143, "labels": ["Node"]}, "end": {"id": 371, "labels": ["Node"]}}
{"type": "relationship", "id": 434, "labels": "manufacturer", "start": {"id": 839, "labels": ["Node"]}, "end": {"id": 624, "labels": ["Node"]}}
{"type": "relationship", "id": 435, "labels": "use", "start": {"id": 689, "labels": ["Node"]}, "end": {"id": 868, "labels": ["Node"]}}
{"type": "relationship", "id": 436, "labels": "different from", "start": {"id": 689, "labels": ["Node"]}, "end": {"id": 868, "labels": ["Node"]}}
{"type": "relationship", "id": 437, "labels": "different from", "start": {"id": 868, "labels": ["Node"]}, "end": {"id": 689, "labels": ["Node"]}}
{"type": "relationship", "id": 438, "labels": "subsidiary", "start": {"id": 14, "labels": ["Node"]}, "end": {"id": 14, "labels": ["Node"]}}
{"type": "relationship", "id": 439, "labels": "parent organization", "start": {"id": 14, "labels": ["Node"]}, "end": {"id": 14, "labels": ["Node"]}}
{"type": "relationship", "id": 440, "labels": "product or material produced", "start": {"id": 14, "labels": ["Node"]}, "end": {"id": 64, "labels": ["Node"]}}
{"type": "relationship", "id": 441, "labels": "subclass of", "start": {"id": 700, "labels": ["Node"]}, "end": {"id": 384, "labels": ["Node"]}}
{"type": "relationship", "id": 442, "labels": "subclass of", "start": {"id": 839, "labels": ["Node"]}, "end": {"id": 384, "labels": ["Node"]}}
{"type": "relationship", "id": 443, "labels": "is a list of", "start": {"id": 628, "labels": ["Node"]}, "end": {"id": 384, "labels": ["Node"]}}
{"type": "relationship", "id": 444, "labels": "is a list of", "start": {"id": 781, "labels": ["Node"]}, "end": {"id": 384, "labels": ["Node"]}}
{"type": "relationship", "id": 445, "labels": "subclass of", "start": {"id": 384, "labels": ["Node"]}, "end": {"id": 384, "labels": ["Node"]}}
{"type": "relationship", "id": 446, "labels": "product or material produced", "start": {"id": 673, "labels": ["Node"]}, "end": {"id": 839, "labels": ["Node"]}}
{"type": "relationship", "id": 447, "labels": "product or material produced", "start": {"id": 673, "labels": ["Node"]}, "end": {"id": 384, "labels": ["Node"]}}
{"type": "relationship", "id": 448, "labels": "subclass of", "start": {"id": 143, "labels": ["Node"]}, "end": {"id": 384, "labels": ["Node"]}}
{"type": "relationship", "id": 449, "labels": "subclass of", "start": {"id": 610, "labels": ["Node"]}, "end": {"id": 384, "labels": ["Node"]}}
{"type": "relationship", "id": 450, "labels": "instance of", "start": {"id": 610, "labels": ["Node"]}, "end": {"id": 384, "labels": ["Node"]}}
{"type": "relationship", "id": 451, "labels": "opposite of", "start": {"id": 672, "labels": ["Node"]}, "end": {"id": 143, "labels": ["Node"]}}
{"type": "relationship", "id": 452, "labels": "opposite of", "start": {"id": 143, "labels": ["Node"]}, "end": {"id": 672, "labels": ["Node"]}}
{"type": "relationship", "id": 453, "labels": "facet of", "start": {"id": 464, "labels": ["Node"]}, "end": {"id": 464, "labels": ["Node"]}}
{"type": "relationship", "id": 454, "labels": "facet of", "start": {"id": 206, "labels": ["Node"]}, "end": {"id": 464, "labels": ["Node"]}}
{"type": "relationship", "id": 455, "labels": "maintained by", "start": {"id": 609, "labels": ["Node"]}, "end": {"id": 174, "labels": ["Node"]}}
{"type": "relationship", "id": 456, "labels": "part of", "start": {"id": 406, "labels": ["Node"]}, "end": {"id": 231, "labels": ["Node"]}}
{"type": "relationship", "id": 457, "labels": "has effect", "start": {"id": 276, "labels": ["Node"]}, "end": {"id": 682, "labels": ["Node"]}}
{"type": "relationship", "id": 458, "labels": "manufacturer", "start": {"id": 631, "labels": ["Node"]}, "end": {"id": 673, "labels": ["Node"]}}
{"type": "relationship", "id": 459, "labels": "manufacturer", "start": {"id": 804, "labels": ["Node"]}, "end": {"id": 673, "labels": ["Node"]}}
{"type": "relationship", "id": 460, "labels": "developer", "start": {"id": 631, "labels": ["Node"]}, "end": {"id": 673, "labels": ["Node"]}}
{"type": "relationship", "id": 461, "labels": "part of", "start": {"id": 712, "labels": ["Node"]}, "end": {"id": 384, "labels": ["Node"]}}
{"type": "relationship", "id": 462, "labels": "product or material produced", "start": {"id": 35, "labels": ["Node"]}, "end": {"id": 384, "labels": ["Node"]}}
{"type": "relationship", "id": 463, "labels": "subclass of", "start": {"id": 505, "labels": ["Node"]}, "end": {"id": 839, "labels": ["Node"]}}
{"type": "relationship", "id": 464, "labels": "instance of", "start": {"id": 505, "labels": ["Node"]}, "end": {"id": 384, "labels": ["Node"]}}
{"type": "relationship", "id": 465, "labels": "subclass of", "start": {"id": 505, "labels": ["Node"]}, "end": {"id": 384, "labels": ["Node"]}}
{"type": "relationship", "id": 466, "labels": "subclass of", "start": {"id": 768, "labels": ["Node"]}, "end": {"id": 384, "labels": ["Node"]}}
{"type": "relationship", "id": 467, "labels": "different from", "start": {"id": 384, "labels": ["Node"]}, "end": {"id": 272, "labels": ["Node"]}}
{"type": "relationship", "id": 468, "labels": "different from", "start": {"id": 272, "labels": ["Node"]}, "end": {"id": 384, "labels": ["Node"]}}
{"type": "relationship", "id": 469, "labels": "has part", "start": {"id": 384, "labels": ["Node"]}, "end": {"id": 272, "labels": ["Node"]}}
{"type": "relationship", "id": 470, "labels": "manufacturer", "start": {"id": 237, "labels": ["Node"]}, "end": {"id": 835, "labels": ["Node"]}}
{"type": "relationship", "id": 471, "labels": "subclass of", "start": {"id": 700, "labels": ["Node"]}, "end": {"id": 384, "labels": ["Node"]}}
{"type": "relationship", "id": 472, "labels": "developer", "start": {"id": 237, "labels": ["Node"]}, "end": {"id": 835, "labels": ["Node"]}}
{"type": "relationship", "id": 473, "labels": "part of", "start": {"id": 823, "labels": ["Node"]}, "end": {"id": 715, "labels": ["Node"]}}
{"type": "relationship", "id": 474, "labels": "has part", "start": {"id": 823, "labels": ["Node"]}, "end": {"id": 715, "labels": ["Node"]}}
{"type": "relationship", "id": 475, "labels": "subclass of", "start": {"id": 823, "labels": ["Node"]}, "end": {"id": 715, "labels": ["Node"]}}
{"type": "relationship", "id": 476, "labels": "instance of", "start": {"id": 674, "labels": ["Node"]}, "end": {"id": 457, "labels": ["Node"]}}
{"type": "relationship", "id": 477, "labels": "has part", "start": {"id": 371, "labels": ["Node"]}, "end": {"id": 343, "labels": ["Node"]}}
{"type": "relationship", "id": 478, "labels": "point in time", "start": {"id": 674, "labels": ["Node"]}, "end": {"id": 695, "labels": ["Node"]}}
{"type": "relationship", "id": 479, "labels": "subclass of", "start": {"id": 685, "labels": ["Node"]}, "end": {"id": 181, "labels": ["Node"]}}
{"type": "relationship", "id": 480, "labels": "subclass of", "start": {"id": 487, "labels": ["Node"]}, "end": {"id": 181, "labels": ["Node"]}}
{"type": "relationship", "id": 481, "labels": "subclass of", "start": {"id": 487, "labels": ["Node"]}, "end": {"id": 109, "labels": ["Node"]}}
{"type": "relationship", "id": 482, "labels": "subclass of", "start": {"id": 272, "labels": ["Node"]}, "end": {"id": 689, "labels": ["Node"]}}
{"type": "relationship", "id": 483, "labels": "use", "start": {"id": 272, "labels": ["Node"]}, "end": {"id": 251, "labels": ["Node"]}}
{"type": "relationship", "id": 484, "labels": "different from", "start": {"id": 272, "labels": ["Node"]}, "end": {"id": 689, "labels": ["Node"]}}
{"type": "relationship", "id": 485, "labels": "maintained by", "start": {"id": 609, "labels": ["Node"]}, "end": {"id": 174, "labels": ["Node"]}}
{"type": "relationship", "id": 486, "labels": "part of", "start": {"id": 406, "labels": ["Node"]}, "end": {"id": 231, "labels": ["Node"]}}
{"type": "relationship", "id": 487, "labels": "has effect", "start": {"id": 276, "labels": ["Node"]}, "end": {"id": 682, "labels": ["Node"]}}
{"type": "relationship", "id": 488, "labels": "subclass of", "start": {"id": 18, "labels": ["Node"]}, "end": {"id": 743, "labels": ["Node"]}}
{"type": "relationship", "id": 489, "labels": "field of this occupation", "start": {"id": 18, "labels": ["Node"]}, "end": {"id": 743, "labels": ["Node"]}}
{"type": "relationship", "id": 490, "labels": "practiced by", "start": {"id": 743, "labels": ["Node"]}, "end": {"id": 18, "labels": ["Node"]}}
{"type": "relationship", "id": 491, "labels": "subclass of", "start": {"id": 384, "labels": ["Node"]}, "end": {"id": 384, "labels": ["Node"]}}
{"type": "relationship", "id": 492, "labels": "part of", "start": {"id": 384, "labels": ["Node"]}, "end": {"id": 384, "labels": ["Node"]}}
{"type": "relationship", "id": 493, "labels": "facet of", "start": {"id": 823, "labels": ["Node"]}, "end": {"id": 384, "labels": ["Node"]}}
{"type": "relationship", "id": 494, "labels": "part of", "start": {"id": 406, "labels": ["Node"]}, "end": {"id": 231, "labels": ["Node"]}}
{"type": "relationship", "id": 495, "labels": "instance of", "start": {"id": 511, "labels": ["Node"]}, "end": {"id": 245, "labels": ["Node"]}}
{"type": "relationship", "id": 496, "labels": "has part", "start": {"id": 511, "labels": ["Node"]}, "end": {"id": 344, "labels": ["Node"]}}
{"type": "relationship", "id": 497, "labels": "point in time", "start": {"id": 567, "labels": ["Node"]}, "end": {"id": 391, "labels": ["Node"]}}
{"type": "relationship", "id": 498, "labels": "point in time", "start": {"id": 355, "labels": ["Node"]}, "end": {"id": 355, "labels": ["Node"]}}
{"type": "relationship", "id": 499, "labels": "point in time", "start": {"id": 42, "labels": ["Node"]}, "end": {"id": 355, "labels": ["Node"]}}
{"type": "relationship", "id": 500, "labels": "product or material produced", "start": {"id": 373, "labels": ["Node"]}, "end": {"id": 47, "labels": ["Node"]}}
{"type": "relationship", "id": 501, "labels": "distributed by", "start": {"id": 373, "labels": ["Node"]}, "end": {"id": 47, "labels": ["Node"]}}
{"type": "relationship", "id": 502, "labels": "platform", "start": {"id": 373, "labels": ["Node"]}, "end": {"id": 47, "labels": ["Node"]}}
{"type": "relationship", "id": 503, "labels": "manufacturer", "start": {"id": 260, "labels": ["Node"]}, "end": {"id": 673, "labels": ["Node"]}}
{"type": "relationship", "id": 504, "labels": "product or material produced", "start": {"id": 673, "labels": ["Node"]}, "end": {"id": 260, "labels": ["Node"]}}
{"type": "relationship", "id": 505, "labels": "part of", "start": {"id": 803, "labels": ["Node"]}, "end": {"id": 712, "labels": ["Node"]}}
{"type": "relationship", "id": 506, "labels": "part of", "start": {"id": 121, "labels": ["Node"]}, "end": {"id": 712, "labels": ["Node"]}}
{"type": "relationship", "id": 507, "labels": "connects with", "start": {"id": 803, "labels": ["Node"]}, "end": {"id": 712, "labels": ["Node"]}}
{"type": "relationship", "id": 508, "labels": "connects with", "start": {"id": 712, "labels": ["Node"]}, "end": {"id": 803, "labels": ["Node"]}}
{"type": "relationship", "id": 509, "labels": "manufacturer", "start": {"id": 373, "labels": ["Node"]}, "end": {"id": 673, "labels": ["Node"]}}
{"type": "relationship", "id": 510, "labels": "owned by", "start": {"id": 373, "labels": ["Node"]}, "end": {"id": 673, "labels": ["Node"]}}
{"type": "relationship", "id": 511, "labels": "developer", "start": {"id": 373, "labels": ["Node"]}, "end": {"id": 673, "labels": ["Node"]}}
{"type": "relationship", "id": 512, "labels": "manufacturer", "start": {"id": 373, "labels": ["Node"]}, "end": {"id": 266, "labels": ["Node"]}}
{"type": "relationship", "id": 513, "labels": "owned by", "start": {"id": 373, "labels": ["Node"]}, "end": {"id": 266, "labels": ["Node"]}}
{"type": "relationship", "id": 514, "labels": "product or material produced", "start": {"id": 266, "labels": ["Node"]}, "end": {"id": 373, "labels": ["Node"]}}
{"type": "relationship", "id": 515, "labels": "part of", "start": {"id": 406, "labels": ["Node"]}, "end": {"id": 231, "labels": ["Node"]}}
{"type": "relationship", "id": 516, "labels": "position held", "start": {"id": 229, "labels": ["Node"]}, "end": {"id": 314, "labels": ["Node"]}}
{"type": "relationship", "id": 517, "labels": "subsidiary", "start": {"id": 231, "labels": ["Node"]}, "end": {"id": 406, "labels": ["Node"]}}
{"type": "relationship", "id": 518, "labels": "product or material produced", "start": {"id": 232, "labels": ["Node"]}, "end": {"id": 384, "labels": ["Node"]}}
{"type": "relationship", "id": 519, "labels": "product or material produced", "start": {"id": 673, "labels": ["Node"]}, "end": {"id": 384, "labels": ["Node"]}}
{"type": "relationship", "id": 520, "labels": "parent organization", "start": {"id": 232, "labels": ["Node"]}, "end": {"id": 673, "labels": ["Node"]}}
{"type": "relationship", "id": 521, "labels": "founded by", "start": {"id": 673, "labels": ["Node"]}, "end": {"id": 266, "labels": ["Node"]}}
{"type": "relationship", "id": 522, "labels": "owned by", "start": {"id": 673, "labels": ["Node"]}, "end": {"id": 266, "labels": ["Node"]}}
{"type": "relationship", "id": 523, "labels": "owner of", "start": {"id": 266, "labels": ["Node"]}, "end": {"id": 673, "labels": ["Node"]}}
{"type": "relationship", "id": 524, "labels": "subclass of", "start": {"id": 25, "labels": ["Node"]}, "end": {"id": 384, "labels": ["Node"]}}
{"type": "relationship", "id": 525, "labels": "country of origin", "start": {"id": 696, "labels": ["Node"]}, "end": {"id": 699, "labels": ["Node"]}}
{"type": "relationship", "id": 526, "labels": "country", "start": {"id": 696, "labels": ["Node"]}, "end": {"id": 699, "labels": ["Node"]}}
{"type": "relationship", "id": 527, "labels": "use", "start": {"id": 767, "labels": ["Node"]}, "end": {"id": 767, "labels": ["Node"]}}
{"type": "relationship", "id": 528, "labels": "used by", "start": {"id": 767, "labels": ["Node"]}, "end": {"id": 38, "labels": ["Node"]}}
{"type": "relationship", "id": 529, "labels": "subclass of", "start": {"id": 767, "labels": ["Node"]}, "end": {"id": 767, "labels": ["Node"]}}
{"type": "relationship", "id": 530, "labels": "part of", "start": {"id": 801, "labels": ["Node"]}, "end": {"id": 801, "labels": ["Node"]}}
{"type": "relationship", "id": 531, "labels": "has part", "start": {"id": 801, "labels": ["Node"]}, "end": {"id": 801, "labels": ["Node"]}}
{"type": "relationship", "id": 532, "labels": "uses", "start": {"id": 852, "labels": ["Node"]}, "end": {"id": 645, "labels": ["Node"]}}
{"type": "relationship", "id": 533, "labels": "part of", "start": {"id": 852, "labels": ["Node"]}, "end": {"id": 810, "labels": ["Node"]}}
{"type": "relationship", "id": 534, "labels": "has part", "start": {"id": 852, "labels": ["Node"]}, "end": {"id": 645, "labels": ["Node"]}}
{"type": "relationship", "id": 535, "labels": "maintained by", "start": {"id": 609, "labels": ["Node"]}, "end": {"id": 174, "labels": ["Node"]}}
{"type": "relationship", "id": 536, "labels": "part of", "start": {"id": 406, "labels": ["Node"]}, "end": {"id": 231, "labels": ["Node"]}}
{"type": "relationship", "id": 537, "labels": "followed by", "start": {"id": 295, "labels": ["Node"]}, "end": {"id": 276, "labels": ["Node"]}}
{"type": "relationship", "id": 538, "labels": "follows", "start": {"id": 276, "labels": ["Node"]}, "end": {"id": 295, "labels": ["Node"]}}
{"type": "relationship", "id": 539, "labels": "instance of", "start": {"id": 772, "labels": ["Node"]}, "end": {"id": 601, "labels": ["Node"]}}
{"type": "relationship", "id": 540, "labels": "use", "start": {"id": 269, "labels": ["Node"]}, "end": {"id": 772, "labels": ["Node"]}}
{"type": "relationship", "id": 541, "labels": "used by", "start": {"id": 772, "labels": ["Node"]}, "end": {"id": 269, "labels": ["Node"]}}
{"type": "relationship", "id": 542, "labels": "subclass of", "start": {"id": 700, "labels": ["Node"]}, "end": {"id": 384, "labels": ["Node"]}}
{"type": "relationship", "id": 543, "labels": "instance of", "start": {"id": 700, "labels": ["Node"]}, "end": {"id": 384, "labels": ["Node"]}}
{"type": "relationship", "id": 544, "labels": "part of", "start": {"id": 53, "labels": ["Node"]}, "end": {"id": 729, "labels": ["Node"]}}
{"type": "relationship", "id": 545, "labels": "subclass of", "start": {"id": 620, "labels": ["Node"]}, "end": {"id": 384, "labels": ["Node"]}}
{"type": "relationship", "id": 546, "labels": "subclass of", "start": {"id": 22, "labels": ["Node"]}, "end": {"id": 384, "labels": ["Node"]}}
{"type": "relationship", "id": 547, "labels": "subclass of", "start": {"id": 22, "labels": ["Node"]}, "end": {"id": 40, "labels": ["Node"]}}
{"type": "relationship", "id": 548, "labels": "maintained by", "start": {"id": 609, "labels": ["Node"]}, "end": {"id": 174, "labels": ["Node"]}}
{"type": "relationship", "id": 549, "labels": "has effect", "start": {"id": 276, "labels": ["Node"]}, "end": {"id": 682, "labels": ["Node"]}}
{"type": "relationship", "id": 550, "labels": "followed by", "start": {"id": 295, "labels": ["Node"]}, "end": {"id": 276, "labels": ["Node"]}}
{"type": "relationship", "id": 551, "labels": "follows", "start": {"id": 276, "labels": ["Node"]}, "end": {"id": 295, "labels": ["Node"]}}
{"type": "relationship", "id": 552, "labels": "manufacturer", "start": {"id": 316, "labels": ["Node"]}, "end": {"id": 676, "labels": ["Node"]}}
{"type": "relationship", "id": 553, "labels": "instance of", "start": {"id": 79, "labels": ["Node"]}, "end": {"id": 384, "labels": ["Node"]}}
{"type": "relationship", "id": 554, "labels": "developer", "start": {"id": 54, "labels": ["Node"]}, "end": {"id": 676, "labels": ["Node"]}}
{"type": "relationship", "id": 555, "labels": "manufacturer", "start": {"id": 54, "labels": ["Node"]}, "end": {"id": 676, "labels": ["Node"]}}
{"type": "relationship", "id": 556, "labels": "part of", "start": {"id": 341, "labels": ["Node"]}, "end": {"id": 797, "labels": ["Node"]}}
{"type": "relationship", "id": 557, "labels": "instance of", "start": {"id": 726, "labels": ["Node"]}, "end": {"id": 865, "labels": ["Node"]}}
{"type": "relationship", "id": 558, "labels": "instance of", "start": {"id": 225, "labels": ["Node"]}, "end": {"id": 865, "labels": ["Node"]}}
{"type": "relationship", "id": 559, "labels": "use", "start": {"id": 270, "labels": ["Node"]}, "end": {"id": 865, "labels": ["Node"]}}
{"type": "relationship", "id": 560, "labels": "product or material produced", "start": {"id": 325, "labels": ["Node"]}, "end": {"id": 728, "labels": ["Node"]}}
{"type": "relationship", "id": 561, "labels": "use", "start": {"id": 468, "labels": ["Node"]}, "end": {"id": 728, "labels": ["Node"]}}
{"type": "relationship", "id": 562, "labels": "use", "start": {"id": 325, "labels": ["Node"]}, "end": {"id": 728, "labels": ["Node"]}}
{"type": "relationship", "id": 563, "labels": "opposite of", "start": {"id": 110, "labels": ["Node"]}, "end": {"id": 436, "labels": ["Node"]}}
{"type": "relationship", "id": 564, "labels": "opposite of", "start": {"id": 439, "labels": ["Node"]}, "end": {"id": 436, "labels": ["Node"]}}
{"type": "relationship", "id": 565, "labels": "opposite of", "start": {"id": 436, "labels": ["Node"]}, "end": {"id": 110, "labels": ["Node"]}}
{"type": "relationship", "id": 566, "labels": "opposite of", "start": {"id": 110, "labels": ["Node"]}, "end": {"id": 436, "labels": ["Node"]}}
{"type": "relationship", "id": 567, "labels": "parent organization", "start": {"id": 676, "labels": ["Node"]}, "end": {"id": 14, "labels": ["Node"]}}
{"type": "relationship", "id": 568, "labels": "distributed by", "start": {"id": 676, "labels": ["Node"]}, "end": {"id": 14, "labels": ["Node"]}}
{"type": "relationship", "id": 569, "labels": "stock exchange", "start": {"id": 676, "labels": ["Node"]}, "end": {"id": 14, "labels": ["Node"]}}
{"type": "relationship", "id": 570, "labels": "product or material produced", "start": {"id": 205, "labels": ["Node"]}, "end": {"id": 384, "labels": ["Node"]}}
{"type": "relationship", "id": 571, "labels": "instance of", "start": {"id": 205, "labels": ["Node"]}, "end": {"id": 384, "labels": ["Node"]}}
{"type": "relationship", "id": 572, "labels": "instance of", "start": {"id": 33, "labels": ["Node"]}, "end": {"id": 384, "labels": ["Node"]}}
{"type": "relationship", "id": 573, "labels": "product or material produced", "start": {"id": 205, "labels": ["Node"]}, "end": {"id": 384, "labels": ["Node"]}}
{"type": "relationship", "id": 574, "labels": "instance of", "start": {"id": 205, "labels": ["Node"]}, "end": {"id": 384, "labels": ["Node"]}}
{"type": "relationship", "id": 575, "labels": "subclass of", "start": {"id": 205, "labels": ["Node"]}, "end": {"id": 384, "labels": ["Node"]}}
{"type": "relationship", "id": 576, "labels": "product or material produced", "start": {"id": 205, "labels": ["Node"]}, "end": {"id": 384, "labels": ["Node"]}}
{"type": "relationship", "id": 577, "labels": "subclass of", "start": {"id": 700, "labels": ["Node"]}, "end": {"id": 384, "labels": ["Node"]}}
{"type": "relationship", "id": 578, "labels": "product or material produced", "start": {"id": 205, "labels": ["Node"]}, "end": {"id": 839, "labels": ["Node"]}}
{"type": "relationship", "id": 579, "labels": "opposite of", "start": {"id": 110, "labels": ["Node"]}, "end": {"id": 436, "labels": ["Node"]}}
{"type": "relationship", "id": 580, "labels": "opposite of", "start": {"id": 439, "labels": ["Node"]}, "end": {"id": 436, "labels": ["Node"]}}
{"type": "relationship", "id": 581, "labels": "opposite of", "start": {"id": 436, "labels": ["Node"]}, "end": {"id": 110, "labels": ["Node"]}}
{"type": "relationship", "id": 582, "labels": "opposite of", "start": {"id": 110, "labels": ["Node"]}, "end": {"id": 436, "labels": ["Node"]}}
{"type": "relationship", "id": 583, "labels": "product or material produced", "start": {"id": 14, "labels": ["Node"]}, "end": {"id": 220, "labels": ["Node"]}}
{"type": "relationship", "id": 584, "labels": "subsidiary", "start": {"id": 14, "labels": ["Node"]}, "end": {"id": 191, "labels": ["Node"]}}
{"type": "relationship", "id": 585, "labels": "owner of", "start": {"id": 14, "labels": ["Node"]}, "end": {"id": 191, "labels": ["Node"]}}
{"type": "relationship", "id": 586, "labels": "product or material produced", "start": {"id": 769, "labels": ["Node"]}, "end": {"id": 384, "labels": ["Node"]}}
{"type": "relationship", "id": 587, "labels": "subclass of", "start": {"id": 700, "labels": ["Node"]}, "end": {"id": 384, "labels": ["Node"]}}
{"type": "relationship", "id": 588, "labels": "instance of", "start": {"id": 843, "labels": ["Node"]}, "end": {"id": 384, "labels": ["Node"]}}
{"type": "relationship", "id": 589, "labels": "uses", "start": {"id": 143, "labels": ["Node"]}, "end": {"id": 371, "labels": ["Node"]}}
{"type": "relationship", "id": 590, "labels": "different from", "start": {"id": 672, "labels": ["Node"]}, "end": {"id": 143, "labels": ["Node"]}}
{"type": "relationship", "id": 591, "labels": "different from", "start": {"id": 143, "labels": ["Node"]}, "end": {"id": 672, "labels": ["Node"]}}
{"type": "relationship", "id": 592, "labels": "subclass of", "start": {"id": 20, "labels": ["Node"]}, "end": {"id": 319, "labels": ["Node"]}}
{"type": "relationship", "id": 593, "labels": "subclass of", "start": {"id": 289, "labels": ["Node"]}, "end": {"id": 319, "labels": ["Node"]}}
{"type": "relationship", "id": 594, "labels": "subclass of", "start": {"id": 20, "labels": ["Node"]}, "end": {"id": 236, "labels": ["Node"]}}
{"type": "relationship", "id": 595, "labels": "opposite of", "start": {"id": 110, "labels": ["Node"]}, "end": {"id": 436, "labels": ["Node"]}}
{"type": "relationship", "id": 596, "labels": "opposite of", "start": {"id": 439, "labels": ["Node"]}, "end": {"id": 436, "labels": ["Node"]}}
{"type": "relationship", "id": 597, "labels": "opposite of", "start": {"id": 436, "labels": ["Node"]}, "end": {"id": 110, "labels": ["Node"]}}
{"type": "relationship", "id": 598, "labels": "opposite of", "start": {"id": 110, "labels": ["Node"]}, "end": {"id": 436, "labels": ["Node"]}}
{"type": "relationship", "id": 599, "labels": "product or material produced", "start": {"id": 14, "labels": ["Node"]}, "end": {"id": 220, "labels": ["Node"]}}
{"type": "relationship", "id": 600, "labels": "subsidiary", "start": {"id": 14, "labels": ["Node"]}, "end": {"id": 191, "labels": ["Node"]}}
{"type": "relationship", "id": 601, "labels": "owner of", "start": {"id": 14, "labels": ["Node"]}, "end": {"id": 191, "labels": ["Node"]}}
{"type": "relationship", "id": 602, "labels": "product or material produced", "start": {"id": 292, "labels": ["Node"]}, "end": {"id": 384, "labels": ["Node"]}}
{"type": "relationship", "id": 603, "labels": "subclass of", "start": {"id": 782, "labels": ["Node"]}, "end": {"id": 384, "labels": ["Node"]}}
{"type": "relationship", "id": 604, "labels": "instance of", "start": {"id": 782, "labels": ["Node"]}, "end": {"id": 384, "labels": ["Node"]}}
{"type": "relationship", "id": 605, "labels": "part of", "start": {"id": 712, "labels": ["Node"]}, "end": {"id": 384, "labels": ["Node"]}}
{"type": "relationship", "id": 606, "labels": "subclass of", "start": {"id": 712, "labels": ["Node"]}, "end": {"id": 384, "labels": ["Node"]}}
{"type": "relationship", "id": 607, "labels": "has part", "start": {"id": 384, "labels": ["Node"]}, "end": {"id": 712, "labels": ["Node"]}}
{"type": "relationship", "id": 608, "labels": "uses", "start": {"id": 292, "labels": ["Node"]}, "end": {"id": 371, "labels": ["Node"]}}
{"type": "relationship", "id": 609, "labels": "uses", "start": {"id": 135, "labels": ["Node"]}, "end": {"id": 371, "labels": ["Node"]}}
{"type": "relationship", "id": 610, "labels": "instance of", "start": {"id": 292, "labels": ["Node"]}, "end": {"id": 865, "labels": ["Node"]}}
{"type": "relationship", "id": 611, "labels": "opposite of", "start": {"id": 110, "labels": ["Node"]}, "end": {"id": 436, "labels": ["Node"]}}
{"type": "relationship", "id": 612, "labels": "opposite of", "start": {"id": 439, "labels": ["Node"]}, "end": {"id": 436, "labels": ["Node"]}}
{"type": "relationship", "id": 613, "labels": "opposite of", "start": {"id": 436, "labels": ["Node"]}, "end": {"id": 110, "labels": ["Node"]}}
{"type": "relationship", "id": 614, "labels": "opposite of", "start": {"id": 110, "labels": ["Node"]}, "end": {"id": 436, "labels": ["Node"]}}
{"type": "relationship", "id": 615, "labels": "product or material produced", "start": {"id": 14, "labels": ["Node"]}, "end": {"id": 335, "labels": ["Node"]}}
{"type": "relationship", "id": 616, "labels": "owner of", "start": {"id": 14, "labels": ["Node"]}, "end": {"id": 335, "labels": ["Node"]}}
{"type": "relationship", "id": 617, "labels": "owned by", "start": {"id": 335, "labels": ["Node"]}, "end": {"id": 14, "labels": ["Node"]}}
{"type": "relationship", "id": 618, "labels": "subsidiary", "start": {"id": 14, "labels": ["Node"]}, "end": {"id": 401, "labels": ["Node"]}}
{"type": "relationship", "id": 619, "labels": "subclass of", "start": {"id": 712, "labels": ["Node"]}, "end": {"id": 384, "labels": ["Node"]}}
{"type": "relationship", "id": 620, "labels": "part of", "start": {"id": 712, "labels": ["Node"]}, "end": {"id": 384, "labels": ["Node"]}}
{"type": "relationship", "id": 621, "labels": "instance of", "start": {"id": 670, "labels": ["Node"]}, "end": {"id": 384, "labels": ["Node"]}}
{"type": "relationship", "id": 622, "labels": "subclass of", "start": {"id": 753, "labels": ["Node"]}, "end": {"id": 384, "labels": ["Node"]}}
{"type": "relationship", "id": 623, "labels": "subclass of", "start": {"id": 705, "labels": ["Node"]}, "end": {"id": 384, "labels": ["Node"]}}
{"type": "relationship", "id": 624, "labels": "uses", "start": {"id": 705, "labels": ["Node"]}, "end": {"id": 371, "labels": ["Node"]}}
{"type": "relationship", "id": 625, "labels": "instance of", "start": {"id": 775, "labels": ["Node"]}, "end": {"id": 226, "labels": ["Node"]}}
{"type": "relationship", "id": 626, "labels": "uses", "start": {"id": 775, "labels": ["Node"]}, "end": {"id": 718, "labels": ["Node"]}}
{"type": "relationship", "id": 627, "labels": "subclass of", "start": {"id": 608, "labels": ["Node"]}, "end": {"id": 823, "labels": ["Node"]}}
{"type": "relationship", "id": 628, "labels": "opposite of", "start": {"id": 110, "labels": ["Node"]}, "end": {"id": 436, "labels": ["Node"]}}
{"type": "relationship", "id": 629, "labels": "opposite of", "start": {"id": 439, "labels": ["Node"]}, "end": {"id": 436, "labels": ["Node"]}}
{"type": "relationship", "id": 630, "labels": "opposite of", "start": {"id": 436, "labels": ["Node"]}, "end": {"id": 110, "labels": ["Node"]}}
{"type": "relationship", "id": 631, "labels": "opposite of", "start": {"id": 110, "labels": ["Node"]}, "end": {"id": 436, "labels": ["Node"]}}
{"type": "relationship", "id": 632, "labels": "product or material produced", "start": {"id": 14, "labels": ["Node"]}, "end": {"id": 335, "labels": ["Node"]}}
{"type": "relationship", "id": 633, "labels": "owner of", "start": {"id": 14, "labels": ["Node"]}, "end": {"id": 335, "labels": ["Node"]}}
{"type": "relationship", "id": 634, "labels": "owned by", "start": {"id": 335, "labels": ["Node"]}, "end": {"id": 14, "labels": ["Node"]}}
{"type": "relationship", "id": 635, "labels": "subsidiary", "start": {"id": 14, "labels": ["Node"]}, "end": {"id": 401, "labels": ["Node"]}}
{"type": "relationship", "id": 636, "labels": "instance of", "start": {"id": 306, "labels": ["Node"]}, "end": {"id": 384, "labels": ["Node"]}}
{"type": "relationship", "id": 637, "labels": "subclass of", "start": {"id": 306, "labels": ["Node"]}, "end": {"id": 384, "labels": ["Node"]}}
{"type": "relationship", "id": 638, "labels": "product or material produced", "start": {"id": 835, "labels": ["Node"]}, "end": {"id": 384, "labels": ["Node"]}}
{"type": "relationship", "id": 639, "labels": "uses", "start": {"id": 835, "labels": ["Node"]}, "end": {"id": 371, "labels": ["Node"]}}
{"type": "relationship", "id": 640, "labels": "uses", "start": {"id": 306, "labels": ["Node"]}, "end": {"id": 371, "labels": ["Node"]}}
{"type": "relationship", "id": 641, "labels": "product or material produced", "start": {"id": 835, "labels": ["Node"]}, "end": {"id": 384, "labels": ["Node"]}}
{"type": "relationship", "id": 642, "labels": "part of", "start": {"id": 213, "labels": ["Node"]}, "end": {"id": 384, "labels": ["Node"]}}
{"type": "relationship", "id": 643, "labels": "part of", "start": {"id": 599, "labels": ["Node"]}, "end": {"id": 384, "labels": ["Node"]}}
{"type": "relationship", "id": 644, "labels": "part of", "start": {"id": 599, "labels": ["Node"]}, "end": {"id": 138, "labels": ["Node"]}}
{"type": "relationship", "id": 645, "labels": "opposite of", "start": {"id": 110, "labels": ["Node"]}, "end": {"id": 436, "labels": ["Node"]}}
{"type": "relationship", "id": 646, "labels": "opposite of", "start": {"id": 439, "labels": ["Node"]}, "end": {"id": 436, "labels": ["Node"]}}
{"type": "relationship", "id": 647, "labels": "opposite of", "start": {"id": 436, "labels": ["Node"]}, "end": {"id": 110, "labels": ["Node"]}}
{"type": "relationship", "id": 648, "labels": "opposite of", "start": {"id": 110, "labels": ["Node"]}, "end": {"id": 436, "labels": ["Node"]}}
{"type": "relationship", "id": 649, "labels": "product or material produced", "start": {"id": 14, "labels": ["Node"]}, "end": {"id": 335, "labels": ["Node"]}}
{"type": "relationship", "id": 650, "labels": "owner of", "start": {"id": 14, "labels": ["Node"]}, "end": {"id": 335, "labels": ["Node"]}}
{"type": "relationship", "id": 651, "labels": "owned by", "start": {"id": 335, "labels": ["Node"]}, "end": {"id": 14, "labels": ["Node"]}}
{"type": "relationship", "id": 652, "labels": "subsidiary", "start": {"id": 14, "labels": ["Node"]}, "end": {"id": 401, "labels": ["Node"]}}
{"type": "relationship", "id": 653, "labels": "instance of", "start": {"id": 194, "labels": ["Node"]}, "end": {"id": 865, "labels": ["Node"]}}
{"type": "relationship", "id": 654, "labels": "instance of", "start": {"id": 831, "labels": ["Node"]}, "end": {"id": 384, "labels": ["Node"]}}
{"type": "relationship", "id": 655, "labels": "subclass of", "start": {"id": 844, "labels": ["Node"]}, "end": {"id": 384, "labels": ["Node"]}}
{"type": "relationship", "id": 656, "labels": "has part", "start": {"id": 384, "labels": ["Node"]}, "end": {"id": 816, "labels": ["Node"]}}
{"type": "relationship", "id": 657, "labels": "has part", "start": {"id": 384, "labels": ["Node"]}, "end": {"id": 273, "labels": ["Node"]}}
{"type": "relationship", "id": 658, "labels": "subclass of", "start": {"id": 384, "labels": ["Node"]}, "end": {"id": 816, "labels": ["Node"]}}
{"type": "relationship", "id": 659, "labels": "has part", "start": {"id": 381, "labels": ["Node"]}, "end": {"id": 739, "labels": ["Node"]}}
{"type": "relationship", "id": 660, "labels": "uses", "start": {"id": 381, "labels": ["Node"]}, "end": {"id": 309, "labels": ["Node"]}}
{"type": "relationship", "id": 661, "labels": "uses", "start": {"id": 381, "labels": ["Node"]}, "end": {"id": 739, "labels": ["Node"]}}
{"type": "relationship", "id": 662, "labels": "opposite of", "start": {"id": 110, "labels": ["Node"]}, "end": {"id": 436, "labels": ["Node"]}}
{"type": "relationship", "id": 663, "labels": "opposite of", "start": {"id": 439, "labels": ["Node"]}, "end": {"id": 436, "labels": ["Node"]}}
{"type": "relationship", "id": 664, "labels": "opposite of", "start": {"id": 436, "labels": ["Node"]}, "end": {"id": 110, "labels": ["Node"]}}
{"type": "relationship", "id": 665, "labels": "opposite of", "start": {"id": 110, "labels": ["Node"]}, "end": {"id": 436, "labels": ["Node"]}}
{"type": "relationship", "id": 666, "labels": "product or material produced", "start": {"id": 14, "labels": ["Node"]}, "end": {"id": 335, "labels": ["Node"]}}
{"type": "relationship", "id": 667, "labels": "owner of", "start": {"id": 14, "labels": ["Node"]}, "end": {"id": 335, "labels": ["Node"]}}
{"type": "relationship", "id": 668, "labels": "owned by", "start": {"id": 335, "labels": ["Node"]}, "end": {"id": 14, "labels": ["Node"]}}
{"type": "relationship", "id": 669, "labels": "subsidiary", "start": {"id": 14, "labels": ["Node"]}, "end": {"id": 401, "labels": ["Node"]}}
{"type": "relationship", "id": 670, "labels": "instance of", "start": {"id": 543, "labels": ["Node"]}, "end": {"id": 384, "labels": ["Node"]}}
{"type": "relationship", "id": 671, "labels": "instance of", "start": {"id": 543, "labels": ["Node"]}, "end": {"id": 839, "labels": ["Node"]}}
{"type": "relationship", "id": 672, "labels": "subclass of", "start": {"id": 543, "labels": ["Node"]}, "end": {"id": 839, "labels": ["Node"]}}
{"type": "relationship", "id": 673, "labels": "subclass of", "start": {"id": 222, "labels": ["Node"]}, "end": {"id": 241, "labels": ["Node"]}}
{"type": "relationship", "id": 674, "labels": "connects with", "start": {"id": 203, "labels": ["Node"]}, "end": {"id": 241, "labels": ["Node"]}}
{"type": "relationship", "id": 675, "labels": "connects with", "start": {"id": 241, "labels": ["Node"]}, "end": {"id": 203, "labels": ["Node"]}}
{"type": "relationship", "id": 676, "labels": "part of", "start": {"id": 222, "labels": ["Node"]}, "end": {"id": 241, "labels": ["Node"]}}
{"type": "relationship", "id": 677, "labels": "subclass of", "start": {"id": 712, "labels": ["Node"]}, "end": {"id": 384, "labels": ["Node"]}}
{"type": "relationship", "id": 678, "labels": "part of", "start": {"id": 712, "labels": ["Node"]}, "end": {"id": 384, "labels": ["Node"]}}
{"type": "relationship", "id": 679, "labels": "has part", "start": {"id": 384, "labels": ["Node"]}, "end": {"id": 712, "labels": ["Node"]}}
{"type": "relationship", "id": 680, "labels": "opposite of", "start": {"id": 110, "labels": ["Node"]}, "end": {"id": 436, "labels": ["Node"]}}
{"type": "relationship", "id": 681, "labels": "opposite of", "start": {"id": 439, "labels": ["Node"]}, "end": {"id": 436, "labels": ["Node"]}}
{"type": "relationship", "id": 682, "labels": "opposite of", "start": {"id": 436, "labels": ["Node"]}, "end": {"id": 110, "labels": ["Node"]}}
{"type": "relationship", "id": 683, "labels": "opposite of", "start": {"id": 110, "labels": ["Node"]}, "end": {"id": 436, "labels": ["Node"]}}
{"type": "relationship", "id": 684, "labels": "product or material produced", "start": {"id": 14, "labels": ["Node"]}, "end": {"id": 220, "labels": ["Node"]}}
{"type": "relationship", "id": 685, "labels": "product or material produced", "start": {"id": 14, "labels": ["Node"]}, "end": {"id": 335, "labels": ["Node"]}}
{"type": "relationship", "id": 686, "labels": "subsidiary", "start": {"id": 14, "labels": ["Node"]}, "end": {"id": 191, "labels": ["Node"]}}
{"type": "relationship", "id": 687, "labels": "subclass of", "start": {"id": 399, "labels": ["Node"]}, "end": {"id": 208, "labels": ["Node"]}}
{"type": "relationship", "id": 688, "labels": "instance of", "start": {"id": 399, "labels": ["Node"]}, "end": {"id": 208, "labels": ["Node"]}}
{"type": "relationship", "id": 689, "labels": "main subject", "start": {"id": 399, "labels": ["Node"]}, "end": {"id": 399, "labels": ["Node"]}}
{"type": "relationship", "id": 690, "labels": "subclass of", "start": {"id": 700, "labels": ["Node"]}, "end": {"id": 384, "labels": ["Node"]}}
{"type": "relationship", "id": 691, "labels": "subclass of", "start": {"id": 839, "labels": ["Node"]}, "end": {"id": 384, "labels": ["Node"]}}
{"type": "relationship", "id": 692, "labels": "use", "start": {"id": 384, "labels": ["Node"]}, "end": {"id": 460, "labels": ["Node"]}}
{"type": "relationship", "id": 693, "labels": "part of", "start": {"id": 406, "labels": ["Node"]}, "end": {"id": 231, "labels": ["Node"]}}
{"type": "relationship", "id": 694, "labels": "point in time", "start": {"id": 397, "labels": ["Node"]}, "end": {"id": 677, "labels": ["Node"]}}
{"type": "relationship", "id": 695, "labels": "position held", "start": {"id": 229, "labels": ["Node"]}, "end": {"id": 314, "labels": ["Node"]}}
{"type": "relationship", "id": 696, "labels": "part of", "start": {"id": 406, "labels": ["Node"]}, "end": {"id": 231, "labels": ["Node"]}}
{"type": "relationship", "id": 697, "labels": "position held", "start": {"id": 229, "labels": ["Node"]}, "end": {"id": 314, "labels": ["Node"]}}
{"type": "relationship", "id": 698, "labels": "contains administrative territorial entity", "start": {"id": 165, "labels": ["Node"]}, "end": {"id": 118, "labels": ["Node"]}}
{"type": "relationship", "id": 699, "labels": "located in the administrative territorial entity", "start": {"id": 118, "labels": ["Node"]}, "end": {"id": 165, "labels": ["Node"]}}
{"type": "relationship", "id": 700, "labels": "spouse", "start": {"id": 393, "labels": ["Node"]}, "end": {"id": 393, "labels": ["Node"]}}
{"type": "relationship", "id": 701, "labels": "spouse", "start": {"id": 204, "labels": ["Node"]}, "end": {"id": 204, "labels": ["Node"]}}
{"type": "relationship", "id": 702, "labels": "notable work", "start": {"id": 393, "labels": ["Node"]}, "end": {"id": 393, "labels": ["Node"]}}
{"type": "relationship", "id": 703, "labels": "genre", "start": {"id": 813, "labels": ["Node"]}, "end": {"id": 875, "labels": ["Node"]}}
{"type": "relationship", "id": 704, "labels": "performer", "start": {"id": 813, "labels": ["Node"]}, "end": {"id": 875, "labels": ["Node"]}}
{"type": "relationship", "id": 705, "labels": "facet of", "start": {"id": 813, "labels": ["Node"]}, "end": {"id": 875, "labels": ["Node"]}}
{"type": "relationship", "id": 706, "labels": "subclass of", "start": {"id": 283, "labels": ["Node"]}, "end": {"id": 683, "labels": ["Node"]}}
{"type": "relationship", "id": 707, "labels": "used by", "start": {"id": 767, "labels": ["Node"]}, "end": {"id": 304, "labels": ["Node"]}}
{"type": "relationship", "id": 708, "labels": "part of", "start": {"id": 406, "labels": ["Node"]}, "end": {"id": 231, "labels": ["Node"]}}
{"type": "relationship", "id": 709, "labels": "use", "start": {"id": 153, "labels": ["Node"]}, "end": {"id": 291, "labels": ["Node"]}}
{"type": "relationship", "id": 710, "labels": "has part", "start": {"id": 618, "labels": ["Node"]}, "end": {"id": 214, "labels": ["Node"]}}
{"type": "relationship", "id": 711, "labels": "use", "start": {"id": 767, "labels": ["Node"]}, "end": {"id": 767, "labels": ["Node"]}}
{"type": "relationship", "id": 712, "labels": "used by", "start": {"id": 767, "labels": ["Node"]}, "end": {"id": 38, "labels": ["Node"]}}
{"type": "relationship", "id": 713, "labels": "subclass of", "start": {"id": 767, "labels": ["Node"]}, "end": {"id": 767, "labels": ["Node"]}}
{"type": "relationship", "id": 714, "labels": "part of", "start": {"id": 801, "labels": ["Node"]}, "end": {"id": 801, "labels": ["Node"]}}
{"type": "relationship", "id": 715, "labels": "has part", "start": {"id": 801, "labels": ["Node"]}, "end": {"id": 801, "labels": ["Node"]}}
{"type": "relationship", "id": 716, "labels": "uses", "start": {"id": 852, "labels": ["Node"]}, "end": {"id": 645, "labels": ["Node"]}}
{"type": "relationship", "id": 717, "labels": "part of", "start": {"id": 852, "labels": ["Node"]}, "end": {"id": 810, "labels": ["Node"]}}
{"type": "relationship", "id": 718, "labels": "has part", "start": {"id": 852, "labels": ["Node"]}, "end": {"id": 645, "labels": ["Node"]}}
{"type": "relationship", "id": 719, "labels": "part of", "start": {"id": 852, "labels": ["Node"]}, "end": {"id": 173, "labels": ["Node"]}}
{"type": "relationship", "id": 720, "labels": "has part", "start": {"id": 173, "labels": ["Node"]}, "end": {"id": 352, "labels": ["Node"]}}
{"type": "relationship", "id": 721, "labels": "part of", "start": {"id": 352, "labels": ["Node"]}, "end": {"id": 173, "labels": ["Node"]}}
{"type": "relationship", "id": 722, "labels": "maintained by", "start": {"id": 609, "labels": ["Node"]}, "end": {"id": 174, "labels": ["Node"]}}
{"type": "relationship", "id": 723, "labels": "part of", "start": {"id": 406, "labels": ["Node"]}, "end": {"id": 231, "labels": ["Node"]}}
{"type": "relationship", "id": 724, "labels": "followed by", "start": {"id": 295, "labels": ["Node"]}, "end": {"id": 276, "labels": ["Node"]}}
{"type": "relationship", "id": 725, "labels": "follows", "start": {"id": 276, "labels": ["Node"]}, "end": {"id": 295, "labels": ["Node"]}}
{"type": "relationship", "id": 726, "labels": "maintained by", "start": {"id": 609, "labels": ["Node"]}, "end": {"id": 174, "labels": ["Node"]}}
{"type": "relationship", "id": 727, "labels": "part of", "start": {"id": 406, "labels": ["Node"]}, "end": {"id": 231, "labels": ["Node"]}}
{"type": "relationship", "id": 728, "labels": "has effect", "start": {"id": 276, "labels": ["Node"]}, "end": {"id": 682, "labels": ["Node"]}}
{"type": "relationship", "id": 729, "labels": "part of", "start": {"id": 406, "labels": ["Node"]}, "end": {"id": 231, "labels": ["Node"]}}
{"type": "relationship", "id": 730, "labels": "point in time", "start": {"id": 434, "labels": ["Node"]}, "end": {"id": 443, "labels": ["Node"]}}
{"type": "relationship", "id": 731, "labels": "point in time", "start": {"id": 443, "labels": ["Node"]}, "end": {"id": 443, "labels": ["Node"]}}
{"type": "relationship", "id": 732, "labels": "use", "start": {"id": 517, "labels": ["Node"]}, "end": {"id": 866, "labels": ["Node"]}}
{"type": "relationship", "id": 733, "labels": "instance of", "start": {"id": 517, "labels": ["Node"]}, "end": {"id": 866, "labels": ["Node"]}}
{"type": "relationship", "id": 734, "labels": "facet of", "start": {"id": 517, "labels": ["Node"]}, "end": {"id": 866, "labels": ["Node"]}}
{"type": "relationship", "id": 735, "labels": "inception", "start": {"id": 734, "labels": ["Node"]}, "end": {"id": 442, "labels": ["Node"]}}
{"type": "relationship", "id": 736, "labels": "inception", "start": {"id": 526, "labels": ["Node"]}, "end": {"id": 442, "labels": ["Node"]}}
{"type": "relationship", "id": 737, "labels": "point in time", "start": {"id": 56, "labels": ["Node"]}, "end": {"id": 442, "labels": ["Node"]}}
{"type": "relationship", "id": 738, "labels": "subclass of", "start": {"id": 620, "labels": ["Node"]}, "end": {"id": 671, "labels": ["Node"]}}
{"type": "relationship", "id": 739, "labels": "genre", "start": {"id": 6, "labels": ["Node"]}, "end": {"id": 620, "labels": ["Node"]}}
{"type": "relationship", "id": 740, "labels": "genre", "start": {"id": 414, "labels": ["Node"]}, "end": {"id": 620, "labels": ["Node"]}}
{"type": "relationship", "id": 741, "labels": "subclass of", "start": {"id": 839, "labels": ["Node"]}, "end": {"id": 384, "labels": ["Node"]}}
{"type": "relationship", "id": 742, "labels": "subclass of", "start": {"id": 342, "labels": ["Node"]}, "end": {"id": 384, "labels": ["Node"]}}
{"type": "relationship", "id": 743, "labels": "has part", "start": {"id": 384, "labels": ["Node"]}, "end": {"id": 712, "labels": ["Node"]}}
{"type": "relationship", "id": 744, "labels": "subclass of", "start": {"id": 700, "labels": ["Node"]}, "end": {"id": 384, "labels": ["Node"]}}
{"type": "relationship", "id": 745, "labels": "use", "start": {"id": 839, "labels": ["Node"]}, "end": {"id": 671, "labels": ["Node"]}}
{"type": "relationship", "id": 746, "labels": "subclass of", "start": {"id": 839, "labels": ["Node"]}, "end": {"id": 384, "labels": ["Node"]}}
{"type": "relationship", "id": 747, "labels": "subclass of", "start": {"id": 371, "labels": ["Node"]}, "end": {"id": 143, "labels": ["Node"]}}
{"type": "relationship", "id": 748, "labels": "uses", "start": {"id": 143, "labels": ["Node"]}, "end": {"id": 371, "labels": ["Node"]}}
{"type": "relationship", "id": 749, "labels": "subclass of", "start": {"id": 143, "labels": ["Node"]}, "end": {"id": 384, "labels": ["Node"]}}
{"type": "relationship", "id": 750, "labels": "subclass of", "start": {"id": 839, "labels": ["Node"]}, "end": {"id": 384, "labels": ["Node"]}}
{"type": "relationship", "id": 751, "labels": "is a list of", "start": {"id": 76, "labels": ["Node"]}, "end": {"id": 839, "labels": ["Node"]}}
{"type": "relationship", "id": 752, "labels": "subclass of", "start": {"id": 700, "labels": ["Node"]}, "end": {"id": 384, "labels": ["Node"]}}
{"type": "relationship", "id": 753, "labels": "is a list of", "start": {"id": 353, "labels": ["Node"]}, "end": {"id": 839, "labels": ["Node"]}}
{"type": "relationship", "id": 754, "labels": "is a list of", "start": {"id": 353, "labels": ["Node"]}, "end": {"id": 384, "labels": ["Node"]}}
{"type": "relationship", "id": 755, "labels": "main subject", "start": {"id": 353, "labels": ["Node"]}, "end": {"id": 839, "labels": ["Node"]}}
{"type": "relationship", "id": 756, "labels": "instance of", "start": {"id": 773, "labels": ["Node"]}, "end": {"id": 865, "labels": ["Node"]}}
{"type": "relationship", "id": 757, "labels": "manufacturer", "start": {"id": 224, "labels": ["Node"]}, "end": {"id": 700, "labels": ["Node"]}}
{"type": "relationship", "id": 758, "labels": "is a list of", "start": {"id": 224, "labels": ["Node"]}, "end": {"id": 773, "labels": ["Node"]}}
{"type": "relationship", "id": 759, "labels": "instance of", "start": {"id": 650, "labels": ["Node"]}, "end": {"id": 58, "labels": ["Node"]}}
{"type": "relationship", "id": 760, "labels": "instance of", "start": {"id": 79, "labels": ["Node"]}, "end": {"id": 58, "labels": ["Node"]}}
{"type": "relationship", "id": 761, "labels": "manufacturer", "start": {"id": 316, "labels": ["Node"]}, "end": {"id": 676, "labels": ["Node"]}}
{"type": "relationship", "id": 762, "labels": "manufacturer", "start": {"id": 316, "labels": ["Node"]}, "end": {"id": 676, "labels": ["Node"]}}
{"type": "relationship", "id": 763, "labels": "instance of", "start": {"id": 79, "labels": ["Node"]}, "end": {"id": 58, "labels": ["Node"]}}
{"type": "relationship", "id": 764, "labels": "subclass of", "start": {"id": 79, "labels": ["Node"]}, "end": {"id": 58, "labels": ["Node"]}}
{"type": "relationship", "id": 765, "labels": "subclass of", "start": {"id": 546, "labels": ["Node"]}, "end": {"id": 743, "labels": ["Node"]}}
{"type": "relationship", "id": 766, "labels": "use", "start": {"id": 498, "labels": ["Node"]}, "end": {"id": 62, "labels": ["Node"]}}
{"type": "relationship", "id": 767, "labels": "instance of", "start": {"id": 498, "labels": ["Node"]}, "end": {"id": 62, "labels": ["Node"]}}
{"type": "relationship", "id": 768, "labels": "instance of", "start": {"id": 762, "labels": ["Node"]}, "end": {"id": 179, "labels": ["Node"]}}
{"type": "relationship", "id": 769, "labels": "instance of", "start": {"id": 46, "labels": ["Node"]}, "end": {"id": 179, "labels": ["Node"]}}
{"type": "relationship", "id": 770, "labels": "followed by", "start": {"id": 762, "labels": ["Node"]}, "end": {"id": 46, "labels": ["Node"]}}
{"type": "relationship", "id": 771, "labels": "subclass of", "start": {"id": 3, "labels": ["Node"]}, "end": {"id": 689, "labels": ["Node"]}}
{"type": "relationship", "id": 772, "labels": "uses", "start": {"id": 3, "labels": ["Node"]}, "end": {"id": 689, "labels": ["Node"]}}
{"type": "relationship", "id": 773, "labels": "use", "start": {"id": 689, "labels": ["Node"]}, "end": {"id": 3, "labels": ["Node"]}}
{"type": "relationship", "id": 774, "labels": "subclass of", "start": {"id": 371, "labels": ["Node"]}, "end": {"id": 143, "labels": ["Node"]}}
{"type": "relationship", "id": 775, "labels": "opposite of", "start": {"id": 143, "labels": ["Node"]}, "end": {"id": 583, "labels": ["Node"]}}
{"type": "relationship", "id": 776, "labels": "uses", "start": {"id": 787, "labels": ["Node"]}, "end": {"id": 765, "labels": ["Node"]}}
{"type": "relationship", "id": 777, "labels": "instance of", "start": {"id": 650, "labels": ["Node"]}, "end": {"id": 58, "labels": ["Node"]}}
{"type": "relationship", "id": 778, "labels": "subclass of", "start": {"id": 650, "labels": ["Node"]}, "end": {"id": 58, "labels": ["Node"]}}
{"type": "relationship", "id": 779, "labels": "manufacturer", "start": {"id": 257, "labels": ["Node"]}, "end": {"id": 676, "labels": ["Node"]}}
{"type": "relationship", "id": 780, "labels": "subclass of", "start": {"id": 322, "labels": ["Node"]}, "end": {"id": 384, "labels": ["Node"]}}
{"type": "relationship", "id": 781, "labels": "is a list of", "start": {"id": 322, "labels": ["Node"]}, "end": {"id": 384, "labels": ["Node"]}}
{"type": "relationship", "id": 782, "labels": "subclass of", "start": {"id": 839, "labels": ["Node"]}, "end": {"id": 384, "labels": ["Node"]}}
{"type": "relationship", "id": 783, "labels": "product or material produced", "start": {"id": 373, "labels": ["Node"]}, "end": {"id": 384, "labels": ["Node"]}}
{"type": "relationship", "id": 784, "labels": "manufacturer", "start": {"id": 470, "labels": ["Node"]}, "end": {"id": 373, "labels": ["Node"]}}
{"type": "relationship", "id": 785, "labels": "manufacturer", "start": {"id": 230, "labels": ["Node"]}, "end": {"id": 373, "labels": ["Node"]}}
{"type": "relationship", "id": 786, "labels": "subclass of", "start": {"id": 495, "labels": ["Node"]}, "end": {"id": 793, "labels": ["Node"]}}
{"type": "relationship", "id": 787, "labels": "use", "start": {"id": 482, "labels": ["Node"]}, "end": {"id": 569, "labels": ["Node"]}}
{"type": "relationship", "id": 788, "labels": "subclass of", "start": {"id": 800, "labels": ["Node"]}, "end": {"id": 793, "labels": ["Node"]}}
{"type": "relationship", "id": 789, "labels": "use", "start": {"id": 803, "labels": ["Node"]}, "end": {"id": 78, "labels": ["Node"]}}
{"type": "relationship", "id": 790, "labels": "use", "start": {"id": 803, "labels": ["Node"]}, "end": {"id": 196, "labels": ["Node"]}}
{"type": "relationship", "id": 791, "labels": "uses", "start": {"id": 78, "labels": ["Node"]}, "end": {"id": 803, "labels": ["Node"]}}
{"type": "relationship", "id": 792, "labels": "use", "start": {"id": 371, "labels": ["Node"]}, "end": {"id": 143, "labels": ["Node"]}}
{"type": "relationship", "id": 793, "labels": "subclass of", "start": {"id": 371, "labels": ["Node"]}, "end": {"id": 143, "labels": ["Node"]}}
{"type": "relationship", "id": 794, "labels": "instance of", "start": {"id": 371, "labels": ["Node"]}, "end": {"id": 143, "labels": ["Node"]}}
{"type": "relationship", "id": 795, "labels": "opposite of", "start": {"id": 143, "labels": ["Node"]}, "end": {"id": 672, "labels": ["Node"]}}
{"type": "relationship", "id": 796, "labels": "opposite of", "start": {"id": 672, "labels": ["Node"]}, "end": {"id": 143, "labels": ["Node"]}}
{"type": "relationship", "id": 797, "labels": "connects with", "start": {"id": 202, "labels": ["Node"]}, "end": {"id": 786, "labels": ["Node"]}}
{"type": "relationship", "id": 798, "labels": "manufacturer", "start": {"id": 839, "labels": ["Node"]}, "end": {"id": 373, "labels": ["Node"]}}
{"type": "relationship", "id": 799, "labels": "uses", "start": {"id": 576, "labels": ["Node"]}, "end": {"id": 290, "labels": ["Node"]}}
{"type": "relationship", "id": 800, "labels": "subclass of", "start": {"id": 290, "labels": ["Node"]}, "end": {"id": 472, "labels": ["Node"]}}
{"type": "relationship", "id": 801, "labels": "use", "start": {"id": 100, "labels": ["Node"]}, "end": {"id": 671, "labels": ["Node"]}}
{"type": "relationship", "id": 802, "labels": "subclass of", "start": {"id": 100, "labels": ["Node"]}, "end": {"id": 384, "labels": ["Node"]}}
{"type": "relationship", "id": 803, "labels": "subclass of", "start": {"id": 608, "labels": ["Node"]}, "end": {"id": 846, "labels": ["Node"]}}
{"type": "relationship", "id": 804, "labels": "subclass of", "start": {"id": 728, "labels": ["Node"]}, "end": {"id": 384, "labels": ["Node"]}}
{"type": "relationship", "id": 805, "labels": "different from", "start": {"id": 689, "labels": ["Node"]}, "end": {"id": 384, "labels": ["Node"]}}
{"type": "relationship", "id": 806, "labels": "different from", "start": {"id": 272, "labels": ["Node"]}, "end": {"id": 384, "labels": ["Node"]}}
{"type": "relationship", "id": 807, "labels": "manufacturer", "start": {"id": 470, "labels": ["Node"]}, "end": {"id": 373, "labels": ["Node"]}}
{"type": "relationship", "id": 808, "labels": "product or material produced", "start": {"id": 373, "labels": ["Node"]}, "end": {"id": 839, "labels": ["Node"]}}
{"type": "relationship", "id": 809, "labels": "has part", "start": {"id": 576, "labels": ["Node"]}, "end": {"id": 700, "labels": ["Node"]}}
{"type": "relationship", "id": 810, "labels": "product or material produced", "start": {"id": 373, "labels": ["Node"]}, "end": {"id": 839, "labels": ["Node"]}}
{"type": "relationship", "id": 811, "labels": "distributed by", "start": {"id": 576, "labels": ["Node"]}, "end": {"id": 14, "labels": ["Node"]}}
{"type": "relationship", "id": 812, "labels": "owned by", "start": {"id": 576, "labels": ["Node"]}, "end": {"id": 14, "labels": ["Node"]}}
{"type": "relationship", "id": 813, "labels": "subclass of", "start": {"id": 614, "labels": ["Node"]}, "end": {"id": 384, "labels": ["Node"]}}
{"type": "relationship", "id": 814, "labels": "subclass of", "start": {"id": 700, "labels": ["Node"]}, "end": {"id": 100, "labels": ["Node"]}}
{"type": "relationship", "id": 815, "labels": "subclass of", "start": {"id": 504, "labels": ["Node"]}, "end": {"id": 384, "labels": ["Node"]}}
{"type": "relationship", "id": 816, "labels": "instance of", "start": {"id": 641, "labels": ["Node"]}, "end": {"id": 384, "labels": ["Node"]}}
{"type": "relationship", "id": 817, "labels": "subclass of", "start": {"id": 641, "labels": ["Node"]}, "end": {"id": 384, "labels": ["Node"]}}
{"type": "relationship", "id": 818, "labels": "has part", "start": {"id": 641, "labels": ["Node"]}, "end": {"id": 700, "labels": ["Node"]}}
{"type": "relationship", "id": 819, "labels": "subclass of", "start": {"id": 635, "labels": ["Node"]}, "end": {"id": 681, "labels": ["Node"]}}
{"type": "relationship", "id": 820, "labels": "subclass of", "start": {"id": 712, "labels": ["Node"]}, "end": {"id": 803, "labels": ["Node"]}}
{"type": "relationship", "id": 821, "labels": "subclass of", "start": {"id": 712, "labels": ["Node"]}, "end": {"id": 712, "labels": ["Node"]}}
{"type": "relationship", "id": 822, "labels": "uses", "start": {"id": 641, "labels": ["Node"]}, "end": {"id": 371, "labels": ["Node"]}}
{"type": "relationship", "id": 823, "labels": "uses", "start": {"id": 641, "labels": ["Node"]}, "end": {"id": 882, "labels": ["Node"]}}
{"type": "relationship", "id": 824, "labels": "use", "start": {"id": 371, "labels": ["Node"]}, "end": {"id": 143, "labels": ["Node"]}}
{"type": "relationship", "id": 825, "labels": "subclass of", "start": {"id": 608, "labels": ["Node"]}, "end": {"id": 873, "labels": ["Node"]}}
{"type": "relationship", "id": 826, "labels": "instance of", "start": {"id": 608, "labels": ["Node"]}, "end": {"id": 873, "labels": ["Node"]}}
{"type": "relationship", "id": 827, "labels": "subclass of", "start": {"id": 846, "labels": ["Node"]}, "end": {"id": 873, "labels": ["Node"]}}
{"type": "relationship", "id": 828, "labels": "instance of", "start": {"id": 641, "labels": ["Node"]}, "end": {"id": 839, "labels": ["Node"]}}
{"type": "relationship", "id": 829, "labels": "subclass of", "start": {"id": 143, "labels": ["Node"]}, "end": {"id": 384, "labels": ["Node"]}}
{"type": "relationship", "id": 830, "labels": "instance of", "start": {"id": 641, "labels": ["Node"]}, "end": {"id": 143, "labels": ["Node"]}}
{"type": "relationship", "id": 831, "labels": "distributed by", "start": {"id": 641, "labels": ["Node"]}, "end": {"id": 14, "labels": ["Node"]}}
{"type": "relationship", "id": 832, "labels": "owned by", "start": {"id": 641, "labels": ["Node"]}, "end": {"id": 14, "labels": ["Node"]}}
{"type": "relationship", "id": 833, "labels": "product or material produced", "start": {"id": 779, "labels": ["Node"]}, "end": {"id": 724, "labels": ["Node"]}}
{"type": "relationship", "id": 834, "labels": "manufacturer", "start": {"id": 724, "labels": ["Node"]}, "end": {"id": 779, "labels": ["Node"]}}
{"type": "relationship", "id": 835, "labels": "instance of", "start": {"id": 570, "labels": ["Node"]}, "end": {"id": 384, "labels": ["Node"]}}
{"type": "relationship", "id": 836, "labels": "subclass of", "start": {"id": 570, "labels": ["Node"]}, "end": {"id": 384, "labels": ["Node"]}}
{"type": "relationship", "id": 837, "labels": "subclass of", "start": {"id": 839, "labels": ["Node"]}, "end": {"id": 384, "labels": ["Node"]}}
{"type": "relationship", "id": 838, "labels": "instance of", "start": {"id": 836, "labels": ["Node"]}, "end": {"id": 839, "labels": ["Node"]}}
{"type": "relationship", "id": 839, "labels": "product or material produced", "start": {"id": 835, "labels": ["Node"]}, "end": {"id": 692, "labels": ["Node"]}}
{"type": "relationship", "id": 840, "labels": "subclass of", "start": {"id": 836, "labels": ["Node"]}, "end": {"id": 839, "labels": ["Node"]}}
{"type": "relationship", "id": 841, "labels": "subclass of", "start": {"id": 744, "labels": ["Node"]}, "end": {"id": 692, "labels": ["Node"]}}
{"type": "relationship", "id": 842, "labels": "instance of", "start": {"id": 744, "labels": ["Node"]}, "end": {"id": 692, "labels": ["Node"]}}
{"type": "relationship", "id": 843, "labels": "instance of", "start": {"id": 836, "labels": ["Node"]}, "end": {"id": 384, "labels": ["Node"]}}
{"type": "relationship", "id": 844, "labels": "subclass of", "start": {"id": 700, "labels": ["Node"]}, "end": {"id": 384, "labels": ["Node"]}}
{"type": "relationship", "id": 845, "labels": "subclass of", "start": {"id": 839, "labels": ["Node"]}, "end": {"id": 384, "labels": ["Node"]}}
{"type": "relationship", "id": 846, "labels": "part of", "start": {"id": 712, "labels": ["Node"]}, "end": {"id": 384, "labels": ["Node"]}}
{"type": "relationship", "id": 847, "labels": "subclass of", "start": {"id": 744, "labels": ["Node"]}, "end": {"id": 692, "labels": ["Node"]}}
{"type": "relationship", "id": 848, "labels": "instance of", "start": {"id": 744, "labels": ["Node"]}, "end": {"id": 692, "labels": ["Node"]}}
{"type": "relationship", "id": 849, "labels": "uses", "start": {"id": 836, "labels": ["Node"]}, "end": {"id": 371, "labels": ["Node"]}}
{"type": "relationship", "id": 850, "labels": "facet of", "start": {"id": 199, "labels": ["Node"]}, "end": {"id": 405, "labels": ["Node"]}}
{"type": "relationship", "id": 851, "labels": "subclass of", "start": {"id": 166, "labels": ["Node"]}, "end": {"id": 405, "labels": ["Node"]}}
{"type": "relationship", "id": 852, "labels": "subclass of", "start": {"id": 10, "labels": ["Node"]}, "end": {"id": 405, "labels": ["Node"]}}
{"type": "relationship", "id": 853, "labels": "instance of", "start": {"id": 744, "labels": ["Node"]}, "end": {"id": 692, "labels": ["Node"]}}
{"type": "relationship", "id": 854, "labels": "subclass of", "start": {"id": 744, "labels": ["Node"]}, "end": {"id": 692, "labels": ["Node"]}}
{"type": "relationship", "id": 855, "labels": "use", "start": {"id": 744, "labels": ["Node"]}, "end": {"id": 692, "labels": ["Node"]}}
{"type": "relationship", "id": 856, "labels": "subclass of", "start": {"id": 744, "labels": ["Node"]}, "end": {"id": 692, "labels": ["Node"]}}
{"type": "relationship", "id": 857, "labels": "instance of", "start": {"id": 744, "labels": ["Node"]}, "end": {"id": 692, "labels": ["Node"]}}
{"type": "relationship", "id": 858, "labels": "distributed by", "start": {"id": 836, "labels": ["Node"]}, "end": {"id": 14, "labels": ["Node"]}}
{"type": "relationship", "id": 859, "labels": "subclass of", "start": {"id": 839, "labels": ["Node"]}, "end": {"id": 384, "labels": ["Node"]}}
{"type": "relationship", "id": 860, "labels": "instance of", "start": {"id": 839, "labels": ["Node"]}, "end": {"id": 384, "labels": ["Node"]}}
{"type": "relationship", "id": 861, "labels": "product or material produced", "start": {"id": 839, "labels": ["Node"]}, "end": {"id": 384, "labels": ["Node"]}}
{"type": "relationship", "id": 862, "labels": "product or material produced", "start": {"id": 703, "labels": ["Node"]}, "end": {"id": 839, "labels": ["Node"]}}
{"type": "relationship", "id": 863, "labels": "product or material produced", "start": {"id": 703, "labels": ["Node"]}, "end": {"id": 327, "labels": ["Node"]}}
{"type": "relationship", "id": 864, "labels": "subclass of", "start": {"id": 703, "labels": ["Node"]}, "end": {"id": 839, "labels": ["Node"]}}
{"type": "relationship", "id": 865, "labels": "subclass of", "start": {"id": 712, "labels": ["Node"]}, "end": {"id": 384, "labels": ["Node"]}}
{"type": "relationship", "id": 866, "labels": "subclass of", "start": {"id": 712, "labels": ["Node"]}, "end": {"id": 384, "labels": ["Node"]}}
{"type": "relationship", "id": 867, "labels": "part of", "start": {"id": 712, "labels": ["Node"]}, "end": {"id": 384, "labels": ["Node"]}}
{"type": "relationship", "id": 868, "labels": "product or material produced", "start": {"id": 703, "labels": ["Node"]}, "end": {"id": 327, "labels": ["Node"]}}
{"type": "relationship", "id": 869, "labels": "instance of", "start": {"id": 616, "labels": ["Node"]}, "end": {"id": 384, "labels": ["Node"]}}
{"type": "relationship", "id": 870, "labels": "uses", "start": {"id": 703, "labels": ["Node"]}, "end": {"id": 371, "labels": ["Node"]}}
{"type": "relationship", "id": 871, "labels": "subclass of", "start": {"id": 371, "labels": ["Node"]}, "end": {"id": 143, "labels": ["Node"]}}
{"type": "relationship", "id": 872, "labels": "instance of", "start": {"id": 371, "labels": ["Node"]}, "end": {"id": 143, "labels": ["Node"]}}
{"type": "relationship", "id": 873, "labels": "use", "start": {"id": 371, "labels": ["Node"]}, "end": {"id": 143, "labels": ["Node"]}}
{"type": "relationship", "id": 874, "labels": "instance of", "start": {"id": 616, "labels": ["Node"]}, "end": {"id": 384, "labels": ["Node"]}}
{"type": "relationship", "id": 875, "labels": "subclass of", "start": {"id": 616, "labels": ["Node"]}, "end": {"id": 384, "labels": ["Node"]}}
{"type": "relationship", "id": 876, "labels": "uses", "start": {"id": 576, "labels": ["Node"]}, "end": {"id": 371, "labels": ["Node"]}}
{"type": "relationship", "id": 877, "labels": "product or material produced", "start": {"id": 703, "labels": ["Node"]}, "end": {"id": 327, "labels": ["Node"]}}
{"type": "relationship", "id": 878, "labels": "product or material produced", "start": {"id": 703, "labels": ["Node"]}, "end": {"id": 839, "labels": ["Node"]}}
{"type": "relationship", "id": 879, "labels": "owned by", "start": {"id": 616, "labels": ["Node"]}, "end": {"id": 14, "labels": ["Node"]}}
{"type": "relationship", "id": 880, "labels": "instance of", "start": {"id": 751, "labels": ["Node"]}, "end": {"id": 384, "labels": ["Node"]}}
{"type": "relationship", "id": 881, "labels": "subclass of", "start": {"id": 751, "labels": ["Node"]}, "end": {"id": 384, "labels": ["Node"]}}
{"type": "relationship", "id": 882, "labels": "product or material produced", "start": {"id": 751, "labels": ["Node"]}, "end": {"id": 384, "labels": ["Node"]}}
{"type": "relationship", "id": 883, "labels": "subclass of", "start": {"id": 809, "labels": ["Node"]}, "end": {"id": 384, "labels": ["Node"]}}
{"type": "relationship", "id": 884, "labels": "instance of", "start": {"id": 809, "labels": ["Node"]}, "end": {"id": 384, "labels": ["Node"]}}
{"type": "relationship", "id": 885, "labels": "subclass of", "start": {"id": 809, "labels": ["Node"]}, "end": {"id": 101, "labels": ["Node"]}}
{"type": "relationship", "id": 886, "labels": "instance of", "start": {"id": 809, "labels": ["Node"]}, "end": {"id": 839, "labels": ["Node"]}}
{"type": "relationship", "id": 887, "labels": "subclass of", "start": {"id": 809, "labels": ["Node"]}, "end": {"id": 839, "labels": ["Node"]}}
{"type": "relationship", "id": 888, "labels": "instance of", "start": {"id": 621, "labels": ["Node"]}, "end": {"id": 839, "labels": ["Node"]}}
{"type": "relationship", "id": 889, "labels": "instance of", "start": {"id": 139, "labels": ["Node"]}, "end": {"id": 507, "labels": ["Node"]}}
{"type": "relationship", "id": 890, "labels": "instance of", "start": {"id": 139, "labels": ["Node"]}, "end": {"id": 89, "labels": ["Node"]}}
{"type": "relationship", "id": 891, "labels": "instance of", "start": {"id": 102, "labels": ["Node"]}, "end": {"id": 89, "labels": ["Node"]}}
{"type": "relationship", "id": 892, "labels": "instance of", "start": {"id": 392, "labels": ["Node"]}, "end": {"id": 89, "labels": ["Node"]}}
{"type": "relationship", "id": 893, "labels": "subclass of", "start": {"id": 247, "labels": ["Node"]}, "end": {"id": 345, "labels": ["Node"]}}
{"type": "relationship", "id": 894, "labels": "has part", "start": {"id": 384, "labels": ["Node"]}, "end": {"id": 640, "labels": ["Node"]}}
{"type": "relationship", "id": 895, "labels": "subclass of", "start": {"id": 247, "labels": ["Node"]}, "end": {"id": 791, "labels": ["Node"]}}
{"type": "relationship", "id": 896, "labels": "subclass of", "start": {"id": 809, "labels": ["Node"]}, "end": {"id": 384, "labels": ["Node"]}}
{"type": "relationship", "id": 897, "labels": "product or material produced", "start": {"id": 63, "labels": ["Node"]}, "end": {"id": 384, "labels": ["Node"]}}
{"type": "relationship", "id": 898, "labels": "subclass of", "start": {"id": 809, "labels": ["Node"]}, "end": {"id": 101, "labels": ["Node"]}}
{"type": "relationship", "id": 899, "labels": "opposite of", "start": {"id": 143, "labels": ["Node"]}, "end": {"id": 672, "labels": ["Node"]}}
{"type": "relationship", "id": 900, "labels": "subclass of", "start": {"id": 809, "labels": ["Node"]}, "end": {"id": 384, "labels": ["Node"]}}
{"type": "relationship", "id": 901, "labels": "subclass of", "start": {"id": 809, "labels": ["Node"]}, "end": {"id": 101, "labels": ["Node"]}}
{"type": "relationship", "id": 902, "labels": "product or material produced", "start": {"id": 63, "labels": ["Node"]}, "end": {"id": 384, "labels": ["Node"]}}
{"type": "relationship", "id": 903, "labels": "subclass of", "start": {"id": 809, "labels": ["Node"]}, "end": {"id": 101, "labels": ["Node"]}}
{"type": "relationship", "id": 904, "labels": "distributed by", "start": {"id": 621, "labels": ["Node"]}, "end": {"id": 14, "labels": ["Node"]}}
{"type": "relationship", "id": 905, "labels": "subclass of", "start": {"id": 349, "labels": ["Node"]}, "end": {"id": 384, "labels": ["Node"]}}
{"type": "relationship", "id": 906, "labels": "is a list of", "start": {"id": 349, "labels": ["Node"]}, "end": {"id": 384, "labels": ["Node"]}}
{"type": "relationship", "id": 907, "labels": "is a list of", "start": {"id": 349, "labels": ["Node"]}, "end": {"id": 518, "labels": ["Node"]}}
{"type": "relationship", "id": 908, "labels": "instance of", "start": {"id": 709, "labels": ["Node"]}, "end": {"id": 384, "labels": ["Node"]}}
{"type": "relationship", "id": 909, "labels": "subclass of", "start": {"id": 822, "labels": ["Node"]}, "end": {"id": 692, "labels": ["Node"]}}
{"type": "relationship", "id": 910, "labels": "subclass of", "start": {"id": 709, "labels": ["Node"]}, "end": {"id": 384, "labels": ["Node"]}}
{"type": "relationship", "id": 911, "labels": "part of", "start": {"id": 371, "labels": ["Node"]}, "end": {"id": 340, "labels": ["Node"]}}
{"type": "relationship", "id": 912, "labels": "inception", "start": {"id": 371, "labels": ["Node"]}, "end": {"id": 340, "labels": ["Node"]}}
{"type": "relationship", "id": 913, "labels": "subclass of", "start": {"id": 371, "labels": ["Node"]}, "end": {"id": 143, "labels": ["Node"]}}
{"type": "relationship", "id": 914, "labels": "facet of", "start": {"id": 199, "labels": ["Node"]}, "end": {"id": 783, "labels": ["Node"]}}
{"type": "relationship", "id": 915, "labels": "subclass of", "start": {"id": 199, "labels": ["Node"]}, "end": {"id": 783, "labels": ["Node"]}}
{"type": "relationship", "id": 916, "labels": "has part", "start": {"id": 199, "labels": ["Node"]}, "end": {"id": 783, "labels": ["Node"]}}
{"type": "relationship", "id": 917, "labels": "subclass of", "start": {"id": 700, "labels": ["Node"]}, "end": {"id": 692, "labels": ["Node"]}}
{"type": "relationship", "id": 918, "labels": "instance of", "start": {"id": 700, "labels": ["Node"]}, "end": {"id": 692, "labels": ["Node"]}}
{"type": "relationship", "id": 919, "labels": "subclass of", "start": {"id": 822, "labels": ["Node"]}, "end": {"id": 692, "labels": ["Node"]}}
{"type": "relationship", "id": 920, "labels": "subclass of", "start": {"id": 143, "labels": ["Node"]}, "end": {"id": 384, "labels": ["Node"]}}
{"type": "relationship", "id": 921, "labels": "instance of", "start": {"id": 709, "labels": ["Node"]}, "end": {"id": 384, "labels": ["Node"]}}
{"type": "relationship", "id": 922, "labels": "subclass of", "start": {"id": 709, "labels": ["Node"]}, "end": {"id": 384, "labels": ["Node"]}}
{"type": "relationship", "id": 923, "labels": "subclass of", "start": {"id": 700, "labels": ["Node"]}, "end": {"id": 692, "labels": ["Node"]}}
{"type": "relationship", "id": 924, "labels": "subclass of", "start": {"id": 822, "labels": ["Node"]}, "end": {"id": 692, "labels": ["Node"]}}
{"type": "relationship", "id": 925, "labels": "instance of", "start": {"id": 822, "labels": ["Node"]}, "end": {"id": 692, "labels": ["Node"]}}
{"type": "relationship", "id": 926, "labels": "subclass of", "start": {"id": 839, "labels": ["Node"]}, "end": {"id": 384, "labels": ["Node"]}}
{"type": "relationship", "id": 927, "labels": "subclass of", "start": {"id": 700, "labels": ["Node"]}, "end": {"id": 384, "labels": ["Node"]}}
{"type": "relationship", "id": 928, "labels": "instance of", "start": {"id": 839, "labels": ["Node"]}, "end": {"id": 384, "labels": ["Node"]}}
{"type": "relationship", "id": 929, "labels": "instance of", "start": {"id": 120, "labels": ["Node"]}, "end": {"id": 839, "labels": ["Node"]}}
{"type": "relationship", "id": 930, "labels": "manufacturer", "start": {"id": 147, "labels": ["Node"]}, "end": {"id": 572, "labels": ["Node"]}}
{"type": "relationship", "id": 931, "labels": "subclass of", "start": {"id": 120, "labels": ["Node"]}, "end": {"id": 839, "labels": ["Node"]}}
{"type": "relationship", "id": 932, "labels": "subclass of", "start": {"id": 839, "labels": ["Node"]}, "end": {"id": 384, "labels": ["Node"]}}
{"type": "relationship", "id": 933, "labels": "subclass of", "start": {"id": 700, "labels": ["Node"]}, "end": {"id": 384, "labels": ["Node"]}}
{"type": "relationship", "id": 934, "labels": "has part", "start": {"id": 384, "labels": ["Node"]}, "end": {"id": 700, "labels": ["Node"]}}
{"type": "relationship", "id": 935, "labels": "manufacturer", "start": {"id": 169, "labels": ["Node"]}, "end": {"id": 572, "labels": ["Node"]}}
{"type": "relationship", "id": 936, "labels": "manufacturer", "start": {"id": 147, "labels": ["Node"]}, "end": {"id": 572, "labels": ["Node"]}}
{"type": "relationship", "id": 937, "labels": "subclass of", "start": {"id": 413, "labels": ["Node"]}, "end": {"id": 100, "labels": ["Node"]}}
{"type": "relationship", "id": 938, "labels": "follows", "start": {"id": 802, "labels": ["Node"]}, "end": {"id": 759, "labels": ["Node"]}}
{"type": "relationship", "id": 939, "labels": "platform", "start": {"id": 218, "labels": ["Node"]}, "end": {"id": 760, "labels": ["Node"]}}
{"type": "relationship", "id": 940, "labels": "follows", "start": {"id": 760, "labels": ["Node"]}, "end": {"id": 759, "labels": ["Node"]}}
{"type": "relationship", "id": 941, "labels": "subclass of", "start": {"id": 381, "labels": ["Node"]}, "end": {"id": 672, "labels": ["Node"]}}
{"type": "relationship", "id": 942, "labels": "manufacturer", "start": {"id": 169, "labels": ["Node"]}, "end": {"id": 572, "labels": ["Node"]}}
{"type": "relationship", "id": 943, "labels": "subclass of", "start": {"id": 824, "labels": ["Node"]}, "end": {"id": 672, "labels": ["Node"]}}
{"type": "relationship", "id": 944, "labels": "subclass of", "start": {"id": 839, "labels": ["Node"]}, "end": {"id": 384, "labels": ["Node"]}}
{"type": "relationship", "id": 945, "labels": "instance of", "start": {"id": 770, "labels": ["Node"]}, "end": {"id": 384, "labels": ["Node"]}}
{"type": "relationship", "id": 946, "labels": "subclass of", "start": {"id": 770, "labels": ["Node"]}, "end": {"id": 384, "labels": ["Node"]}}
{"type": "relationship", "id": 947, "labels": "manufacturer", "start": {"id": 614, "labels": ["Node"]}, "end": {"id": 572, "labels": ["Node"]}}
{"type": "relationship", "id": 948, "labels": "manufacturer", "start": {"id": 564, "labels": ["Node"]}, "end": {"id": 572, "labels": ["Node"]}}
{"type": "relationship", "id": 949, "labels": "has part", "start": {"id": 614, "labels": ["Node"]}, "end": {"id": 717, "labels": ["Node"]}}
{"type": "relationship", "id": 950, "labels": "subclass of", "start": {"id": 864, "labels": ["Node"]}, "end": {"id": 384, "labels": ["Node"]}}
{"type": "relationship", "id": 951, "labels": "subclass of", "start": {"id": 839, "labels": ["Node"]}, "end": {"id": 329, "labels": ["Node"]}}
{"type": "relationship", "id": 952, "labels": "subclass of", "start": {"id": 839, "labels": ["Node"]}, "end": {"id": 384, "labels": ["Node"]}}
{"type": "relationship", "id": 953, "labels": "instance of", "start": {"id": 24, "labels": ["Node"]}, "end": {"id": 839, "labels": ["Node"]}}
{"type": "relationship", "id": 954, "labels": "instance of", "start": {"id": 24, "labels": ["Node"]}, "end": {"id": 384, "labels": ["Node"]}}
{"type": "relationship", "id": 955, "labels": "subclass of", "start": {"id": 24, "labels": ["Node"]}, "end": {"id": 839, "labels": ["Node"]}}
{"type": "relationship", "id": 956, "labels": "instance of", "start": {"id": 856, "labels": ["Node"]}, "end": {"id": 507, "labels": ["Node"]}}
{"type": "relationship", "id": 957, "labels": "instance of", "start": {"id": 392, "labels": ["Node"]}, "end": {"id": 507, "labels": ["Node"]}}
{"type": "relationship", "id": 958, "labels": "instance of", "start": {"id": 139, "labels": ["Node"]}, "end": {"id": 507, "labels": ["Node"]}}
{"type": "relationship", "id": 959, "labels": "use", "start": {"id": 384, "labels": ["Node"]}, "end": {"id": 144, "labels": ["Node"]}}
{"type": "relationship", "id": 960, "labels": "uses", "start": {"id": 144, "labels": ["Node"]}, "end": {"id": 384, "labels": ["Node"]}}
{"type": "relationship", "id": 961, "labels": "subclass of", "start": {"id": 839, "labels": ["Node"]}, "end": {"id": 384, "labels": ["Node"]}}
{"type": "relationship", "id": 962, "labels": "instance of", "start": {"id": 24, "labels": ["Node"]}, "end": {"id": 384, "labels": ["Node"]}}
{"type": "relationship", "id": 963, "labels": "subclass of", "start": {"id": 24, "labels": ["Node"]}, "end": {"id": 384, "labels": ["Node"]}}
{"type": "relationship", "id": 964, "labels": "use", "start": {"id": 371, "labels": ["Node"]}, "end": {"id": 143, "labels": ["Node"]}}
{"type": "relationship", "id": 965, "labels": "subclass of", "start": {"id": 882, "labels": ["Node"]}, "end": {"id": 371, "labels": ["Node"]}}
{"type": "relationship", "id": 966, "labels": "part of", "start": {"id": 371, "labels": ["Node"]}, "end": {"id": 340, "labels": ["Node"]}}
{"type": "relationship", "id": 967, "labels": "subclass of", "start": {"id": 473, "labels": ["Node"]}, "end": {"id": 384, "labels": ["Node"]}}
{"type": "relationship", "id": 968, "labels": "instance of", "start": {"id": 473, "labels": ["Node"]}, "end": {"id": 384, "labels": ["Node"]}}
{"type": "relationship", "id": 969, "labels": "subclass of", "start": {"id": 839, "labels": ["Node"]}, "end": {"id": 384, "labels": ["Node"]}}
{"type": "relationship", "id": 970, "labels": "distributed by", "start": {"id": 24, "labels": ["Node"]}, "end": {"id": 14, "labels": ["Node"]}}
{"type": "relationship", "id": 971, "labels": "owned by", "start": {"id": 24, "labels": ["Node"]}, "end": {"id": 14, "labels": ["Node"]}}
{"type": "relationship", "id": 972, "labels": "product or material produced", "start": {"id": 212, "labels": ["Node"]}, "end": {"id": 839, "labels": ["Node"]}}
{"type": "relationship", "id": 973, "labels": "is a list of", "start": {"id": 433, "labels": ["Node"]}, "end": {"id": 839, "labels": ["Node"]}}
{"type": "relationship", "id": 974, "labels": "is a list of", "start": {"id": 433, "labels": ["Node"]}, "end": {"id": 384, "labels": ["Node"]}}
{"type": "relationship", "id": 975, "labels": "subclass of", "start": {"id": 700, "labels": ["Node"]}, "end": {"id": 384, "labels": ["Node"]}}
{"type": "relationship", "id": 976, "labels": "instance of", "start": {"id": 444, "labels": ["Node"]}, "end": {"id": 839, "labels": ["Node"]}}
{"type": "relationship", "id": 977, "labels": "uses", "start": {"id": 444, "labels": ["Node"]}, "end": {"id": 371, "labels": ["Node"]}}
{"type": "relationship", "id": 978, "labels": "subclass of", "start": {"id": 444, "labels": ["Node"]}, "end": {"id": 839, "labels": ["Node"]}}
{"type": "relationship", "id": 979, "labels": "subclass of", "start": {"id": 712, "labels": ["Node"]}, "end": {"id": 384, "labels": ["Node"]}}
{"type": "relationship", "id": 980, "labels": "part of", "start": {"id": 712, "labels": ["Node"]}, "end": {"id": 384, "labels": ["Node"]}}
{"type": "relationship", "id": 981, "labels": "has part", "start": {"id": 384, "labels": ["Node"]}, "end": {"id": 712, "labels": ["Node"]}}
{"type": "relationship", "id": 982, "labels": "uses", "start": {"id": 444, "labels": ["Node"]}, "end": {"id": 371, "labels": ["Node"]}}
{"type": "relationship", "id": 983, "labels": "subclass of", "start": {"id": 839, "labels": ["Node"]}, "end": {"id": 384, "labels": ["Node"]}}
{"type": "relationship", "id": 984, "labels": "product or material produced", "start": {"id": 444, "labels": ["Node"]}, "end": {"id": 839, "labels": ["Node"]}}
{"type": "relationship", "id": 985, "labels": "subclass of", "start": {"id": 371, "labels": ["Node"]}, "end": {"id": 143, "labels": ["Node"]}}
{"type": "relationship", "id": 986, "labels": "part of", "start": {"id": 371, "labels": ["Node"]}, "end": {"id": 340, "labels": ["Node"]}}
{"type": "relationship", "id": 987, "labels": "subclass of", "start": {"id": 882, "labels": ["Node"]}, "end": {"id": 143, "labels": ["Node"]}}
{"type": "relationship", "id": 988, "labels": "uses", "start": {"id": 444, "labels": ["Node"]}, "end": {"id": 371, "labels": ["Node"]}}
{"type": "relationship", "id": 989, "labels": "uses", "start": {"id": 292, "labels": ["Node"]}, "end": {"id": 371, "labels": ["Node"]}}
{"type": "relationship", "id": 990, "labels": "instance of", "start": {"id": 444, "labels": ["Node"]}, "end": {"id": 839, "labels": ["Node"]}}
{"type": "relationship", "id": 991, "labels": "uses", "start": {"id": 444, "labels": ["Node"]}, "end": {"id": 371, "labels": ["Node"]}}
{"type": "relationship", "id": 992, "labels": "product or material produced", "start": {"id": 444, "labels": ["Node"]}, "end": {"id": 839, "labels": ["Node"]}}
{"type": "relationship", "id": 993, "labels": "subclass of", "start": {"id": 444, "labels": ["Node"]}, "end": {"id": 839, "labels": ["Node"]}}
{"type": "relationship", "id": 994, "labels": "part of", "start": {"id": 546, "labels": ["Node"]}, "end": {"id": 219, "labels": ["Node"]}}
{"type": "relationship", "id": 995, "labels": "instance of", "start": {"id": 546, "labels": ["Node"]}, "end": {"id": 219, "labels": ["Node"]}}
{"type": "relationship", "id": 996, "labels": "instance of", "start": {"id": 546, "labels": ["Node"]}, "end": {"id": 93, "labels": ["Node"]}}
{"type": "relationship", "id": 997, "labels": "country", "start": {"id": 367, "labels": ["Node"]}, "end": {"id": 207, "labels": ["Node"]}}
{"type": "relationship", "id": 998, "labels": "country", "start": {"id": 197, "labels": ["Node"]}, "end": {"id": 207, "labels": ["Node"]}}
{"type": "relationship", "id": 999, "labels": "country of origin", "start": {"id": 505, "labels": ["Node"]}, "end": {"id": 207, "labels": ["Node"]}}
{"type": "relationship", "id": 1000, "labels": "inception", "start": {"id": 373, "labels": ["Node"]}, "end": {"id": 129, "labels": ["Node"]}}
{"type": "relationship", "id": 1001, "labels": "founded by", "start": {"id": 373, "labels": ["Node"]}, "end": {"id": 266, "labels": ["Node"]}}
{"type": "relationship", "id": 1002, "labels": "publication date", "start": {"id": 373, "labels": ["Node"]}, "end": {"id": 129, "labels": ["Node"]}}
{"type": "relationship", "id": 1003, "labels": "manufacturer", "start": {"id": 547, "labels": ["Node"]}, "end": {"id": 673, "labels": ["Node"]}}
{"type": "relationship", "id": 1004, "labels": "owned by", "start": {"id": 547, "labels": ["Node"]}, "end": {"id": 673, "labels": ["Node"]}}
{"type": "relationship", "id": 1005, "labels": "founded by", "start": {"id": 547, "labels": ["Node"]}, "end": {"id": 673, "labels": ["Node"]}}
{"type": "relationship", "id": 1006, "labels": "subclass of", "start": {"id": 700, "labels": ["Node"]}, "end": {"id": 384, "labels": ["Node"]}}
{"type": "relationship", "id": 1007, "labels": "has part", "start": {"id": 384, "labels": ["Node"]}, "end": {"id": 700, "labels": ["Node"]}}
{"type": "relationship", "id": 1008, "labels": "subclass of", "start": {"id": 839, "labels": ["Node"]}, "end": {"id": 384, "labels": ["Node"]}}
{"type": "relationship", "id": 1009, "labels": "subclass of", "start": {"id": 700, "labels": ["Node"]}, "end": {"id": 384, "labels": ["Node"]}}
{"type": "relationship", "id": 1010, "labels": "part of", "start": {"id": 712, "labels": ["Node"]}, "end": {"id": 384, "labels": ["Node"]}}
{"type": "relationship", "id": 1011, "labels": "has part", "start": {"id": 384, "labels": ["Node"]}, "end": {"id": 712, "labels": ["Node"]}}
{"type": "relationship", "id": 1012, "labels": "subclass of", "start": {"id": 700, "labels": ["Node"]}, "end": {"id": 384, "labels": ["Node"]}}
{"type": "relationship", "id": 1013, "labels": "instance of", "start": {"id": 700, "labels": ["Node"]}, "end": {"id": 384, "labels": ["Node"]}}
{"type": "relationship", "id": 1014, "labels": "subclass of", "start": {"id": 839, "labels": ["Node"]}, "end": {"id": 384, "labels": ["Node"]}}
{"type": "relationship", "id": 1015, "labels": "subclass of", "start": {"id": 476, "labels": ["Node"]}, "end": {"id": 384, "labels": ["Node"]}}
{"type": "relationship", "id": 1016, "labels": "opposite of", "start": {"id": 476, "labels": ["Node"]}, "end": {"id": 249, "labels": ["Node"]}}
{"type": "relationship", "id": 1017, "labels": "opposite of", "start": {"id": 249, "labels": ["Node"]}, "end": {"id": 476, "labels": ["Node"]}}
{"type": "relationship", "id": 1018, "labels": "subclass of", "start": {"id": 62, "labels": ["Node"]}, "end": {"id": 681, "labels": ["Node"]}}
{"type": "relationship", "id": 1019, "labels": "subclass of", "start": {"id": 143, "labels": ["Node"]}, "end": {"id": 384, "labels": ["Node"]}}
{"type": "relationship", "id": 1020, "labels": "subclass of", "start": {"id": 230, "labels": ["Node"]}, "end": {"id": 384, "labels": ["Node"]}}
{"type": "relationship", "id": 1021, "labels": "opposite of", "start": {"id": 31, "labels": ["Node"]}, "end": {"id": 477, "labels": ["Node"]}}
{"type": "relationship", "id": 1022, "labels": "opposite of", "start": {"id": 477, "labels": ["Node"]}, "end": {"id": 31, "labels": ["Node"]}}
{"type": "relationship", "id": 1023, "labels": "instance of", "start": {"id": 392, "labels": ["Node"]}, "end": {"id": 507, "labels": ["Node"]}}
{"type": "relationship", "id": 1024, "labels": "instance of", "start": {"id": 159, "labels": ["Node"]}, "end": {"id": 507, "labels": ["Node"]}}
{"type": "relationship", "id": 1025, "labels": "part of", "start": {"id": 849, "labels": ["Node"]}, "end": {"id": 665, "labels": ["Node"]}}
{"type": "relationship", "id": 1026, "labels": "has part", "start": {"id": 665, "labels": ["Node"]}, "end": {"id": 849, "labels": ["Node"]}}
{"type": "relationship", "id": 1027, "labels": "part of", "start": {"id": 849, "labels": ["Node"]}, "end": {"id": 267, "labels": ["Node"]}}
{"type": "relationship", "id": 1028, "labels": "instance of", "start": {"id": 839, "labels": ["Node"]}, "end": {"id": 799, "labels": ["Node"]}}
{"type": "relationship", "id": 1029, "labels": "has part", "start": {"id": 839, "labels": ["Node"]}, "end": {"id": 700, "labels": ["Node"]}}
{"type": "relationship", "id": 1030, "labels": "has part", "start": {"id": 839, "labels": ["Node"]}, "end": {"id": 745, "labels": ["Node"]}}
{"type": "relationship", "id": 1031, "labels": "subclass of", "start": {"id": 223, "labels": ["Node"]}, "end": {"id": 384, "labels": ["Node"]}}
{"type": "relationship", "id": 1032, "labels": "subclass of", "start": {"id": 839, "labels": ["Node"]}, "end": {"id": 384, "labels": ["Node"]}}
{"type": "relationship", "id": 1033, "labels": "part of", "start": {"id": 223, "labels": ["Node"]}, "end": {"id": 839, "labels": ["Node"]}}
{"type": "relationship", "id": 1034, "labels": "uses", "start": {"id": 725, "labels": ["Node"]}, "end": {"id": 60, "labels": ["Node"]}}
{"type": "relationship", "id": 1035, "labels": "instance of", "start": {"id": 725, "labels": ["Node"]}, "end": {"id": 60, "labels": ["Node"]}}
{"type": "relationship", "id": 1036, "labels": "use", "start": {"id": 725, "labels": ["Node"]}, "end": {"id": 60, "labels": ["Node"]}}
{"type": "relationship", "id": 1037, "labels": "subclass of", "start": {"id": 845, "labels": ["Node"]}, "end": {"id": 500, "labels": ["Node"]}}
{"type": "relationship", "id": 1038, "labels": "subclass of", "start": {"id": 725, "labels": ["Node"]}, "end": {"id": 60, "labels": ["Node"]}}
{"type": "relationship", "id": 1039, "labels": "subclass of", "start": {"id": 544, "labels": ["Node"]}, "end": {"id": 687, "labels": ["Node"]}}
{"type": "relationship", "id": 1040, "labels": "subclass of", "start": {"id": 330, "labels": ["Node"]}, "end": {"id": 687, "labels": ["Node"]}}
{"type": "relationship", "id": 1041, "labels": "subclass of", "start": {"id": 839, "labels": ["Node"]}, "end": {"id": 544, "labels": ["Node"]}}
{"type": "relationship", "id": 1042, "labels": "subclass of", "start": {"id": 839, "labels": ["Node"]}, "end": {"id": 384, "labels": ["Node"]}}
{"type": "relationship", "id": 1043, "labels": "main subject", "start": {"id": 427, "labels": ["Node"]}, "end": {"id": 839, "labels": ["Node"]}}
{"type": "relationship", "id": 1044, "labels": "main subject", "start": {"id": 427, "labels": ["Node"]}, "end": {"id": 839, "labels": ["Node"]}}
{"type": "relationship", "id": 1045, "labels": "instance of", "start": {"id": 650, "labels": ["Node"]}, "end": {"id": 58, "labels": ["Node"]}}
{"type": "relationship", "id": 1046, "labels": "subclass of", "start": {"id": 650, "labels": ["Node"]}, "end": {"id": 58, "labels": ["Node"]}}
{"type": "relationship", "id": 1047, "labels": "instance of", "start": {"id": 158, "labels": ["Node"]}, "end": {"id": 303, "labels": ["Node"]}}
{"type": "relationship", "id": 1048, "labels": "subclass of", "start": {"id": 222, "labels": ["Node"]}, "end": {"id": 384, "labels": ["Node"]}}
{"type": "relationship", "id": 1049, "labels": "is a list of", "start": {"id": 756, "labels": ["Node"]}, "end": {"id": 384, "labels": ["Node"]}}
{"type": "relationship", "id": 1050, "labels": "is a list of", "start": {"id": 756, "labels": ["Node"]}, "end": {"id": 784, "labels": ["Node"]}}
{"type": "relationship", "id": 1051, "labels": "part of", "start": {"id": 406, "labels": ["Node"]}, "end": {"id": 231, "labels": ["Node"]}}
{"type": "relationship", "id": 1052, "labels": "use", "start": {"id": 153, "labels": ["Node"]}, "end": {"id": 291, "labels": ["Node"]}}
{"type": "relationship", "id": 1053, "labels": "has part", "start": {"id": 618, "labels": ["Node"]}, "end": {"id": 214, "labels": ["Node"]}}
{"type": "relationship", "id": 1054, "labels": "use", "start": {"id": 767, "labels": ["Node"]}, "end": {"id": 767, "labels": ["Node"]}}
{"type": "relationship", "id": 1055, "labels": "used by", "start": {"id": 767, "labels": ["Node"]}, "end": {"id": 38, "labels": ["Node"]}}
{"type": "relationship", "id": 1056, "labels": "subclass of", "start": {"id": 767, "labels": ["Node"]}, "end": {"id": 767, "labels": ["Node"]}}
{"type": "relationship", "id": 1057, "labels": "part of", "start": {"id": 801, "labels": ["Node"]}, "end": {"id": 801, "labels": ["Node"]}}
{"type": "relationship", "id": 1058, "labels": "has part", "start": {"id": 801, "labels": ["Node"]}, "end": {"id": 801, "labels": ["Node"]}}
{"type": "relationship", "id": 1059, "labels": "uses", "start": {"id": 852, "labels": ["Node"]}, "end": {"id": 645, "labels": ["Node"]}}
{"type": "relationship", "id": 1060, "labels": "part of", "start": {"id": 852, "labels": ["Node"]}, "end": {"id": 810, "labels": ["Node"]}}
{"type": "relationship", "id": 1061, "labels": "has part", "start": {"id": 852, "labels": ["Node"]}, "end": {"id": 645, "labels": ["Node"]}}
{"type": "relationship", "id": 1062, "labels": "part of", "start": {"id": 852, "labels": ["Node"]}, "end": {"id": 173, "labels": ["Node"]}}
{"type": "relationship", "id": 1063, "labels": "has part", "start": {"id": 173, "labels": ["Node"]}, "end": {"id": 352, "labels": ["Node"]}}
{"type": "relationship", "id": 1064, "labels": "part of", "start": {"id": 352, "labels": ["Node"]}, "end": {"id": 173, "labels": ["Node"]}}
{"type": "relationship", "id": 1065, "labels": "maintained by", "start": {"id": 609, "labels": ["Node"]}, "end": {"id": 174, "labels": ["Node"]}}
{"type": "relationship", "id": 1066, "labels": "part of", "start": {"id": 406, "labels": ["Node"]}, "end": {"id": 231, "labels": ["Node"]}}
{"type": "relationship", "id": 1067, "labels": "followed by", "start": {"id": 295, "labels": ["Node"]}, "end": {"id": 276, "labels": ["Node"]}}
{"type": "relationship", "id": 1068, "labels": "follows", "start": {"id": 276, "labels": ["Node"]}, "end": {"id": 295, "labels": ["Node"]}}
{"type": "relationship", "id": 1069, "labels": "subclass of", "start": {"id": 384, "labels": ["Node"]}, "end": {"id": 605, "labels": ["Node"]}}
{"type": "relationship", "id": 1070, "labels": "subclass of", "start": {"id": 803, "labels": ["Node"]}, "end": {"id": 605, "labels": ["Node"]}}
{"type": "relationship", "id": 1071, "labels": "instance of", "start": {"id": 359, "labels": ["Node"]}, "end": {"id": 656, "labels": ["Node"]}}
{"type": "relationship", "id": 1072, "labels": "instance of", "start": {"id": 441, "labels": ["Node"]}, "end": {"id": 461, "labels": ["Node"]}}
{"type": "relationship", "id": 1073, "labels": "instance of", "start": {"id": 359, "labels": ["Node"]}, "end": {"id": 441, "labels": ["Node"]}}
{"type": "relationship", "id": 1074, "labels": "publication date", "start": {"id": 652, "labels": ["Node"]}, "end": {"id": 107, "labels": ["Node"]}}
{"type": "relationship", "id": 1075, "labels": "inception", "start": {"id": 652, "labels": ["Node"]}, "end": {"id": 107, "labels": ["Node"]}}
{"type": "relationship", "id": 1076, "labels": "product or material produced", "start": {"id": 652, "labels": ["Node"]}, "end": {"id": 384, "labels": ["Node"]}}
{"type": "relationship", "id": 1077, "labels": "part of", "start": {"id": 259, "labels": ["Node"]}, "end": {"id": 87, "labels": ["Node"]}}
{"type": "relationship", "id": 1078, "labels": "subclass of", "start": {"id": 259, "labels": ["Node"]}, "end": {"id": 87, "labels": ["Node"]}}
{"type": "relationship", "id": 1079, "labels": "location", "start": {"id": 259, "labels": ["Node"]}, "end": {"id": 87, "labels": ["Node"]}}
{"type": "relationship", "id": 1080, "labels": "subclass of", "start": {"id": 700, "labels": ["Node"]}, "end": {"id": 384, "labels": ["Node"]}}
{"type": "relationship", "id": 1081, "labels": "subclass of", "start": {"id": 839, "labels": ["Node"]}, "end": {"id": 384, "labels": ["Node"]}}
{"type": "relationship", "id": 1082, "labels": "subclass of", "start": {"id": 839, "labels": ["Node"]}, "end": {"id": 350, "labels": ["Node"]}}
{"type": "relationship", "id": 1083, "labels": "maintained by", "start": {"id": 609, "labels": ["Node"]}, "end": {"id": 174, "labels": ["Node"]}}
{"type": "relationship", "id": 1084, "labels": "part of", "start": {"id": 406, "labels": ["Node"]}, "end": {"id": 231, "labels": ["Node"]}}
{"type": "relationship", "id": 1085, "labels": "has effect", "start": {"id": 276, "labels": ["Node"]}, "end": {"id": 682, "labels": ["Node"]}}
{"type": "relationship", "id": 1086, "labels": "subclass of", "start": {"id": 839, "labels": ["Node"]}, "end": {"id": 384, "labels": ["Node"]}}
{"type": "relationship", "id": 1087, "labels": "subclass of", "start": {"id": 700, "labels": ["Node"]}, "end": {"id": 384, "labels": ["Node"]}}
{"type": "relationship", "id": 1088, "labels": "subclass of", "start": {"id": 384, "labels": ["Node"]}, "end": {"id": 384, "labels": ["Node"]}}
{"type": "relationship", "id": 1089, "labels": "subclass of", "start": {"id": 839, "labels": ["Node"]}, "end": {"id": 384, "labels": ["Node"]}}
{"type": "relationship", "id": 1090, "labels": "subclass of", "start": {"id": 700, "labels": ["Node"]}, "end": {"id": 384, "labels": ["Node"]}}
{"type": "relationship", "id": 1091, "labels": "is a list of", "start": {"id": 76, "labels": ["Node"]}, "end": {"id": 384, "labels": ["Node"]}}
{"type": "relationship", "id": 1092, "labels": "part of", "start": {"id": 536, "labels": ["Node"]}, "end": {"id": 536, "labels": ["Node"]}}
{"type": "relationship", "id": 1093, "labels": "is a list of", "start": {"id": 536, "labels": ["Node"]}, "end": {"id": 536, "labels": ["Node"]}}
{"type": "relationship", "id": 1094, "labels": "part of the series", "start": {"id": 536, "labels": ["Node"]}, "end": {"id": 536, "labels": ["Node"]}}
{"type": "relationship", "id": 1095, "labels": "country", "start": {"id": 367, "labels": ["Node"]}, "end": {"id": 207, "labels": ["Node"]}}
{"type": "relationship", "id": 1096, "labels": "country", "start": {"id": 197, "labels": ["Node"]}, "end": {"id": 207, "labels": ["Node"]}}
{"type": "relationship", "id": 1097, "labels": "facet of", "start": {"id": 505, "labels": ["Node"]}, "end": {"id": 367, "labels": ["Node"]}}
{"type": "relationship", "id": 1098, "labels": "instance of", "start": {"id": 505, "labels": ["Node"]}, "end": {"id": 197, "labels": ["Node"]}}
{"type": "relationship", "id": 1099, "labels": "publisher", "start": {"id": 612, "labels": ["Node"]}, "end": {"id": 560, "labels": ["Node"]}}
{"type": "relationship", "id": 1100, "labels": "publisher", "start": {"id": 589, "labels": ["Node"]}, "end": {"id": 560, "labels": ["Node"]}}
{"type": "relationship", "id": 1101, "labels": "publisher", "start": {"id": 589, "labels": ["Node"]}, "end": {"id": 466, "labels": ["Node"]}}
{"type": "relationship", "id": 1102, "labels": "inception", "start": {"id": 839, "labels": ["Node"]}, "end": {"id": 129, "labels": ["Node"]}}
{"type": "relationship", "id": 1103, "labels": "founded by", "start": {"id": 839, "labels": ["Node"]}, "end": {"id": 266, "labels": ["Node"]}}
{"type": "relationship", "id": 1104, "labels": "inception", "start": {"id": 766, "labels": ["Node"]}, "end": {"id": 585, "labels": ["Node"]}}
{"type": "relationship", "id": 1105, "labels": "manufacturer", "start": {"id": 766, "labels": ["Node"]}, "end": {"id": 673, "labels": ["Node"]}}
{"type": "relationship", "id": 1106, "labels": "subclass of", "start": {"id": 115, "labels": ["Node"]}, "end": {"id": 384, "labels": ["Node"]}}
{"type": "relationship", "id": 1107, "labels": "instance of", "start": {"id": 115, "labels": ["Node"]}, "end": {"id": 384, "labels": ["Node"]}}
{"type": "relationship", "id": 1108, "labels": "subclass of", "start": {"id": 115, "labels": ["Node"]}, "end": {"id": 679, "labels": ["Node"]}}
{"type": "relationship", "id": 1109, "labels": "instance of", "start": {"id": 242, "labels": ["Node"]}, "end": {"id": 5, "labels": ["Node"]}}
{"type": "relationship", "id": 1110, "labels": "instance of", "start": {"id": 49, "labels": ["Node"]}, "end": {"id": 5, "labels": ["Node"]}}
{"type": "relationship", "id": 1111, "labels": "opposite of", "start": {"id": 242, "labels": ["Node"]}, "end": {"id": 49, "labels": ["Node"]}}
{"type": "relationship", "id": 1112, "labels": "subclass of", "start": {"id": 431, "labels": ["Node"]}, "end": {"id": 820, "labels": ["Node"]}}
{"type": "relationship", "id": 1113, "labels": "subclass of", "start": {"id": 384, "labels": ["Node"]}, "end": {"id": 820, "labels": ["Node"]}}
{"type": "relationship", "id": 1114, "labels": "subclass of", "start": {"id": 431, "labels": ["Node"]}, "end": {"id": 687, "labels": ["Node"]}}
{"type": "relationship", "id": 1115, "labels": "subclass of", "start": {"id": 839, "labels": ["Node"]}, "end": {"id": 384, "labels": ["Node"]}}
{"type": "relationship", "id": 1116, "labels": "subclass of", "start": {"id": 700, "labels": ["Node"]}, "end": {"id": 384, "labels": ["Node"]}}
{"type": "relationship", "id": 1117, "labels": "publisher", "start": {"id": 821, "labels": ["Node"]}, "end": {"id": 66, "labels": ["Node"]}}
{"type": "relationship", "id": 1118, "labels": "subclass of", "start": {"id": 839, "labels": ["Node"]}, "end": {"id": 384, "labels": ["Node"]}}
{"type": "relationship", "id": 1119, "labels": "subclass of", "start": {"id": 839, "labels": ["Node"]}, "end": {"id": 384, "labels": ["Node"]}}
{"type": "relationship", "id": 1120, "labels": "subclass of", "start": {"id": 700, "labels": ["Node"]}, "end": {"id": 384, "labels": ["Node"]}}
{"type": "relationship", "id": 1121, "labels": "subclass of", "start": {"id": 839, "labels": ["Node"]}, "end": {"id": 384, "labels": ["Node"]}}
{"type": "relationship", "id": 1122, "labels": "instance of", "start": {"id": 76, "labels": ["Node"]}, "end": {"id": 660, "labels": ["Node"]}}
{"type": "relationship", "id": 1123, "labels": "developer", "start": {"id": 341, "labels": ["Node"]}, "end": {"id": 676, "labels": ["Node"]}}
{"type": "relationship", "id": 1124, "labels": "manufacturer", "start": {"id": 341, "labels": ["Node"]}, "end": {"id": 676, "labels": ["Node"]}}
{"type": "relationship", "id": 1125, "labels": "product or material produced", "start": {"id": 676, "labels": ["Node"]}, "end": {"id": 671, "labels": ["Node"]}}
{"type": "relationship", "id": 1126, "labels": "maintained by", "start": {"id": 609, "labels": ["Node"]}, "end": {"id": 174, "labels": ["Node"]}}
{"type": "relationship", "id": 1127, "labels": "part of", "start": {"id": 406, "labels": ["Node"]}, "end": {"id": 231, "labels": ["Node"]}}
{"type": "relationship", "id": 1128, "labels": "has effect", "start": {"id": 276, "labels": ["Node"]}, "end": {"id": 682, "labels": ["Node"]}}
{"type": "relationship", "id": 1129, "labels": "manufacturer", "start": {"id": 79, "labels": ["Node"]}, "end": {"id": 676, "labels": ["Node"]}}
{"type": "relationship", "id": 1130, "labels": "use", "start": {"id": 79, "labels": ["Node"]}, "end": {"id": 671, "labels": ["Node"]}}
{"type": "relationship", "id": 1131, "labels": "developer", "start": {"id": 79, "labels": ["Node"]}, "end": {"id": 676, "labels": ["Node"]}}
{"type": "relationship", "id": 1132, "labels": "operating system", "start": {"id": 299, "labels": ["Node"]}, "end": {"id": 363, "labels": ["Node"]}}
{"type": "relationship", "id": 1133, "labels": "use", "start": {"id": 299, "labels": ["Node"]}, "end": {"id": 0, "labels": ["Node"]}}
{"type": "relationship", "id": 1134, "labels": "instance of", "start": {"id": 299, "labels": ["Node"]}, "end": {"id": 0, "labels": ["Node"]}}
{"type": "relationship", "id": 1135, "labels": "part of", "start": {"id": 712, "labels": ["Node"]}, "end": {"id": 384, "labels": ["Node"]}}
{"type": "relationship", "id": 1136, "labels": "manufacturer", "start": {"id": 702, "labels": ["Node"]}, "end": {"id": 676, "labels": ["Node"]}}
{"type": "relationship", "id": 1137, "labels": "product or material produced", "start": {"id": 676, "labels": ["Node"]}, "end": {"id": 384, "labels": ["Node"]}}
{"type": "relationship", "id": 1138, "labels": "opposite of", "start": {"id": 110, "labels": ["Node"]}, "end": {"id": 436, "labels": ["Node"]}}
{"type": "relationship", "id": 1139, "labels": "opposite of", "start": {"id": 439, "labels": ["Node"]}, "end": {"id": 436, "labels": ["Node"]}}
{"type": "relationship", "id": 1140, "labels": "opposite of", "start": {"id": 29, "labels": ["Node"]}, "end": {"id": 439, "labels": ["Node"]}}
{"type": "relationship", "id": 1141, "labels": "opposite of", "start": {"id": 436, "labels": ["Node"]}, "end": {"id": 110, "labels": ["Node"]}}
{"type": "relationship", "id": 1142, "labels": "point in time", "start": {"id": 600, "labels": ["Node"]}, "end": {"id": 716, "labels": ["Node"]}}
{"type": "relationship", "id": 1143, "labels": "subclass of", "start": {"id": 650, "labels": ["Node"]}, "end": {"id": 58, "labels": ["Node"]}}
{"type": "relationship", "id": 1144, "labels": "manufacturer", "start": {"id": 257, "labels": ["Node"]}, "end": {"id": 676, "labels": ["Node"]}}
{"type": "relationship", "id": 1145, "labels": "instance of", "start": {"id": 650, "labels": ["Node"]}, "end": {"id": 58, "labels": ["Node"]}}
{"type": "relationship", "id": 1146, "labels": "instance of", "start": {"id": 534, "labels": ["Node"]}, "end": {"id": 865, "labels": ["Node"]}}
{"type": "relationship", "id": 1147, "labels": "instance of", "start": {"id": 534, "labels": ["Node"]}, "end": {"id": 384, "labels": ["Node"]}}
{"type": "relationship", "id": 1148, "labels": "manufacturer", "start": {"id": 731, "labels": ["Node"]}, "end": {"id": 572, "labels": ["Node"]}}
{"type": "relationship", "id": 1149, "labels": "maintained by", "start": {"id": 609, "labels": ["Node"]}, "end": {"id": 174, "labels": ["Node"]}}
{"type": "relationship", "id": 1150, "labels": "part of", "start": {"id": 406, "labels": ["Node"]}, "end": {"id": 231, "labels": ["Node"]}}
{"type": "relationship", "id": 1151, "labels": "has effect", "start": {"id": 276, "labels": ["Node"]}, "end": {"id": 682, "labels": ["Node"]}}
{"type": "relationship", "id": 1152, "labels": "instance of", "start": {"id": 717, "labels": ["Node"]}, "end": {"id": 384, "labels": ["Node"]}}
{"type": "relationship", "id": 1153, "labels": "instance of", "start": {"id": 534, "labels": ["Node"]}, "end": {"id": 384, "labels": ["Node"]}}
{"type": "relationship", "id": 1154, "labels": "instance of", "start": {"id": 534, "labels": ["Node"]}, "end": {"id": 211, "labels": ["Node"]}}
{"type": "relationship", "id": 1155, "labels": "subclass of", "start": {"id": 717, "labels": ["Node"]}, "end": {"id": 814, "labels": ["Node"]}}
{"type": "relationship", "id": 1156, "labels": "instance of", "start": {"id": 717, "labels": ["Node"]}, "end": {"id": 814, "labels": ["Node"]}}
{"type": "relationship", "id": 1157, "labels": "subclass of", "start": {"id": 534, "labels": ["Node"]}, "end": {"id": 814, "labels": ["Node"]}}
{"type": "relationship", "id": 1158, "labels": "opposite of", "start": {"id": 110, "labels": ["Node"]}, "end": {"id": 436, "labels": ["Node"]}}
{"type": "relationship", "id": 1159, "labels": "opposite of", "start": {"id": 439, "labels": ["Node"]}, "end": {"id": 436, "labels": ["Node"]}}
{"type": "relationship", "id": 1160, "labels": "opposite of", "start": {"id": 29, "labels": ["Node"]}, "end": {"id": 439, "labels": ["Node"]}}
{"type": "relationship", "id": 1161, "labels": "opposite of", "start": {"id": 436, "labels": ["Node"]}, "end": {"id": 110, "labels": ["Node"]}}
{"type": "relationship", "id": 1162, "labels": "point in time", "start": {"id": 600, "labels": ["Node"]}, "end": {"id": 716, "labels": ["Node"]}}
{"type": "relationship", "id": 1163, "labels": "manufacturer", "start": {"id": 731, "labels": ["Node"]}, "end": {"id": 572, "labels": ["Node"]}}
{"type": "relationship", "id": 1164, "labels": "manufacturer", "start": {"id": 721, "labels": ["Node"]}, "end": {"id": 572, "labels": ["Node"]}}
{"type": "relationship", "id": 1165, "labels": "subclass of", "start": {"id": 717, "labels": ["Node"]}, "end": {"id": 721, "labels": ["Node"]}}
{"type": "relationship", "id": 1166, "labels": "instance of", "start": {"id": 456, "labels": ["Node"]}, "end": {"id": 384, "labels": ["Node"]}}
{"type": "relationship", "id": 1167, "labels": "subclass of", "start": {"id": 315, "labels": ["Node"]}, "end": {"id": 384, "labels": ["Node"]}}
{"type": "relationship", "id": 1168, "labels": "subclass of", "start": {"id": 456, "labels": ["Node"]}, "end": {"id": 384, "labels": ["Node"]}}
{"type": "relationship", "id": 1169, "labels": "maintained by", "start": {"id": 609, "labels": ["Node"]}, "end": {"id": 174, "labels": ["Node"]}}
{"type": "relationship", "id": 1170, "labels": "part of", "start": {"id": 406, "labels": ["Node"]}, "end": {"id": 231, "labels": ["Node"]}}
{"type": "relationship", "id": 1171, "labels": "has effect", "start": {"id": 276, "labels": ["Node"]}, "end": {"id": 682, "labels": ["Node"]}}
{"type": "relationship", "id": 1172, "labels": "subclass of", "start": {"id": 817, "labels": ["Node"]}, "end": {"id": 865, "labels": ["Node"]}}
{"type": "relationship", "id": 1173, "labels": "instance of", "start": {"id": 456, "labels": ["Node"]}, "end": {"id": 817, "labels": ["Node"]}}
{"type": "relationship", "id": 1174, "labels": "instance of", "start": {"id": 315, "labels": ["Node"]}, "end": {"id": 817, "labels": ["Node"]}}
{"type": "relationship", "id": 1175, "labels": "subclass of", "start": {"id": 635, "labels": ["Node"]}, "end": {"id": 482, "labels": ["Node"]}}
{"type": "relationship", "id": 1176, "labels": "uses", "start": {"id": 635, "labels": ["Node"]}, "end": {"id": 482, "labels": ["Node"]}}
{"type": "relationship", "id": 1177, "labels": "uses", "start": {"id": 62, "labels": ["Node"]}, "end": {"id": 482, "labels": ["Node"]}}
{"type": "relationship", "id": 1178, "labels": "uses", "start": {"id": 603, "labels": ["Node"]}, "end": {"id": 371, "labels": ["Node"]}}
{"type": "relationship", "id": 1179, "labels": "operating system", "start": {"id": 603, "labels": ["Node"]}, "end": {"id": 371, "labels": ["Node"]}}
{"type": "relationship", "id": 1180, "labels": "instance of", "start": {"id": 371, "labels": ["Node"]}, "end": {"id": 199, "labels": ["Node"]}}
{"type": "relationship", "id": 1181, "labels": "opposite of", "start": {"id": 110, "labels": ["Node"]}, "end": {"id": 436, "labels": ["Node"]}}
{"type": "relationship", "id": 1182, "labels": "opposite of", "start": {"id": 439, "labels": ["Node"]}, "end": {"id": 436, "labels": ["Node"]}}
{"type": "relationship", "id": 1183, "labels": "opposite of", "start": {"id": 29, "labels": ["Node"]}, "end": {"id": 439, "labels": ["Node"]}}
{"type": "relationship", "id": 1184, "labels": "opposite of", "start": {"id": 436, "labels": ["Node"]}, "end": {"id": 110, "labels": ["Node"]}}
{"type": "relationship", "id": 1185, "labels": "point in time", "start": {"id": 600, "labels": ["Node"]}, "end": {"id": 716, "labels": ["Node"]}}
{"type": "relationship", "id": 1186, "labels": "product or material produced", "start": {"id": 603, "labels": ["Node"]}, "end": {"id": 357, "labels": ["Node"]}}
{"type": "relationship", "id": 1187, "labels": "subclass of", "start": {"id": 336, "labels": ["Node"]}, "end": {"id": 357, "labels": ["Node"]}}
{"type": "relationship", "id": 1188, "labels": "product or material produced", "start": {"id": 603, "labels": ["Node"]}, "end": {"id": 456, "labels": ["Node"]}}
{"type": "relationship", "id": 1189, "labels": "manufacturer", "start": {"id": 456, "labels": ["Node"]}, "end": {"id": 603, "labels": ["Node"]}}
{"type": "relationship", "id": 1190, "labels": "inception", "start": {"id": 371, "labels": ["Node"]}, "end": {"id": 343, "labels": ["Node"]}}
{"type": "relationship", "id": 1191, "labels": "subclass of", "start": {"id": 371, "labels": ["Node"]}, "end": {"id": 384, "labels": ["Node"]}}
{"type": "relationship", "id": 1192, "labels": "part of", "start": {"id": 371, "labels": ["Node"]}, "end": {"id": 343, "labels": ["Node"]}}
{"type": "relationship", "id": 1193, "labels": "maintained by", "start": {"id": 609, "labels": ["Node"]}, "end": {"id": 174, "labels": ["Node"]}}
{"type": "relationship", "id": 1194, "labels": "part of", "start": {"id": 406, "labels": ["Node"]}, "end": {"id": 231, "labels": ["Node"]}}
{"type": "relationship", "id": 1195, "labels": "has effect", "start": {"id": 276, "labels": ["Node"]}, "end": {"id": 682, "labels": ["Node"]}}
{"type": "relationship", "id": 1196, "labels": "use", "start": {"id": 750, "labels": ["Node"]}, "end": {"id": 647, "labels": ["Node"]}}
{"type": "relationship", "id": 1197, "labels": "has part", "start": {"id": 405, "labels": ["Node"]}, "end": {"id": 862, "labels": ["Node"]}}
{"type": "relationship", "id": 1198, "labels": "part of", "start": {"id": 405, "labels": ["Node"]}, "end": {"id": 793, "labels": ["Node"]}}
{"type": "relationship", "id": 1199, "labels": "facet of", "start": {"id": 452, "labels": ["Node"]}, "end": {"id": 384, "labels": ["Node"]}}
{"type": "relationship", "id": 1200, "labels": "has part", "start": {"id": 384, "labels": ["Node"]}, "end": {"id": 226, "labels": ["Node"]}}
{"type": "relationship", "id": 1201, "labels": "part of", "start": {"id": 239, "labels": ["Node"]}, "end": {"id": 384, "labels": ["Node"]}}
{"type": "relationship", "id": 1202, "labels": "use", "start": {"id": 329, "labels": ["Node"]}, "end": {"id": 385, "labels": ["Node"]}}
{"type": "relationship", "id": 1203, "labels": "subclass of", "start": {"id": 329, "labels": ["Node"]}, "end": {"id": 385, "labels": ["Node"]}}
{"type": "relationship", "id": 1204, "labels": "use", "start": {"id": 329, "labels": ["Node"]}, "end": {"id": 385, "labels": ["Node"]}}
{"type": "relationship", "id": 1205, "labels": "opposite of", "start": {"id": 110, "labels": ["Node"]}, "end": {"id": 436, "labels": ["Node"]}}
{"type": "relationship", "id": 1206, "labels": "opposite of", "start": {"id": 439, "labels": ["Node"]}, "end": {"id": 436, "labels": ["Node"]}}
{"type": "relationship", "id": 1207, "labels": "opposite of", "start": {"id": 29, "labels": ["Node"]}, "end": {"id": 439, "labels": ["Node"]}}
{"type": "relationship", "id": 1208, "labels": "opposite of", "start": {"id": 436, "labels": ["Node"]}, "end": {"id": 110, "labels": ["Node"]}}
{"type": "relationship", "id": 1209, "labels": "point in time", "start": {"id": 600, "labels": ["Node"]}, "end": {"id": 716, "labels": ["Node"]}}
{"type": "relationship", "id": 1210, "labels": "product or material produced", "start": {"id": 744, "labels": ["Node"]}, "end": {"id": 692, "labels": ["Node"]}}
{"type": "relationship", "id": 1211, "labels": "subclass of", "start": {"id": 744, "labels": ["Node"]}, "end": {"id": 692, "labels": ["Node"]}}
{"type": "relationship", "id": 1212, "labels": "subclass of", "start": {"id": 700, "labels": ["Node"]}, "end": {"id": 692, "labels": ["Node"]}}
{"type": "relationship", "id": 1213, "labels": "subclass of", "start": {"id": 769, "labels": ["Node"]}, "end": {"id": 431, "labels": ["Node"]}}
{"type": "relationship", "id": 1214, "labels": "instance of", "start": {"id": 769, "labels": ["Node"]}, "end": {"id": 431, "labels": ["Node"]}}
{"type": "relationship", "id": 1215, "labels": "instance of", "start": {"id": 769, "labels": ["Node"]}, "end": {"id": 384, "labels": ["Node"]}}
{"type": "relationship", "id": 1216, "labels": "maintained by", "start": {"id": 609, "labels": ["Node"]}, "end": {"id": 174, "labels": ["Node"]}}
{"type": "relationship", "id": 1217, "labels": "part of", "start": {"id": 406, "labels": ["Node"]}, "end": {"id": 231, "labels": ["Node"]}}
{"type": "relationship", "id": 1218, "labels": "has effect", "start": {"id": 276, "labels": ["Node"]}, "end": {"id": 682, "labels": ["Node"]}}
{"type": "relationship", "id": 1219, "labels": "subclass of", "start": {"id": 608, "labels": ["Node"]}, "end": {"id": 319, "labels": ["Node"]}}
{"type": "relationship", "id": 1220, "labels": "instance of", "start": {"id": 608, "labels": ["Node"]}, "end": {"id": 319, "labels": ["Node"]}}
{"type": "relationship", "id": 1221, "labels": "subclass of", "start": {"id": 608, "labels": ["Node"]}, "end": {"id": 319, "labels": ["Node"]}}
{"type": "relationship", "id": 1222, "labels": "subclass of", "start": {"id": 143, "labels": ["Node"]}, "end": {"id": 384, "labels": ["Node"]}}
{"type": "relationship", "id": 1223, "labels": "instance of", "start": {"id": 769, "labels": ["Node"]}, "end": {"id": 384, "labels": ["Node"]}}
{"type": "relationship", "id": 1224, "labels": "instance of", "start": {"id": 769, "labels": ["Node"]}, "end": {"id": 211, "labels": ["Node"]}}
{"type": "relationship", "id": 1225, "labels": "subclass of", "start": {"id": 719, "labels": ["Node"]}, "end": {"id": 871, "labels": ["Node"]}}
{"type": "relationship", "id": 1226, "labels": "different from", "start": {"id": 871, "labels": ["Node"]}, "end": {"id": 719, "labels": ["Node"]}}
{"type": "relationship", "id": 1227, "labels": "different from", "start": {"id": 719, "labels": ["Node"]}, "end": {"id": 871, "labels": ["Node"]}}
{"type": "relationship", "id": 1228, "labels": "opposite of", "start": {"id": 110, "labels": ["Node"]}, "end": {"id": 436, "labels": ["Node"]}}
{"type": "relationship", "id": 1229, "labels": "opposite of", "start": {"id": 439, "labels": ["Node"]}, "end": {"id": 436, "labels": ["Node"]}}
{"type": "relationship", "id": 1230, "labels": "opposite of", "start": {"id": 29, "labels": ["Node"]}, "end": {"id": 439, "labels": ["Node"]}}
{"type": "relationship", "id": 1231, "labels": "opposite of", "start": {"id": 436, "labels": ["Node"]}, "end": {"id": 110, "labels": ["Node"]}}
{"type": "relationship", "id": 1232, "labels": "point in time", "start": {"id": 600, "labels": ["Node"]}, "end": {"id": 716, "labels": ["Node"]}}
{"type": "relationship", "id": 1233, "labels": "product or material produced", "start": {"id": 769, "labels": ["Node"]}, "end": {"id": 384, "labels": ["Node"]}}
{"type": "relationship", "id": 1234, "labels": "instance of", "start": {"id": 510, "labels": ["Node"]}, "end": {"id": 384, "labels": ["Node"]}}
{"type": "relationship", "id": 1235, "labels": "subclass of", "start": {"id": 510, "labels": ["Node"]}, "end": {"id": 384, "labels": ["Node"]}}
{"type": "relationship", "id": 1236, "labels": "subclass of", "start": {"id": 865, "labels": ["Node"]}, "end": {"id": 384, "labels": ["Node"]}}
{"type": "relationship", "id": 1237, "labels": "subclass of", "start": {"id": 700, "labels": ["Node"]}, "end": {"id": 865, "labels": ["Node"]}}
{"type": "relationship", "id": 1238, "labels": "subclass of", "start": {"id": 700, "labels": ["Node"]}, "end": {"id": 384, "labels": ["Node"]}}
{"type": "relationship", "id": 1239, "labels": "maintained by", "start": {"id": 609, "labels": ["Node"]}, "end": {"id": 174, "labels": ["Node"]}}
{"type": "relationship", "id": 1240, "labels": "part of", "start": {"id": 406, "labels": ["Node"]}, "end": {"id": 231, "labels": ["Node"]}}
{"type": "relationship", "id": 1241, "labels": "has effect", "start": {"id": 276, "labels": ["Node"]}, "end": {"id": 682, "labels": ["Node"]}}
{"type": "relationship", "id": 1242, "labels": "subclass of", "start": {"id": 622, "labels": ["Node"]}, "end": {"id": 855, "labels": ["Node"]}}
{"type": "relationship", "id": 1243, "labels": "subclass of", "start": {"id": 622, "labels": ["Node"]}, "end": {"id": 823, "labels": ["Node"]}}
{"type": "relationship", "id": 1244, "labels": "instance of", "start": {"id": 622, "labels": ["Node"]}, "end": {"id": 823, "labels": ["Node"]}}
{"type": "relationship", "id": 1245, "labels": "subclass of", "start": {"id": 700, "labels": ["Node"]}, "end": {"id": 865, "labels": ["Node"]}}
{"type": "relationship", "id": 1246, "labels": "subclass of", "start": {"id": 844, "labels": ["Node"]}, "end": {"id": 384, "labels": ["Node"]}}
{"type": "relationship", "id": 1247, "labels": "different from", "start": {"id": 384, "labels": ["Node"]}, "end": {"id": 865, "labels": ["Node"]}}
{"type": "relationship", "id": 1248, "labels": "opposite of", "start": {"id": 110, "labels": ["Node"]}, "end": {"id": 436, "labels": ["Node"]}}
{"type": "relationship", "id": 1249, "labels": "opposite of", "start": {"id": 439, "labels": ["Node"]}, "end": {"id": 436, "labels": ["Node"]}}
{"type": "relationship", "id": 1250, "labels": "opposite of", "start": {"id": 29, "labels": ["Node"]}, "end": {"id": 439, "labels": ["Node"]}}
{"type": "relationship", "id": 1251, "labels": "opposite of", "start": {"id": 436, "labels": ["Node"]}, "end": {"id": 110, "labels": ["Node"]}}
{"type": "relationship", "id": 1252, "labels": "point in time", "start": {"id": 600, "labels": ["Node"]}, "end": {"id": 716, "labels": ["Node"]}}
{"type": "relationship", "id": 1253, "labels": "uses", "start": {"id": 839, "labels": ["Node"]}, "end": {"id": 371, "labels": ["Node"]}}
{"type": "relationship", "id": 1254, "labels": "product or material produced", "start": {"id": 292, "labels": ["Node"]}, "end": {"id": 839, "labels": ["Node"]}}
{"type": "relationship", "id": 1255, "labels": "subclass of", "start": {"id": 839, "labels": ["Node"]}, "end": {"id": 143, "labels": ["Node"]}}
{"type": "relationship", "id": 1256, "labels": "instance of", "start": {"id": 205, "labels": ["Node"]}, "end": {"id": 384, "labels": ["Node"]}}
{"type": "relationship", "id": 1257, "labels": "product or material produced", "start": {"id": 205, "labels": ["Node"]}, "end": {"id": 384, "labels": ["Node"]}}
{"type": "relationship", "id": 1258, "labels": "instance of", "start": {"id": 288, "labels": ["Node"]}, "end": {"id": 384, "labels": ["Node"]}}
{"type": "relationship", "id": 1259, "labels": "maintained by", "start": {"id": 609, "labels": ["Node"]}, "end": {"id": 174, "labels": ["Node"]}}
{"type": "relationship", "id": 1260, "labels": "part of", "start": {"id": 406, "labels": ["Node"]}, "end": {"id": 231, "labels": ["Node"]}}
{"type": "relationship", "id": 1261, "labels": "has effect", "start": {"id": 276, "labels": ["Node"]}, "end": {"id": 682, "labels": ["Node"]}}
{"type": "relationship", "id": 1262, "labels": "subclass of", "start": {"id": 222, "labels": ["Node"]}, "end": {"id": 454, "labels": ["Node"]}}
{"type": "relationship", "id": 1263, "labels": "subclass of", "start": {"id": 638, "labels": ["Node"]}, "end": {"id": 454, "labels": ["Node"]}}
{"type": "relationship", "id": 1264, "labels": "uses", "start": {"id": 222, "labels": ["Node"]}, "end": {"id": 482, "labels": ["Node"]}}
{"type": "relationship", "id": 1265, "labels": "subclass of", "start": {"id": 844, "labels": ["Node"]}, "end": {"id": 384, "labels": ["Node"]}}
{"type": "relationship", "id": 1266, "labels": "subclass of", "start": {"id": 700, "labels": ["Node"]}, "end": {"id": 865, "labels": ["Node"]}}
{"type": "relationship", "id": 1267, "labels": "subclass of", "start": {"id": 700, "labels": ["Node"]}, "end": {"id": 384, "labels": ["Node"]}}
{"type": "relationship", "id": 1268, "labels": "opposite of", "start": {"id": 110, "labels": ["Node"]}, "end": {"id": 436, "labels": ["Node"]}}
{"type": "relationship", "id": 1269, "labels": "opposite of", "start": {"id": 439, "labels": ["Node"]}, "end": {"id": 436, "labels": ["Node"]}}
{"type": "relationship", "id": 1270, "labels": "opposite of", "start": {"id": 29, "labels": ["Node"]}, "end": {"id": 439, "labels": ["Node"]}}
{"type": "relationship", "id": 1271, "labels": "opposite of", "start": {"id": 436, "labels": ["Node"]}, "end": {"id": 110, "labels": ["Node"]}}
{"type": "relationship", "id": 1272, "labels": "point in time", "start": {"id": 600, "labels": ["Node"]}, "end": {"id": 716, "labels": ["Node"]}}
{"type": "relationship", "id": 1273, "labels": "subclass of", "start": {"id": 700, "labels": ["Node"]}, "end": {"id": 384, "labels": ["Node"]}}
{"type": "relationship", "id": 1274, "labels": "product or material produced", "start": {"id": 205, "labels": ["Node"]}, "end": {"id": 384, "labels": ["Node"]}}
{"type": "relationship", "id": 1275, "labels": "has part", "start": {"id": 127, "labels": ["Node"]}, "end": {"id": 700, "labels": ["Node"]}}
{"type": "relationship", "id": 1276, "labels": "product or material produced", "start": {"id": 63, "labels": ["Node"]}, "end": {"id": 384, "labels": ["Node"]}}
{"type": "relationship", "id": 1277, "labels": "product or material produced", "start": {"id": 714, "labels": ["Node"]}, "end": {"id": 384, "labels": ["Node"]}}
{"type": "relationship", "id": 1278, "labels": "instance of", "start": {"id": 23, "labels": ["Node"]}, "end": {"id": 384, "labels": ["Node"]}}
{"type": "relationship", "id": 1279, "labels": "maintained by", "start": {"id": 609, "labels": ["Node"]}, "end": {"id": 174, "labels": ["Node"]}}
{"type": "relationship", "id": 1280, "labels": "part of", "start": {"id": 406, "labels": ["Node"]}, "end": {"id": 231, "labels": ["Node"]}}
{"type": "relationship", "id": 1281, "labels": "has effect", "start": {"id": 276, "labels": ["Node"]}, "end": {"id": 682, "labels": ["Node"]}}
{"type": "relationship", "id": 1282, "labels": "instance of", "start": {"id": 227, "labels": ["Node"]}, "end": {"id": 55, "labels": ["Node"]}}
{"type": "relationship", "id": 1283, "labels": "instance of", "start": {"id": 159, "labels": ["Node"]}, "end": {"id": 55, "labels": ["Node"]}}
{"type": "relationship", "id": 1284, "labels": "instance of", "start": {"id": 102, "labels": ["Node"]}, "end": {"id": 55, "labels": ["Node"]}}
{"type": "relationship", "id": 1285, "labels": "subclass of", "start": {"id": 816, "labels": ["Node"]}, "end": {"id": 384, "labels": ["Node"]}}
{"type": "relationship", "id": 1286, "labels": "subclass of", "start": {"id": 366, "labels": ["Node"]}, "end": {"id": 384, "labels": ["Node"]}}
{"type": "relationship", "id": 1287, "labels": "subclass of", "start": {"id": 689, "labels": ["Node"]}, "end": {"id": 384, "labels": ["Node"]}}
{"type": "relationship", "id": 1288, "labels": "subclass of", "start": {"id": 602, "labels": ["Node"]}, "end": {"id": 712, "labels": ["Node"]}}
{"type": "relationship", "id": 1289, "labels": "product or material produced", "start": {"id": 63, "labels": ["Node"]}, "end": {"id": 712, "labels": ["Node"]}}
{"type": "relationship", "id": 1290, "labels": "part of", "start": {"id": 712, "labels": ["Node"]}, "end": {"id": 712, "labels": ["Node"]}}
{"type": "relationship", "id": 1291, "labels": "opposite of", "start": {"id": 110, "labels": ["Node"]}, "end": {"id": 436, "labels": ["Node"]}}
{"type": "relationship", "id": 1292, "labels": "opposite of", "start": {"id": 439, "labels": ["Node"]}, "end": {"id": 436, "labels": ["Node"]}}
{"type": "relationship", "id": 1293, "labels": "opposite of", "start": {"id": 29, "labels": ["Node"]}, "end": {"id": 439, "labels": ["Node"]}}
{"type": "relationship", "id": 1294, "labels": "opposite of", "start": {"id": 436, "labels": ["Node"]}, "end": {"id": 110, "labels": ["Node"]}}
{"type": "relationship", "id": 1295, "labels": "point in time", "start": {"id": 600, "labels": ["Node"]}, "end": {"id": 716, "labels": ["Node"]}}
{"type": "relationship", "id": 1296, "labels": "manufacturer", "start": {"id": 661, "labels": ["Node"]}, "end": {"id": 63, "labels": ["Node"]}}
{"type": "relationship", "id": 1297, "labels": "product or material produced", "start": {"id": 63, "labels": ["Node"]}, "end": {"id": 581, "labels": ["Node"]}}
{"type": "relationship", "id": 1298, "labels": "manufacturer", "start": {"id": 581, "labels": ["Node"]}, "end": {"id": 63, "labels": ["Node"]}}
{"type": "relationship", "id": 1299, "labels": "subclass of", "start": {"id": 661, "labels": ["Node"]}, "end": {"id": 581, "labels": ["Node"]}}
{"type": "relationship", "id": 1300, "labels": "instance of", "start": {"id": 562, "labels": ["Node"]}, "end": {"id": 384, "labels": ["Node"]}}
{"type": "relationship", "id": 1301, "labels": "subclass of", "start": {"id": 562, "labels": ["Node"]}, "end": {"id": 384, "labels": ["Node"]}}
{"type": "relationship", "id": 1302, "labels": "uses", "start": {"id": 562, "labels": ["Node"]}, "end": {"id": 428, "labels": ["Node"]}}
{"type": "relationship", "id": 1303, "labels": "maintained by", "start": {"id": 609, "labels": ["Node"]}, "end": {"id": 174, "labels": ["Node"]}}
{"type": "relationship", "id": 1304, "labels": "part of", "start": {"id": 406, "labels": ["Node"]}, "end": {"id": 231, "labels": ["Node"]}}
{"type": "relationship", "id": 1305, "labels": "has effect", "start": {"id": 276, "labels": ["Node"]}, "end": {"id": 682, "labels": ["Node"]}}
{"type": "relationship", "id": 1306, "labels": "subclass of", "start": {"id": 625, "labels": ["Node"]}, "end": {"id": 49, "labels": ["Node"]}}
{"type": "relationship", "id": 1307, "labels": "subclass of", "start": {"id": 625, "labels": ["Node"]}, "end": {"id": 242, "labels": ["Node"]}}
{"type": "relationship", "id": 1308, "labels": "opposite of", "start": {"id": 49, "labels": ["Node"]}, "end": {"id": 242, "labels": ["Node"]}}
{"type": "relationship", "id": 1309, "labels": "subclass of", "start": {"id": 298, "labels": ["Node"]}, "end": {"id": 329, "labels": ["Node"]}}
{"type": "relationship", "id": 1310, "labels": "use", "start": {"id": 298, "labels": ["Node"]}, "end": {"id": 329, "labels": ["Node"]}}
{"type": "relationship", "id": 1311, "labels": "subclass of", "start": {"id": 298, "labels": ["Node"]}, "end": {"id": 329, "labels": ["Node"]}}
{"type": "relationship", "id": 1312, "labels": "opposite of", "start": {"id": 110, "labels": ["Node"]}, "end": {"id": 436, "labels": ["Node"]}}
{"type": "relationship", "id": 1313, "labels": "opposite of", "start": {"id": 439, "labels": ["Node"]}, "end": {"id": 436, "labels": ["Node"]}}
{"type": "relationship", "id": 1314, "labels": "opposite of", "start": {"id": 29, "labels": ["Node"]}, "end": {"id": 439, "labels": ["Node"]}}
{"type": "relationship", "id": 1315, "labels": "opposite of", "start": {"id": 436, "labels": ["Node"]}, "end": {"id": 110, "labels": ["Node"]}}
{"type": "relationship", "id": 1316, "labels": "point in time", "start": {"id": 600, "labels": ["Node"]}, "end": {"id": 716, "labels": ["Node"]}}
{"type": "relationship", "id": 1317, "labels": "manufacturer", "start": {"id": 839, "labels": ["Node"]}, "end": {"id": 194, "labels": ["Node"]}}
{"type": "relationship", "id": 1318, "labels": "manufacturer", "start": {"id": 751, "labels": ["Node"]}, "end": {"id": 194, "labels": ["Node"]}}
{"type": "relationship", "id": 1319, "labels": "owned by", "start": {"id": 751, "labels": ["Node"]}, "end": {"id": 194, "labels": ["Node"]}}
{"type": "relationship", "id": 1320, "labels": "product or material produced", "start": {"id": 779, "labels": ["Node"]}, "end": {"id": 384, "labels": ["Node"]}}
{"type": "relationship", "id": 1321, "labels": "instance of", "start": {"id": 407, "labels": ["Node"]}, "end": {"id": 431, "labels": ["Node"]}}
{"type": "relationship", "id": 1322, "labels": "product or material produced", "start": {"id": 779, "labels": ["Node"]}, "end": {"id": 431, "labels": ["Node"]}}
{"type": "relationship", "id": 1323, "labels": "maintained by", "start": {"id": 609, "labels": ["Node"]}, "end": {"id": 174, "labels": ["Node"]}}
{"type": "relationship", "id": 1324, "labels": "part of", "start": {"id": 406, "labels": ["Node"]}, "end": {"id": 231, "labels": ["Node"]}}
{"type": "relationship", "id": 1325, "labels": "has effect", "start": {"id": 276, "labels": ["Node"]}, "end": {"id": 682, "labels": ["Node"]}}
{"type": "relationship", "id": 1326, "labels": "uses", "start": {"id": 445, "labels": ["Node"]}, "end": {"id": 371, "labels": ["Node"]}}
{"type": "relationship", "id": 1327, "labels": "based on", "start": {"id": 445, "labels": ["Node"]}, "end": {"id": 371, "labels": ["Node"]}}
{"type": "relationship", "id": 1328, "labels": "based on", "start": {"id": 445, "labels": ["Node"]}, "end": {"id": 882, "labels": ["Node"]}}
{"type": "relationship", "id": 1329, "labels": "uses", "start": {"id": 779, "labels": ["Node"]}, "end": {"id": 371, "labels": ["Node"]}}
{"type": "relationship", "id": 1330, "labels": "instance of", "start": {"id": 779, "labels": ["Node"]}, "end": {"id": 692, "labels": ["Node"]}}
{"type": "relationship", "id": 1331, "labels": "subclass of", "start": {"id": 779, "labels": ["Node"]}, "end": {"id": 692, "labels": ["Node"]}}
{"type": "relationship", "id": 1332, "labels": "manufacturer", "start": {"id": 146, "labels": ["Node"]}, "end": {"id": 268, "labels": ["Node"]}}
{"type": "relationship", "id": 1333, "labels": "manufacturer", "start": {"id": 124, "labels": ["Node"]}, "end": {"id": 268, "labels": ["Node"]}}
{"type": "relationship", "id": 1334, "labels": "followed by", "start": {"id": 124, "labels": ["Node"]}, "end": {"id": 525, "labels": ["Node"]}}
{"type": "relationship", "id": 1335, "labels": "opposite of", "start": {"id": 110, "labels": ["Node"]}, "end": {"id": 436, "labels": ["Node"]}}
{"type": "relationship", "id": 1336, "labels": "opposite of", "start": {"id": 439, "labels": ["Node"]}, "end": {"id": 436, "labels": ["Node"]}}
{"type": "relationship", "id": 1337, "labels": "opposite of", "start": {"id": 29, "labels": ["Node"]}, "end": {"id": 439, "labels": ["Node"]}}
{"type": "relationship", "id": 1338, "labels": "opposite of", "start": {"id": 436, "labels": ["Node"]}, "end": {"id": 110, "labels": ["Node"]}}
{"type": "relationship", "id": 1339, "labels": "point in time", "start": {"id": 600, "labels": ["Node"]}, "end": {"id": 716, "labels": ["Node"]}}
{"type": "relationship", "id": 1340, "labels": "instance of", "start": {"id": 297, "labels": ["Node"]}, "end": {"id": 384, "labels": ["Node"]}}
{"type": "relationship", "id": 1341, "labels": "subclass of", "start": {"id": 297, "labels": ["Node"]}, "end": {"id": 384, "labels": ["Node"]}}
{"type": "relationship", "id": 1342, "labels": "product or material produced", "start": {"id": 779, "labels": ["Node"]}, "end": {"id": 839, "labels": ["Node"]}}
{"type": "relationship", "id": 1343, "labels": "subclass of", "start": {"id": 222, "labels": ["Node"]}, "end": {"id": 384, "labels": ["Node"]}}
{"type": "relationship", "id": 1344, "labels": "subclass of", "start": {"id": 496, "labels": ["Node"]}, "end": {"id": 384, "labels": ["Node"]}}
{"type": "relationship", "id": 1345, "labels": "part of", "start": {"id": 222, "labels": ["Node"]}, "end": {"id": 384, "labels": ["Node"]}}
{"type": "relationship", "id": 1346, "labels": "maintained by", "start": {"id": 609, "labels": ["Node"]}, "end": {"id": 174, "labels": ["Node"]}}
{"type": "relationship", "id": 1347, "labels": "part of", "start": {"id": 406, "labels": ["Node"]}, "end": {"id": 231, "labels": ["Node"]}}
{"type": "relationship", "id": 1348, "labels": "has effect", "start": {"id": 276, "labels": ["Node"]}, "end": {"id": 682, "labels": ["Node"]}}
{"type": "relationship", "id": 1349, "labels": "subclass of", "start": {"id": 712, "labels": ["Node"]}, "end": {"id": 384, "labels": ["Node"]}}
{"type": "relationship", "id": 1350, "labels": "part of", "start": {"id": 712, "labels": ["Node"]}, "end": {"id": 384, "labels": ["Node"]}}
{"type": "relationship", "id": 1351, "labels": "subclass of", "start": {"id": 156, "labels": ["Node"]}, "end": {"id": 384, "labels": ["Node"]}}
{"type": "relationship", "id": 1352, "labels": "product or material produced", "start": {"id": 543, "labels": ["Node"]}, "end": {"id": 384, "labels": ["Node"]}}
{"type": "relationship", "id": 1353, "labels": "product or material produced", "start": {"id": 543, "labels": ["Node"]}, "end": {"id": 170, "labels": ["Node"]}}
{"type": "relationship", "id": 1354, "labels": "point in time", "start": {"id": 128, "labels": ["Node"]}, "end": {"id": 659, "labels": ["Node"]}}
{"type": "relationship", "id": 1355, "labels": "opposite of", "start": {"id": 110, "labels": ["Node"]}, "end": {"id": 436, "labels": ["Node"]}}
{"type": "relationship", "id": 1356, "labels": "opposite of", "start": {"id": 439, "labels": ["Node"]}, "end": {"id": 436, "labels": ["Node"]}}
{"type": "relationship", "id": 1357, "labels": "opposite of", "start": {"id": 29, "labels": ["Node"]}, "end": {"id": 439, "labels": ["Node"]}}
{"type": "relationship", "id": 1358, "labels": "opposite of", "start": {"id": 436, "labels": ["Node"]}, "end": {"id": 110, "labels": ["Node"]}}
{"type": "relationship", "id": 1359, "labels": "point in time", "start": {"id": 600, "labels": ["Node"]}, "end": {"id": 716, "labels": ["Node"]}}
{"type": "relationship", "id": 1360, "labels": "product or material produced", "start": {"id": 543, "labels": ["Node"]}, "end": {"id": 384, "labels": ["Node"]}}
{"type": "relationship", "id": 1361, "labels": "product or material produced", "start": {"id": 543, "labels": ["Node"]}, "end": {"id": 101, "labels": ["Node"]}}
{"type": "relationship", "id": 1362, "labels": "subclass of", "start": {"id": 105, "labels": ["Node"]}, "end": {"id": 384, "labels": ["Node"]}}
{"type": "relationship", "id": 1363, "labels": "subclass of", "start": {"id": 20, "labels": ["Node"]}, "end": {"id": 384, "labels": ["Node"]}}
{"type": "relationship", "id": 1364, "labels": "facet of", "start": {"id": 145, "labels": ["Node"]}, "end": {"id": 384, "labels": ["Node"]}}
{"type": "relationship", "id": 1365, "labels": "use", "start": {"id": 384, "labels": ["Node"]}, "end": {"id": 145, "labels": ["Node"]}}
{"type": "relationship", "id": 1366, "labels": "subclass of", "start": {"id": 154, "labels": ["Node"]}, "end": {"id": 671, "labels": ["Node"]}}
{"type": "relationship", "id": 1367, "labels": "subclass of", "start": {"id": 840, "labels": ["Node"]}, "end": {"id": 671, "labels": ["Node"]}}
{"type": "relationship", "id": 1368, "labels": "use", "start": {"id": 689, "labels": ["Node"]}, "end": {"id": 671, "labels": ["Node"]}}
{"type": "relationship", "id": 1369, "labels": "subclass of", "start": {"id": 230, "labels": ["Node"]}, "end": {"id": 839, "labels": ["Node"]}}
{"type": "relationship", "id": 1370, "labels": "uses", "start": {"id": 143, "labels": ["Node"]}, "end": {"id": 371, "labels": ["Node"]}}
{"type": "relationship", "id": 1371, "labels": "uses", "start": {"id": 143, "labels": ["Node"]}, "end": {"id": 371, "labels": ["Node"]}}
{"type": "relationship", "id": 1372, "labels": "subclass of", "start": {"id": 839, "labels": ["Node"]}, "end": {"id": 384, "labels": ["Node"]}}
{"type": "relationship", "id": 1373, "labels": "subclass of", "start": {"id": 384, "labels": ["Node"]}, "end": {"id": 509, "labels": ["Node"]}}
{"type": "relationship", "id": 1374, "labels": "influenced by", "start": {"id": 197, "labels": ["Node"]}, "end": {"id": 367, "labels": ["Node"]}}
{"type": "relationship", "id": 1375, "labels": "inception", "start": {"id": 222, "labels": ["Node"]}, "end": {"id": 129, "labels": ["Node"]}}
{"type": "relationship", "id": 1376, "labels": "manufacturer", "start": {"id": 222, "labels": ["Node"]}, "end": {"id": 373, "labels": ["Node"]}}
{"type": "relationship", "id": 1377, "labels": "manufacturer", "start": {"id": 496, "labels": ["Node"]}, "end": {"id": 373, "labels": ["Node"]}}
{"type": "relationship", "id": 1378, "labels": "product or material produced", "start": {"id": 373, "labels": ["Node"]}, "end": {"id": 496, "labels": ["Node"]}}
{"type": "relationship", "id": 1379, "labels": "maintained by", "start": {"id": 609, "labels": ["Node"]}, "end": {"id": 174, "labels": ["Node"]}}
{"type": "relationship", "id": 1380, "labels": "part of", "start": {"id": 406, "labels": ["Node"]}, "end": {"id": 231, "labels": ["Node"]}}
{"type": "relationship", "id": 1381, "labels": "followed by", "start": {"id": 295, "labels": ["Node"]}, "end": {"id": 276, "labels": ["Node"]}}
{"type": "relationship", "id": 1382, "labels": "follows", "start": {"id": 276, "labels": ["Node"]}, "end": {"id": 295, "labels": ["Node"]}}
{"type": "relationship", "id": 1383, "labels": "part of", "start": {"id": 406, "labels": ["Node"]}, "end": {"id": 231, "labels": ["Node"]}}
{"type": "relationship", "id": 1384, "labels": "country", "start": {"id": 406, "labels": ["Node"]}, "end": {"id": 741, "labels": ["Node"]}}
{"type": "relationship", "id": 1385, "labels": "position held", "start": {"id": 229, "labels": ["Node"]}, "end": {"id": 216, "labels": ["Node"]}}
{"type": "relationship", "id": 1386, "labels": "instance of", "start": {"id": 178, "labels": ["Node"]}, "end": {"id": 860, "labels": ["Node"]}}
{"type": "relationship", "id": 1387, "labels": "uses", "start": {"id": 310, "labels": ["Node"]}, "end": {"id": 284, "labels": ["Node"]}}
{"type": "relationship", "id": 1388, "labels": "uses", "start": {"id": 310, "labels": ["Node"]}, "end": {"id": 522, "labels": ["Node"]}}
{"type": "relationship", "id": 1389, "labels": "point in time", "start": {"id": 182, "labels": ["Node"]}, "end": {"id": 126, "labels": ["Node"]}}
{"type": "relationship", "id": 1390, "labels": "point in time", "start": {"id": 86, "labels": ["Node"]}, "end": {"id": 126, "labels": ["Node"]}}
{"type": "relationship", "id": 1391, "labels": "part of", "start": {"id": 536, "labels": ["Node"]}, "end": {"id": 536, "labels": ["Node"]}}
{"type": "relationship", "id": 1392, "labels": "is a list of", "start": {"id": 536, "labels": ["Node"]}, "end": {"id": 536, "labels": ["Node"]}}
{"type": "relationship", "id": 1393, "labels": "part of the series", "start": {"id": 536, "labels": ["Node"]}, "end": {"id": 536, "labels": ["Node"]}}
{"type": "relationship", "id": 1394, "labels": "inception", "start": {"id": 612, "labels": ["Node"]}, "end": {"id": 537, "labels": ["Node"]}}
{"type": "relationship", "id": 1395, "labels": "publisher", "start": {"id": 612, "labels": ["Node"]}, "end": {"id": 440, "labels": ["Node"]}}
{"type": "relationship", "id": 1396, "labels": "start time", "start": {"id": 612, "labels": ["Node"]}, "end": {"id": 537, "labels": ["Node"]}}
{"type": "relationship", "id": 1397, "labels": "author", "start": {"id": 556, "labels": ["Node"]}, "end": {"id": 282, "labels": ["Node"]}}
{"type": "relationship", "id": 1398, "labels": "publication date", "start": {"id": 556, "labels": ["Node"]}, "end": {"id": 747, "labels": ["Node"]}}
{"type": "relationship", "id": 1399, "labels": "inception", "start": {"id": 573, "labels": ["Node"]}, "end": {"id": 129, "labels": ["Node"]}}
{"type": "relationship", "id": 1400, "labels": "inception", "start": {"id": 373, "labels": ["Node"]}, "end": {"id": 129, "labels": ["Node"]}}
{"type": "relationship", "id": 1401, "labels": "instance of", "start": {"id": 47, "labels": ["Node"]}, "end": {"id": 98, "labels": ["Node"]}}
{"type": "relationship", "id": 1402, "labels": "product or material produced", "start": {"id": 373, "labels": ["Node"]}, "end": {"id": 384, "labels": ["Node"]}}
{"type": "relationship", "id": 1403, "labels": "member of", "start": {"id": 326, "labels": ["Node"]}, "end": {"id": 425, "labels": ["Node"]}}
{"type": "relationship", "id": 1404, "labels": "has works in the collection", "start": {"id": 326, "labels": ["Node"]}, "end": {"id": 425, "labels": ["Node"]}}
{"type": "relationship", "id": 1405, "labels": "product or material produced", "start": {"id": 326, "labels": ["Node"]}, "end": {"id": 384, "labels": ["Node"]}}
{"type": "relationship", "id": 1406, "labels": "has part", "start": {"id": 384, "labels": ["Node"]}, "end": {"id": 808, "labels": ["Node"]}}
{"type": "relationship", "id": 1407, "labels": "product or material produced", "start": {"id": 673, "labels": ["Node"]}, "end": {"id": 384, "labels": ["Node"]}}
{"type": "relationship", "id": 1408, "labels": "product or material produced", "start": {"id": 673, "labels": ["Node"]}, "end": {"id": 839, "labels": ["Node"]}}
{"type": "relationship", "id": 1409, "labels": "subclass of", "start": {"id": 700, "labels": ["Node"]}, "end": {"id": 384, "labels": ["Node"]}}
{"type": "relationship", "id": 1410, "labels": "manufacturer", "start": {"id": 505, "labels": ["Node"]}, "end": {"id": 673, "labels": ["Node"]}}
{"type": "relationship", "id": 1411, "labels": "manufacturer", "start": {"id": 505, "labels": ["Node"]}, "end": {"id": 356, "labels": ["Node"]}}
{"type": "relationship", "id": 1412, "labels": "part of", "start": {"id": 505, "labels": ["Node"]}, "end": {"id": 356, "labels": ["Node"]}}
{"type": "relationship", "id": 1413, "labels": "manufacturer", "start": {"id": 81, "labels": ["Node"]}, "end": {"id": 673, "labels": ["Node"]}}
{"type": "relationship", "id": 1414, "labels": "owner of", "start": {"id": 260, "labels": ["Node"]}, "end": {"id": 673, "labels": ["Node"]}}
{"type": "relationship", "id": 1415, "labels": "record label", "start": {"id": 260, "labels": ["Node"]}, "end": {"id": 673, "labels": ["Node"]}}
{"type": "relationship", "id": 1416, "labels": "subclass of", "start": {"id": 700, "labels": ["Node"]}, "end": {"id": 384, "labels": ["Node"]}}
{"type": "relationship", "id": 1417, "labels": "instance of", "start": {"id": 700, "labels": ["Node"]}, "end": {"id": 384, "labels": ["Node"]}}
{"type": "relationship", "id": 1418, "labels": "subclass of", "start": {"id": 700, "labels": ["Node"]}, "end": {"id": 384, "labels": ["Node"]}}
{"type": "relationship", "id": 1419, "labels": "owner of", "start": {"id": 14, "labels": ["Node"]}, "end": {"id": 538, "labels": ["Node"]}}
{"type": "relationship", "id": 1420, "labels": "owned by", "start": {"id": 538, "labels": ["Node"]}, "end": {"id": 14, "labels": ["Node"]}}
{"type": "relationship", "id": 1421, "labels": "subsidiary", "start": {"id": 14, "labels": ["Node"]}, "end": {"id": 538, "labels": ["Node"]}}
{"type": "relationship", "id": 1422, "labels": "product or material produced", "start": {"id": 515, "labels": ["Node"]}, "end": {"id": 384, "labels": ["Node"]}}
{"type": "relationship", "id": 1423, "labels": "different from", "start": {"id": 515, "labels": ["Node"]}, "end": {"id": 333, "labels": ["Node"]}}
{"type": "relationship", "id": 1424, "labels": "product or material produced", "start": {"id": 551, "labels": ["Node"]}, "end": {"id": 384, "labels": ["Node"]}}
{"type": "relationship", "id": 1425, "labels": "subclass of", "start": {"id": 700, "labels": ["Node"]}, "end": {"id": 384, "labels": ["Node"]}}
{"type": "relationship", "id": 1426, "labels": "has part", "start": {"id": 384, "labels": ["Node"]}, "end": {"id": 644, "labels": ["Node"]}}
{"type": "relationship", "id": 1427, "labels": "part of", "start": {"id": 644, "labels": ["Node"]}, "end": {"id": 384, "labels": ["Node"]}}
{"type": "relationship", "id": 1428, "labels": "country", "start": {"id": 878, "labels": ["Node"]}, "end": {"id": 415, "labels": ["Node"]}}
{"type": "relationship", "id": 1429, "labels": "country of origin", "start": {"id": 878, "labels": ["Node"]}, "end": {"id": 415, "labels": ["Node"]}}
{"type": "relationship", "id": 1430, "labels": "country of citizenship", "start": {"id": 878, "labels": ["Node"]}, "end": {"id": 415, "labels": ["Node"]}}
{"type": "relationship", "id": 1431, "labels": "part of", "start": {"id": 222, "labels": ["Node"]}, "end": {"id": 31, "labels": ["Node"]}}
{"type": "relationship", "id": 1432, "labels": "use", "start": {"id": 222, "labels": ["Node"]}, "end": {"id": 31, "labels": ["Node"]}}
{"type": "relationship", "id": 1433, "labels": "has part", "start": {"id": 31, "labels": ["Node"]}, "end": {"id": 598, "labels": ["Node"]}}
{"type": "relationship", "id": 1434, "labels": "subclass of", "start": {"id": 598, "labels": ["Node"]}, "end": {"id": 31, "labels": ["Node"]}}
{"type": "relationship", "id": 1435, "labels": "instance of", "start": {"id": 505, "labels": ["Node"]}, "end": {"id": 197, "labels": ["Node"]}}
{"type": "relationship", "id": 1436, "labels": "instance of", "start": {"id": 505, "labels": ["Node"]}, "end": {"id": 367, "labels": ["Node"]}}
{"type": "relationship", "id": 1437, "labels": "subclass of", "start": {"id": 505, "labels": ["Node"]}, "end": {"id": 839, "labels": ["Node"]}}
{"type": "relationship", "id": 1438, "labels": "point in time", "start": {"id": 182, "labels": ["Node"]}, "end": {"id": 126, "labels": ["Node"]}}
{"type": "relationship", "id": 1439, "labels": "publication date", "start": {"id": 182, "labels": ["Node"]}, "end": {"id": 126, "labels": ["Node"]}}
{"type": "relationship", "id": 1440, "labels": "is a list of", "start": {"id": 182, "labels": ["Node"]}, "end": {"id": 839, "labels": ["Node"]}}
{"type": "relationship", "id": 1441, "labels": "maintained by", "start": {"id": 609, "labels": ["Node"]}, "end": {"id": 174, "labels": ["Node"]}}
{"type": "relationship", "id": 1442, "labels": "part of", "start": {"id": 406, "labels": ["Node"]}, "end": {"id": 231, "labels": ["Node"]}}
{"type": "relationship", "id": 1443, "labels": "has effect", "start": {"id": 276, "labels": ["Node"]}, "end": {"id": 682, "labels": ["Node"]}}
{"type": "relationship", "id": 1444, "labels": "owned by", "start": {"id": 255, "labels": ["Node"]}, "end": {"id": 14, "labels": ["Node"]}}
{"type": "relationship", "id": 1445, "labels": "owner of", "start": {"id": 14, "labels": ["Node"]}, "end": {"id": 255, "labels": ["Node"]}}
{"type": "relationship", "id": 1446, "labels": "owner of", "start": {"id": 14, "labels": ["Node"]}, "end": {"id": 538, "labels": ["Node"]}}
{"type": "relationship", "id": 1447, "labels": "subclass of", "start": {"id": 746, "labels": ["Node"]}, "end": {"id": 384, "labels": ["Node"]}}
{"type": "relationship", "id": 1448, "labels": "instance of", "start": {"id": 746, "labels": ["Node"]}, "end": {"id": 384, "labels": ["Node"]}}
{"type": "relationship", "id": 1449, "labels": "product or material produced", "start": {"id": 835, "labels": ["Node"]}, "end": {"id": 384, "labels": ["Node"]}}
{"type": "relationship", "id": 1450, "labels": "uses", "start": {"id": 149, "labels": ["Node"]}, "end": {"id": 190, "labels": ["Node"]}}
{"type": "relationship", "id": 1451, "labels": "uses", "start": {"id": 426, "labels": ["Node"]}, "end": {"id": 190, "labels": ["Node"]}}
{"type": "relationship", "id": 1452, "labels": "connects with", "start": {"id": 426, "labels": ["Node"]}, "end": {"id": 190, "labels": ["Node"]}}
{"type": "relationship", "id": 1453, "labels": "subclass of", "start": {"id": 746, "labels": ["Node"]}, "end": {"id": 839, "labels": ["Node"]}}
{"type": "relationship", "id": 1454, "labels": "instance of", "start": {"id": 746, "labels": ["Node"]}, "end": {"id": 839, "labels": ["Node"]}}
{"type": "relationship", "id": 1455, "labels": "has part", "start": {"id": 746, "labels": ["Node"]}, "end": {"id": 700, "labels": ["Node"]}}
{"type": "relationship", "id": 1456, "labels": "connects with", "start": {"id": 870, "labels": ["Node"]}, "end": {"id": 190, "labels": ["Node"]}}
{"type": "relationship", "id": 1457, "labels": "connects with", "start": {"id": 506, "labels": ["Node"]}, "end": {"id": 870, "labels": ["Node"]}}
{"type": "relationship", "id": 1458, "labels": "connects with", "start": {"id": 870, "labels": ["Node"]}, "end": {"id": 506, "labels": ["Node"]}}
{"type": "relationship", "id": 1459, "labels": "subclass of", "start": {"id": 550, "labels": ["Node"]}, "end": {"id": 384, "labels": ["Node"]}}
{"type": "relationship", "id": 1460, "labels": "subclass of", "start": {"id": 590, "labels": ["Node"]}, "end": {"id": 384, "labels": ["Node"]}}
{"type": "relationship", "id": 1461, "labels": "subclass of", "start": {"id": 281, "labels": ["Node"]}, "end": {"id": 384, "labels": ["Node"]}}
{"type": "relationship", "id": 1462, "labels": "manufacturer", "start": {"id": 746, "labels": ["Node"]}, "end": {"id": 835, "labels": ["Node"]}}
{"type": "relationship", "id": 1463, "labels": "uses", "start": {"id": 746, "labels": ["Node"]}, "end": {"id": 371, "labels": ["Node"]}}
{"type": "relationship", "id": 1464, "labels": "uses", "start": {"id": 684, "labels": ["Node"]}, "end": {"id": 371, "labels": ["Node"]}}
{"type": "relationship", "id": 1465, "labels": "uses", "start": {"id": 412, "labels": ["Node"]}, "end": {"id": 405, "labels": ["Node"]}}
{"type": "relationship", "id": 1466, "labels": "item operated", "start": {"id": 412, "labels": ["Node"]}, "end": {"id": 405, "labels": ["Node"]}}
{"type": "relationship", "id": 1467, "labels": "subclass of", "start": {"id": 412, "labels": ["Node"]}, "end": {"id": 405, "labels": ["Node"]}}
{"type": "relationship", "id": 1468, "labels": "subclass of", "start": {"id": 482, "labels": ["Node"]}, "end": {"id": 437, "labels": ["Node"]}}
{"type": "relationship", "id": 1469, "labels": "subclass of", "start": {"id": 793, "labels": ["Node"]}, "end": {"id": 437, "labels": ["Node"]}}
{"type": "relationship", "id": 1470, "labels": "subclass of", "start": {"id": 222, "labels": ["Node"]}, "end": {"id": 808, "labels": ["Node"]}}
{"type": "relationship", "id": 1471, "labels": "subclass of", "start": {"id": 307, "labels": ["Node"]}, "end": {"id": 823, "labels": ["Node"]}}
{"type": "relationship", "id": 1472, "labels": "facet of", "start": {"id": 307, "labels": ["Node"]}, "end": {"id": 823, "labels": ["Node"]}}
{"type": "relationship", "id": 1473, "labels": "part of", "start": {"id": 307, "labels": ["Node"]}, "end": {"id": 823, "labels": ["Node"]}}
{"type": "relationship", "id": 1474, "labels": "subclass of", "start": {"id": 575, "labels": ["Node"]}, "end": {"id": 184, "labels": ["Node"]}}
{"type": "relationship", "id": 1475, "labels": "facet of", "start": {"id": 575, "labels": ["Node"]}, "end": {"id": 184, "labels": ["Node"]}}
{"type": "relationship", "id": 1476, "labels": "part of", "start": {"id": 575, "labels": ["Node"]}, "end": {"id": 184, "labels": ["Node"]}}
{"type": "relationship", "id": 1477, "labels": "facet of", "start": {"id": 420, "labels": ["Node"]}, "end": {"id": 793, "labels": ["Node"]}}
{"type": "relationship", "id": 1478, "labels": "facet of", "start": {"id": 420, "labels": ["Node"]}, "end": {"id": 862, "labels": ["Node"]}}
{"type": "relationship", "id": 1479, "labels": "instance of", "start": {"id": 482, "labels": ["Node"]}, "end": {"id": 420, "labels": ["Node"]}}
{"type": "relationship", "id": 1480, "labels": "instance of", "start": {"id": 512, "labels": ["Node"]}, "end": {"id": 369, "labels": ["Node"]}}
{"type": "relationship", "id": 1481, "labels": "maintained by", "start": {"id": 609, "labels": ["Node"]}, "end": {"id": 174, "labels": ["Node"]}}
{"type": "relationship", "id": 1482, "labels": "part of", "start": {"id": 406, "labels": ["Node"]}, "end": {"id": 231, "labels": ["Node"]}}
{"type": "relationship", "id": 1483, "labels": "has effect", "start": {"id": 276, "labels": ["Node"]}, "end": {"id": 682, "labels": ["Node"]}}
{"type": "relationship", "id": 1484, "labels": "owned by", "start": {"id": 255, "labels": ["Node"]}, "end": {"id": 14, "labels": ["Node"]}}
{"type": "relationship", "id": 1485, "labels": "owner of", "start": {"id": 14, "labels": ["Node"]}, "end": {"id": 255, "labels": ["Node"]}}
{"type": "relationship", "id": 1486, "labels": "owner of", "start": {"id": 14, "labels": ["Node"]}, "end": {"id": 538, "labels": ["Node"]}}
{"type": "relationship", "id": 1487, "labels": "subclass of", "start": {"id": 378, "labels": ["Node"]}, "end": {"id": 384, "labels": ["Node"]}}
{"type": "relationship", "id": 1488, "labels": "subclass of", "start": {"id": 378, "labels": ["Node"]}, "end": {"id": 384, "labels": ["Node"]}}
{"type": "relationship", "id": 1489, "labels": "has part", "start": {"id": 384, "labels": ["Node"]}, "end": {"id": 378, "labels": ["Node"]}}
{"type": "relationship", "id": 1490, "labels": "subclass of", "start": {"id": 254, "labels": ["Node"]}, "end": {"id": 384, "labels": ["Node"]}}
{"type": "relationship", "id": 1491, "labels": "instance of", "start": {"id": 254, "labels": ["Node"]}, "end": {"id": 384, "labels": ["Node"]}}
{"type": "relationship", "id": 1492, "labels": "manufacturer", "start": {"id": 639, "labels": ["Node"]}, "end": {"id": 769, "labels": ["Node"]}}
{"type": "relationship", "id": 1493, "labels": "part of", "start": {"id": 712, "labels": ["Node"]}, "end": {"id": 384, "labels": ["Node"]}}
{"type": "relationship", "id": 1494, "labels": "instance of", "start": {"id": 254, "labels": ["Node"]}, "end": {"id": 384, "labels": ["Node"]}}
{"type": "relationship", "id": 1495, "labels": "subclass of", "start": {"id": 254, "labels": ["Node"]}, "end": {"id": 384, "labels": ["Node"]}}
{"type": "relationship", "id": 1496, "labels": "uses", "start": {"id": 149, "labels": ["Node"]}, "end": {"id": 190, "labels": ["Node"]}}
{"type": "relationship", "id": 1497, "labels": "connects with", "start": {"id": 149, "labels": ["Node"]}, "end": {"id": 190, "labels": ["Node"]}}
{"type": "relationship", "id": 1498, "labels": "uses", "start": {"id": 870, "labels": ["Node"]}, "end": {"id": 190, "labels": ["Node"]}}
{"type": "relationship", "id": 1499, "labels": "part of", "start": {"id": 371, "labels": ["Node"]}, "end": {"id": 340, "labels": ["Node"]}}
{"type": "relationship", "id": 1500, "labels": "has part", "start": {"id": 371, "labels": ["Node"]}, "end": {"id": 340, "labels": ["Node"]}}
{"type": "relationship", "id": 1501, "labels": "point in time", "start": {"id": 882, "labels": ["Node"]}, "end": {"id": 67, "labels": ["Node"]}}
{"type": "relationship", "id": 1502, "labels": "subclass of", "start": {"id": 279, "labels": ["Node"]}, "end": {"id": 405, "labels": ["Node"]}}
{"type": "relationship", "id": 1503, "labels": "subclass of", "start": {"id": 61, "labels": ["Node"]}, "end": {"id": 108, "labels": ["Node"]}}
{"type": "relationship", "id": 1504, "labels": "use", "start": {"id": 61, "labels": ["Node"]}, "end": {"id": 117, "labels": ["Node"]}}
{"type": "relationship", "id": 1505, "labels": "composer", "start": {"id": 376, "labels": ["Node"]}, "end": {"id": 587, "labels": ["Node"]}}
{"type": "relationship", "id": 1506, "labels": "composer", "start": {"id": 376, "labels": ["Node"]}, "end": {"id": 834, "labels": ["Node"]}}
{"type": "relationship", "id": 1507, "labels": "composer", "start": {"id": 376, "labels": ["Node"]}, "end": {"id": 377, "labels": ["Node"]}}
{"type": "relationship", "id": 1508, "labels": "has part", "start": {"id": 823, "labels": ["Node"]}, "end": {"id": 384, "labels": ["Node"]}}
{"type": "relationship", "id": 1509, "labels": "facet of", "start": {"id": 823, "labels": ["Node"]}, "end": {"id": 384, "labels": ["Node"]}}
{"type": "relationship", "id": 1510, "labels": "part of", "start": {"id": 823, "labels": ["Node"]}, "end": {"id": 384, "labels": ["Node"]}}
{"type": "relationship", "id": 1511, "labels": "subclass of", "start": {"id": 619, "labels": ["Node"]}, "end": {"id": 272, "labels": ["Node"]}}
{"type": "relationship", "id": 1512, "labels": "subclass of", "start": {"id": 0, "labels": ["Node"]}, "end": {"id": 272, "labels": ["Node"]}}
{"type": "relationship", "id": 1513, "labels": "part of", "start": {"id": 285, "labels": ["Node"]}, "end": {"id": 712, "labels": ["Node"]}}
{"type": "relationship", "id": 1514, "labels": "has part", "start": {"id": 712, "labels": ["Node"]}, "end": {"id": 285, "labels": ["Node"]}}
{"type": "relationship", "id": 1515, "labels": "opposite of", "start": {"id": 143, "labels": ["Node"]}, "end": {"id": 672, "labels": ["Node"]}}
{"type": "relationship", "id": 1516, "labels": "opposite of", "start": {"id": 672, "labels": ["Node"]}, "end": {"id": 143, "labels": ["Node"]}}
{"type": "relationship", "id": 1517, "labels": "opposite of", "start": {"id": 143, "labels": ["Node"]}, "end": {"id": 713, "labels": ["Node"]}}
{"type": "relationship", "id": 1518, "labels": "instance of", "start": {"id": 512, "labels": ["Node"]}, "end": {"id": 369, "labels": ["Node"]}}
{"type": "relationship", "id": 1519, "labels": "maintained by", "start": {"id": 609, "labels": ["Node"]}, "end": {"id": 174, "labels": ["Node"]}}
{"type": "relationship", "id": 1520, "labels": "part of", "start": {"id": 406, "labels": ["Node"]}, "end": {"id": 231, "labels": ["Node"]}}
{"type": "relationship", "id": 1521, "labels": "has effect", "start": {"id": 276, "labels": ["Node"]}, "end": {"id": 682, "labels": ["Node"]}}
{"type": "relationship", "id": 1522, "labels": "owned by", "start": {"id": 255, "labels": ["Node"]}, "end": {"id": 14, "labels": ["Node"]}}
{"type": "relationship", "id": 1523, "labels": "owner of", "start": {"id": 14, "labels": ["Node"]}, "end": {"id": 255, "labels": ["Node"]}}
{"type": "relationship", "id": 1524, "labels": "owner of", "start": {"id": 14, "labels": ["Node"]}, "end": {"id": 538, "labels": ["Node"]}}
{"type": "relationship", "id": 1525, "labels": "manufacturer", "start": {"id": 639, "labels": ["Node"]}, "end": {"id": 769, "labels": ["Node"]}}
{"type": "relationship", "id": 1526, "labels": "manufacturer", "start": {"id": 305, "labels": ["Node"]}, "end": {"id": 769, "labels": ["Node"]}}
{"type": "relationship", "id": 1527, "labels": "followed by", "start": {"id": 639, "labels": ["Node"]}, "end": {"id": 305, "labels": ["Node"]}}
{"type": "relationship", "id": 1528, "labels": "follows", "start": {"id": 305, "labels": ["Node"]}, "end": {"id": 639, "labels": ["Node"]}}
{"type": "relationship", "id": 1529, "labels": "follows", "start": {"id": 305, "labels": ["Node"]}, "end": {"id": 639, "labels": ["Node"]}}
{"type": "relationship", "id": 1530, "labels": "followed by", "start": {"id": 639, "labels": ["Node"]}, "end": {"id": 305, "labels": ["Node"]}}
{"type": "relationship", "id": 1531, "labels": "instance of", "start": {"id": 635, "labels": ["Node"]}, "end": {"id": 507, "labels": ["Node"]}}
{"type": "relationship", "id": 1532, "labels": "subclass of", "start": {"id": 446, "labels": ["Node"]}, "end": {"id": 863, "labels": ["Node"]}}
{"type": "relationship", "id": 1533, "labels": "instance of", "start": {"id": 62, "labels": ["Node"]}, "end": {"id": 507, "labels": ["Node"]}}
{"type": "relationship", "id": 1534, "labels": "use", "start": {"id": 371, "labels": ["Node"]}, "end": {"id": 143, "labels": ["Node"]}}
{"type": "relationship", "id": 1535, "labels": "opposite of", "start": {"id": 143, "labels": ["Node"]}, "end": {"id": 672, "labels": ["Node"]}}
{"type": "relationship", "id": 1536, "labels": "use", "start": {"id": 882, "labels": ["Node"]}, "end": {"id": 143, "labels": ["Node"]}}
{"type": "relationship", "id": 1537, "labels": "instance of", "start": {"id": 635, "labels": ["Node"]}, "end": {"id": 420, "labels": ["Node"]}}
{"type": "relationship", "id": 1538, "labels": "subclass of", "start": {"id": 635, "labels": ["Node"]}, "end": {"id": 420, "labels": ["Node"]}}
{"type": "relationship", "id": 1539, "labels": "instance of", "start": {"id": 62, "labels": ["Node"]}, "end": {"id": 420, "labels": ["Node"]}}
{"type": "relationship", "id": 1540, "labels": "subclass of", "start": {"id": 639, "labels": ["Node"]}, "end": {"id": 384, "labels": ["Node"]}}
{"type": "relationship", "id": 1541, "labels": "opposite of", "start": {"id": 383, "labels": ["Node"]}, "end": {"id": 185, "labels": ["Node"]}}
{"type": "relationship", "id": 1542, "labels": "opposite of", "start": {"id": 185, "labels": ["Node"]}, "end": {"id": 846, "labels": ["Node"]}}
{"type": "relationship", "id": 1543, "labels": "subclass of", "start": {"id": 0, "labels": ["Node"]}, "end": {"id": 272, "labels": ["Node"]}}
{"type": "relationship", "id": 1544, "labels": "different from", "start": {"id": 0, "labels": ["Node"]}, "end": {"id": 272, "labels": ["Node"]}}
{"type": "relationship", "id": 1545, "labels": "uses", "start": {"id": 0, "labels": ["Node"]}, "end": {"id": 272, "labels": ["Node"]}}
{"type": "relationship", "id": 1546, "labels": "facet of", "start": {"id": 409, "labels": ["Node"]}, "end": {"id": 566, "labels": ["Node"]}}
{"type": "relationship", "id": 1547, "labels": "has part", "start": {"id": 384, "labels": ["Node"]}, "end": {"id": 409, "labels": ["Node"]}}
{"type": "relationship", "id": 1548, "labels": "subclass of", "start": {"id": 384, "labels": ["Node"]}, "end": {"id": 130, "labels": ["Node"]}}
{"type": "relationship", "id": 1549, "labels": "instance of", "start": {"id": 512, "labels": ["Node"]}, "end": {"id": 369, "labels": ["Node"]}}
{"type": "relationship", "id": 1550, "labels": "maintained by", "start": {"id": 609, "labels": ["Node"]}, "end": {"id": 174, "labels": ["Node"]}}
{"type": "relationship", "id": 1551, "labels": "part of", "start": {"id": 406, "labels": ["Node"]}, "end": {"id": 231, "labels": ["Node"]}}
{"type": "relationship", "id": 1552, "labels": "has effect", "start": {"id": 276, "labels": ["Node"]}, "end": {"id": 682, "labels": ["Node"]}}
{"type": "relationship", "id": 1553, "labels": "owned by", "start": {"id": 255, "labels": ["Node"]}, "end": {"id": 14, "labels": ["Node"]}}
{"type": "relationship", "id": 1554, "labels": "owner of", "start": {"id": 14, "labels": ["Node"]}, "end": {"id": 255, "labels": ["Node"]}}
{"type": "relationship", "id": 1555, "labels": "owner of", "start": {"id": 14, "labels": ["Node"]}, "end": {"id": 538, "labels": ["Node"]}}
{"type": "relationship", "id": 1556, "labels": "manufacturer", "start": {"id": 881, "labels": ["Node"]}, "end": {"id": 572, "labels": ["Node"]}}
{"type": "relationship", "id": 1557, "labels": "manufacturer", "start": {"id": 785, "labels": ["Node"]}, "end": {"id": 572, "labels": ["Node"]}}
{"type": "relationship", "id": 1558, "labels": "instance of", "start": {"id": 881, "labels": ["Node"]}, "end": {"id": 384, "labels": ["Node"]}}
{"type": "relationship", "id": 1559, "labels": "manufacturer", "start": {"id": 422, "labels": ["Node"]}, "end": {"id": 572, "labels": ["Node"]}}
{"type": "relationship", "id": 1560, "labels": "uses", "start": {"id": 811, "labels": ["Node"]}, "end": {"id": 69, "labels": ["Node"]}}
{"type": "relationship", "id": 1561, "labels": "subclass of", "start": {"id": 811, "labels": ["Node"]}, "end": {"id": 472, "labels": ["Node"]}}
{"type": "relationship", "id": 1562, "labels": "manufacturer", "start": {"id": 422, "labels": ["Node"]}, "end": {"id": 572, "labels": ["Node"]}}
{"type": "relationship", "id": 1563, "labels": "instance of", "start": {"id": 881, "labels": ["Node"]}, "end": {"id": 839, "labels": ["Node"]}}
{"type": "relationship", "id": 1564, "labels": "instance of", "start": {"id": 881, "labels": ["Node"]}, "end": {"id": 384, "labels": ["Node"]}}
{"type": "relationship", "id": 1565, "labels": "uses", "start": {"id": 69, "labels": ["Node"]}, "end": {"id": 371, "labels": ["Node"]}}
{"type": "relationship", "id": 1566, "labels": "uses", "start": {"id": 371, "labels": ["Node"]}, "end": {"id": 69, "labels": ["Node"]}}
{"type": "relationship", "id": 1567, "labels": "instance of", "start": {"id": 371, "labels": ["Node"]}, "end": {"id": 457, "labels": ["Node"]}}
{"type": "relationship", "id": 1568, "labels": "subclass of", "start": {"id": 728, "labels": ["Node"]}, "end": {"id": 384, "labels": ["Node"]}}
{"type": "relationship", "id": 1569, "labels": "subclass of", "start": {"id": 728, "labels": ["Node"]}, "end": {"id": 387, "labels": ["Node"]}}
{"type": "relationship", "id": 1570, "labels": "subclass of", "start": {"id": 394, "labels": ["Node"]}, "end": {"id": 384, "labels": ["Node"]}}
{"type": "relationship", "id": 1571, "labels": "manufacturer", "start": {"id": 422, "labels": ["Node"]}, "end": {"id": 572, "labels": ["Node"]}}
{"type": "relationship", "id": 1572, "labels": "manufacturer", "start": {"id": 215, "labels": ["Node"]}, "end": {"id": 572, "labels": ["Node"]}}
{"type": "relationship", "id": 1573, "labels": "subclass of", "start": {"id": 635, "labels": ["Node"]}, "end": {"id": 402, "labels": ["Node"]}}
{"type": "relationship", "id": 1574, "labels": "part of", "start": {"id": 823, "labels": ["Node"]}, "end": {"id": 418, "labels": ["Node"]}}
{"type": "relationship", "id": 1575, "labels": "facet of", "start": {"id": 823, "labels": ["Node"]}, "end": {"id": 384, "labels": ["Node"]}}
{"type": "relationship", "id": 1576, "labels": "has part", "start": {"id": 823, "labels": ["Node"]}, "end": {"id": 418, "labels": ["Node"]}}
{"type": "relationship", "id": 1577, "labels": "instance of", "start": {"id": 512, "labels": ["Node"]}, "end": {"id": 369, "labels": ["Node"]}}
{"type": "relationship", "id": 1578, "labels": "maintained by", "start": {"id": 609, "labels": ["Node"]}, "end": {"id": 174, "labels": ["Node"]}}
{"type": "relationship", "id": 1579, "labels": "part of", "start": {"id": 406, "labels": ["Node"]}, "end": {"id": 231, "labels": ["Node"]}}
{"type": "relationship", "id": 1580, "labels": "has effect", "start": {"id": 276, "labels": ["Node"]}, "end": {"id": 682, "labels": ["Node"]}}
{"type": "relationship", "id": 1581, "labels": "owned by", "start": {"id": 255, "labels": ["Node"]}, "end": {"id": 14, "labels": ["Node"]}}
{"type": "relationship", "id": 1582, "labels": "owner of", "start": {"id": 14, "labels": ["Node"]}, "end": {"id": 255, "labels": ["Node"]}}
{"type": "relationship", "id": 1583, "labels": "owner of", "start": {"id": 14, "labels": ["Node"]}, "end": {"id": 538, "labels": ["Node"]}}
{"type": "relationship", "id": 1584, "labels": "subclass of", "start": {"id": 700, "labels": ["Node"]}, "end": {"id": 384, "labels": ["Node"]}}
{"type": "relationship", "id": 1585, "labels": "instance of", "start": {"id": 578, "labels": ["Node"]}, "end": {"id": 384, "labels": ["Node"]}}
{"type": "relationship", "id": 1586, "labels": "subclass of", "start": {"id": 578, "labels": ["Node"]}, "end": {"id": 384, "labels": ["Node"]}}
{"type": "relationship", "id": 1587, "labels": "connects with", "start": {"id": 426, "labels": ["Node"]}, "end": {"id": 384, "labels": ["Node"]}}
{"type": "relationship", "id": 1588, "labels": "subclass of", "start": {"id": 426, "labels": ["Node"]}, "end": {"id": 384, "labels": ["Node"]}}
{"type": "relationship", "id": 1589, "labels": "connects with", "start": {"id": 426, "labels": ["Node"]}, "end": {"id": 472, "labels": ["Node"]}}
{"type": "relationship", "id": 1590, "labels": "part of", "start": {"id": 607, "labels": ["Node"]}, "end": {"id": 384, "labels": ["Node"]}}
{"type": "relationship", "id": 1591, "labels": "use", "start": {"id": 607, "labels": ["Node"]}, "end": {"id": 384, "labels": ["Node"]}}
{"type": "relationship", "id": 1592, "labels": "subclass of", "start": {"id": 607, "labels": ["Node"]}, "end": {"id": 209, "labels": ["Node"]}}
{"type": "relationship", "id": 1593, "labels": "product or material produced", "start": {"id": 578, "labels": ["Node"]}, "end": {"id": 384, "labels": ["Node"]}}
{"type": "relationship", "id": 1594, "labels": "subclass of", "start": {"id": 578, "labels": ["Node"]}, "end": {"id": 384, "labels": ["Node"]}}
{"type": "relationship", "id": 1595, "labels": "instance of", "start": {"id": 578, "labels": ["Node"]}, "end": {"id": 384, "labels": ["Node"]}}
{"type": "relationship", "id": 1596, "labels": "subclass of", "start": {"id": 371, "labels": ["Node"]}, "end": {"id": 384, "labels": ["Node"]}}
{"type": "relationship", "id": 1597, "labels": "use", "start": {"id": 371, "labels": ["Node"]}, "end": {"id": 384, "labels": ["Node"]}}
{"type": "relationship", "id": 1598, "labels": "used by", "start": {"id": 371, "labels": ["Node"]}, "end": {"id": 384, "labels": ["Node"]}}
{"type": "relationship", "id": 1599, "labels": "use", "start": {"id": 272, "labels": ["Node"]}, "end": {"id": 754, "labels": ["Node"]}}
{"type": "relationship", "id": 1600, "labels": "uses", "start": {"id": 754, "labels": ["Node"]}, "end": {"id": 272, "labels": ["Node"]}}
{"type": "relationship", "id": 1601, "labels": "opposite of", "start": {"id": 272, "labels": ["Node"]}, "end": {"id": 195, "labels": ["Node"]}}
{"type": "relationship", "id": 1602, "labels": "subclass of", "start": {"id": 141, "labels": ["Node"]}, "end": {"id": 384, "labels": ["Node"]}}
{"type": "relationship", "id": 1603, "labels": "use", "start": {"id": 141, "labels": ["Node"]}, "end": {"id": 389, "labels": ["Node"]}}
{"type": "relationship", "id": 1604, "labels": "subclass of", "start": {"id": 540, "labels": ["Node"]}, "end": {"id": 384, "labels": ["Node"]}}
{"type": "relationship", "id": 1605, "labels": "opposite of", "start": {"id": 371, "labels": ["Node"]}, "end": {"id": 713, "labels": ["Node"]}}
{"type": "relationship", "id": 1606, "labels": "opposite of", "start": {"id": 713, "labels": ["Node"]}, "end": {"id": 371, "labels": ["Node"]}}
{"type": "relationship", "id": 1607, "labels": "subclass of", "start": {"id": 371, "labels": ["Node"]}, "end": {"id": 384, "labels": ["Node"]}}
{"type": "relationship", "id": 1608, "labels": "has part", "start": {"id": 371, "labels": ["Node"]}, "end": {"id": 664, "labels": ["Node"]}}
{"type": "relationship", "id": 1609, "labels": "subclass of", "start": {"id": 371, "labels": ["Node"]}, "end": {"id": 664, "labels": ["Node"]}}
{"type": "relationship", "id": 1610, "labels": "uses", "start": {"id": 664, "labels": ["Node"]}, "end": {"id": 371, "labels": ["Node"]}}
{"type": "relationship", "id": 1611, "labels": "instance of", "start": {"id": 512, "labels": ["Node"]}, "end": {"id": 369, "labels": ["Node"]}}
{"type": "relationship", "id": 1612, "labels": "maintained by", "start": {"id": 609, "labels": ["Node"]}, "end": {"id": 174, "labels": ["Node"]}}
{"type": "relationship", "id": 1613, "labels": "part of", "start": {"id": 406, "labels": ["Node"]}, "end": {"id": 231, "labels": ["Node"]}}
{"type": "relationship", "id": 1614, "labels": "has effect", "start": {"id": 276, "labels": ["Node"]}, "end": {"id": 682, "labels": ["Node"]}}
{"type": "relationship", "id": 1615, "labels": "owned by", "start": {"id": 255, "labels": ["Node"]}, "end": {"id": 14, "labels": ["Node"]}}
{"type": "relationship", "id": 1616, "labels": "owner of", "start": {"id": 14, "labels": ["Node"]}, "end": {"id": 255, "labels": ["Node"]}}
{"type": "relationship", "id": 1617, "labels": "owner of", "start": {"id": 14, "labels": ["Node"]}, "end": {"id": 538, "labels": ["Node"]}}
{"type": "relationship", "id": 1618, "labels": "product or material produced", "start": {"id": 673, "labels": ["Node"]}, "end": {"id": 839, "labels": ["Node"]}}
{"type": "relationship", "id": 1619, "labels": "product or material produced", "start": {"id": 673, "labels": ["Node"]}, "end": {"id": 384, "labels": ["Node"]}}
{"type": "relationship", "id": 1620, "labels": "product or material produced", "start": {"id": 356, "labels": ["Node"]}, "end": {"id": 839, "labels": ["Node"]}}
{"type": "relationship", "id": 1621, "labels": "manufacturer", "start": {"id": 805, "labels": ["Node"]}, "end": {"id": 673, "labels": ["Node"]}}
{"type": "relationship", "id": 1622, "labels": "different from", "start": {"id": 805, "labels": ["Node"]}, "end": {"id": 804, "labels": ["Node"]}}
{"type": "relationship", "id": 1623, "labels": "different from", "start": {"id": 804, "labels": ["Node"]}, "end": {"id": 805, "labels": ["Node"]}}
{"type": "relationship", "id": 1624, "labels": "product or material produced", "start": {"id": 673, "labels": ["Node"]}, "end": {"id": 476, "labels": ["Node"]}}
{"type": "relationship", "id": 1625, "labels": "subclass of", "start": {"id": 673, "labels": ["Node"]}, "end": {"id": 476, "labels": ["Node"]}}
{"type": "relationship", "id": 1626, "labels": "has part", "start": {"id": 804, "labels": ["Node"]}, "end": {"id": 272, "labels": ["Node"]}}
{"type": "relationship", "id": 1627, "labels": "subclass of", "start": {"id": 143, "labels": ["Node"]}, "end": {"id": 384, "labels": ["Node"]}}
{"type": "relationship", "id": 1628, "labels": "subclass of", "start": {"id": 476, "labels": ["Node"]}, "end": {"id": 384, "labels": ["Node"]}}
{"type": "relationship", "id": 1629, "labels": "has part", "start": {"id": 384, "labels": ["Node"]}, "end": {"id": 808, "labels": ["Node"]}}
{"type": "relationship", "id": 1630, "labels": "facet of", "start": {"id": 452, "labels": ["Node"]}, "end": {"id": 452, "labels": ["Node"]}}
{"type": "relationship", "id": 1631, "labels": "has part", "start": {"id": 452, "labels": ["Node"]}, "end": {"id": 828, "labels": ["Node"]}}
{"type": "relationship", "id": 1632, "labels": "subclass of", "start": {"id": 828, "labels": ["Node"]}, "end": {"id": 452, "labels": ["Node"]}}
{"type": "relationship", "id": 1633, "labels": "uses", "start": {"id": 680, "labels": ["Node"]}, "end": {"id": 371, "labels": ["Node"]}}
{"type": "relationship", "id": 1634, "labels": "length", "start": {"id": 371, "labels": ["Node"]}, "end": {"id": 450, "labels": ["Node"]}}
{"type": "relationship", "id": 1635, "labels": "use", "start": {"id": 371, "labels": ["Node"]}, "end": {"id": 680, "labels": ["Node"]}}
{"type": "relationship", "id": 1636, "labels": "subclass of", "start": {"id": 482, "labels": ["Node"]}, "end": {"id": 681, "labels": ["Node"]}}
{"type": "relationship", "id": 1637, "labels": "use", "start": {"id": 482, "labels": ["Node"]}, "end": {"id": 681, "labels": ["Node"]}}
{"type": "relationship", "id": 1638, "labels": "instance of", "start": {"id": 159, "labels": ["Node"]}, "end": {"id": 507, "labels": ["Node"]}}
{"type": "relationship", "id": 1639, "labels": "opposite of", "start": {"id": 185, "labels": ["Node"]}, "end": {"id": 846, "labels": ["Node"]}}
{"type": "relationship", "id": 1640, "labels": "opposite of", "start": {"id": 846, "labels": ["Node"]}, "end": {"id": 185, "labels": ["Node"]}}
{"type": "relationship", "id": 1641, "labels": "followed by", "start": {"id": 185, "labels": ["Node"]}, "end": {"id": 846, "labels": ["Node"]}}
{"type": "relationship", "id": 1642, "labels": "point in time", "start": {"id": 561, "labels": ["Node"]}, "end": {"id": 561, "labels": ["Node"]}}
{"type": "relationship", "id": 1643, "labels": "subclass of", "start": {"id": 358, "labels": ["Node"]}, "end": {"id": 384, "labels": ["Node"]}}
{"type": "relationship", "id": 1644, "labels": "subclass of", "start": {"id": 358, "labels": ["Node"]}, "end": {"id": 691, "labels": ["Node"]}}
{"type": "relationship", "id": 1645, "labels": "instance of", "start": {"id": 512, "labels": ["Node"]}, "end": {"id": 369, "labels": ["Node"]}}
{"type": "relationship", "id": 1646, "labels": "maintained by", "start": {"id": 609, "labels": ["Node"]}, "end": {"id": 174, "labels": ["Node"]}}
{"type": "relationship", "id": 1647, "labels": "part of", "start": {"id": 406, "labels": ["Node"]}, "end": {"id": 231, "labels": ["Node"]}}
{"type": "relationship", "id": 1648, "labels": "has effect", "start": {"id": 276, "labels": ["Node"]}, "end": {"id": 682, "labels": ["Node"]}}
{"type": "relationship", "id": 1649, "labels": "owned by", "start": {"id": 255, "labels": ["Node"]}, "end": {"id": 14, "labels": ["Node"]}}
{"type": "relationship", "id": 1650, "labels": "owner of", "start": {"id": 14, "labels": ["Node"]}, "end": {"id": 255, "labels": ["Node"]}}
{"type": "relationship", "id": 1651, "labels": "owner of", "start": {"id": 14, "labels": ["Node"]}, "end": {"id": 538, "labels": ["Node"]}}
{"type": "relationship", "id": 1652, "labels": "instance of", "start": {"id": 294, "labels": ["Node"]}, "end": {"id": 384, "labels": ["Node"]}}
{"type": "relationship", "id": 1653, "labels": "manufacturer", "start": {"id": 302, "labels": ["Node"]}, "end": {"id": 63, "labels": ["Node"]}}
{"type": "relationship", "id": 1654, "labels": "subclass of", "start": {"id": 302, "labels": ["Node"]}, "end": {"id": 384, "labels": ["Node"]}}
{"type": "relationship", "id": 1655, "labels": "connects with", "start": {"id": 226, "labels": ["Node"]}, "end": {"id": 384, "labels": ["Node"]}}
{"type": "relationship", "id": 1656, "labels": "used by", "start": {"id": 226, "labels": ["Node"]}, "end": {"id": 384, "labels": ["Node"]}}
{"type": "relationship", "id": 1657, "labels": "subclass of", "start": {"id": 483, "labels": ["Node"]}, "end": {"id": 226, "labels": ["Node"]}}
{"type": "relationship", "id": 1658, "labels": "subclass of", "start": {"id": 63, "labels": ["Node"]}, "end": {"id": 384, "labels": ["Node"]}}
{"type": "relationship", "id": 1659, "labels": "part of", "start": {"id": 222, "labels": ["Node"]}, "end": {"id": 384, "labels": ["Node"]}}
{"type": "relationship", "id": 1660, "labels": "instance of", "start": {"id": 63, "labels": ["Node"]}, "end": {"id": 384, "labels": ["Node"]}}
{"type": "relationship", "id": 1661, "labels": "product or material produced", "start": {"id": 63, "labels": ["Node"]}, "end": {"id": 384, "labels": ["Node"]}}
{"type": "relationship", "id": 1662, "labels": "instance of", "start": {"id": 63, "labels": ["Node"]}, "end": {"id": 384, "labels": ["Node"]}}
{"type": "relationship", "id": 1663, "labels": "subclass of", "start": {"id": 63, "labels": ["Node"]}, "end": {"id": 384, "labels": ["Node"]}}
{"type": "relationship", "id": 1664, "labels": "has part", "start": {"id": 272, "labels": ["Node"]}, "end": {"id": 662, "labels": ["Node"]}}
{"type": "relationship", "id": 1665, "labels": "subclass of", "start": {"id": 160, "labels": ["Node"]}, "end": {"id": 272, "labels": ["Node"]}}
{"type": "relationship", "id": 1666, "labels": "subclass of", "start": {"id": 272, "labels": ["Node"]}, "end": {"id": 615, "labels": ["Node"]}}
{"type": "relationship", "id": 1667, "labels": "subclass of", "start": {"id": 823, "labels": ["Node"]}, "end": {"id": 319, "labels": ["Node"]}}
{"type": "relationship", "id": 1668, "labels": "facet of", "start": {"id": 823, "labels": ["Node"]}, "end": {"id": 516, "labels": ["Node"]}}
{"type": "relationship", "id": 1669, "labels": "facet of", "start": {"id": 823, "labels": ["Node"]}, "end": {"id": 319, "labels": ["Node"]}}
{"type": "relationship", "id": 1670, "labels": "main subject", "start": {"id": 317, "labels": ["Node"]}, "end": {"id": 793, "labels": ["Node"]}}
{"type": "relationship", "id": 1671, "labels": "main subject", "start": {"id": 317, "labels": ["Node"]}, "end": {"id": 862, "labels": ["Node"]}}
{"type": "relationship", "id": 1672, "labels": "facet of", "start": {"id": 317, "labels": ["Node"]}, "end": {"id": 793, "labels": ["Node"]}}
{"type": "relationship", "id": 1673, "labels": "instance of", "start": {"id": 512, "labels": ["Node"]}, "end": {"id": 369, "labels": ["Node"]}}
{"type": "relationship", "id": 1674, "labels": "maintained by", "start": {"id": 609, "labels": ["Node"]}, "end": {"id": 174, "labels": ["Node"]}}
{"type": "relationship", "id": 1675, "labels": "part of", "start": {"id": 406, "labels": ["Node"]}, "end": {"id": 231, "labels": ["Node"]}}
{"type": "relationship", "id": 1676, "labels": "has effect", "start": {"id": 276, "labels": ["Node"]}, "end": {"id": 682, "labels": ["Node"]}}
{"type": "relationship", "id": 1677, "labels": "owned by", "start": {"id": 255, "labels": ["Node"]}, "end": {"id": 14, "labels": ["Node"]}}
{"type": "relationship", "id": 1678, "labels": "owner of", "start": {"id": 14, "labels": ["Node"]}, "end": {"id": 255, "labels": ["Node"]}}
{"type": "relationship", "id": 1679, "labels": "owner of", "start": {"id": 14, "labels": ["Node"]}, "end": {"id": 538, "labels": ["Node"]}}
{"type": "relationship", "id": 1680, "labels": "start time", "start": {"id": 573, "labels": ["Node"]}, "end": {"id": 15, "labels": ["Node"]}}
{"type": "relationship", "id": 1681, "labels": "product or material produced", "start": {"id": 373, "labels": ["Node"]}, "end": {"id": 839, "labels": ["Node"]}}
{"type": "relationship", "id": 1682, "labels": "price tag", "start": {"id": 573, "labels": ["Node"]}, "end": {"id": 15, "labels": ["Node"]}}
{"type": "relationship", "id": 1683, "labels": "connects with", "start": {"id": 426, "labels": ["Node"]}, "end": {"id": 384, "labels": ["Node"]}}
{"type": "relationship", "id": 1684, "labels": "connects with", "start": {"id": 426, "labels": ["Node"]}, "end": {"id": 472, "labels": ["Node"]}}
{"type": "relationship", "id": 1685, "labels": "connects with", "start": {"id": 472, "labels": ["Node"]}, "end": {"id": 426, "labels": ["Node"]}}
{"type": "relationship", "id": 1686, "labels": "subclass of", "start": {"id": 635, "labels": ["Node"]}, "end": {"id": 793, "labels": ["Node"]}}
{"type": "relationship", "id": 1687, "labels": "subclass of", "start": {"id": 635, "labels": ["Node"]}, "end": {"id": 482, "labels": ["Node"]}}
{"type": "relationship", "id": 1688, "labels": "subclass of", "start": {"id": 635, "labels": ["Node"]}, "end": {"id": 862, "labels": ["Node"]}}
{"type": "relationship", "id": 1689, "labels": "has part", "start": {"id": 865, "labels": ["Node"]}, "end": {"id": 272, "labels": ["Node"]}}
{"type": "relationship", "id": 1690, "labels": "part of", "start": {"id": 272, "labels": ["Node"]}, "end": {"id": 865, "labels": ["Node"]}}
{"type": "relationship", "id": 1691, "labels": "has part", "start": {"id": 865, "labels": ["Node"]}, "end": {"id": 148, "labels": ["Node"]}}
{"type": "relationship", "id": 1692, "labels": "part of", "start": {"id": 121, "labels": ["Node"]}, "end": {"id": 384, "labels": ["Node"]}}
{"type": "relationship", "id": 1693, "labels": "part of", "start": {"id": 803, "labels": ["Node"]}, "end": {"id": 384, "labels": ["Node"]}}
{"type": "relationship", "id": 1694, "labels": "has part", "start": {"id": 384, "labels": ["Node"]}, "end": {"id": 121, "labels": ["Node"]}}
{"type": "relationship", "id": 1695, "labels": "different from", "start": {"id": 271, "labels": ["Node"]}, "end": {"id": 584, "labels": ["Node"]}}
{"type": "relationship", "id": 1696, "labels": "different from", "start": {"id": 584, "labels": ["Node"]}, "end": {"id": 271, "labels": ["Node"]}}
{"type": "relationship", "id": 1697, "labels": "opposite of", "start": {"id": 271, "labels": ["Node"]}, "end": {"id": 584, "labels": ["Node"]}}
{"type": "relationship", "id": 1698, "labels": "subclass of", "start": {"id": 384, "labels": ["Node"]}, "end": {"id": 384, "labels": ["Node"]}}
{"type": "relationship", "id": 1699, "labels": "different from", "start": {"id": 384, "labels": ["Node"]}, "end": {"id": 384, "labels": ["Node"]}}
{"type": "relationship", "id": 1700, "labels": "instance of", "start": {"id": 512, "labels": ["Node"]}, "end": {"id": 369, "labels": ["Node"]}}
{"type": "relationship", "id": 1701, "labels": "maintained by", "start": {"id": 609, "labels": ["Node"]}, "end": {"id": 174, "labels": ["Node"]}}
{"type": "relationship", "id": 1702, "labels": "part of", "start": {"id": 406, "labels": ["Node"]}, "end": {"id": 231, "labels": ["Node"]}}
{"type": "relationship", "id": 1703, "labels": "has effect", "start": {"id": 276, "labels": ["Node"]}, "end": {"id": 682, "labels": ["Node"]}}
{"type": "relationship", "id": 1704, "labels": "owned by", "start": {"id": 255, "labels": ["Node"]}, "end": {"id": 14, "labels": ["Node"]}}
{"type": "relationship", "id": 1705, "labels": "owner of", "start": {"id": 14, "labels": ["Node"]}, "end": {"id": 255, "labels": ["Node"]}}
{"type": "relationship", "id": 1706, "labels": "owner of", "start": {"id": 14, "labels": ["Node"]}, "end": {"id": 538, "labels": ["Node"]}}
{"type": "relationship", "id": 1707, "labels": "use", "start": {"id": 297, "labels": ["Node"]}, "end": {"id": 671, "labels": ["Node"]}}
{"type": "relationship", "id": 1708, "labels": "use", "start": {"id": 297, "labels": ["Node"]}, "end": {"id": 99, "labels": ["Node"]}}
{"type": "relationship", "id": 1709, "labels": "instance of", "start": {"id": 364, "labels": ["Node"]}, "end": {"id": 518, "labels": ["Node"]}}
{"type": "relationship", "id": 1710, "labels": "followed by", "start": {"id": 149, "labels": ["Node"]}, "end": {"id": 271, "labels": ["Node"]}}
{"type": "relationship", "id": 1711, "labels": "uses", "start": {"id": 297, "labels": ["Node"]}, "end": {"id": 149, "labels": ["Node"]}}
{"type": "relationship", "id": 1712, "labels": "subclass of", "start": {"id": 364, "labels": ["Node"]}, "end": {"id": 518, "labels": ["Node"]}}
{"type": "relationship", "id": 1713, "labels": "part of", "start": {"id": 424, "labels": ["Node"]}, "end": {"id": 559, "labels": ["Node"]}}
{"type": "relationship", "id": 1714, "labels": "part of", "start": {"id": 854, "labels": ["Node"]}, "end": {"id": 559, "labels": ["Node"]}}
{"type": "relationship", "id": 1715, "labels": "uses", "start": {"id": 424, "labels": ["Node"]}, "end": {"id": 559, "labels": ["Node"]}}
{"type": "relationship", "id": 1716, "labels": "subclass of", "start": {"id": 719, "labels": ["Node"]}, "end": {"id": 405, "labels": ["Node"]}}
{"type": "relationship", "id": 1717, "labels": "use", "start": {"id": 405, "labels": ["Node"]}, "end": {"id": 719, "labels": ["Node"]}}
{"type": "relationship", "id": 1718, "labels": "facet of", "start": {"id": 199, "labels": ["Node"]}, "end": {"id": 719, "labels": ["Node"]}}
{"type": "relationship", "id": 1719, "labels": "subclass of", "start": {"id": 635, "labels": ["Node"]}, "end": {"id": 793, "labels": ["Node"]}}
{"type": "relationship", "id": 1720, "labels": "subclass of", "start": {"id": 635, "labels": ["Node"]}, "end": {"id": 482, "labels": ["Node"]}}
{"type": "relationship", "id": 1721, "labels": "instance of", "start": {"id": 779, "labels": ["Node"]}, "end": {"id": 384, "labels": ["Node"]}}
{"type": "relationship", "id": 1722, "labels": "subclass of", "start": {"id": 635, "labels": ["Node"]}, "end": {"id": 482, "labels": ["Node"]}}
{"type": "relationship", "id": 1723, "labels": "subclass of", "start": {"id": 635, "labels": ["Node"]}, "end": {"id": 793, "labels": ["Node"]}}
{"type": "relationship", "id": 1724, "labels": "subclass of", "start": {"id": 482, "labels": ["Node"]}, "end": {"id": 402, "labels": ["Node"]}}
{"type": "relationship", "id": 1725, "labels": "subclass of", "start": {"id": 664, "labels": ["Node"]}, "end": {"id": 384, "labels": ["Node"]}}
{"type": "relationship", "id": 1726, "labels": "different from", "start": {"id": 664, "labels": ["Node"]}, "end": {"id": 384, "labels": ["Node"]}}
{"type": "relationship", "id": 1727, "labels": "uses", "start": {"id": 671, "labels": ["Node"]}, "end": {"id": 384, "labels": ["Node"]}}
{"type": "relationship", "id": 1728, "labels": "instance of", "start": {"id": 512, "labels": ["Node"]}, "end": {"id": 369, "labels": ["Node"]}}
{"type": "relationship", "id": 1729, "labels": "maintained by", "start": {"id": 609, "labels": ["Node"]}, "end": {"id": 174, "labels": ["Node"]}}
{"type": "relationship", "id": 1730, "labels": "part of", "start": {"id": 406, "labels": ["Node"]}, "end": {"id": 231, "labels": ["Node"]}}
{"type": "relationship", "id": 1731, "labels": "has effect", "start": {"id": 276, "labels": ["Node"]}, "end": {"id": 682, "labels": ["Node"]}}
{"type": "relationship", "id": 1732, "labels": "owned by", "start": {"id": 255, "labels": ["Node"]}, "end": {"id": 14, "labels": ["Node"]}}
{"type": "relationship", "id": 1733, "labels": "owner of", "start": {"id": 14, "labels": ["Node"]}, "end": {"id": 255, "labels": ["Node"]}}
{"type": "relationship", "id": 1734, "labels": "owner of", "start": {"id": 14, "labels": ["Node"]}, "end": {"id": 538, "labels": ["Node"]}}
{"type": "relationship", "id": 1735, "labels": "subclass of", "start": {"id": 458, "labels": ["Node"]}, "end": {"id": 384, "labels": ["Node"]}}
{"type": "relationship", "id": 1736, "labels": "follows", "start": {"id": 524, "labels": ["Node"]}, "end": {"id": 554, "labels": ["Node"]}}
{"type": "relationship", "id": 1737, "labels": "followed by", "start": {"id": 554, "labels": ["Node"]}, "end": {"id": 524, "labels": ["Node"]}}
{"type": "relationship", "id": 1738, "labels": "instance of", "start": {"id": 458, "labels": ["Node"]}, "end": {"id": 384, "labels": ["Node"]}}
{"type": "relationship", "id": 1739, "labels": "product or material produced", "start": {"id": 194, "labels": ["Node"]}, "end": {"id": 384, "labels": ["Node"]}}
{"type": "relationship", "id": 1740, "labels": "has part", "start": {"id": 789, "labels": ["Node"]}, "end": {"id": 471, "labels": ["Node"]}}
{"type": "relationship", "id": 1741, "labels": "uses", "start": {"id": 789, "labels": ["Node"]}, "end": {"id": 471, "labels": ["Node"]}}
{"type": "relationship", "id": 1742, "labels": "part of", "start": {"id": 712, "labels": ["Node"]}, "end": {"id": 384, "labels": ["Node"]}}
{"type": "relationship", "id": 1743, "labels": "subclass of", "start": {"id": 712, "labels": ["Node"]}, "end": {"id": 384, "labels": ["Node"]}}
{"type": "relationship", "id": 1744, "labels": "part of", "start": {"id": 503, "labels": ["Node"]}, "end": {"id": 384, "labels": ["Node"]}}
{"type": "relationship", "id": 1745, "labels": "has part", "start": {"id": 226, "labels": ["Node"]}, "end": {"id": 111, "labels": ["Node"]}}
{"type": "relationship", "id": 1746, "labels": "has part", "start": {"id": 226, "labels": ["Node"]}, "end": {"id": 111, "labels": ["Node"]}}
{"type": "relationship", "id": 1747, "labels": "use", "start": {"id": 111, "labels": ["Node"]}, "end": {"id": 226, "labels": ["Node"]}}
{"type": "relationship", "id": 1748, "labels": "subclass of", "start": {"id": 482, "labels": ["Node"]}, "end": {"id": 402, "labels": ["Node"]}}
{"type": "relationship", "id": 1749, "labels": "subclass of", "start": {"id": 482, "labels": ["Node"]}, "end": {"id": 108, "labels": ["Node"]}}
{"type": "relationship", "id": 1750, "labels": "has part", "start": {"id": 482, "labels": ["Node"]}, "end": {"id": 61, "labels": ["Node"]}}
{"type": "relationship", "id": 1751, "labels": "facet of", "start": {"id": 823, "labels": ["Node"]}, "end": {"id": 632, "labels": ["Node"]}}
{"type": "relationship", "id": 1752, "labels": "has part", "start": {"id": 823, "labels": ["Node"]}, "end": {"id": 632, "labels": ["Node"]}}
{"type": "relationship", "id": 1753, "labels": "part of", "start": {"id": 823, "labels": ["Node"]}, "end": {"id": 175, "labels": ["Node"]}}
{"type": "relationship", "id": 1754, "labels": "subclass of", "start": {"id": 272, "labels": ["Node"]}, "end": {"id": 615, "labels": ["Node"]}}
{"type": "relationship", "id": 1755, "labels": "different from", "start": {"id": 272, "labels": ["Node"]}, "end": {"id": 362, "labels": ["Node"]}}
{"type": "relationship", "id": 1756, "labels": "instance of", "start": {"id": 272, "labels": ["Node"]}, "end": {"id": 615, "labels": ["Node"]}}
{"type": "relationship", "id": 1757, "labels": "instance of", "start": {"id": 512, "labels": ["Node"]}, "end": {"id": 369, "labels": ["Node"]}}
{"type": "relationship", "id": 1758, "labels": "maintained by", "start": {"id": 609, "labels": ["Node"]}, "end": {"id": 174, "labels": ["Node"]}}
{"type": "relationship", "id": 1759, "labels": "part of", "start": {"id": 406, "labels": ["Node"]}, "end": {"id": 231, "labels": ["Node"]}}
{"type": "relationship", "id": 1760, "labels": "has effect", "start": {"id": 276, "labels": ["Node"]}, "end": {"id": 682, "labels": ["Node"]}}
{"type": "relationship", "id": 1761, "labels": "owned by", "start": {"id": 255, "labels": ["Node"]}, "end": {"id": 14, "labels": ["Node"]}}
{"type": "relationship", "id": 1762, "labels": "owner of", "start": {"id": 14, "labels": ["Node"]}, "end": {"id": 255, "labels": ["Node"]}}
{"type": "relationship", "id": 1763, "labels": "owner of", "start": {"id": 14, "labels": ["Node"]}, "end": {"id": 538, "labels": ["Node"]}}
{"type": "relationship", "id": 1764, "labels": "instance of", "start": {"id": 543, "labels": ["Node"]}, "end": {"id": 384, "labels": ["Node"]}}
{"type": "relationship", "id": 1765, "labels": "subclass of", "start": {"id": 543, "labels": ["Node"]}, "end": {"id": 384, "labels": ["Node"]}}
{"type": "relationship", "id": 1766, "labels": "subclass of", "start": {"id": 700, "labels": ["Node"]}, "end": {"id": 384, "labels": ["Node"]}}
{"type": "relationship", "id": 1767, "labels": "part of", "start": {"id": 405, "labels": ["Node"]}, "end": {"id": 384, "labels": ["Node"]}}
{"type": "relationship", "id": 1768, "labels": "connects with", "start": {"id": 405, "labels": ["Node"]}, "end": {"id": 384, "labels": ["Node"]}}
{"type": "relationship", "id": 1769, "labels": "subclass of", "start": {"id": 633, "labels": ["Node"]}, "end": {"id": 384, "labels": ["Node"]}}
{"type": "relationship", "id": 1770, "labels": "subclass of", "start": {"id": 543, "labels": ["Node"]}, "end": {"id": 384, "labels": ["Node"]}}
{"type": "relationship", "id": 1771, "labels": "instance of", "start": {"id": 543, "labels": ["Node"]}, "end": {"id": 384, "labels": ["Node"]}}
{"type": "relationship", "id": 1772, "labels": "has part", "start": {"id": 543, "labels": ["Node"]}, "end": {"id": 700, "labels": ["Node"]}}
{"type": "relationship", "id": 1773, "labels": "subclass of", "start": {"id": 334, "labels": ["Node"]}, "end": {"id": 183, "labels": ["Node"]}}
{"type": "relationship", "id": 1774, "labels": "subclass of", "start": {"id": 111, "labels": ["Node"]}, "end": {"id": 334, "labels": ["Node"]}}
{"type": "relationship", "id": 1775, "labels": "instance of", "start": {"id": 111, "labels": ["Node"]}, "end": {"id": 334, "labels": ["Node"]}}
{"type": "relationship", "id": 1776, "labels": "subclass of", "start": {"id": 693, "labels": ["Node"]}, "end": {"id": 405, "labels": ["Node"]}}
{"type": "relationship", "id": 1777, "labels": "instance of", "start": {"id": 693, "labels": ["Node"]}, "end": {"id": 405, "labels": ["Node"]}}
{"type": "relationship", "id": 1778, "labels": "subclass of", "start": {"id": 574, "labels": ["Node"]}, "end": {"id": 405, "labels": ["Node"]}}
{"type": "relationship", "id": 1779, "labels": "instance of", "start": {"id": 543, "labels": ["Node"]}, "end": {"id": 384, "labels": ["Node"]}}
{"type": "relationship", "id": 1780, "labels": "subclass of", "start": {"id": 543, "labels": ["Node"]}, "end": {"id": 384, "labels": ["Node"]}}
{"type": "relationship", "id": 1781, "labels": "instance of", "start": {"id": 648, "labels": ["Node"]}, "end": {"id": 384, "labels": ["Node"]}}
{"type": "relationship", "id": 1782, "labels": "part of", "start": {"id": 272, "labels": ["Node"]}, "end": {"id": 384, "labels": ["Node"]}}
{"type": "relationship", "id": 1783, "labels": "subclass of", "start": {"id": 543, "labels": ["Node"]}, "end": {"id": 384, "labels": ["Node"]}}
{"type": "relationship", "id": 1784, "labels": "instance of", "start": {"id": 543, "labels": ["Node"]}, "end": {"id": 384, "labels": ["Node"]}}
{"type": "relationship", "id": 1785, "labels": "instance of", "start": {"id": 512, "labels": ["Node"]}, "end": {"id": 369, "labels": ["Node"]}}
{"type": "relationship", "id": 1786, "labels": "maintained by", "start": {"id": 609, "labels": ["Node"]}, "end": {"id": 174, "labels": ["Node"]}}
{"type": "relationship", "id": 1787, "labels": "part of", "start": {"id": 406, "labels": ["Node"]}, "end": {"id": 231, "labels": ["Node"]}}
{"type": "relationship", "id": 1788, "labels": "has effect", "start": {"id": 276, "labels": ["Node"]}, "end": {"id": 682, "labels": ["Node"]}}
{"type": "relationship", "id": 1789, "labels": "owned by", "start": {"id": 255, "labels": ["Node"]}, "end": {"id": 14, "labels": ["Node"]}}
{"type": "relationship", "id": 1790, "labels": "owner of", "start": {"id": 14, "labels": ["Node"]}, "end": {"id": 255, "labels": ["Node"]}}
{"type": "relationship", "id": 1791, "labels": "owner of", "start": {"id": 14, "labels": ["Node"]}, "end": {"id": 538, "labels": ["Node"]}}
{"type": "relationship", "id": 1792, "labels": "subclass of", "start": {"id": 696, "labels": ["Node"]}, "end": {"id": 384, "labels": ["Node"]}}
{"type": "relationship", "id": 1793, "labels": "subclass of", "start": {"id": 25, "labels": ["Node"]}, "end": {"id": 384, "labels": ["Node"]}}
{"type": "relationship", "id": 1794, "labels": "connects with", "start": {"id": 13, "labels": ["Node"]}, "end": {"id": 384, "labels": ["Node"]}}
{"type": "relationship", "id": 1795, "labels": "subclass of", "start": {"id": 222, "labels": ["Node"]}, "end": {"id": 384, "labels": ["Node"]}}
{"type": "relationship", "id": 1796, "labels": "part of", "start": {"id": 222, "labels": ["Node"]}, "end": {"id": 384, "labels": ["Node"]}}
{"type": "relationship", "id": 1797, "labels": "subclass of", "start": {"id": 25, "labels": ["Node"]}, "end": {"id": 384, "labels": ["Node"]}}
{"type": "relationship", "id": 1798, "labels": "instance of", "start": {"id": 25, "labels": ["Node"]}, "end": {"id": 384, "labels": ["Node"]}}
{"type": "relationship", "id": 1799, "labels": "part of", "start": {"id": 669, "labels": ["Node"]}, "end": {"id": 384, "labels": ["Node"]}}
{"type": "relationship", "id": 1800, "labels": "subclass of", "start": {"id": 712, "labels": ["Node"]}, "end": {"id": 384, "labels": ["Node"]}}
{"type": "relationship", "id": 1801, "labels": "part of", "start": {"id": 712, "labels": ["Node"]}, "end": {"id": 384, "labels": ["Node"]}}
{"type": "relationship", "id": 1802, "labels": "has part", "start": {"id": 384, "labels": ["Node"]}, "end": {"id": 712, "labels": ["Node"]}}
{"type": "relationship", "id": 1803, "labels": "subclass of", "start": {"id": 149, "labels": ["Node"]}, "end": {"id": 837, "labels": ["Node"]}}
{"type": "relationship", "id": 1804, "labels": "connects with", "start": {"id": 149, "labels": ["Node"]}, "end": {"id": 190, "labels": ["Node"]}}
{"type": "relationship", "id": 1805, "labels": "connects with", "start": {"id": 190, "labels": ["Node"]}, "end": {"id": 149, "labels": ["Node"]}}
{"type": "relationship", "id": 1806, "labels": "opposite of", "start": {"id": 143, "labels": ["Node"]}, "end": {"id": 672, "labels": ["Node"]}}
{"type": "relationship", "id": 1807, "labels": "uses", "start": {"id": 143, "labels": ["Node"]}, "end": {"id": 371, "labels": ["Node"]}}
{"type": "relationship", "id": 1808, "labels": "subclass of", "start": {"id": 301, "labels": ["Node"]}, "end": {"id": 143, "labels": ["Node"]}}
{"type": "relationship", "id": 1809, "labels": "subclass of", "start": {"id": 279, "labels": ["Node"]}, "end": {"id": 405, "labels": ["Node"]}}
{"type": "relationship", "id": 1810, "labels": "use", "start": {"id": 61, "labels": ["Node"]}, "end": {"id": 412, "labels": ["Node"]}}
{"type": "relationship", "id": 1811, "labels": "subclass of", "start": {"id": 61, "labels": ["Node"]}, "end": {"id": 279, "labels": ["Node"]}}
{"type": "relationship", "id": 1812, "labels": "use", "start": {"id": 272, "labels": ["Node"]}, "end": {"id": 184, "labels": ["Node"]}}
{"type": "relationship", "id": 1813, "labels": "has cause", "start": {"id": 20, "labels": ["Node"]}, "end": {"id": 272, "labels": ["Node"]}}
{"type": "relationship", "id": 1814, "labels": "has part", "start": {"id": 184, "labels": ["Node"]}, "end": {"id": 272, "labels": ["Node"]}}
{"type": "relationship", "id": 1815, "labels": "opposite of", "start": {"id": 30, "labels": ["Node"]}, "end": {"id": 879, "labels": ["Node"]}}
{"type": "relationship", "id": 1816, "labels": "opposite of", "start": {"id": 879, "labels": ["Node"]}, "end": {"id": 30, "labels": ["Node"]}}
{"type": "relationship", "id": 1817, "labels": "subclass of", "start": {"id": 30, "labels": ["Node"]}, "end": {"id": 879, "labels": ["Node"]}}
{"type": "relationship", "id": 1818, "labels": "opposite of", "start": {"id": 313, "labels": ["Node"]}, "end": {"id": 879, "labels": ["Node"]}}
{"type": "relationship", "id": 1819, "labels": "subclass of", "start": {"id": 222, "labels": ["Node"]}, "end": {"id": 687, "labels": ["Node"]}}
{"type": "relationship", "id": 1820, "labels": "subclass of", "start": {"id": 700, "labels": ["Node"]}, "end": {"id": 687, "labels": ["Node"]}}
{"type": "relationship", "id": 1821, "labels": "subclass of", "start": {"id": 482, "labels": ["Node"]}, "end": {"id": 833, "labels": ["Node"]}}
{"type": "relationship", "id": 1822, "labels": "subclass of", "start": {"id": 689, "labels": ["Node"]}, "end": {"id": 615, "labels": ["Node"]}}
{"type": "relationship", "id": 1823, "labels": "subclass of", "start": {"id": 272, "labels": ["Node"]}, "end": {"id": 615, "labels": ["Node"]}}
{"type": "relationship", "id": 1824, "labels": "connects with", "start": {"id": 384, "labels": ["Node"]}, "end": {"id": 183, "labels": ["Node"]}}
{"type": "relationship", "id": 1825, "labels": "instance of", "start": {"id": 512, "labels": ["Node"]}, "end": {"id": 369, "labels": ["Node"]}}
{"type": "relationship", "id": 1826, "labels": "subclass of", "start": {"id": 850, "labels": ["Node"]}, "end": {"id": 384, "labels": ["Node"]}}
{"type": "relationship", "id": 1827, "labels": "subclass of", "start": {"id": 690, "labels": ["Node"]}, "end": {"id": 384, "labels": ["Node"]}}
{"type": "relationship", "id": 1828, "labels": "instance of", "start": {"id": 690, "labels": ["Node"]}, "end": {"id": 384, "labels": ["Node"]}}
{"type": "relationship", "id": 1829, "labels": "maintained by", "start": {"id": 609, "labels": ["Node"]}, "end": {"id": 174, "labels": ["Node"]}}
{"type": "relationship", "id": 1830, "labels": "part of", "start": {"id": 406, "labels": ["Node"]}, "end": {"id": 231, "labels": ["Node"]}}
{"type": "relationship", "id": 1831, "labels": "has effect", "start": {"id": 276, "labels": ["Node"]}, "end": {"id": 682, "labels": ["Node"]}}
{"type": "relationship", "id": 1832, "labels": "owned by", "start": {"id": 255, "labels": ["Node"]}, "end": {"id": 14, "labels": ["Node"]}}
{"type": "relationship", "id": 1833, "labels": "owner of", "start": {"id": 14, "labels": ["Node"]}, "end": {"id": 255, "labels": ["Node"]}}
{"type": "relationship", "id": 1834, "labels": "owner of", "start": {"id": 14, "labels": ["Node"]}, "end": {"id": 538, "labels": ["Node"]}}
{"type": "relationship", "id": 1835, "labels": "product or material produced", "start": {"id": 360, "labels": ["Node"]}, "end": {"id": 384, "labels": ["Node"]}}
{"type": "relationship", "id": 1836, "labels": "instance of", "start": {"id": 321, "labels": ["Node"]}, "end": {"id": 384, "labels": ["Node"]}}
{"type": "relationship", "id": 1837, "labels": "subclass of", "start": {"id": 321, "labels": ["Node"]}, "end": {"id": 839, "labels": ["Node"]}}
{"type": "relationship", "id": 1838, "labels": "connects with", "start": {"id": 226, "labels": ["Node"]}, "end": {"id": 384, "labels": ["Node"]}}
{"type": "relationship", "id": 1839, "labels": "connects with", "start": {"id": 488, "labels": ["Node"]}, "end": {"id": 384, "labels": ["Node"]}}
{"type": "relationship", "id": 1840, "labels": "connects with", "start": {"id": 384, "labels": ["Node"]}, "end": {"id": 226, "labels": ["Node"]}}
{"type": "relationship", "id": 1841, "labels": "different from", "start": {"id": 712, "labels": ["Node"]}, "end": {"id": 384, "labels": ["Node"]}}
{"type": "relationship", "id": 1842, "labels": "different from", "start": {"id": 384, "labels": ["Node"]}, "end": {"id": 712, "labels": ["Node"]}}
{"type": "relationship", "id": 1843, "labels": "opposite of", "start": {"id": 550, "labels": ["Node"]}, "end": {"id": 590, "labels": ["Node"]}}
{"type": "relationship", "id": 1844, "labels": "opposite of", "start": {"id": 590, "labels": ["Node"]}, "end": {"id": 550, "labels": ["Node"]}}
{"type": "relationship", "id": 1845, "labels": "different from", "start": {"id": 550, "labels": ["Node"]}, "end": {"id": 590, "labels": ["Node"]}}
{"type": "relationship", "id": 1846, "labels": "different from", "start": {"id": 590, "labels": ["Node"]}, "end": {"id": 550, "labels": ["Node"]}}
{"type": "relationship", "id": 1847, "labels": "subclass of", "start": {"id": 371, "labels": ["Node"]}, "end": {"id": 384, "labels": ["Node"]}}
{"type": "relationship", "id": 1848, "labels": "subclass of", "start": {"id": 692, "labels": ["Node"]}, "end": {"id": 384, "labels": ["Node"]}}
{"type": "relationship", "id": 1849, "labels": "use", "start": {"id": 371, "labels": ["Node"]}, "end": {"id": 384, "labels": ["Node"]}}
{"type": "relationship", "id": 1850, "labels": "subclass of", "start": {"id": 654, "labels": ["Node"]}, "end": {"id": 319, "labels": ["Node"]}}
{"type": "relationship", "id": 1851, "labels": "subclass of", "start": {"id": 184, "labels": ["Node"]}, "end": {"id": 319, "labels": ["Node"]}}
{"type": "relationship", "id": 1852, "labels": "part of", "start": {"id": 319, "labels": ["Node"]}, "end": {"id": 184, "labels": ["Node"]}}
{"type": "relationship", "id": 1853, "labels": "subclass of", "start": {"id": 740, "labels": ["Node"]}, "end": {"id": 712, "labels": ["Node"]}}
{"type": "relationship", "id": 1854, "labels": "subclass of", "start": {"id": 712, "labels": ["Node"]}, "end": {"id": 712, "labels": ["Node"]}}
{"type": "relationship", "id": 1855, "labels": "part of", "start": {"id": 712, "labels": ["Node"]}, "end": {"id": 712, "labels": ["Node"]}}
{"type": "relationship", "id": 1856, "labels": "part of", "start": {"id": 608, "labels": ["Node"]}, "end": {"id": 384, "labels": ["Node"]}}
{"type": "relationship", "id": 1857, "labels": "subclass of", "start": {"id": 608, "labels": ["Node"]}, "end": {"id": 384, "labels": ["Node"]}}
{"type": "relationship", "id": 1858, "labels": "part of", "start": {"id": 494, "labels": ["Node"]}, "end": {"id": 384, "labels": ["Node"]}}
{"type": "relationship", "id": 1859, "labels": "instance of", "start": {"id": 512, "labels": ["Node"]}, "end": {"id": 369, "labels": ["Node"]}}
{"type": "relationship", "id": 1860, "labels": "maintained by", "start": {"id": 609, "labels": ["Node"]}, "end": {"id": 174, "labels": ["Node"]}}
{"type": "relationship", "id": 1861, "labels": "part of", "start": {"id": 406, "labels": ["Node"]}, "end": {"id": 231, "labels": ["Node"]}}
{"type": "relationship", "id": 1862, "labels": "has effect", "start": {"id": 276, "labels": ["Node"]}, "end": {"id": 682, "labels": ["Node"]}}
{"type": "relationship", "id": 1863, "labels": "owned by", "start": {"id": 255, "labels": ["Node"]}, "end": {"id": 14, "labels": ["Node"]}}
{"type": "relationship", "id": 1864, "labels": "owner of", "start": {"id": 14, "labels": ["Node"]}, "end": {"id": 255, "labels": ["Node"]}}
{"type": "relationship", "id": 1865, "labels": "owner of", "start": {"id": 14, "labels": ["Node"]}, "end": {"id": 538, "labels": ["Node"]}}
{"type": "relationship", "id": 1866, "labels": "instance of", "start": {"id": 572, "labels": ["Node"]}, "end": {"id": 865, "labels": ["Node"]}}
{"type": "relationship", "id": 1867, "labels": "instance of", "start": {"id": 761, "labels": ["Node"]}, "end": {"id": 865, "labels": ["Node"]}}
{"type": "relationship", "id": 1868, "labels": "instance of", "start": {"id": 432, "labels": ["Node"]}, "end": {"id": 865, "labels": ["Node"]}}
{"type": "relationship", "id": 1869, "labels": "part of", "start": {"id": 272, "labels": ["Node"]}, "end": {"id": 384, "labels": ["Node"]}}
{"type": "relationship", "id": 1870, "labels": "connects with", "start": {"id": 226, "labels": ["Node"]}, "end": {"id": 384, "labels": ["Node"]}}
{"type": "relationship", "id": 1871, "labels": "has part", "start": {"id": 226, "labels": ["Node"]}, "end": {"id": 272, "labels": ["Node"]}}
{"type": "relationship", "id": 1872, "labels": "subclass of", "start": {"id": 281, "labels": ["Node"]}, "end": {"id": 384, "labels": ["Node"]}}
{"type": "relationship", "id": 1873, "labels": "part of", "start": {"id": 712, "labels": ["Node"]}, "end": {"id": 384, "labels": ["Node"]}}
{"type": "relationship", "id": 1874, "labels": "subclass of", "start": {"id": 712, "labels": ["Node"]}, "end": {"id": 503, "labels": ["Node"]}}
{"type": "relationship", "id": 1875, "labels": "subclass of", "start": {"id": 712, "labels": ["Node"]}, "end": {"id": 617, "labels": ["Node"]}}
{"type": "relationship", "id": 1876, "labels": "part of", "start": {"id": 617, "labels": ["Node"]}, "end": {"id": 712, "labels": ["Node"]}}
{"type": "relationship", "id": 1877, "labels": "uses", "start": {"id": 665, "labels": ["Node"]}, "end": {"id": 471, "labels": ["Node"]}}
{"type": "relationship", "id": 1878, "labels": "subclass of", "start": {"id": 665, "labels": ["Node"]}, "end": {"id": 479, "labels": ["Node"]}}
{"type": "relationship", "id": 1879, "labels": "subclass of", "start": {"id": 760, "labels": ["Node"]}, "end": {"id": 479, "labels": ["Node"]}}
{"type": "relationship", "id": 1880, "labels": "subclass of", "start": {"id": 177, "labels": ["Node"]}, "end": {"id": 689, "labels": ["Node"]}}
{"type": "relationship", "id": 1881, "labels": "subclass of", "start": {"id": 177, "labels": ["Node"]}, "end": {"id": 272, "labels": ["Node"]}}
{"type": "relationship", "id": 1882, "labels": "different from", "start": {"id": 272, "labels": ["Node"]}, "end": {"id": 689, "labels": ["Node"]}}
{"type": "relationship", "id": 1883, "labels": "subclass of", "start": {"id": 608, "labels": ["Node"]}, "end": {"id": 319, "labels": ["Node"]}}
{"type": "relationship", "id": 1884, "labels": "subclass of", "start": {"id": 626, "labels": ["Node"]}, "end": {"id": 319, "labels": ["Node"]}}
{"type": "relationship", "id": 1885, "labels": "instance of", "start": {"id": 608, "labels": ["Node"]}, "end": {"id": 319, "labels": ["Node"]}}
{"type": "relationship", "id": 1886, "labels": "subclass of", "start": {"id": 582, "labels": ["Node"]}, "end": {"id": 865, "labels": ["Node"]}}
{"type": "relationship", "id": 1887, "labels": "part of", "start": {"id": 582, "labels": ["Node"]}, "end": {"id": 865, "labels": ["Node"]}}
{"type": "relationship", "id": 1888, "labels": "connects with", "start": {"id": 792, "labels": ["Node"]}, "end": {"id": 865, "labels": ["Node"]}}
{"type": "relationship", "id": 1889, "labels": "instance of", "start": {"id": 512, "labels": ["Node"]}, "end": {"id": 369, "labels": ["Node"]}}
{"type": "relationship", "id": 1890, "labels": "maintained by", "start": {"id": 609, "labels": ["Node"]}, "end": {"id": 174, "labels": ["Node"]}}
{"type": "relationship", "id": 1891, "labels": "part of", "start": {"id": 406, "labels": ["Node"]}, "end": {"id": 231, "labels": ["Node"]}}
{"type": "relationship", "id": 1892, "labels": "has effect", "start": {"id": 276, "labels": ["Node"]}, "end": {"id": 682, "labels": ["Node"]}}
{"type": "relationship", "id": 1893, "labels": "owned by", "start": {"id": 255, "labels": ["Node"]}, "end": {"id": 14, "labels": ["Node"]}}
{"type": "relationship", "id": 1894, "labels": "owner of", "start": {"id": 14, "labels": ["Node"]}, "end": {"id": 255, "labels": ["Node"]}}
{"type": "relationship", "id": 1895, "labels": "owner of", "start": {"id": 14, "labels": ["Node"]}, "end": {"id": 538, "labels": ["Node"]}}
{"type": "relationship", "id": 1896, "labels": "manufacturer", "start": {"id": 763, "labels": ["Node"]}, "end": {"id": 676, "labels": ["Node"]}}
{"type": "relationship", "id": 1897, "labels": "product or material produced", "start": {"id": 676, "labels": ["Node"]}, "end": {"id": 26, "labels": ["Node"]}}
{"type": "relationship", "id": 1898, "labels": "subclass of", "start": {"id": 26, "labels": ["Node"]}, "end": {"id": 490, "labels": ["Node"]}}
{"type": "relationship", "id": 1899, "labels": "manufacturer", "start": {"id": 316, "labels": ["Node"]}, "end": {"id": 676, "labels": ["Node"]}}
{"type": "relationship", "id": 1900, "labels": "developer", "start": {"id": 316, "labels": ["Node"]}, "end": {"id": 676, "labels": ["Node"]}}
{"type": "relationship", "id": 1901, "labels": "product or material produced", "start": {"id": 676, "labels": ["Node"]}, "end": {"id": 384, "labels": ["Node"]}}
{"type": "relationship", "id": 1902, "labels": "product or material produced", "start": {"id": 676, "labels": ["Node"]}, "end": {"id": 384, "labels": ["Node"]}}
{"type": "relationship", "id": 1903, "labels": "product or material produced", "start": {"id": 676, "labels": ["Node"]}, "end": {"id": 454, "labels": ["Node"]}}
{"type": "relationship", "id": 1904, "labels": "has part", "start": {"id": 384, "labels": ["Node"]}, "end": {"id": 539, "labels": ["Node"]}}
{"type": "relationship", "id": 1905, "labels": "manufacturer", "start": {"id": 316, "labels": ["Node"]}, "end": {"id": 676, "labels": ["Node"]}}
{"type": "relationship", "id": 1906, "labels": "instance of", "start": {"id": 316, "labels": ["Node"]}, "end": {"id": 712, "labels": ["Node"]}}
{"type": "relationship", "id": 1907, "labels": "has part", "start": {"id": 316, "labels": ["Node"]}, "end": {"id": 712, "labels": ["Node"]}}
{"type": "relationship", "id": 1908, "labels": "opposite of", "start": {"id": 728, "labels": ["Node"]}, "end": {"id": 593, "labels": ["Node"]}}
{"type": "relationship", "id": 1909, "labels": "subclass of", "start": {"id": 363, "labels": ["Node"]}, "end": {"id": 287, "labels": ["Node"]}}
{"type": "relationship", "id": 1910, "labels": "opposite of", "start": {"id": 593, "labels": ["Node"]}, "end": {"id": 728, "labels": ["Node"]}}
{"type": "relationship", "id": 1911, "labels": "subclass of", "start": {"id": 501, "labels": ["Node"]}, "end": {"id": 272, "labels": ["Node"]}}
{"type": "relationship", "id": 1912, "labels": "subclass of", "start": {"id": 447, "labels": ["Node"]}, "end": {"id": 272, "labels": ["Node"]}}
{"type": "relationship", "id": 1913, "labels": "instance of", "start": {"id": 468, "labels": ["Node"]}, "end": {"id": 379, "labels": ["Node"]}}
{"type": "relationship", "id": 1914, "labels": "operating system", "start": {"id": 489, "labels": ["Node"]}, "end": {"id": 12, "labels": ["Node"]}}
{"type": "relationship", "id": 1915, "labels": "platform", "start": {"id": 489, "labels": ["Node"]}, "end": {"id": 12, "labels": ["Node"]}}
{"type": "relationship", "id": 1916, "labels": "operating system", "start": {"id": 489, "labels": ["Node"]}, "end": {"id": 198, "labels": ["Node"]}}
{"type": "relationship", "id": 1917, "labels": "developer", "start": {"id": 74, "labels": ["Node"]}, "end": {"id": 676, "labels": ["Node"]}}
{"type": "relationship", "id": 1918, "labels": "instance of", "start": {"id": 726, "labels": ["Node"]}, "end": {"id": 601, "labels": ["Node"]}}
{"type": "relationship", "id": 1919, "labels": "used by", "start": {"id": 726, "labels": ["Node"]}, "end": {"id": 489, "labels": ["Node"]}}
{"type": "relationship", "id": 1920, "labels": "subclass of", "start": {"id": 797, "labels": ["Node"]}, "end": {"id": 272, "labels": ["Node"]}}
{"type": "relationship", "id": 1921, "labels": "part of", "start": {"id": 319, "labels": ["Node"]}, "end": {"id": 432, "labels": ["Node"]}}
{"type": "relationship", "id": 1922, "labels": "instance of", "start": {"id": 797, "labels": ["Node"]}, "end": {"id": 272, "labels": ["Node"]}}
{"type": "relationship", "id": 1923, "labels": "use", "start": {"id": 712, "labels": ["Node"]}, "end": {"id": 681, "labels": ["Node"]}}
{"type": "relationship", "id": 1924, "labels": "facet of", "start": {"id": 712, "labels": ["Node"]}, "end": {"id": 715, "labels": ["Node"]}}
{"type": "relationship", "id": 1925, "labels": "subclass of", "start": {"id": 712, "labels": ["Node"]}, "end": {"id": 712, "labels": ["Node"]}}
{"type": "relationship", "id": 1926, "labels": "follows", "start": {"id": 758, "labels": ["Node"]}, "end": {"id": 338, "labels": ["Node"]}}
{"type": "relationship", "id": 1927, "labels": "followed by", "start": {"id": 338, "labels": ["Node"]}, "end": {"id": 758, "labels": ["Node"]}}
{"type": "relationship", "id": 1928, "labels": "instance of", "start": {"id": 512, "labels": ["Node"]}, "end": {"id": 369, "labels": ["Node"]}}
{"type": "relationship", "id": 1929, "labels": "point in time", "start": {"id": 182, "labels": ["Node"]}, "end": {"id": 126, "labels": ["Node"]}}
{"type": "relationship", "id": 1930, "labels": "is a list of", "start": {"id": 182, "labels": ["Node"]}, "end": {"id": 839, "labels": ["Node"]}}
{"type": "relationship", "id": 1931, "labels": "point in time", "start": {"id": 513, "labels": ["Node"]}, "end": {"id": 126, "labels": ["Node"]}}
{"type": "relationship", "id": 1932, "labels": "subclass of", "start": {"id": 777, "labels": ["Node"]}, "end": {"id": 384, "labels": ["Node"]}}
{"type": "relationship", "id": 1933, "labels": "subclass of", "start": {"id": 281, "labels": ["Node"]}, "end": {"id": 384, "labels": ["Node"]}}
{"type": "relationship", "id": 1934, "labels": "part of", "start": {"id": 563, "labels": ["Node"]}, "end": {"id": 384, "labels": ["Node"]}}
{"type": "relationship", "id": 1935, "labels": "part of", "start": {"id": 503, "labels": ["Node"]}, "end": {"id": 384, "labels": ["Node"]}}
{"type": "relationship", "id": 1936, "labels": "has part", "start": {"id": 384, "labels": ["Node"]}, "end": {"id": 712, "labels": ["Node"]}}
{"type": "relationship", "id": 1937, "labels": "subclass of", "start": {"id": 825, "labels": ["Node"]}, "end": {"id": 384, "labels": ["Node"]}}
{"type": "relationship", "id": 1938, "labels": "subclass of", "start": {"id": 0, "labels": ["Node"]}, "end": {"id": 384, "labels": ["Node"]}}
{"type": "relationship", "id": 1939, "labels": "subclass of", "start": {"id": 449, "labels": ["Node"]}, "end": {"id": 384, "labels": ["Node"]}}
{"type": "relationship", "id": 1940, "labels": "part of", "start": {"id": 384, "labels": ["Node"]}, "end": {"id": 138, "labels": ["Node"]}}
{"type": "relationship", "id": 1941, "labels": "has part", "start": {"id": 138, "labels": ["Node"]}, "end": {"id": 384, "labels": ["Node"]}}
{"type": "relationship", "id": 1942, "labels": "part of", "start": {"id": 384, "labels": ["Node"]}, "end": {"id": 384, "labels": ["Node"]}}
{"type": "relationship", "id": 1943, "labels": "part of", "start": {"id": 272, "labels": ["Node"]}, "end": {"id": 384, "labels": ["Node"]}}
{"type": "relationship", "id": 1944, "labels": "subclass of", "start": {"id": 249, "labels": ["Node"]}, "end": {"id": 384, "labels": ["Node"]}}
{"type": "relationship", "id": 1945, "labels": "has part", "start": {"id": 384, "labels": ["Node"]}, "end": {"id": 272, "labels": ["Node"]}}
{"type": "relationship", "id": 1946, "labels": "part of", "start": {"id": 406, "labels": ["Node"]}, "end": {"id": 231, "labels": ["Node"]}}
{"type": "relationship", "id": 1947, "labels": "contains administrative territorial entity", "start": {"id": 165, "labels": ["Node"]}, "end": {"id": 118, "labels": ["Node"]}}
{"type": "relationship", "id": 1948, "labels": "located in the administrative territorial entity", "start": {"id": 118, "labels": ["Node"]}, "end": {"id": 165, "labels": ["Node"]}}
{"type": "relationship", "id": 1949, "labels": "position held", "start": {"id": 229, "labels": ["Node"]}, "end": {"id": 314, "labels": ["Node"]}}
{"type": "relationship", "id": 1950, "labels": "subclass of", "start": {"id": 143, "labels": ["Node"]}, "end": {"id": 384, "labels": ["Node"]}}
{"type": "relationship", "id": 1951, "labels": "subclass of", "start": {"id": 476, "labels": ["Node"]}, "end": {"id": 384, "labels": ["Node"]}}
{"type": "relationship", "id": 1952, "labels": "subclass of", "start": {"id": 261, "labels": ["Node"]}, "end": {"id": 476, "labels": ["Node"]}}
{"type": "relationship", "id": 1953, "labels": "instance of", "start": {"id": 152, "labels": ["Node"]}, "end": {"id": 416, "labels": ["Node"]}}
{"type": "relationship", "id": 1954, "labels": "use", "start": {"id": 152, "labels": ["Node"]}, "end": {"id": 371, "labels": ["Node"]}}
{"type": "relationship", "id": 1955, "labels": "instance of", "start": {"id": 152, "labels": ["Node"]}, "end": {"id": 463, "labels": ["Node"]}}
{"type": "relationship", "id": 1956, "labels": "subclass of", "start": {"id": 143, "labels": ["Node"]}, "end": {"id": 384, "labels": ["Node"]}}
{"type": "relationship", "id": 1957, "labels": "subclass of", "start": {"id": 700, "labels": ["Node"]}, "end": {"id": 384, "labels": ["Node"]}}
{"type": "relationship", "id": 1958, "labels": "different from", "start": {"id": 199, "labels": ["Node"]}, "end": {"id": 117, "labels": ["Node"]}}
{"type": "relationship", "id": 1959, "labels": "instance of", "start": {"id": 608, "labels": ["Node"]}, "end": {"id": 823, "labels": ["Node"]}}
{"type": "relationship", "id": 1960, "labels": "part of", "start": {"id": 608, "labels": ["Node"]}, "end": {"id": 823, "labels": ["Node"]}}
{"type": "relationship", "id": 1961, "labels": "subclass of", "start": {"id": 608, "labels": ["Node"]}, "end": {"id": 823, "labels": ["Node"]}}
{"type": "relationship", "id": 1962, "labels": "product or material produced", "start": {"id": 673, "labels": ["Node"]}, "end": {"id": 384, "labels": ["Node"]}}
{"type": "relationship", "id": 1963, "labels": "product or material produced", "start": {"id": 676, "labels": ["Node"]}, "end": {"id": 384, "labels": ["Node"]}}
{"type": "relationship", "id": 1964, "labels": "subclass of", "start": {"id": 700, "labels": ["Node"]}, "end": {"id": 384, "labels": ["Node"]}}
{"type": "relationship", "id": 1965, "labels": "use", "start": {"id": 839, "labels": ["Node"]}, "end": {"id": 671, "labels": ["Node"]}}
{"type": "relationship", "id": 1966, "labels": "use", "start": {"id": 839, "labels": ["Node"]}, "end": {"id": 774, "labels": ["Node"]}}
{"type": "relationship", "id": 1967, "labels": "operating system", "start": {"id": 807, "labels": ["Node"]}, "end": {"id": 198, "labels": ["Node"]}}
{"type": "relationship", "id": 1968, "labels": "operating system", "start": {"id": 807, "labels": ["Node"]}, "end": {"id": 17, "labels": ["Node"]}}
{"type": "relationship", "id": 1969, "labels": "operating system", "start": {"id": 57, "labels": ["Node"]}, "end": {"id": 198, "labels": ["Node"]}}
{"type": "relationship", "id": 1970, "labels": "operating system", "start": {"id": 57, "labels": ["Node"]}, "end": {"id": 17, "labels": ["Node"]}}
{"type": "relationship", "id": 1971, "labels": "manufacturer", "start": {"id": 316, "labels": ["Node"]}, "end": {"id": 676, "labels": ["Node"]}}
{"type": "relationship", "id": 1972, "labels": "developer", "start": {"id": 316, "labels": ["Node"]}, "end": {"id": 676, "labels": ["Node"]}}
{"type": "relationship", "id": 1973, "labels": "use", "start": {"id": 79, "labels": ["Node"]}, "end": {"id": 823, "labels": ["Node"]}}
{"type": "relationship", "id": 1974, "labels": "point in time", "start": {"id": 182, "labels": ["Node"]}, "end": {"id": 126, "labels": ["Node"]}}
{"type": "relationship", "id": 1975, "labels": "subclass of", "start": {"id": 700, "labels": ["Node"]}, "end": {"id": 384, "labels": ["Node"]}}
{"type": "relationship", "id": 1976, "labels": "publication date", "start": {"id": 34, "labels": ["Node"]}, "end": {"id": 126, "labels": ["Node"]}}
{"type": "relationship", "id": 1977, "labels": "uses", "start": {"id": 424, "labels": ["Node"]}, "end": {"id": 371, "labels": ["Node"]}}
{"type": "relationship", "id": 1978, "labels": "uses", "start": {"id": 311, "labels": ["Node"]}, "end": {"id": 371, "labels": ["Node"]}}
{"type": "relationship", "id": 1979, "labels": "uses", "start": {"id": 371, "labels": ["Node"]}, "end": {"id": 381, "labels": ["Node"]}}
{"type": "relationship", "id": 1980, "labels": "is a list of", "start": {"id": 103, "labels": ["Node"]}, "end": {"id": 604, "labels": ["Node"]}}
{"type": "relationship", "id": 1981, "labels": "has part", "start": {"id": 103, "labels": ["Node"]}, "end": {"id": 649, "labels": ["Node"]}}
{"type": "relationship", "id": 1982, "labels": "main subject", "start": {"id": 103, "labels": ["Node"]}, "end": {"id": 649, "labels": ["Node"]}}
{"type": "relationship", "id": 1983, "labels": "performer", "start": {"id": 636, "labels": ["Node"]}, "end": {"id": 318, "labels": ["Node"]}}
{"type": "relationship", "id": 1984, "labels": "named after", "start": {"id": 529, "labels": ["Node"]}, "end": {"id": 318, "labels": ["Node"]}}
{"type": "relationship", "id": 1985, "labels": "occupation", "start": {"id": 318, "labels": ["Node"]}, "end": {"id": 636, "labels": ["Node"]}}
{"type": "relationship", "id": 1986, "labels": "subclass of", "start": {"id": 710, "labels": ["Node"]}, "end": {"id": 280, "labels": ["Node"]}}
{"type": "relationship", "id": 1987, "labels": "product or material produced", "start": {"id": 178, "labels": ["Node"]}, "end": {"id": 552, "labels": ["Node"]}}
{"type": "relationship", "id": 1988, "labels": "subclass of", "start": {"id": 21, "labels": ["Node"]}, "end": {"id": 552, "labels": ["Node"]}}
{"type": "relationship", "id": 1989, "labels": "subclass of", "start": {"id": 710, "labels": ["Node"]}, "end": {"id": 552, "labels": ["Node"]}}
{"type": "relationship", "id": 1990, "labels": "subclass of", "start": {"id": 552, "labels": ["Node"]}, "end": {"id": 778, "labels": ["Node"]}}
{"type": "relationship", "id": 1991, "labels": "subclass of", "start": {"id": 552, "labels": ["Node"]}, "end": {"id": 151, "labels": ["Node"]}}
{"type": "relationship", "id": 1992, "labels": "subclass of", "start": {"id": 710, "labels": ["Node"]}, "end": {"id": 151, "labels": ["Node"]}}
{"type": "relationship", "id": 1993, "labels": "subclass of", "start": {"id": 403, "labels": ["Node"]}, "end": {"id": 803, "labels": ["Node"]}}
{"type": "relationship", "id": 1994, "labels": "subclass of", "start": {"id": 403, "labels": ["Node"]}, "end": {"id": 121, "labels": ["Node"]}}
{"type": "relationship", "id": 1995, "labels": "field of work", "start": {"id": 178, "labels": ["Node"]}, "end": {"id": 455, "labels": ["Node"]}}
{"type": "relationship", "id": 1996, "labels": "product or material produced", "start": {"id": 624, "labels": ["Node"]}, "end": {"id": 384, "labels": ["Node"]}}
{"type": "relationship", "id": 1997, "labels": "product or material produced", "start": {"id": 624, "labels": ["Node"]}, "end": {"id": 814, "labels": ["Node"]}}
{"type": "relationship", "id": 1998, "labels": "product or material produced", "start": {"id": 380, "labels": ["Node"]}, "end": {"id": 814, "labels": ["Node"]}}
{"type": "relationship", "id": 1999, "labels": "product or material produced", "start": {"id": 673, "labels": ["Node"]}, "end": {"id": 384, "labels": ["Node"]}}
{"type": "relationship", "id": 2000, "labels": "product or material produced", "start": {"id": 673, "labels": ["Node"]}, "end": {"id": 356, "labels": ["Node"]}}
{"type": "relationship", "id": 2001, "labels": "product or material produced", "start": {"id": 356, "labels": ["Node"]}, "end": {"id": 384, "labels": ["Node"]}}
{"type": "relationship", "id": 2002, "labels": "part of", "start": {"id": 712, "labels": ["Node"]}, "end": {"id": 384, "labels": ["Node"]}}
{"type": "relationship", "id": 2003, "labels": "product or material produced", "start": {"id": 97, "labels": ["Node"]}, "end": {"id": 384, "labels": ["Node"]}}
{"type": "relationship", "id": 2004, "labels": "point in time", "start": {"id": 567, "labels": ["Node"]}, "end": {"id": 391, "labels": ["Node"]}}
{"type": "relationship", "id": 2005, "labels": "point in time", "start": {"id": 790, "labels": ["Node"]}, "end": {"id": 391, "labels": ["Node"]}}
{"type": "relationship", "id": 2006, "labels": "point in time", "start": {"id": 337, "labels": ["Node"]}, "end": {"id": 391, "labels": ["Node"]}}
{"type": "relationship", "id": 2007, "labels": "subclass of", "start": {"id": 865, "labels": ["Node"]}, "end": {"id": 384, "labels": ["Node"]}}
{"type": "relationship", "id": 2008, "labels": "different from", "start": {"id": 865, "labels": ["Node"]}, "end": {"id": 384, "labels": ["Node"]}}
{"type": "relationship", "id": 2009, "labels": "subclass of", "start": {"id": 143, "labels": ["Node"]}, "end": {"id": 384, "labels": ["Node"]}}
{"type": "relationship", "id": 2010, "labels": "performer", "start": {"id": 827, "labels": ["Node"]}, "end": {"id": 459, "labels": ["Node"]}}
{"type": "relationship", "id": 2011, "labels": "author", "start": {"id": 827, "labels": ["Node"]}, "end": {"id": 395, "labels": ["Node"]}}
{"type": "relationship", "id": 2012, "labels": "creator", "start": {"id": 827, "labels": ["Node"]}, "end": {"id": 478, "labels": ["Node"]}}
{"type": "relationship", "id": 2013, "labels": "performer", "start": {"id": 396, "labels": ["Node"]}, "end": {"id": 874, "labels": ["Node"]}}
{"type": "relationship", "id": 2014, "labels": "performer", "start": {"id": 497, "labels": ["Node"]}, "end": {"id": 874, "labels": ["Node"]}}
{"type": "relationship", "id": 2015, "labels": "performer", "start": {"id": 519, "labels": ["Node"]}, "end": {"id": 874, "labels": ["Node"]}}
{"type": "relationship", "id": 2016, "labels": "owned by", "start": {"id": 178, "labels": ["Node"]}, "end": {"id": 451, "labels": ["Node"]}}
{"type": "relationship", "id": 2017, "labels": "owned by", "start": {"id": 178, "labels": ["Node"]}, "end": {"id": 688, "labels": ["Node"]}}
{"type": "relationship", "id": 2018, "labels": "product or material produced", "start": {"id": 688, "labels": ["Node"]}, "end": {"id": 178, "labels": ["Node"]}}
{"type": "relationship", "id": 2019, "labels": "instance of", "start": {"id": 653, "labels": ["Node"]}, "end": {"id": 867, "labels": ["Node"]}}
{"type": "relationship", "id": 2020, "labels": "followed by", "start": {"id": 653, "labels": ["Node"]}, "end": {"id": 653, "labels": ["Node"]}}
{"type": "relationship", "id": 2021, "labels": "part of", "start": {"id": 653, "labels": ["Node"]}, "end": {"id": 653, "labels": ["Node"]}}
{"type": "relationship", "id": 2022, "labels": "instance of", "start": {"id": 818, "labels": ["Node"]}, "end": {"id": 263, "labels": ["Node"]}}
{"type": "relationship", "id": 2023, "labels": "instance of", "start": {"id": 80, "labels": ["Node"]}, "end": {"id": 263, "labels": ["Node"]}}
{"type": "relationship", "id": 2024, "labels": "has part", "start": {"id": 296, "labels": ["Node"]}, "end": {"id": 818, "labels": ["Node"]}}
{"type": "relationship", "id": 2025, "labels": "present in work", "start": {"id": 579, "labels": ["Node"]}, "end": {"id": 491, "labels": ["Node"]}}
{"type": "relationship", "id": 2026, "labels": "characters", "start": {"id": 491, "labels": ["Node"]}, "end": {"id": 579, "labels": ["Node"]}}
{"type": "relationship", "id": 2027, "labels": "performer", "start": {"id": 491, "labels": ["Node"]}, "end": {"id": 579, "labels": ["Node"]}}
{"type": "relationship", "id": 2028, "labels": "product or material produced", "start": {"id": 676, "labels": ["Node"]}, "end": {"id": 384, "labels": ["Node"]}}
{"type": "relationship", "id": 2029, "labels": "product or material produced", "start": {"id": 673, "labels": ["Node"]}, "end": {"id": 384, "labels": ["Node"]}}
{"type": "relationship", "id": 2030, "labels": "product or material produced", "start": {"id": 676, "labels": ["Node"]}, "end": {"id": 839, "labels": ["Node"]}}
{"type": "relationship", "id": 2031, "labels": "instance of", "start": {"id": 400, "labels": ["Node"]}, "end": {"id": 132, "labels": ["Node"]}}
{"type": "relationship", "id": 2032, "labels": "part of", "start": {"id": 406, "labels": ["Node"]}, "end": {"id": 231, "labels": ["Node"]}}
{"type": "relationship", "id": 2033, "labels": "is a list of", "start": {"id": 400, "labels": ["Node"]}, "end": {"id": 132, "labels": ["Node"]}}
{"type": "relationship", "id": 2034, "labels": "owned by", "start": {"id": 178, "labels": ["Node"]}, "end": {"id": 451, "labels": ["Node"]}}
{"type": "relationship", "id": 2035, "labels": "owned by", "start": {"id": 178, "labels": ["Node"]}, "end": {"id": 688, "labels": ["Node"]}}
{"type": "relationship", "id": 2036, "labels": "product or material produced", "start": {"id": 688, "labels": ["Node"]}, "end": {"id": 178, "labels": ["Node"]}}
{"type": "relationship", "id": 2037, "labels": "instance of", "start": {"id": 260, "labels": ["Node"]}, "end": {"id": 384, "labels": ["Node"]}}
{"type": "relationship", "id": 2038, "labels": "subclass of", "start": {"id": 260, "labels": ["Node"]}, "end": {"id": 384, "labels": ["Node"]}}
{"type": "relationship", "id": 2039, "labels": "product or material produced", "start": {"id": 260, "labels": ["Node"]}, "end": {"id": 384, "labels": ["Node"]}}
{"type": "relationship", "id": 2040, "labels": "author", "start": {"id": 634, "labels": ["Node"]}, "end": {"id": 826, "labels": ["Node"]}}
{"type": "relationship", "id": 2041, "labels": "author", "start": {"id": 32, "labels": ["Node"]}, "end": {"id": 826, "labels": ["Node"]}}
{"type": "relationship", "id": 2042, "labels": "author", "start": {"id": 634, "labels": ["Node"]}, "end": {"id": 826, "labels": ["Node"]}}
{"type": "relationship", "id": 2043, "labels": "owned by", "start": {"id": 178, "labels": ["Node"]}, "end": {"id": 451, "labels": ["Node"]}}
{"type": "relationship", "id": 2044, "labels": "owned by", "start": {"id": 178, "labels": ["Node"]}, "end": {"id": 688, "labels": ["Node"]}}
{"type": "relationship", "id": 2045, "labels": "product or material produced", "start": {"id": 688, "labels": ["Node"]}, "end": {"id": 178, "labels": ["Node"]}}
{"type": "relationship", "id": 2046, "labels": "used by", "start": {"id": 767, "labels": ["Node"]}, "end": {"id": 38, "labels": ["Node"]}}
{"type": "relationship", "id": 2047, "labels": "uses", "start": {"id": 38, "labels": ["Node"]}, "end": {"id": 767, "labels": ["Node"]}}
{"type": "relationship", "id": 2048, "labels": "parent organization", "start": {"id": 613, "labels": ["Node"]}, "end": {"id": 14, "labels": ["Node"]}}
{"type": "relationship", "id": 2049, "labels": "subsidiary", "start": {"id": 14, "labels": ["Node"]}, "end": {"id": 613, "labels": ["Node"]}}
{"type": "relationship", "id": 2050, "labels": "parent organization", "start": {"id": 359, "labels": ["Node"]}, "end": {"id": 14, "labels": ["Node"]}}
{"type": "relationship", "id": 2051, "labels": "part of", "start": {"id": 752, "labels": ["Node"]}, "end": {"id": 752, "labels": ["Node"]}}
{"type": "relationship", "id": 2052, "labels": "part of", "start": {"id": 752, "labels": ["Node"]}, "end": {"id": 794, "labels": ["Node"]}}
{"type": "relationship", "id": 2053, "labels": "use", "start": {"id": 752, "labels": ["Node"]}, "end": {"id": 752, "labels": ["Node"]}}
{"type": "relationship", "id": 2054, "labels": "followed by", "start": {"id": 295, "labels": ["Node"]}, "end": {"id": 276, "labels": ["Node"]}}
{"type": "relationship", "id": 2055, "labels": "follows", "start": {"id": 276, "labels": ["Node"]}, "end": {"id": 295, "labels": ["Node"]}}
{"type": "relationship", "id": 2056, "labels": "has effect", "start": {"id": 276, "labels": ["Node"]}, "end": {"id": 682, "labels": ["Node"]}}
{"type": "relationship", "id": 2057, "labels": "subclass of", "start": {"id": 372, "labels": ["Node"]}, "end": {"id": 671, "labels": ["Node"]}}
{"type": "relationship", "id": 2058, "labels": "facet of", "start": {"id": 52, "labels": ["Node"]}, "end": {"id": 877, "labels": ["Node"]}}
{"type": "relationship", "id": 2059, "labels": "subclass of", "start": {"id": 8, "labels": ["Node"]}, "end": {"id": 671, "labels": ["Node"]}}
{"type": "relationship", "id": 2060, "labels": "subclass of", "start": {"id": 797, "labels": ["Node"]}, "end": {"id": 384, "labels": ["Node"]}}
{"type": "relationship", "id": 2061, "labels": "instance of", "start": {"id": 797, "labels": ["Node"]}, "end": {"id": 384, "labels": ["Node"]}}
{"type": "relationship", "id": 2062, "labels": "subclass of", "start": {"id": 830, "labels": ["Node"]}, "end": {"id": 384, "labels": ["Node"]}}
{"type": "relationship", "id": 2063, "labels": "uses", "start": {"id": 371, "labels": ["Node"]}, "end": {"id": 381, "labels": ["Node"]}}
{"type": "relationship", "id": 2064, "labels": "based on", "start": {"id": 371, "labels": ["Node"]}, "end": {"id": 381, "labels": ["Node"]}}
{"type": "relationship", "id": 2065, "labels": "used by", "start": {"id": 381, "labels": ["Node"]}, "end": {"id": 371, "labels": ["Node"]}}
{"type": "relationship", "id": 2066, "labels": "subclass of", "start": {"id": 700, "labels": ["Node"]}, "end": {"id": 865, "labels": ["Node"]}}
{"type": "relationship", "id": 2067, "labels": "different from", "start": {"id": 865, "labels": ["Node"]}, "end": {"id": 384, "labels": ["Node"]}}
{"type": "relationship", "id": 2068, "labels": "different from", "start": {"id": 384, "labels": ["Node"]}, "end": {"id": 865, "labels": ["Node"]}}
{"type": "relationship", "id": 2069, "labels": "different from", "start": {"id": 133, "labels": ["Node"]}, "end": {"id": 384, "labels": ["Node"]}}
{"type": "relationship", "id": 2070, "labels": "different from", "start": {"id": 384, "labels": ["Node"]}, "end": {"id": 133, "labels": ["Node"]}}
{"type": "relationship", "id": 2071, "labels": "part of", "start": {"id": 406, "labels": ["Node"]}, "end": {"id": 231, "labels": ["Node"]}}
{"type": "relationship", "id": 2072, "labels": "author", "start": {"id": 238, "labels": ["Node"]}, "end": {"id": 229, "labels": ["Node"]}}
{"type": "relationship", "id": 2073, "labels": "subsidiary", "start": {"id": 231, "labels": ["Node"]}, "end": {"id": 406, "labels": ["Node"]}}
{"type": "relationship", "id": 2074, "labels": "subclass of", "start": {"id": 700, "labels": ["Node"]}, "end": {"id": 384, "labels": ["Node"]}}
{"type": "relationship", "id": 2075, "labels": "subclass of", "start": {"id": 700, "labels": ["Node"]}, "end": {"id": 384, "labels": ["Node"]}}
{"type": "relationship", "id": 2076, "labels": "instance of", "start": {"id": 76, "labels": ["Node"]}, "end": {"id": 220, "labels": ["Node"]}}
{"type": "relationship", "id": 2077, "labels": "part of", "start": {"id": 536, "labels": ["Node"]}, "end": {"id": 536, "labels": ["Node"]}}
{"type": "relationship", "id": 2078, "labels": "is a list of", "start": {"id": 536, "labels": ["Node"]}, "end": {"id": 536, "labels": ["Node"]}}
{"type": "relationship", "id": 2079, "labels": "part of the series", "start": {"id": 536, "labels": ["Node"]}, "end": {"id": 536, "labels": ["Node"]}}
{"type": "relationship", "id": 2080, "labels": "subclass of", "start": {"id": 384, "labels": ["Node"]}, "end": {"id": 133, "labels": ["Node"]}}
{"type": "relationship", "id": 2081, "labels": "different from", "start": {"id": 133, "labels": ["Node"]}, "end": {"id": 384, "labels": ["Node"]}}
{"type": "relationship", "id": 2082, "labels": "different from", "start": {"id": 384, "labels": ["Node"]}, "end": {"id": 133, "labels": ["Node"]}}
{"type": "relationship", "id": 2083, "labels": "subclass of", "start": {"id": 700, "labels": ["Node"]}, "end": {"id": 865, "labels": ["Node"]}}
{"type": "relationship", "id": 2084, "labels": "country of origin", "start": {"id": 505, "labels": ["Node"]}, "end": {"id": 207, "labels": ["Node"]}}
{"type": "relationship", "id": 2085, "labels": "country", "start": {"id": 505, "labels": ["Node"]}, "end": {"id": 207, "labels": ["Node"]}}
{"type": "relationship", "id": 2086, "labels": "country of origin", "start": {"id": 505, "labels": ["Node"]}, "end": {"id": 521, "labels": ["Node"]}}
{"type": "relationship", "id": 2087, "labels": "creator", "start": {"id": 373, "labels": ["Node"]}, "end": {"id": 260, "labels": ["Node"]}}
{"type": "relationship", "id": 2088, "labels": "manufacturer", "start": {"id": 373, "labels": ["Node"]}, "end": {"id": 673, "labels": ["Node"]}}
{"type": "relationship", "id": 2089, "labels": "owned by", "start": {"id": 373, "labels": ["Node"]}, "end": {"id": 260, "labels": ["Node"]}}
{"type": "relationship", "id": 2090, "labels": "subclass of", "start": {"id": 700, "labels": ["Node"]}, "end": {"id": 384, "labels": ["Node"]}}
{"type": "relationship", "id": 2091, "labels": "subclass of", "start": {"id": 839, "labels": ["Node"]}, "end": {"id": 384, "labels": ["Node"]}}
{"type": "relationship", "id": 2092, "labels": "instance of", "start": {"id": 700, "labels": ["Node"]}, "end": {"id": 384, "labels": ["Node"]}}
{"type": "relationship", "id": 2093, "labels": "part of", "start": {"id": 712, "labels": ["Node"]}, "end": {"id": 454, "labels": ["Node"]}}
{"type": "relationship", "id": 2094, "labels": "part of", "start": {"id": 712, "labels": ["Node"]}, "end": {"id": 384, "labels": ["Node"]}}
{"type": "relationship", "id": 2095, "labels": "connects with", "start": {"id": 712, "labels": ["Node"]}, "end": {"id": 454, "labels": ["Node"]}}
{"type": "relationship", "id": 2096, "labels": "part of", "start": {"id": 707, "labels": ["Node"]}, "end": {"id": 808, "labels": ["Node"]}}
{"type": "relationship", "id": 2097, "labels": "subclass of", "start": {"id": 808, "labels": ["Node"]}, "end": {"id": 707, "labels": ["Node"]}}
{"type": "relationship", "id": 2098, "labels": "subclass of", "start": {"id": 707, "labels": ["Node"]}, "end": {"id": 808, "labels": ["Node"]}}
{"type": "relationship", "id": 2099, "labels": "use", "start": {"id": 482, "labels": ["Node"]}, "end": {"id": 681, "labels": ["Node"]}}
{"type": "relationship", "id": 2100, "labels": "subclass of", "start": {"id": 482, "labels": ["Node"]}, "end": {"id": 681, "labels": ["Node"]}}
{"type": "relationship", "id": 2101, "labels": "subclass of", "start": {"id": 390, "labels": ["Node"]}, "end": {"id": 793, "labels": ["Node"]}}
{"type": "relationship", "id": 2102, "labels": "subclass of", "start": {"id": 868, "labels": ["Node"]}, "end": {"id": 384, "labels": ["Node"]}}
{"type": "relationship", "id": 2103, "labels": "subclass of", "start": {"id": 700, "labels": ["Node"]}, "end": {"id": 384, "labels": ["Node"]}}
{"type": "relationship", "id": 2104, "labels": "subclass of", "start": {"id": 728, "labels": ["Node"]}, "end": {"id": 145, "labels": ["Node"]}}
{"type": "relationship", "id": 2105, "labels": "subclass of", "start": {"id": 700, "labels": ["Node"]}, "end": {"id": 384, "labels": ["Node"]}}
{"type": "relationship", "id": 2106, "labels": "has part", "start": {"id": 839, "labels": ["Node"]}, "end": {"id": 272, "labels": ["Node"]}}
{"type": "relationship", "id": 2107, "labels": "part of", "start": {"id": 272, "labels": ["Node"]}, "end": {"id": 384, "labels": ["Node"]}}
{"type": "relationship", "id": 2108, "labels": "subclass of", "start": {"id": 143, "labels": ["Node"]}, "end": {"id": 384, "labels": ["Node"]}}
{"type": "relationship", "id": 2109, "labels": "different from", "start": {"id": 672, "labels": ["Node"]}, "end": {"id": 143, "labels": ["Node"]}}
{"type": "relationship", "id": 2110, "labels": "different from", "start": {"id": 143, "labels": ["Node"]}, "end": {"id": 672, "labels": ["Node"]}}
{"type": "relationship", "id": 2111, "labels": "subclass of", "start": {"id": 371, "labels": ["Node"]}, "end": {"id": 143, "labels": ["Node"]}}
{"type": "relationship", "id": 2112, "labels": "uses", "start": {"id": 143, "labels": ["Node"]}, "end": {"id": 371, "labels": ["Node"]}}
{"type": "relationship", "id": 2113, "labels": "instance of", "start": {"id": 371, "labels": ["Node"]}, "end": {"id": 143, "labels": ["Node"]}}
{"type": "relationship", "id": 2114, "labels": "use", "start": {"id": 501, "labels": ["Node"]}, "end": {"id": 346, "labels": ["Node"]}}
{"type": "relationship", "id": 2115, "labels": "part of", "start": {"id": 501, "labels": ["Node"]}, "end": {"id": 346, "labels": ["Node"]}}
{"type": "relationship", "id": 2116, "labels": "has part", "start": {"id": 501, "labels": ["Node"]}, "end": {"id": 346, "labels": ["Node"]}}
{"type": "relationship", "id": 2117, "labels": "is a list of", "start": {"id": 48, "labels": ["Node"]}, "end": {"id": 384, "labels": ["Node"]}}
{"type": "relationship", "id": 2118, "labels": "is a list of", "start": {"id": 806, "labels": ["Node"]}, "end": {"id": 384, "labels": ["Node"]}}
{"type": "relationship", "id": 2119, "labels": "product or material produced", "start": {"id": 48, "labels": ["Node"]}, "end": {"id": 384, "labels": ["Node"]}}
{"type": "relationship", "id": 2120, "labels": "subclass of", "start": {"id": 700, "labels": ["Node"]}, "end": {"id": 384, "labels": ["Node"]}}
{"type": "relationship", "id": 2121, "labels": "subclass of", "start": {"id": 839, "labels": ["Node"]}, "end": {"id": 384, "labels": ["Node"]}}
{"type": "relationship", "id": 2122, "labels": "is a list of", "start": {"id": 28, "labels": ["Node"]}, "end": {"id": 839, "labels": ["Node"]}}
{"type": "relationship", "id": 2123, "labels": "subclass of", "start": {"id": 700, "labels": ["Node"]}, "end": {"id": 853, "labels": ["Node"]}}
{"type": "relationship", "id": 2124, "labels": "subclass of", "start": {"id": 254, "labels": ["Node"]}, "end": {"id": 853, "labels": ["Node"]}}
{"type": "relationship", "id": 2125, "labels": "instance of", "start": {"id": 254, "labels": ["Node"]}, "end": {"id": 853, "labels": ["Node"]}}
{"type": "relationship", "id": 2126, "labels": "subclass of", "start": {"id": 700, "labels": ["Node"]}, "end": {"id": 454, "labels": ["Node"]}}
{"type": "relationship", "id": 2127, "labels": "subclass of", "start": {"id": 700, "labels": ["Node"]}, "end": {"id": 384, "labels": ["Node"]}}
{"type": "relationship", "id": 2128, "labels": "different from", "start": {"id": 608, "labels": ["Node"]}, "end": {"id": 577, "labels": ["Node"]}}
{"type": "relationship", "id": 2129, "labels": "subclass of", "start": {"id": 847, "labels": ["Node"]}, "end": {"id": 715, "labels": ["Node"]}}
{"type": "relationship", "id": 2130, "labels": "facet of", "start": {"id": 847, "labels": ["Node"]}, "end": {"id": 715, "labels": ["Node"]}}
{"type": "relationship", "id": 2131, "labels": "part of", "start": {"id": 189, "labels": ["Node"]}, "end": {"id": 715, "labels": ["Node"]}}
{"type": "relationship", "id": 2132, "labels": "instance of", "start": {"id": 371, "labels": ["Node"]}, "end": {"id": 324, "labels": ["Node"]}}
{"type": "relationship", "id": 2133, "labels": "subclass of", "start": {"id": 371, "labels": ["Node"]}, "end": {"id": 324, "labels": ["Node"]}}
{"type": "relationship", "id": 2134, "labels": "uses", "start": {"id": 639, "labels": ["Node"]}, "end": {"id": 371, "labels": ["Node"]}}
{"type": "relationship", "id": 2135, "labels": "uses", "start": {"id": 639, "labels": ["Node"]}, "end": {"id": 635, "labels": ["Node"]}}
{"type": "relationship", "id": 2136, "labels": "subclass of", "start": {"id": 635, "labels": ["Node"]}, "end": {"id": 530, "labels": ["Node"]}}
{"type": "relationship", "id": 2137, "labels": "uses", "start": {"id": 639, "labels": ["Node"]}, "end": {"id": 480, "labels": ["Node"]}}
{"type": "relationship", "id": 2138, "labels": "subclass of", "start": {"id": 72, "labels": ["Node"]}, "end": {"id": 698, "labels": ["Node"]}}
{"type": "relationship", "id": 2139, "labels": "part of", "start": {"id": 72, "labels": ["Node"]}, "end": {"id": 629, "labels": ["Node"]}}
{"type": "relationship", "id": 2140, "labels": "instance of", "start": {"id": 72, "labels": ["Node"]}, "end": {"id": 698, "labels": ["Node"]}}
{"type": "relationship", "id": 2141, "labels": "instance of", "start": {"id": 134, "labels": ["Node"]}, "end": {"id": 692, "labels": ["Node"]}}
{"type": "relationship", "id": 2142, "labels": "subclass of", "start": {"id": 134, "labels": ["Node"]}, "end": {"id": 692, "labels": ["Node"]}}
{"type": "relationship", "id": 2143, "labels": "subclass of", "start": {"id": 700, "labels": ["Node"]}, "end": {"id": 692, "labels": ["Node"]}}
{"type": "relationship", "id": 2144, "labels": "subclass of", "start": {"id": 700, "labels": ["Node"]}, "end": {"id": 692, "labels": ["Node"]}}
{"type": "relationship", "id": 2145, "labels": "instance of", "start": {"id": 700, "labels": ["Node"]}, "end": {"id": 692, "labels": ["Node"]}}
{"type": "relationship", "id": 2146, "labels": "subclass of", "start": {"id": 822, "labels": ["Node"]}, "end": {"id": 692, "labels": ["Node"]}}
{"type": "relationship", "id": 2147, "labels": "subclass of", "start": {"id": 384, "labels": ["Node"]}, "end": {"id": 133, "labels": ["Node"]}}
{"type": "relationship", "id": 2148, "labels": "different from", "start": {"id": 384, "labels": ["Node"]}, "end": {"id": 865, "labels": ["Node"]}}
{"type": "relationship", "id": 2149, "labels": "different from", "start": {"id": 384, "labels": ["Node"]}, "end": {"id": 133, "labels": ["Node"]}}
{"type": "relationship", "id": 2150, "labels": "use", "start": {"id": 371, "labels": ["Node"]}, "end": {"id": 542, "labels": ["Node"]}}
{"type": "relationship", "id": 2151, "labels": "instance of", "start": {"id": 371, "labels": ["Node"]}, "end": {"id": 542, "labels": ["Node"]}}
{"type": "relationship", "id": 2152, "labels": "subclass of", "start": {"id": 371, "labels": ["Node"]}, "end": {"id": 542, "labels": ["Node"]}}
{"type": "relationship", "id": 2153, "labels": "uses", "start": {"id": 872, "labels": ["Node"]}, "end": {"id": 689, "labels": ["Node"]}}
{"type": "relationship", "id": 2154, "labels": "use", "start": {"id": 689, "labels": ["Node"]}, "end": {"id": 872, "labels": ["Node"]}}
{"type": "relationship", "id": 2155, "labels": "uses", "start": {"id": 733, "labels": ["Node"]}, "end": {"id": 689, "labels": ["Node"]}}
{"type": "relationship", "id": 2156, "labels": "product or material produced", "start": {"id": 77, "labels": ["Node"]}, "end": {"id": 692, "labels": ["Node"]}}
{"type": "relationship", "id": 2157, "labels": "uses", "start": {"id": 77, "labels": ["Node"]}, "end": {"id": 371, "labels": ["Node"]}}
{"type": "relationship", "id": 2158, "labels": "product or material produced", "start": {"id": 77, "labels": ["Node"]}, "end": {"id": 371, "labels": ["Node"]}}
{"type": "relationship", "id": 2159, "labels": "instance of", "start": {"id": 131, "labels": ["Node"]}, "end": {"id": 736, "labels": ["Node"]}}
{"type": "relationship", "id": 2160, "labels": "subclass of", "start": {"id": 131, "labels": ["Node"]}, "end": {"id": 736, "labels": ["Node"]}}
{"type": "relationship", "id": 2161, "labels": "instance of", "start": {"id": 131, "labels": ["Node"]}, "end": {"id": 384, "labels": ["Node"]}}
{"type": "relationship", "id": 2162, "labels": "product or material produced", "start": {"id": 77, "labels": ["Node"]}, "end": {"id": 635, "labels": ["Node"]}}
{"type": "relationship", "id": 2163, "labels": "product or material produced", "start": {"id": 77, "labels": ["Node"]}, "end": {"id": 199, "labels": ["Node"]}}
{"type": "relationship", "id": 2164, "labels": "product or material produced", "start": {"id": 77, "labels": ["Node"]}, "end": {"id": 480, "labels": ["Node"]}}
{"type": "relationship", "id": 2165, "labels": "uses", "start": {"id": 116, "labels": ["Node"]}, "end": {"id": 635, "labels": ["Node"]}}
{"type": "relationship", "id": 2166, "labels": "uses", "start": {"id": 116, "labels": ["Node"]}, "end": {"id": 635, "labels": ["Node"]}}
{"type": "relationship", "id": 2167, "labels": "subclass of", "start": {"id": 368, "labels": ["Node"]}, "end": {"id": 181, "labels": ["Node"]}}
{"type": "relationship", "id": 2168, "labels": "manufacturer", "start": {"id": 65, "labels": ["Node"]}, "end": {"id": 77, "labels": ["Node"]}}
{"type": "relationship", "id": 2169, "labels": "subclass of", "start": {"id": 700, "labels": ["Node"]}, "end": {"id": 692, "labels": ["Node"]}}
{"type": "relationship", "id": 2170, "labels": "distributed by", "start": {"id": 709, "labels": ["Node"]}, "end": {"id": 14, "labels": ["Node"]}}
{"type": "relationship", "id": 2171, "labels": "instance of", "start": {"id": 123, "labels": ["Node"]}, "end": {"id": 594, "labels": ["Node"]}}
{"type": "relationship", "id": 2172, "labels": "subclass of", "start": {"id": 123, "labels": ["Node"]}, "end": {"id": 594, "labels": ["Node"]}}
{"type": "relationship", "id": 2173, "labels": "instance of", "start": {"id": 123, "labels": ["Node"]}, "end": {"id": 40, "labels": ["Node"]}}
{"type": "relationship", "id": 2174, "labels": "use", "start": {"id": 482, "labels": ["Node"]}, "end": {"id": 136, "labels": ["Node"]}}
{"type": "relationship", "id": 2175, "labels": "subclass of", "start": {"id": 222, "labels": ["Node"]}, "end": {"id": 720, "labels": ["Node"]}}
{"type": "relationship", "id": 2176, "labels": "subclass of", "start": {"id": 222, "labels": ["Node"]}, "end": {"id": 374, "labels": ["Node"]}}
{"type": "relationship", "id": 2177, "labels": "opposite of", "start": {"id": 143, "labels": ["Node"]}, "end": {"id": 748, "labels": ["Node"]}}
{"type": "relationship", "id": 2178, "labels": "opposite of", "start": {"id": 143, "labels": ["Node"]}, "end": {"id": 672, "labels": ["Node"]}}
{"type": "relationship", "id": 2179, "labels": "opposite of", "start": {"id": 312, "labels": ["Node"]}, "end": {"id": 748, "labels": ["Node"]}}
{"type": "relationship", "id": 2180, "labels": "subclass of", "start": {"id": 700, "labels": ["Node"]}, "end": {"id": 384, "labels": ["Node"]}}
{"type": "relationship", "id": 2181, "labels": "subclass of", "start": {"id": 143, "labels": ["Node"]}, "end": {"id": 384, "labels": ["Node"]}}
{"type": "relationship", "id": 2182, "labels": "subclass of", "start": {"id": 861, "labels": ["Node"]}, "end": {"id": 143, "labels": ["Node"]}}
{"type": "relationship", "id": 2183, "labels": "subclass of", "start": {"id": 233, "labels": ["Node"]}, "end": {"id": 405, "labels": ["Node"]}}
{"type": "relationship", "id": 2184, "labels": "use", "start": {"id": 405, "labels": ["Node"]}, "end": {"id": 233, "labels": ["Node"]}}
{"type": "relationship", "id": 2185, "labels": "subclass of", "start": {"id": 701, "labels": ["Node"]}, "end": {"id": 405, "labels": ["Node"]}}
{"type": "relationship", "id": 2186, "labels": "has part", "start": {"id": 712, "labels": ["Node"]}, "end": {"id": 808, "labels": ["Node"]}}
{"type": "relationship", "id": 2187, "labels": "different from", "start": {"id": 712, "labels": ["Node"]}, "end": {"id": 865, "labels": ["Node"]}}
{"type": "relationship", "id": 2188, "labels": "different from", "start": {"id": 865, "labels": ["Node"]}, "end": {"id": 712, "labels": ["Node"]}}
{"type": "relationship", "id": 2189, "labels": "connects with", "start": {"id": 712, "labels": ["Node"]}, "end": {"id": 808, "labels": ["Node"]}}
{"type": "relationship", "id": 2190, "labels": "connects with", "start": {"id": 808, "labels": ["Node"]}, "end": {"id": 712, "labels": ["Node"]}}
{"type": "relationship", "id": 2191, "labels": "manufacturer", "start": {"id": 839, "labels": ["Node"]}, "end": {"id": 861, "labels": ["Node"]}}
{"type": "relationship", "id": 2192, "labels": "distributed by", "start": {"id": 123, "labels": ["Node"]}, "end": {"id": 14, "labels": ["Node"]}}
{"type": "relationship", "id": 2193, "labels": "manufacturer", "start": {"id": 839, "labels": ["Node"]}, "end": {"id": 694, "labels": ["Node"]}}
{"type": "relationship", "id": 2194, "labels": "manufacturer", "start": {"id": 650, "labels": ["Node"]}, "end": {"id": 676, "labels": ["Node"]}}
{"type": "relationship", "id": 2195, "labels": "manufacturer", "start": {"id": 79, "labels": ["Node"]}, "end": {"id": 676, "labels": ["Node"]}}
{"type": "relationship", "id": 2196, "labels": "developer", "start": {"id": 650, "labels": ["Node"]}, "end": {"id": 676, "labels": ["Node"]}}
{"type": "relationship", "id": 2197, "labels": "developer", "start": {"id": 54, "labels": ["Node"]}, "end": {"id": 676, "labels": ["Node"]}}
{"type": "relationship", "id": 2198, "labels": "manufacturer", "start": {"id": 54, "labels": ["Node"]}, "end": {"id": 676, "labels": ["Node"]}}
{"type": "relationship", "id": 2199, "labels": "use", "start": {"id": 341, "labels": ["Node"]}, "end": {"id": 520, "labels": ["Node"]}}
{"type": "relationship", "id": 2200, "labels": "different from", "start": {"id": 371, "labels": ["Node"]}, "end": {"id": 381, "labels": ["Node"]}}
{"type": "relationship", "id": 2201, "labels": "different from", "start": {"id": 381, "labels": ["Node"]}, "end": {"id": 371, "labels": ["Node"]}}
{"type": "relationship", "id": 2202, "labels": "subclass of", "start": {"id": 371, "labels": ["Node"]}, "end": {"id": 143, "labels": ["Node"]}}
{"type": "relationship", "id": 2203, "labels": "subclass of", "start": {"id": 842, "labels": ["Node"]}, "end": {"id": 145, "labels": ["Node"]}}
{"type": "relationship", "id": 2204, "labels": "subclass of", "start": {"id": 586, "labels": ["Node"]}, "end": {"id": 145, "labels": ["Node"]}}
{"type": "relationship", "id": 2205, "labels": "subclass of", "start": {"id": 623, "labels": ["Node"]}, "end": {"id": 78, "labels": ["Node"]}}
{"type": "relationship", "id": 2206, "labels": "manufacturer", "start": {"id": 316, "labels": ["Node"]}, "end": {"id": 676, "labels": ["Node"]}}
{"type": "relationship", "id": 2207, "labels": "developer", "start": {"id": 316, "labels": ["Node"]}, "end": {"id": 676, "labels": ["Node"]}}
{"type": "relationship", "id": 2208, "labels": "subclass of", "start": {"id": 79, "labels": ["Node"]}, "end": {"id": 384, "labels": ["Node"]}}
{"type": "relationship", "id": 2209, "labels": "manufacturer", "start": {"id": 257, "labels": ["Node"]}, "end": {"id": 676, "labels": ["Node"]}}
{"type": "relationship", "id": 2210, "labels": "subclass of", "start": {"id": 650, "labels": ["Node"]}, "end": {"id": 58, "labels": ["Node"]}}
{"type": "relationship", "id": 2211, "labels": "instance of", "start": {"id": 650, "labels": ["Node"]}, "end": {"id": 58, "labels": ["Node"]}}
{"type": "relationship", "id": 2212, "labels": "subclass of", "start": {"id": 839, "labels": ["Node"]}, "end": {"id": 590, "labels": ["Node"]}}
{"type": "relationship", "id": 2213, "labels": "subclass of", "start": {"id": 839, "labels": ["Node"]}, "end": {"id": 384, "labels": ["Node"]}}
{"type": "relationship", "id": 2214, "labels": "uses", "start": {"id": 839, "labels": ["Node"]}, "end": {"id": 371, "labels": ["Node"]}}
{"type": "relationship", "id": 2215, "labels": "subclass of", "start": {"id": 865, "labels": ["Node"]}, "end": {"id": 384, "labels": ["Node"]}}
{"type": "relationship", "id": 2216, "labels": "use", "start": {"id": 371, "labels": ["Node"]}, "end": {"id": 476, "labels": ["Node"]}}
{"type": "relationship", "id": 2217, "labels": "use", "start": {"id": 371, "labels": ["Node"]}, "end": {"id": 143, "labels": ["Node"]}}
{"type": "relationship", "id": 2218, "labels": "uses", "start": {"id": 578, "labels": ["Node"]}, "end": {"id": 371, "labels": ["Node"]}}
{"type": "relationship", "id": 2219, "labels": "subclass of", "start": {"id": 700, "labels": ["Node"]}, "end": {"id": 384, "labels": ["Node"]}}
{"type": "relationship", "id": 2220, "labels": "product or material produced", "start": {"id": 578, "labels": ["Node"]}, "end": {"id": 371, "labels": ["Node"]}}
{"type": "relationship", "id": 2221, "labels": "subclass of", "start": {"id": 608, "labels": ["Node"]}, "end": {"id": 319, "labels": ["Node"]}}
{"type": "relationship", "id": 2222, "labels": "subclass of", "start": {"id": 92, "labels": ["Node"]}, "end": {"id": 319, "labels": ["Node"]}}
{"type": "relationship", "id": 2223, "labels": "part of", "start": {"id": 92, "labels": ["Node"]}, "end": {"id": 319, "labels": ["Node"]}}
{"type": "relationship", "id": 2224, "labels": "use", "start": {"id": 689, "labels": ["Node"]}, "end": {"id": 83, "labels": ["Node"]}}
{"type": "relationship", "id": 2225, "labels": "product or material produced", "start": {"id": 578, "labels": ["Node"]}, "end": {"id": 558, "labels": ["Node"]}}
{"type": "relationship", "id": 2226, "labels": "product or material produced", "start": {"id": 578, "labels": ["Node"]}, "end": {"id": 689, "labels": ["Node"]}}
{"type": "relationship", "id": 2227, "labels": "manufacturer", "start": {"id": 751, "labels": ["Node"]}, "end": {"id": 578, "labels": ["Node"]}}
{"type": "relationship", "id": 2228, "labels": "distributed by", "start": {"id": 91, "labels": ["Node"]}, "end": {"id": 14, "labels": ["Node"]}}
{"type": "relationship", "id": 2229, "labels": "distributed by", "start": {"id": 751, "labels": ["Node"]}, "end": {"id": 14, "labels": ["Node"]}}
{"type": "relationship", "id": 2230, "labels": "subclass of", "start": {"id": 711, "labels": ["Node"]}, "end": {"id": 384, "labels": ["Node"]}}
{"type": "relationship", "id": 2231, "labels": "is a list of", "start": {"id": 697, "labels": ["Node"]}, "end": {"id": 711, "labels": ["Node"]}}
{"type": "relationship", "id": 2232, "labels": "point in time", "start": {"id": 697, "labels": ["Node"]}, "end": {"id": 126, "labels": ["Node"]}}
{"type": "relationship", "id": 2233, "labels": "instance of", "start": {"id": 375, "labels": ["Node"]}, "end": {"id": 26, "labels": ["Node"]}}
{"type": "relationship", "id": 2234, "labels": "subclass of", "start": {"id": 375, "labels": ["Node"]}, "end": {"id": 26, "labels": ["Node"]}}
{"type": "relationship", "id": 2235, "labels": "instance of", "start": {"id": 375, "labels": ["Node"]}, "end": {"id": 865, "labels": ["Node"]}}
{"type": "relationship", "id": 2236, "labels": "subclass of", "start": {"id": 448, "labels": ["Node"]}, "end": {"id": 662, "labels": ["Node"]}}
{"type": "relationship", "id": 2237, "labels": "instance of", "start": {"id": 448, "labels": ["Node"]}, "end": {"id": 662, "labels": ["Node"]}}
{"type": "relationship", "id": 2238, "labels": "uses", "start": {"id": 499, "labels": ["Node"]}, "end": {"id": 662, "labels": ["Node"]}}
{"type": "relationship", "id": 2239, "labels": "subclass of", "start": {"id": 700, "labels": ["Node"]}, "end": {"id": 384, "labels": ["Node"]}}
{"type": "relationship", "id": 2240, "labels": "instance of", "start": {"id": 700, "labels": ["Node"]}, "end": {"id": 384, "labels": ["Node"]}}
{"type": "relationship", "id": 2241, "labels": "has part", "start": {"id": 839, "labels": ["Node"]}, "end": {"id": 482, "labels": ["Node"]}}
{"type": "relationship", "id": 2242, "labels": "occupation", "start": {"id": 266, "labels": ["Node"]}, "end": {"id": 627, "labels": ["Node"]}}
{"type": "relationship", "id": 2243, "labels": "discoverer or inventor", "start": {"id": 839, "labels": ["Node"]}, "end": {"id": 266, "labels": ["Node"]}}
{"type": "relationship", "id": 2244, "labels": "different from", "start": {"id": 627, "labels": ["Node"]}, "end": {"id": 404, "labels": ["Node"]}}
{"type": "relationship", "id": 2245, "labels": "different from", "start": {"id": 404, "labels": ["Node"]}, "end": {"id": 627, "labels": ["Node"]}}
{"type": "relationship", "id": 2246, "labels": "is a list of", "start": {"id": 469, "labels": ["Node"]}, "end": {"id": 384, "labels": ["Node"]}}
{"type": "relationship", "id": 2247, "labels": "is a list of", "start": {"id": 812, "labels": ["Node"]}, "end": {"id": 384, "labels": ["Node"]}}
{"type": "relationship", "id": 2248, "labels": "product or material produced", "start": {"id": 469, "labels": ["Node"]}, "end": {"id": 384, "labels": ["Node"]}}
{"type": "relationship", "id": 2249, "labels": "subclass of", "start": {"id": 865, "labels": ["Node"]}, "end": {"id": 384, "labels": ["Node"]}}
{"type": "relationship", "id": 2250, "labels": "different from", "start": {"id": 865, "labels": ["Node"]}, "end": {"id": 384, "labels": ["Node"]}}
{"type": "relationship", "id": 2251, "labels": "subclass of", "start": {"id": 133, "labels": ["Node"]}, "end": {"id": 384, "labels": ["Node"]}}
{"type": "relationship", "id": 2252, "labels": "influenced by", "start": {"id": 708, "labels": ["Node"]}, "end": {"id": 260, "labels": ["Node"]}}
{"type": "relationship", "id": 2253, "labels": "subclass of", "start": {"id": 700, "labels": ["Node"]}, "end": {"id": 384, "labels": ["Node"]}}
{"type": "relationship", "id": 2254, "labels": "uses", "start": {"id": 260, "labels": ["Node"]}, "end": {"id": 839, "labels": ["Node"]}}
{"type": "relationship", "id": 2255, "labels": "subclass of", "start": {"id": 528, "labels": ["Node"]}, "end": {"id": 354, "labels": ["Node"]}}
{"type": "relationship", "id": 2256, "labels": "subclass of", "start": {"id": 286, "labels": ["Node"]}, "end": {"id": 354, "labels": ["Node"]}}
{"type": "relationship", "id": 2257, "labels": "said to be the same as", "start": {"id": 354, "labels": ["Node"]}, "end": {"id": 41, "labels": ["Node"]}}
{"type": "relationship", "id": 2258, "labels": "said to be the same as", "start": {"id": 41, "labels": ["Node"]}, "end": {"id": 354, "labels": ["Node"]}}
{"type": "relationship", "id": 2259, "labels": "operating system", "start": {"id": 655, "labels": ["Node"]}, "end": {"id": 161, "labels": ["Node"]}}
{"type": "relationship", "id": 2260, "labels": "operating system", "start": {"id": 859, "labels": ["Node"]}, "end": {"id": 161, "labels": ["Node"]}}
{"type": "relationship", "id": 2261, "labels": "operating system", "start": {"id": 235, "labels": ["Node"]}, "end": {"id": 161, "labels": ["Node"]}}
{"type": "relationship", "id": 2262, "labels": "facet of", "start": {"id": 571, "labels": ["Node"]}, "end": {"id": 795, "labels": ["Node"]}}
{"type": "relationship", "id": 2263, "labels": "industry", "start": {"id": 382, "labels": ["Node"]}, "end": {"id": 417, "labels": ["Node"]}}
{"type": "relationship", "id": 2264, "labels": "part of", "start": {"id": 571, "labels": ["Node"]}, "end": {"id": 417, "labels": ["Node"]}}
{"type": "relationship", "id": 2265, "labels": "operating system", "start": {"id": 859, "labels": ["Node"]}, "end": {"id": 161, "labels": ["Node"]}}
{"type": "relationship", "id": 2266, "labels": "operating system", "start": {"id": 859, "labels": ["Node"]}, "end": {"id": 421, "labels": ["Node"]}}
{"type": "relationship", "id": 2267, "labels": "operating system", "start": {"id": 655, "labels": ["Node"]}, "end": {"id": 161, "labels": ["Node"]}}
{"type": "relationship", "id": 2268, "labels": "subclass of", "start": {"id": 441, "labels": ["Node"]}, "end": {"id": 274, "labels": ["Node"]}}
{"type": "relationship", "id": 2269, "labels": "instance of", "start": {"id": 359, "labels": ["Node"]}, "end": {"id": 656, "labels": ["Node"]}}
{"type": "relationship", "id": 2270, "labels": "instance of", "start": {"id": 359, "labels": ["Node"]}, "end": {"id": 441, "labels": ["Node"]}}
{"type": "relationship", "id": 2271, "labels": "subclass of", "start": {"id": 700, "labels": ["Node"]}, "end": {"id": 384, "labels": ["Node"]}}
{"type": "relationship", "id": 2272, "labels": "subclass of", "start": {"id": 839, "labels": ["Node"]}, "end": {"id": 384, "labels": ["Node"]}}
{"type": "relationship", "id": 2273, "labels": "subclass of", "start": {"id": 275, "labels": ["Node"]}, "end": {"id": 384, "labels": ["Node"]}}
{"type": "relationship", "id": 2274, "labels": "subclass of", "start": {"id": 275, "labels": ["Node"]}, "end": {"id": 839, "labels": ["Node"]}}
{"type": "relationship", "id": 2275, "labels": "subclass of", "start": {"id": 700, "labels": ["Node"]}, "end": {"id": 384, "labels": ["Node"]}}
{"type": "relationship", "id": 2276, "labels": "point in time", "start": {"id": 829, "labels": ["Node"]}, "end": {"id": 514, "labels": ["Node"]}}
{"type": "relationship", "id": 2277, "labels": "inception", "start": {"id": 839, "labels": ["Node"]}, "end": {"id": 514, "labels": ["Node"]}}
{"type": "relationship", "id": 2278, "labels": "inception", "start": {"id": 839, "labels": ["Node"]}, "end": {"id": 262, "labels": ["Node"]}}
{"type": "relationship", "id": 2279, "labels": "facet of", "start": {"id": 839, "labels": ["Node"]}, "end": {"id": 367, "labels": ["Node"]}}
{"type": "relationship", "id": 2280, "labels": "author", "start": {"id": 737, "labels": ["Node"]}, "end": {"id": 658, "labels": ["Node"]}}
{"type": "relationship", "id": 2281, "labels": "owned by", "start": {"id": 660, "labels": ["Node"]}, "end": {"id": 320, "labels": ["Node"]}}
{"type": "relationship", "id": 2282, "labels": "owner of", "start": {"id": 320, "labels": ["Node"]}, "end": {"id": 660, "labels": ["Node"]}}
{"type": "relationship", "id": 2283, "labels": "part of", "start": {"id": 737, "labels": ["Node"]}, "end": {"id": 658, "labels": ["Node"]}}
{"type": "relationship", "id": 2284, "labels": "use", "start": {"id": 384, "labels": ["Node"]}, "end": {"id": 319, "labels": ["Node"]}}
{"type": "relationship", "id": 2285, "labels": "has part", "start": {"id": 384, "labels": ["Node"]}, "end": {"id": 319, "labels": ["Node"]}}
{"type": "relationship", "id": 2286, "labels": "owned by", "start": {"id": 527, "labels": ["Node"]}, "end": {"id": 527, "labels": ["Node"]}}
{"type": "relationship", "id": 2287, "labels": "manufacturer", "start": {"id": 388, "labels": ["Node"]}, "end": {"id": 779, "labels": ["Node"]}}
{"type": "relationship", "id": 2288, "labels": "manufacturer", "start": {"id": 119, "labels": ["Node"]}, "end": {"id": 779, "labels": ["Node"]}}
{"type": "relationship", "id": 2289, "labels": "has part", "start": {"id": 384, "labels": ["Node"]}, "end": {"id": 689, "labels": ["Node"]}}
{"type": "relationship", "id": 2290, "labels": "part of", "start": {"id": 289, "labels": ["Node"]}, "end": {"id": 384, "labels": ["Node"]}}
{"type": "relationship", "id": 2291, "labels": "part of", "start": {"id": 689, "labels": ["Node"]}, "end": {"id": 384, "labels": ["Node"]}}
{"type": "relationship", "id": 2292, "labels": "subclass of", "start": {"id": 143, "labels": ["Node"]}, "end": {"id": 384, "labels": ["Node"]}}
{"type": "relationship", "id": 2293, "labels": "uses", "start": {"id": 143, "labels": ["Node"]}, "end": {"id": 428, "labels": ["Node"]}}
{"type": "relationship", "id": 2294, "labels": "owned by", "start": {"id": 780, "labels": ["Node"]}, "end": {"id": 14, "labels": ["Node"]}}
{"type": "relationship", "id": 2295, "labels": "product or material produced", "start": {"id": 780, "labels": ["Node"]}, "end": {"id": 869, "labels": ["Node"]}}
{"type": "relationship", "id": 2296, "labels": "parent organization", "start": {"id": 780, "labels": ["Node"]}, "end": {"id": 14, "labels": ["Node"]}}
{"type": "relationship", "id": 2297, "labels": "product or material produced", "start": {"id": 676, "labels": ["Node"]}, "end": {"id": 384, "labels": ["Node"]}}
{"type": "relationship", "id": 2298, "labels": "product or material produced", "start": {"id": 676, "labels": ["Node"]}, "end": {"id": 839, "labels": ["Node"]}}
{"type": "relationship", "id": 2299, "labels": "subclass of", "start": {"id": 700, "labels": ["Node"]}, "end": {"id": 384, "labels": ["Node"]}}
{"type": "relationship", "id": 2300, "labels": "subclass of", "start": {"id": 186, "labels": ["Node"]}, "end": {"id": 36, "labels": ["Node"]}}
{"type": "relationship", "id": 2301, "labels": "subclass of", "start": {"id": 59, "labels": ["Node"]}, "end": {"id": 384, "labels": ["Node"]}}
{"type": "relationship", "id": 2302, "labels": "facet of", "start": {"id": 186, "labels": ["Node"]}, "end": {"id": 106, "labels": ["Node"]}}
{"type": "relationship", "id": 2303, "labels": "product or material produced", "start": {"id": 676, "labels": ["Node"]}, "end": {"id": 384, "labels": ["Node"]}}
{"type": "relationship", "id": 2304, "labels": "product or material produced", "start": {"id": 676, "labels": ["Node"]}, "end": {"id": 839, "labels": ["Node"]}}
{"type": "relationship", "id": 2305, "labels": "manufacturer", "start": {"id": 839, "labels": ["Node"]}, "end": {"id": 676, "labels": ["Node"]}}
{"type": "relationship", "id": 2306, "labels": "publication date", "start": {"id": 9, "labels": ["Node"]}, "end": {"id": 585, "labels": ["Node"]}}
{"type": "relationship", "id": 2307, "labels": "instance of", "start": {"id": 9, "labels": ["Node"]}, "end": {"id": 841, "labels": ["Node"]}}
{"type": "relationship", "id": 2308, "labels": "genre", "start": {"id": 9, "labels": ["Node"]}, "end": {"id": 678, "labels": ["Node"]}}
{"type": "relationship", "id": 2309, "labels": "subclass of", "start": {"id": 700, "labels": ["Node"]}, "end": {"id": 384, "labels": ["Node"]}}
{"type": "relationship", "id": 2310, "labels": "part of", "start": {"id": 722, "labels": ["Node"]}, "end": {"id": 142, "labels": ["Node"]}}
{"type": "relationship", "id": 2311, "labels": "connects with", "start": {"id": 384, "labels": ["Node"]}, "end": {"id": 722, "labels": ["Node"]}}
{"type": "relationship", "id": 2312, "labels": "connects with", "start": {"id": 722, "labels": ["Node"]}, "end": {"id": 384, "labels": ["Node"]}}
{"type": "relationship", "id": 2313, "labels": "subclass of", "start": {"id": 700, "labels": ["Node"]}, "end": {"id": 384, "labels": ["Node"]}}
{"type": "relationship", "id": 2314, "labels": "subclass of", "start": {"id": 868, "labels": ["Node"]}, "end": {"id": 384, "labels": ["Node"]}}
{"type": "relationship", "id": 2315, "labels": "subclass of", "start": {"id": 700, "labels": ["Node"]}, "end": {"id": 868, "labels": ["Node"]}}
{"type": "relationship", "id": 2316, "labels": "distributed by", "start": {"id": 9, "labels": ["Node"]}, "end": {"id": 832, "labels": ["Node"]}}
{"type": "relationship", "id": 2317, "labels": "distributed by", "start": {"id": 168, "labels": ["Node"]}, "end": {"id": 832, "labels": ["Node"]}}
{"type": "relationship", "id": 2318, "labels": "original broadcaster", "start": {"id": 9, "labels": ["Node"]}, "end": {"id": 832, "labels": ["Node"]}}
{"type": "relationship", "id": 2319, "labels": "followed by", "start": {"id": 759, "labels": ["Node"]}, "end": {"id": 848, "labels": ["Node"]}}
{"type": "relationship", "id": 2320, "labels": "follows", "start": {"id": 848, "labels": ["Node"]}, "end": {"id": 759, "labels": ["Node"]}}
{"type": "relationship", "id": 2321, "labels": "subclass of", "start": {"id": 700, "labels": ["Node"]}, "end": {"id": 384, "labels": ["Node"]}}
{"type": "relationship", "id": 2322, "labels": "subclass of", "start": {"id": 728, "labels": ["Node"]}, "end": {"id": 176, "labels": ["Node"]}}
{"type": "relationship", "id": 2323, "labels": "subclass of", "start": {"id": 728, "labels": ["Node"]}, "end": {"id": 7, "labels": ["Node"]}}
{"type": "relationship", "id": 2324, "labels": "subclass of", "start": {"id": 728, "labels": ["Node"]}, "end": {"id": 764, "labels": ["Node"]}}
{"type": "relationship", "id": 2325, "labels": "follows", "start": {"id": 157, "labels": ["Node"]}, "end": {"id": 802, "labels": ["Node"]}}
{"type": "relationship", "id": 2326, "labels": "followed by", "start": {"id": 802, "labels": ["Node"]}, "end": {"id": 157, "labels": ["Node"]}}
{"type": "relationship", "id": 2327, "labels": "owned by", "start": {"id": 780, "labels": ["Node"]}, "end": {"id": 14, "labels": ["Node"]}}
{"type": "relationship", "id": 2328, "labels": "product or material produced", "start": {"id": 780, "labels": ["Node"]}, "end": {"id": 869, "labels": ["Node"]}}
{"type": "relationship", "id": 2329, "labels": "parent organization", "start": {"id": 780, "labels": ["Node"]}, "end": {"id": 14, "labels": ["Node"]}}
{"type": "relationship", "id": 2330, "labels": "maintained by", "start": {"id": 609, "labels": ["Node"]}, "end": {"id": 174, "labels": ["Node"]}}
{"type": "relationship", "id": 2331, "labels": "part of", "start": {"id": 406, "labels": ["Node"]}, "end": {"id": 231, "labels": ["Node"]}}
{"type": "relationship", "id": 2332, "labels": "has effect", "start": {"id": 276, "labels": ["Node"]}, "end": {"id": 682, "labels": ["Node"]}}
{"type": "relationship", "id": 2333, "labels": "subclass of", "start": {"id": 700, "labels": ["Node"]}, "end": {"id": 384, "labels": ["Node"]}}
{"type": "relationship", "id": 2334, "labels": "subclass of", "start": {"id": 839, "labels": ["Node"]}, "end": {"id": 384, "labels": ["Node"]}}
{"type": "relationship", "id": 2335, "labels": "instance of", "start": {"id": 700, "labels": ["Node"]}, "end": {"id": 384, "labels": ["Node"]}}
{"type": "relationship", "id": 2336, "labels": "subclass of", "start": {"id": 253, "labels": ["Node"]}, "end": {"id": 803, "labels": ["Node"]}}
{"type": "relationship", "id": 2337, "labels": "has effect", "start": {"id": 727, "labels": ["Node"]}, "end": {"id": 452, "labels": ["Node"]}}
{"type": "relationship", "id": 2338, "labels": "has part", "start": {"id": 727, "labels": ["Node"]}, "end": {"id": 452, "labels": ["Node"]}}
{"type": "relationship", "id": 2339, "labels": "subclass of", "start": {"id": 667, "labels": ["Node"]}, "end": {"id": 689, "labels": ["Node"]}}
{"type": "relationship", "id": 2340, "labels": "use", "start": {"id": 689, "labels": ["Node"]}, "end": {"id": 289, "labels": ["Node"]}}
{"type": "relationship", "id": 2341, "labels": "subclass of", "start": {"id": 289, "labels": ["Node"]}, "end": {"id": 689, "labels": ["Node"]}}
{"type": "relationship", "id": 2342, "labels": "subclass of", "start": {"id": 630, "labels": ["Node"]}, "end": {"id": 671, "labels": ["Node"]}}
{"type": "relationship", "id": 2343, "labels": "subclass of", "start": {"id": 465, "labels": ["Node"]}, "end": {"id": 630, "labels": ["Node"]}}
{"type": "relationship", "id": 2344, "labels": "instance of", "start": {"id": 671, "labels": ["Node"]}, "end": {"id": 37, "labels": ["Node"]}}
{"type": "relationship", "id": 2345, "labels": "instance of", "start": {"id": 630, "labels": ["Node"]}, "end": {"id": 37, "labels": ["Node"]}}
{"type": "relationship", "id": 2346, "labels": "followed by", "start": {"id": 759, "labels": ["Node"]}, "end": {"id": 848, "labels": ["Node"]}}
{"type": "relationship", "id": 2347, "labels": "follows", "start": {"id": 848, "labels": ["Node"]}, "end": {"id": 759, "labels": ["Node"]}}
{"type": "relationship", "id": 2348, "labels": "subclass of", "start": {"id": 759, "labels": ["Node"]}, "end": {"id": 479, "labels": ["Node"]}}
{"type": "relationship", "id": 2349, "labels": "subclass of", "start": {"id": 848, "labels": ["Node"]}, "end": {"id": 479, "labels": ["Node"]}}
{"type": "relationship", "id": 2350, "labels": "twinned administrative body", "start": {"id": 165, "labels": ["Node"]}, "end": {"id": 118, "labels": ["Node"]}}
{"type": "relationship", "id": 2351, "labels": "twinned administrative body", "start": {"id": 118, "labels": ["Node"]}, "end": {"id": 165, "labels": ["Node"]}}
{"type": "relationship", "id": 2352, "labels": "twinned administrative body", "start": {"id": 548, "labels": ["Node"]}, "end": {"id": 265, "labels": ["Node"]}}
{"type": "relationship", "id": 2353, "labels": "twinned administrative body", "start": {"id": 265, "labels": ["Node"]}, "end": {"id": 548, "labels": ["Node"]}}
{"type": "relationship", "id": 2354, "labels": "twinned administrative body", "start": {"id": 165, "labels": ["Node"]}, "end": {"id": 265, "labels": ["Node"]}}
{"type": "relationship", "id": 2355, "labels": "twinned administrative body", "start": {"id": 265, "labels": ["Node"]}, "end": {"id": 165, "labels": ["Node"]}}
{"type": "relationship", "id": 2356, "labels": "owned by", "start": {"id": 666, "labels": ["Node"]}, "end": {"id": 332, "labels": ["Node"]}}
{"type": "relationship", "id": 2357, "labels": "owned by", "start": {"id": 332, "labels": ["Node"]}, "end": {"id": 666, "labels": ["Node"]}}
{"type": "relationship", "id": 2358, "labels": "part of", "start": {"id": 332, "labels": ["Node"]}, "end": {"id": 666, "labels": ["Node"]}}
{"type": "relationship", "id": 2359, "labels": "main subject", "start": {"id": 173, "labels": ["Node"]}, "end": {"id": 167, "labels": ["Node"]}}
{"type": "relationship", "id": 2360, "labels": "main subject", "start": {"id": 173, "labels": ["Node"]}, "end": {"id": 187, "labels": ["Node"]}}
{"type": "relationship", "id": 2361, "labels": "main subject", "start": {"id": 423, "labels": ["Node"]}, "end": {"id": 167, "labels": ["Node"]}}
{"type": "relationship", "id": 2362, "labels": "operating system", "start": {"id": 50, "labels": ["Node"]}, "end": {"id": 796, "labels": ["Node"]}}
{"type": "relationship", "id": 2363, "labels": "operating system", "start": {"id": 200, "labels": ["Node"]}, "end": {"id": 796, "labels": ["Node"]}}
{"type": "relationship", "id": 2364, "labels": "operating system", "start": {"id": 50, "labels": ["Node"]}, "end": {"id": 735, "labels": ["Node"]}}
{"type": "relationship", "id": 2365, "labels": "original broadcaster", "start": {"id": 264, "labels": ["Node"]}, "end": {"id": 481, "labels": ["Node"]}}
{"type": "relationship", "id": 2366, "labels": "instance of", "start": {"id": 248, "labels": ["Node"]}, "end": {"id": 192, "labels": ["Node"]}}
{"type": "relationship", "id": 2367, "labels": "original broadcaster", "start": {"id": 264, "labels": ["Node"]}, "end": {"id": 410, "labels": ["Node"]}}
{"type": "relationship", "id": 2368, "labels": "part of", "start": {"id": 406, "labels": ["Node"]}, "end": {"id": 231, "labels": ["Node"]}}
{"type": "relationship", "id": 2369, "labels": "use", "start": {"id": 153, "labels": ["Node"]}, "end": {"id": 291, "labels": ["Node"]}}
{"type": "relationship", "id": 2370, "labels": "has part", "start": {"id": 618, "labels": ["Node"]}, "end": {"id": 214, "labels": ["Node"]}}
{"type": "relationship", "id": 2371, "labels": "use", "start": {"id": 767, "labels": ["Node"]}, "end": {"id": 767, "labels": ["Node"]}}
{"type": "relationship", "id": 2372, "labels": "used by", "start": {"id": 767, "labels": ["Node"]}, "end": {"id": 38, "labels": ["Node"]}}
{"type": "relationship", "id": 2373, "labels": "subclass of", "start": {"id": 767, "labels": ["Node"]}, "end": {"id": 767, "labels": ["Node"]}}
{"type": "relationship", "id": 2374, "labels": "part of", "start": {"id": 801, "labels": ["Node"]}, "end": {"id": 801, "labels": ["Node"]}}
{"type": "relationship", "id": 2375, "labels": "has part", "start": {"id": 801, "labels": ["Node"]}, "end": {"id": 801, "labels": ["Node"]}}
{"type": "relationship", "id": 2376, "labels": "uses", "start": {"id": 852, "labels": ["Node"]}, "end": {"id": 645, "labels": ["Node"]}}
{"type": "relationship", "id": 2377, "labels": "part of", "start": {"id": 852, "labels": ["Node"]}, "end": {"id": 810, "labels": ["Node"]}}
{"type": "relationship", "id": 2378, "labels": "has part", "start": {"id": 852, "labels": ["Node"]}, "end": {"id": 645, "labels": ["Node"]}}
{"type": "relationship", "id": 2379, "labels": "part of", "start": {"id": 173, "labels": ["Node"]}, "end": {"id": 173, "labels": ["Node"]}}
{"type": "relationship", "id": 2380, "labels": "part of", "start": {"id": 173, "labels": ["Node"]}, "end": {"id": 323, "labels": ["Node"]}}
{"type": "relationship", "id": 2381, "labels": "part of", "start": {"id": 173, "labels": ["Node"]}, "end": {"id": 535, "labels": ["Node"]}}
{"type": "relationship", "id": 2382, "labels": "maintained by", "start": {"id": 609, "labels": ["Node"]}, "end": {"id": 174, "labels": ["Node"]}}
{"type": "relationship", "id": 2383, "labels": "part of", "start": {"id": 406, "labels": ["Node"]}, "end": {"id": 231, "labels": ["Node"]}}
{"type": "relationship", "id": 2384, "labels": "followed by", "start": {"id": 295, "labels": ["Node"]}, "end": {"id": 276, "labels": ["Node"]}}
{"type": "relationship", "id": 2385, "labels": "follows", "start": {"id": 276, "labels": ["Node"]}, "end": {"id": 295, "labels": ["Node"]}}
{"type": "relationship", "id": 2386, "labels": "maintained by", "start": {"id": 609, "labels": ["Node"]}, "end": {"id": 174, "labels": ["Node"]}}
{"type": "relationship", "id": 2387, "labels": "part of", "start": {"id": 406, "labels": ["Node"]}, "end": {"id": 231, "labels": ["Node"]}}
{"type": "relationship", "id": 2388, "labels": "has effect", "start": {"id": 276, "labels": ["Node"]}, "end": {"id": 682, "labels": ["Node"]}}
{"type": "relationship", "id": 2389, "labels": "part of", "start": {"id": 406, "labels": ["Node"]}, "end": {"id": 231, "labels": ["Node"]}}
{"type": "relationship", "id": 2390, "labels": "point in time", "start": {"id": 434, "labels": ["Node"]}, "end": {"id": 443, "labels": ["Node"]}}
{"type": "relationship", "id": 2391, "labels": "point in time", "start": {"id": 443, "labels": ["Node"]}, "end": {"id": 443, "labels": ["Node"]}}
{"type": "relationship", "id": 2392, "labels": "use", "start": {"id": 517, "labels": ["Node"]}, "end": {"id": 866, "labels": ["Node"]}}
{"type": "relationship", "id": 2393, "labels": "instance of", "start": {"id": 517, "labels": ["Node"]}, "end": {"id": 866, "labels": ["Node"]}}
{"type": "relationship", "id": 2394, "labels": "facet of", "start": {"id": 517, "labels": ["Node"]}, "end": {"id": 866, "labels": ["Node"]}}
{"type": "relationship", "id": 2395, "labels": "instance of", "start": {"id": 19, "labels": ["Node"]}, "end": {"id": 588, "labels": ["Node"]}}
{"type": "relationship", "id": 2396, "labels": "use", "start": {"id": 475, "labels": ["Node"]}, "end": {"id": 250, "labels": ["Node"]}}
{"type": "relationship", "id": 2397, "labels": "instance of", "start": {"id": 475, "labels": ["Node"]}, "end": {"id": 588, "labels": ["Node"]}}
{"type": "relationship", "id": 2398, "labels": "main subject", "start": {"id": 173, "labels": ["Node"]}, "end": {"id": 167, "labels": ["Node"]}}
{"type": "relationship", "id": 2399, "labels": "main subject", "start": {"id": 173, "labels": ["Node"]}, "end": {"id": 187, "labels": ["Node"]}}
{"type": "relationship", "id": 2400, "labels": "main subject", "start": {"id": 423, "labels": ["Node"]}, "end": {"id": 167, "labels": ["Node"]}}
{"type": "relationship", "id": 2401, "labels": "operating system", "start": {"id": 50, "labels": ["Node"]}, "end": {"id": 796, "labels": ["Node"]}}
{"type": "relationship", "id": 2402, "labels": "operating system", "start": {"id": 200, "labels": ["Node"]}, "end": {"id": 796, "labels": ["Node"]}}
{"type": "relationship", "id": 2403, "labels": "operating system", "start": {"id": 50, "labels": ["Node"]}, "end": {"id": 735, "labels": ["Node"]}}
{"type": "relationship", "id": 2404, "labels": "original broadcaster", "start": {"id": 264, "labels": ["Node"]}, "end": {"id": 481, "labels": ["Node"]}}
{"type": "relationship", "id": 2405, "labels": "instance of", "start": {"id": 248, "labels": ["Node"]}, "end": {"id": 192, "labels": ["Node"]}}
{"type": "relationship", "id": 2406, "labels": "original broadcaster", "start": {"id": 264, "labels": ["Node"]}, "end": {"id": 410, "labels": ["Node"]}}
{"type": "relationship", "id": 2407, "labels": "inception", "start": {"id": 332, "labels": ["Node"]}, "end": {"id": 114, "labels": ["Node"]}}
{"type": "relationship", "id": 2408, "labels": "publication date", "start": {"id": 332, "labels": ["Node"]}, "end": {"id": 114, "labels": ["Node"]}}
{"type": "relationship", "id": 2409, "labels": "inception", "start": {"id": 757, "labels": ["Node"]}, "end": {"id": 114, "labels": ["Node"]}}
