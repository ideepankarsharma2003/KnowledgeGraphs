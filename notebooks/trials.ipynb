{
 "cells": [
  {
   "cell_type": "code",
   "execution_count": 1,
   "metadata": {},
   "outputs": [],
   "source": [
    "api_key = open('.api_key').read()\n"
   ]
  },
  {
   "cell_type": "code",
   "execution_count": 6,
   "metadata": {},
   "outputs": [
    {
     "data": {
      "text/plain": [
       "{'@context': {'detailedDescription': 'goog:detailedDescription',\n",
       "  'resultScore': 'goog:resultScore',\n",
       "  'goog': 'http://schema.googleapis.com/',\n",
       "  '@vocab': 'http://schema.org/',\n",
       "  'EntitySearchResult': 'goog:EntitySearchResult',\n",
       "  'kg': 'http://g.co/kg'},\n",
       " '@type': 'ItemList',\n",
       " 'itemListElement': [{'resultScore': 1.807022094726562,\n",
       "   'result': {'image': {'contentUrl': 'https://encrypted-tbn0.gstatic.com/images?q=tbn:ANd9GcSUd3LS-cXTpYQ2Gr0EaZ02AYh7gfwWhbU0fSBnDekx3mRjI3af',\n",
       "     'url': 'https://commons.wikimedia.org/wiki/File:EarPods_derecho.JPG'},\n",
       "    'description': 'Wireless headphones',\n",
       "    '@id': 'kg:/m/05p1b3s',\n",
       "    '@type': ['Thing', 'ProductModel'],\n",
       "    'detailedDescription': {'license': 'https://en.wikipedia.org/wiki/Wikipedia:Text_of_Creative_Commons_Attribution-ShareAlike_3.0_Unported_License',\n",
       "     'url': 'https://en.wikipedia.org/wiki/Apple_headphones',\n",
       "     'articleBody': \"Apple Inc. has produced and sold headphones since 2001, available for standalone purchase and bundled with iPhone and iPod products. Apple's current product line consists of EarPods, AirPods and AirPods Pro, and AirPods Max.\"},\n",
       "    'name': 'Apple headphones'},\n",
       "   '@type': 'EntitySearchResult'}]}"
      ]
     },
     "execution_count": 6,
     "metadata": {},
     "output_type": "execute_result"
    }
   ],
   "source": [
    "\"\"\"Example of Python client calling Knowledge Graph Search API.\"\"\"\n",
    "import json\n",
    "import urllib\n",
    "\n",
    "api_key = open('.api_key').read()\n",
    "# query = 'Taylor Swift'\n",
    "query= \"Best Cat Ear Headphones\"\n",
    "service_url = 'https://kgsearch.googleapis.com/v1/entities:search'\n",
    "params = {\n",
    "    'query': query,\n",
    "    'limit': 10,\n",
    "    'indent': True,\n",
    "    'key': api_key,\n",
    "}\n",
    "# url = service_url + '?' + urllib.urlencode(params)\n",
    "# response = json.loads(urllib.urlopen(url).read())\n",
    "url = service_url + '?' + urllib.parse.urlencode(params)\n",
    "response = json.loads(urllib.request.urlopen(url).read())\n",
    "response\n"
   ]
  },
  {
   "cell_type": "code",
   "execution_count": 7,
   "metadata": {},
   "outputs": [
    {
     "name": "stdout",
     "output_type": "stream",
     "text": [
      "Apple headphones (1.807022094726562)\n"
     ]
    }
   ],
   "source": [
    "for element in response['itemListElement']:\n",
    "  print(element['result']['name'] + ' (' + str(element['resultScore']) + ')')"
   ]
  },
  {
   "cell_type": "code",
   "execution_count": null,
   "metadata": {},
   "outputs": [],
   "source": []
  }
 ],
 "metadata": {
  "kernelspec": {
   "display_name": "venv",
   "language": "python",
   "name": "python3"
  },
  "language_info": {
   "codemirror_mode": {
    "name": "ipython",
    "version": 3
   },
   "file_extension": ".py",
   "mimetype": "text/x-python",
   "name": "python",
   "nbconvert_exporter": "python",
   "pygments_lexer": "ipython3",
   "version": "3.10.12"
  },
  "orig_nbformat": 4
 },
 "nbformat": 4,
 "nbformat_minor": 2
}
