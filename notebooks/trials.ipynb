{
 "cells": [
  {
   "cell_type": "code",
   "execution_count": 1,
   "metadata": {},
   "outputs": [],
   "source": [
    "api_key = open('.api_key').read()\n"
   ]
  },
  {
   "cell_type": "code",
   "execution_count": 3,
   "metadata": {},
   "outputs": [
    {
     "data": {
      "text/plain": [
       "{'@context': {'EntitySearchResult': 'goog:EntitySearchResult',\n",
       "  '@vocab': 'http://schema.org/',\n",
       "  'detailedDescription': 'goog:detailedDescription',\n",
       "  'resultScore': 'goog:resultScore',\n",
       "  'goog': 'http://schema.googleapis.com/',\n",
       "  'kg': 'http://g.co/kg'},\n",
       " '@type': 'ItemList',\n",
       " 'itemListElement': []}"
      ]
     },
     "execution_count": 3,
     "metadata": {},
     "output_type": "execute_result"
    }
   ],
   "source": [
    "\"\"\"Example of Python client calling Knowledge Graph Search API.\"\"\"\n",
    "import json\n",
    "import urllib\n",
    "\n",
    "api_key = open('.api_key').read()\n",
    "# query = 'Taylor Swift'\n",
    "# query= \"Best Cat Ear Headphones\"\n",
    "query= \"Razor Kraken Headphones\"\n",
    "\n",
    "service_url = 'https://kgsearch.googleapis.com/v1/entities:search'\n",
    "params = {\n",
    "    'query': query,\n",
    "    'limit': 100,\n",
    "    'indent': True,\n",
    "    'key': api_key,\n",
    "}\n",
    "# url = service_url + '?' + urllib.urlencode(params)\n",
    "# response = json.loads(urllib.urlopen(url).read())\n",
    "url = service_url + '?' + urllib.parse.urlencode(params)\n",
    "response = json.loads(urllib.request.urlopen(url).read())\n",
    "response\n"
   ]
  },
  {
   "cell_type": "code",
   "execution_count": 2,
   "metadata": {},
   "outputs": [
    {
     "name": "stdout",
     "output_type": "stream",
     "text": [
      "Apple headphones (1.807022094726562)\n",
      "AirPods Pro (0.2689599990844727)\n",
      "Samsung Galaxy Buds Live (0.04122048616409302)\n"
     ]
    }
   ],
   "source": [
    "for element in response['itemListElement']:\n",
    "  print(element['result']['name'] + ' (' + str(element['resultScore']) + ')')"
   ]
  },
  {
   "cell_type": "code",
   "execution_count": null,
   "metadata": {},
   "outputs": [],
   "source": []
  }
 ],
 "metadata": {
  "kernelspec": {
   "display_name": "venv",
   "language": "python",
   "name": "python3"
  },
  "language_info": {
   "codemirror_mode": {
    "name": "ipython",
    "version": 3
   },
   "file_extension": ".py",
   "mimetype": "text/x-python",
   "name": "python",
   "nbconvert_exporter": "python",
   "pygments_lexer": "ipython3",
   "version": "3.10.12"
  },
  "orig_nbformat": 4
 },
 "nbformat": 4,
 "nbformat_minor": 2
}
